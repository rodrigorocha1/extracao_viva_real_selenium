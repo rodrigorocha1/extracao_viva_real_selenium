{
 "cells": [
  {
   "cell_type": "code",
   "execution_count": 1,
   "metadata": {},
   "outputs": [],
   "source": [
    "from selenium import webdriver\n",
    "from selenium.webdriver.chrome.service import Service\n",
    "from webdriver_manager.chrome import ChromeDriverManager\n",
    "from selenium.webdriver.common.by import By\n",
    "import os\n",
    "from selenium.webdriver.common.by import By\n",
    "from selenium.webdriver.support.ui import WebDriverWait\n",
    "from selenium.webdriver.support import expected_conditions as EC\n",
    "from selenium.common.exceptions import ElementClickInterceptedException\n",
    "from random import randint\n",
    "import sys\n"
   ]
  },
  {
   "cell_type": "code",
   "execution_count": 2,
   "metadata": {},
   "outputs": [
    {
     "data": {
      "text/plain": [
       "'20/03/2024 19:16:37'"
      ]
     },
     "execution_count": 2,
     "metadata": {},
     "output_type": "execute_result"
    }
   ],
   "source": [
    "from datetime import datetime\n",
    "\n",
    "datetime.now().strftime(\"%d/%m/%Y %H:%M:%S\")"
   ]
  },
  {
   "cell_type": "markdown",
   "metadata": {},
   "source": [
    "- Passos\n",
    "<ol>\n",
    "    <li>Entrar no site</li>\n",
    "    <li>Clicar no cookie</li>\n",
    "    <li>Entrar no pegar os dados</li>\n",
    "    <li>Salvar no CSV</li>\n",
    "    <li>Fazer paginação</li>\n",
    "</ol>"
   ]
  },
  {
   "cell_type": "code",
   "execution_count": null,
   "metadata": {},
   "outputs": [],
   "source": []
  },
  {
   "cell_type": "code",
   "execution_count": 3,
   "metadata": {},
   "outputs": [
    {
     "data": {
      "text/plain": [
       "selenium.webdriver.chrome.webdriver.WebDriver"
      ]
     },
     "execution_count": 3,
     "metadata": {},
     "output_type": "execute_result"
    }
   ],
   "source": [
    "servico = Service(ChromeDriverManager().install())\n",
    "navegador = webdriver.Chrome(service=servico)\n",
    "navegador.maximize_window()\n",
    "type(navegador)"
   ]
  },
  {
   "cell_type": "code",
   "execution_count": 4,
   "metadata": {},
   "outputs": [],
   "source": [
    "url = \"https://www.vivareal.com.br/venda/sp/ribeirao-preto/apartamento_residencial/#onde=Brasil,S%C3%A3o%20Paulo,Ribeir%C3%A3o%20Preto,,,,,,BR%3ESao%20Paulo%3ENULL%3ERibeirao%20Preto,,,&preco-ate=500000\"\n",
    "navegador.get(url)\n",
    "WebDriverWait(navegador, 10).until(EC.element_to_be_clickable((By.XPATH,'//*[@id=\"cookie-notifier-cta\"]'))).click()\n",
    "from time import sleep\n",
    "sleep(10)"
   ]
  },
  {
   "cell_type": "code",
   "execution_count": 54,
   "metadata": {},
   "outputs": [
    {
     "name": "stdout",
     "output_type": "stream",
     "text": [
      "46\n",
      "Fiz Paginacao\n",
      "42\n",
      "Fiz Paginacao\n",
      "Fim Extracao\n"
     ]
    }
   ],
   "source": [
    "flag_paginacao = True\n",
    "i=1\n",
    "while flag_paginacao:\n",
    "    if i == 3:\n",
    "        break\n",
    "    n = randint(0, 60)\n",
    "    print(n)\n",
    "    sleep(n)\n",
    "    nome_apartamentos = navegador.find_elements(By.CLASS_NAME, 'property-card__title')\n",
    "    try:\n",
    "        print('Fiz Paginacao')\n",
    "        navegador.find_element(By.XPATH,  '//*[@id=\"js-site-main\"]/div[2]/div[1]/section/div[2]/div[2]/div/ul/li[9]/button').click()\n",
    "    except ElementClickInterceptedException as e:\n",
    "        flag_paginacao = False\n",
    "    i += 1\n",
    "print('Fim Extracao')"
   ]
  },
  {
   "cell_type": "code",
   "execution_count": 68,
   "metadata": {},
   "outputs": [
    {
     "data": {
      "text/plain": [
       "{'nome_apartamentos': ['Apartamento com 2 Quartos à Venda, 67m²',\n",
       "  'Reserva Direcional Jardim Botânico',\n",
       "  'Apartamento com 2 Quartos à Venda, 97m²',\n",
       "  'Apartamento com 2 Quartos à Venda, 65m²',\n",
       "  'Apartamento com 2 Quartos à Venda, 48m²',\n",
       "  'Apartamento com 2 Quartos à Venda, 47m²',\n",
       "  'Apartamento com 3 Quartos à Venda, 88m²',\n",
       "  'Apartamento com 2 Quartos à Venda, 56m²',\n",
       "  'Rimini',\n",
       "  'Apartamento com 3 Quartos à Venda, 84m²',\n",
       "  'Apartamento com 2 Quartos à Venda, 63m²',\n",
       "  'Apartamento com 2 Quartos à Venda, 63m²',\n",
       "  'Apartamento com 3 Quartos à Venda, 80m²',\n",
       "  'Apartamento com 2 Quartos à Venda, 67m²',\n",
       "  'Apartamento com 2 Quartos à Venda, 41m²',\n",
       "  'Blend One',\n",
       "  'Apartamento com Quarto à Venda, 45m²',\n",
       "  'Apartamento com 2 Quartos para Venda/Aluguel 80m²',\n",
       "  'Apartamento com 3 Quartos à Venda, 120m²',\n",
       "  'Apartamento com 3 Quartos à Venda, 67m²',\n",
       "  'Apartamento com 2 Quartos à Venda, 65m²',\n",
       "  'Apartamento com 2 Quartos à Venda, 54m²',\n",
       "  'Portal Alto das Oliveiras',\n",
       "  'Apartamento com 2 Quartos à Venda, 42m²',\n",
       "  'Apartamento com 2 Quartos para Venda/Aluguel 65m²',\n",
       "  'Apartamento com 2 Quartos à Venda, 68m²',\n",
       "  'Apartamento com 2 Quartos à Venda, 42m²',\n",
       "  'Apartamento com 2 Quartos à Venda, 49m²',\n",
       "  'Apartamento com 2 Quartos à Venda, 48m²',\n",
       "  'Yellow',\n",
       "  'Apartamento com 2 Quartos à Venda, 43m²',\n",
       "  'Apartamento com 2 Quartos para Venda/Aluguel 81m²',\n",
       "  'Apartamento com 2 Quartos à Venda, 47m²',\n",
       "  'Apartamento com 2 Quartos à Venda, 57m²',\n",
       "  'Apartamento com 2 Quartos à Venda, 42m²',\n",
       "  'Apartamento com 2 Quartos à Venda, 47m²'],\n",
       " 'preco': ['R$ 375.000',\n",
       "  'Sob Consulta',\n",
       "  'R$ 380.000',\n",
       "  'R$ 265.000',\n",
       "  'R$ 104.652',\n",
       "  'R$ 135.000',\n",
       "  'R$ 289.000',\n",
       "  'R$ 250.000',\n",
       "  'Sob Consulta',\n",
       "  'R$ 279.000',\n",
       "  'R$ 258.000',\n",
       "  'R$ 285.000',\n",
       "  'R$ 277.000',\n",
       "  'R$ 379.990\\nPreço abaixo do mercado',\n",
       "  'R$ 131.307',\n",
       "  'Sob Consulta',\n",
       "  'R$ 249.000',\n",
       "  'R$ 360.000',\n",
       "  'R$ 385.000\\nPreço abaixo do mercado',\n",
       "  'R$ 210.000\\nPreço abaixo do mercado',\n",
       "  'R$ 265.000',\n",
       "  'R$ 189.000',\n",
       "  'Sob Consulta',\n",
       "  'R$ 161.037',\n",
       "  'R$ 350.000',\n",
       "  'R$ 379.000',\n",
       "  'R$ 129.427',\n",
       "  'R$ 89.227',\n",
       "  'R$ 220.000',\n",
       "  'Sob Consulta',\n",
       "  'R$ 135.315',\n",
       "  'R$ 350.000\\nPreço abaixo do mercado',\n",
       "  'R$ 160.000',\n",
       "  'R$ 405.000',\n",
       "  'R$ 120.727',\n",
       "  'R$ 155.000']}"
      ]
     },
     "execution_count": 68,
     "metadata": {},
     "output_type": "execute_result"
    }
   ],
   "source": [
    "elementos = {\n",
    "            \"nome_apartamentos\": \"property-card__title\",\n",
    "            \"preco\": \"js-property-card__price-small\"\n",
    "   \n",
    "        }\n",
    "dados = {}\n",
    "for chave, valor in elementos.items():\n",
    "    elementos_encontrados = navegador.find_elements(By.CLASS_NAME, valor)\n",
    "    textos = [elemento.text for elemento in elementos_encontrados]\n",
    "    dados[chave] = textos\n",
    "dados     "
   ]
  },
  {
   "cell_type": "code",
   "execution_count": 34,
   "metadata": {},
   "outputs": [],
   "source": [
    "navegador.find_element(By.XPATH,  '//*[@id=\"js-site-main\"]/div[2]/div[1]/section/div[2]/div[2]/div/ul/li[9]/button').click()"
   ]
  },
  {
   "cell_type": "code",
   "execution_count": 35,
   "metadata": {},
   "outputs": [],
   "source": [
    "%timeit\n",
    "nome_apartamentos = navegador.find_elements(By.CLASS_NAME, 'property-card__title')\n",
    "precos = navegador.find_elements(By.CLASS_NAME, 'js-property-card__price-small')\n",
    "enderecos_apartamentos = navegador.find_elements(By.CLASS_NAME, 'property-card__address')\n",
    "metragem = navegador.find_elements(By.CLASS_NAME, 'js-property-card-detail-area')\n",
    "quartos = navegador.find_elements(By.CLASS_NAME, 'js-property-detail-rooms')\n",
    "banheiros = navegador.find_elements(By.CLASS_NAME, 'js-property-detail-bathroom')\n",
    "garagens = navegador.find_elements(By.CLASS_NAME, 'js-property-detail-garages')\n",
    "urls = navegador.find_elements(By.CLASS_NAME, 'property-card__content-link')\n",
    "\n"
   ]
  },
  {
   "cell_type": "code",
   "execution_count": 42,
   "metadata": {},
   "outputs": [
    {
     "name": "stdout",
     "output_type": "stream",
     "text": [
      "Tempo decorrido: 3.043792486190796 segundos\n"
     ]
    }
   ],
   "source": [
    "import time\n",
    "\n",
    "# Começa a medir o tempo\n",
    "start_time = time.time()\n",
    "\n",
    "# Seu código aqui...\n",
    "\n",
    "# Termina de medir o tempo\n",
    "\n",
    "casas = [\n",
    "     {\n",
    "        'tipo_imovel':  'Apartamento',\n",
    "        'url': url.get_attribute('href'),\n",
    "        'nome': nome.text,\n",
    "        'preco': preco.text,\n",
    "        'endereco': endereco.text,\n",
    "        'metragem': metro.text,\n",
    "        'quarto': quarto.text,\n",
    "        'banheiro': banheiro.text,\n",
    "        'garagem': garagem.text,\n",
    "        'data_extracao': '2024-03-01 00:00:00'\n",
    "    }\n",
    "    for url, nome , preco , endereco, metro, quarto, banheiro, garagem in zip(urls, nome_apartamentos, precos, enderecos_apartamentos, metragem,  quartos, banheiros, garagens)\n",
    "]\n",
    "\n",
    "end_time = time.time()\n",
    "\n",
    "# Calcula o tempo decorrido em segundos\n",
    "elapsed_time = end_time - start_time\n",
    "\n",
    "print(f\"Tempo decorrido: {elapsed_time} segundos\")\n"
   ]
  },
  {
   "cell_type": "code",
   "execution_count": 33,
   "metadata": {},
   "outputs": [
    {
     "name": "stdout",
     "output_type": "stream",
     "text": [
      "(<selenium.webdriver.remote.webelement.WebElement (session=\"6baf1e91ee7009b57cbb597a1bb9e11f\", element=\"f.303ED80D28A2068DDADAAFC4F807D3C6.d.C149D77F3B9AC0E836B17ABAE9B739AD.e.587\")>, <selenium.webdriver.remote.webelement.WebElement (session=\"6baf1e91ee7009b57cbb597a1bb9e11f\", element=\"f.303ED80D28A2068DDADAAFC4F807D3C6.d.C149D77F3B9AC0E836B17ABAE9B739AD.e.335\")>, <selenium.webdriver.remote.webelement.WebElement (session=\"6baf1e91ee7009b57cbb597a1bb9e11f\", element=\"f.303ED80D28A2068DDADAAFC4F807D3C6.d.C149D77F3B9AC0E836B17ABAE9B739AD.e.371\")>, <selenium.webdriver.remote.webelement.WebElement (session=\"6baf1e91ee7009b57cbb597a1bb9e11f\", element=\"f.303ED80D28A2068DDADAAFC4F807D3C6.d.C149D77F3B9AC0E836B17ABAE9B739AD.e.407\")>, <selenium.webdriver.remote.webelement.WebElement (session=\"6baf1e91ee7009b57cbb597a1bb9e11f\", element=\"f.303ED80D28A2068DDADAAFC4F807D3C6.d.C149D77F3B9AC0E836B17ABAE9B739AD.e.443\")>, <selenium.webdriver.remote.webelement.WebElement (session=\"6baf1e91ee7009b57cbb597a1bb9e11f\", element=\"f.303ED80D28A2068DDADAAFC4F807D3C6.d.C149D77F3B9AC0E836B17ABAE9B739AD.e.479\")>, <selenium.webdriver.remote.webelement.WebElement (session=\"6baf1e91ee7009b57cbb597a1bb9e11f\", element=\"f.303ED80D28A2068DDADAAFC4F807D3C6.d.C149D77F3B9AC0E836B17ABAE9B739AD.e.515\")>, <selenium.webdriver.remote.webelement.WebElement (session=\"6baf1e91ee7009b57cbb597a1bb9e11f\", element=\"f.303ED80D28A2068DDADAAFC4F807D3C6.d.C149D77F3B9AC0E836B17ABAE9B739AD.e.551\")>) (<selenium.webdriver.remote.webelement.WebElement (session=\"6baf1e91ee7009b57cbb597a1bb9e11f\", element=\"f.303ED80D28A2068DDADAAFC4F807D3C6.d.C149D77F3B9AC0E836B17ABAE9B739AD.e.588\")>, <selenium.webdriver.remote.webelement.WebElement (session=\"6baf1e91ee7009b57cbb597a1bb9e11f\", element=\"f.303ED80D28A2068DDADAAFC4F807D3C6.d.C149D77F3B9AC0E836B17ABAE9B739AD.e.336\")>, <selenium.webdriver.remote.webelement.WebElement (session=\"6baf1e91ee7009b57cbb597a1bb9e11f\", element=\"f.303ED80D28A2068DDADAAFC4F807D3C6.d.C149D77F3B9AC0E836B17ABAE9B739AD.e.372\")>, <selenium.webdriver.remote.webelement.WebElement (session=\"6baf1e91ee7009b57cbb597a1bb9e11f\", element=\"f.303ED80D28A2068DDADAAFC4F807D3C6.d.C149D77F3B9AC0E836B17ABAE9B739AD.e.408\")>, <selenium.webdriver.remote.webelement.WebElement (session=\"6baf1e91ee7009b57cbb597a1bb9e11f\", element=\"f.303ED80D28A2068DDADAAFC4F807D3C6.d.C149D77F3B9AC0E836B17ABAE9B739AD.e.444\")>, <selenium.webdriver.remote.webelement.WebElement (session=\"6baf1e91ee7009b57cbb597a1bb9e11f\", element=\"f.303ED80D28A2068DDADAAFC4F807D3C6.d.C149D77F3B9AC0E836B17ABAE9B739AD.e.480\")>, <selenium.webdriver.remote.webelement.WebElement (session=\"6baf1e91ee7009b57cbb597a1bb9e11f\", element=\"f.303ED80D28A2068DDADAAFC4F807D3C6.d.C149D77F3B9AC0E836B17ABAE9B739AD.e.516\")>, <selenium.webdriver.remote.webelement.WebElement (session=\"6baf1e91ee7009b57cbb597a1bb9e11f\", element=\"f.303ED80D28A2068DDADAAFC4F807D3C6.d.C149D77F3B9AC0E836B17ABAE9B739AD.e.552\")>) (<selenium.webdriver.remote.webelement.WebElement (session=\"6baf1e91ee7009b57cbb597a1bb9e11f\", element=\"f.303ED80D28A2068DDADAAFC4F807D3C6.d.C149D77F3B9AC0E836B17ABAE9B739AD.e.589\")>, <selenium.webdriver.remote.webelement.WebElement (session=\"6baf1e91ee7009b57cbb597a1bb9e11f\", element=\"f.303ED80D28A2068DDADAAFC4F807D3C6.d.C149D77F3B9AC0E836B17ABAE9B739AD.e.337\")>, <selenium.webdriver.remote.webelement.WebElement (session=\"6baf1e91ee7009b57cbb597a1bb9e11f\", element=\"f.303ED80D28A2068DDADAAFC4F807D3C6.d.C149D77F3B9AC0E836B17ABAE9B739AD.e.373\")>, <selenium.webdriver.remote.webelement.WebElement (session=\"6baf1e91ee7009b57cbb597a1bb9e11f\", element=\"f.303ED80D28A2068DDADAAFC4F807D3C6.d.C149D77F3B9AC0E836B17ABAE9B739AD.e.409\")>, <selenium.webdriver.remote.webelement.WebElement (session=\"6baf1e91ee7009b57cbb597a1bb9e11f\", element=\"f.303ED80D28A2068DDADAAFC4F807D3C6.d.C149D77F3B9AC0E836B17ABAE9B739AD.e.445\")>, <selenium.webdriver.remote.webelement.WebElement (session=\"6baf1e91ee7009b57cbb597a1bb9e11f\", element=\"f.303ED80D28A2068DDADAAFC4F807D3C6.d.C149D77F3B9AC0E836B17ABAE9B739AD.e.481\")>, <selenium.webdriver.remote.webelement.WebElement (session=\"6baf1e91ee7009b57cbb597a1bb9e11f\", element=\"f.303ED80D28A2068DDADAAFC4F807D3C6.d.C149D77F3B9AC0E836B17ABAE9B739AD.e.517\")>, <selenium.webdriver.remote.webelement.WebElement (session=\"6baf1e91ee7009b57cbb597a1bb9e11f\", element=\"f.303ED80D28A2068DDADAAFC4F807D3C6.d.C149D77F3B9AC0E836B17ABAE9B739AD.e.553\")>) (<selenium.webdriver.remote.webelement.WebElement (session=\"6baf1e91ee7009b57cbb597a1bb9e11f\", element=\"f.303ED80D28A2068DDADAAFC4F807D3C6.d.C149D77F3B9AC0E836B17ABAE9B739AD.e.590\")>, <selenium.webdriver.remote.webelement.WebElement (session=\"6baf1e91ee7009b57cbb597a1bb9e11f\", element=\"f.303ED80D28A2068DDADAAFC4F807D3C6.d.C149D77F3B9AC0E836B17ABAE9B739AD.e.338\")>, <selenium.webdriver.remote.webelement.WebElement (session=\"6baf1e91ee7009b57cbb597a1bb9e11f\", element=\"f.303ED80D28A2068DDADAAFC4F807D3C6.d.C149D77F3B9AC0E836B17ABAE9B739AD.e.374\")>, <selenium.webdriver.remote.webelement.WebElement (session=\"6baf1e91ee7009b57cbb597a1bb9e11f\", element=\"f.303ED80D28A2068DDADAAFC4F807D3C6.d.C149D77F3B9AC0E836B17ABAE9B739AD.e.410\")>, <selenium.webdriver.remote.webelement.WebElement (session=\"6baf1e91ee7009b57cbb597a1bb9e11f\", element=\"f.303ED80D28A2068DDADAAFC4F807D3C6.d.C149D77F3B9AC0E836B17ABAE9B739AD.e.446\")>, <selenium.webdriver.remote.webelement.WebElement (session=\"6baf1e91ee7009b57cbb597a1bb9e11f\", element=\"f.303ED80D28A2068DDADAAFC4F807D3C6.d.C149D77F3B9AC0E836B17ABAE9B739AD.e.482\")>, <selenium.webdriver.remote.webelement.WebElement (session=\"6baf1e91ee7009b57cbb597a1bb9e11f\", element=\"f.303ED80D28A2068DDADAAFC4F807D3C6.d.C149D77F3B9AC0E836B17ABAE9B739AD.e.518\")>, <selenium.webdriver.remote.webelement.WebElement (session=\"6baf1e91ee7009b57cbb597a1bb9e11f\", element=\"f.303ED80D28A2068DDADAAFC4F807D3C6.d.C149D77F3B9AC0E836B17ABAE9B739AD.e.554\")>) (<selenium.webdriver.remote.webelement.WebElement (session=\"6baf1e91ee7009b57cbb597a1bb9e11f\", element=\"f.303ED80D28A2068DDADAAFC4F807D3C6.d.C149D77F3B9AC0E836B17ABAE9B739AD.e.591\")>, <selenium.webdriver.remote.webelement.WebElement (session=\"6baf1e91ee7009b57cbb597a1bb9e11f\", element=\"f.303ED80D28A2068DDADAAFC4F807D3C6.d.C149D77F3B9AC0E836B17ABAE9B739AD.e.339\")>, <selenium.webdriver.remote.webelement.WebElement (session=\"6baf1e91ee7009b57cbb597a1bb9e11f\", element=\"f.303ED80D28A2068DDADAAFC4F807D3C6.d.C149D77F3B9AC0E836B17ABAE9B739AD.e.375\")>, <selenium.webdriver.remote.webelement.WebElement (session=\"6baf1e91ee7009b57cbb597a1bb9e11f\", element=\"f.303ED80D28A2068DDADAAFC4F807D3C6.d.C149D77F3B9AC0E836B17ABAE9B739AD.e.411\")>, <selenium.webdriver.remote.webelement.WebElement (session=\"6baf1e91ee7009b57cbb597a1bb9e11f\", element=\"f.303ED80D28A2068DDADAAFC4F807D3C6.d.C149D77F3B9AC0E836B17ABAE9B739AD.e.447\")>, <selenium.webdriver.remote.webelement.WebElement (session=\"6baf1e91ee7009b57cbb597a1bb9e11f\", element=\"f.303ED80D28A2068DDADAAFC4F807D3C6.d.C149D77F3B9AC0E836B17ABAE9B739AD.e.483\")>, <selenium.webdriver.remote.webelement.WebElement (session=\"6baf1e91ee7009b57cbb597a1bb9e11f\", element=\"f.303ED80D28A2068DDADAAFC4F807D3C6.d.C149D77F3B9AC0E836B17ABAE9B739AD.e.519\")>, <selenium.webdriver.remote.webelement.WebElement (session=\"6baf1e91ee7009b57cbb597a1bb9e11f\", element=\"f.303ED80D28A2068DDADAAFC4F807D3C6.d.C149D77F3B9AC0E836B17ABAE9B739AD.e.555\")>) (<selenium.webdriver.remote.webelement.WebElement (session=\"6baf1e91ee7009b57cbb597a1bb9e11f\", element=\"f.303ED80D28A2068DDADAAFC4F807D3C6.d.C149D77F3B9AC0E836B17ABAE9B739AD.e.592\")>, <selenium.webdriver.remote.webelement.WebElement (session=\"6baf1e91ee7009b57cbb597a1bb9e11f\", element=\"f.303ED80D28A2068DDADAAFC4F807D3C6.d.C149D77F3B9AC0E836B17ABAE9B739AD.e.340\")>, <selenium.webdriver.remote.webelement.WebElement (session=\"6baf1e91ee7009b57cbb597a1bb9e11f\", element=\"f.303ED80D28A2068DDADAAFC4F807D3C6.d.C149D77F3B9AC0E836B17ABAE9B739AD.e.376\")>, <selenium.webdriver.remote.webelement.WebElement (session=\"6baf1e91ee7009b57cbb597a1bb9e11f\", element=\"f.303ED80D28A2068DDADAAFC4F807D3C6.d.C149D77F3B9AC0E836B17ABAE9B739AD.e.412\")>, <selenium.webdriver.remote.webelement.WebElement (session=\"6baf1e91ee7009b57cbb597a1bb9e11f\", element=\"f.303ED80D28A2068DDADAAFC4F807D3C6.d.C149D77F3B9AC0E836B17ABAE9B739AD.e.448\")>, <selenium.webdriver.remote.webelement.WebElement (session=\"6baf1e91ee7009b57cbb597a1bb9e11f\", element=\"f.303ED80D28A2068DDADAAFC4F807D3C6.d.C149D77F3B9AC0E836B17ABAE9B739AD.e.484\")>, <selenium.webdriver.remote.webelement.WebElement (session=\"6baf1e91ee7009b57cbb597a1bb9e11f\", element=\"f.303ED80D28A2068DDADAAFC4F807D3C6.d.C149D77F3B9AC0E836B17ABAE9B739AD.e.520\")>, <selenium.webdriver.remote.webelement.WebElement (session=\"6baf1e91ee7009b57cbb597a1bb9e11f\", element=\"f.303ED80D28A2068DDADAAFC4F807D3C6.d.C149D77F3B9AC0E836B17ABAE9B739AD.e.556\")>) (<selenium.webdriver.remote.webelement.WebElement (session=\"6baf1e91ee7009b57cbb597a1bb9e11f\", element=\"f.303ED80D28A2068DDADAAFC4F807D3C6.d.C149D77F3B9AC0E836B17ABAE9B739AD.e.593\")>, <selenium.webdriver.remote.webelement.WebElement (session=\"6baf1e91ee7009b57cbb597a1bb9e11f\", element=\"f.303ED80D28A2068DDADAAFC4F807D3C6.d.C149D77F3B9AC0E836B17ABAE9B739AD.e.341\")>, <selenium.webdriver.remote.webelement.WebElement (session=\"6baf1e91ee7009b57cbb597a1bb9e11f\", element=\"f.303ED80D28A2068DDADAAFC4F807D3C6.d.C149D77F3B9AC0E836B17ABAE9B739AD.e.377\")>, <selenium.webdriver.remote.webelement.WebElement (session=\"6baf1e91ee7009b57cbb597a1bb9e11f\", element=\"f.303ED80D28A2068DDADAAFC4F807D3C6.d.C149D77F3B9AC0E836B17ABAE9B739AD.e.413\")>, <selenium.webdriver.remote.webelement.WebElement (session=\"6baf1e91ee7009b57cbb597a1bb9e11f\", element=\"f.303ED80D28A2068DDADAAFC4F807D3C6.d.C149D77F3B9AC0E836B17ABAE9B739AD.e.449\")>, <selenium.webdriver.remote.webelement.WebElement (session=\"6baf1e91ee7009b57cbb597a1bb9e11f\", element=\"f.303ED80D28A2068DDADAAFC4F807D3C6.d.C149D77F3B9AC0E836B17ABAE9B739AD.e.485\")>, <selenium.webdriver.remote.webelement.WebElement (session=\"6baf1e91ee7009b57cbb597a1bb9e11f\", element=\"f.303ED80D28A2068DDADAAFC4F807D3C6.d.C149D77F3B9AC0E836B17ABAE9B739AD.e.521\")>, <selenium.webdriver.remote.webelement.WebElement (session=\"6baf1e91ee7009b57cbb597a1bb9e11f\", element=\"f.303ED80D28A2068DDADAAFC4F807D3C6.d.C149D77F3B9AC0E836B17ABAE9B739AD.e.557\")>) (<selenium.webdriver.remote.webelement.WebElement (session=\"6baf1e91ee7009b57cbb597a1bb9e11f\", element=\"f.303ED80D28A2068DDADAAFC4F807D3C6.d.C149D77F3B9AC0E836B17ABAE9B739AD.e.594\")>, <selenium.webdriver.remote.webelement.WebElement (session=\"6baf1e91ee7009b57cbb597a1bb9e11f\", element=\"f.303ED80D28A2068DDADAAFC4F807D3C6.d.C149D77F3B9AC0E836B17ABAE9B739AD.e.342\")>, <selenium.webdriver.remote.webelement.WebElement (session=\"6baf1e91ee7009b57cbb597a1bb9e11f\", element=\"f.303ED80D28A2068DDADAAFC4F807D3C6.d.C149D77F3B9AC0E836B17ABAE9B739AD.e.378\")>, <selenium.webdriver.remote.webelement.WebElement (session=\"6baf1e91ee7009b57cbb597a1bb9e11f\", element=\"f.303ED80D28A2068DDADAAFC4F807D3C6.d.C149D77F3B9AC0E836B17ABAE9B739AD.e.414\")>, <selenium.webdriver.remote.webelement.WebElement (session=\"6baf1e91ee7009b57cbb597a1bb9e11f\", element=\"f.303ED80D28A2068DDADAAFC4F807D3C6.d.C149D77F3B9AC0E836B17ABAE9B739AD.e.450\")>, <selenium.webdriver.remote.webelement.WebElement (session=\"6baf1e91ee7009b57cbb597a1bb9e11f\", element=\"f.303ED80D28A2068DDADAAFC4F807D3C6.d.C149D77F3B9AC0E836B17ABAE9B739AD.e.486\")>, <selenium.webdriver.remote.webelement.WebElement (session=\"6baf1e91ee7009b57cbb597a1bb9e11f\", element=\"f.303ED80D28A2068DDADAAFC4F807D3C6.d.C149D77F3B9AC0E836B17ABAE9B739AD.e.522\")>, <selenium.webdriver.remote.webelement.WebElement (session=\"6baf1e91ee7009b57cbb597a1bb9e11f\", element=\"f.303ED80D28A2068DDADAAFC4F807D3C6.d.C149D77F3B9AC0E836B17ABAE9B739AD.e.558\")>) (<selenium.webdriver.remote.webelement.WebElement (session=\"6baf1e91ee7009b57cbb597a1bb9e11f\", element=\"f.303ED80D28A2068DDADAAFC4F807D3C6.d.C149D77F3B9AC0E836B17ABAE9B739AD.e.595\")>, <selenium.webdriver.remote.webelement.WebElement (session=\"6baf1e91ee7009b57cbb597a1bb9e11f\", element=\"f.303ED80D28A2068DDADAAFC4F807D3C6.d.C149D77F3B9AC0E836B17ABAE9B739AD.e.343\")>, <selenium.webdriver.remote.webelement.WebElement (session=\"6baf1e91ee7009b57cbb597a1bb9e11f\", element=\"f.303ED80D28A2068DDADAAFC4F807D3C6.d.C149D77F3B9AC0E836B17ABAE9B739AD.e.379\")>, <selenium.webdriver.remote.webelement.WebElement (session=\"6baf1e91ee7009b57cbb597a1bb9e11f\", element=\"f.303ED80D28A2068DDADAAFC4F807D3C6.d.C149D77F3B9AC0E836B17ABAE9B739AD.e.415\")>, <selenium.webdriver.remote.webelement.WebElement (session=\"6baf1e91ee7009b57cbb597a1bb9e11f\", element=\"f.303ED80D28A2068DDADAAFC4F807D3C6.d.C149D77F3B9AC0E836B17ABAE9B739AD.e.451\")>, <selenium.webdriver.remote.webelement.WebElement (session=\"6baf1e91ee7009b57cbb597a1bb9e11f\", element=\"f.303ED80D28A2068DDADAAFC4F807D3C6.d.C149D77F3B9AC0E836B17ABAE9B739AD.e.487\")>, <selenium.webdriver.remote.webelement.WebElement (session=\"6baf1e91ee7009b57cbb597a1bb9e11f\", element=\"f.303ED80D28A2068DDADAAFC4F807D3C6.d.C149D77F3B9AC0E836B17ABAE9B739AD.e.523\")>, <selenium.webdriver.remote.webelement.WebElement (session=\"6baf1e91ee7009b57cbb597a1bb9e11f\", element=\"f.303ED80D28A2068DDADAAFC4F807D3C6.d.C149D77F3B9AC0E836B17ABAE9B739AD.e.559\")>) (<selenium.webdriver.remote.webelement.WebElement (session=\"6baf1e91ee7009b57cbb597a1bb9e11f\", element=\"f.303ED80D28A2068DDADAAFC4F807D3C6.d.C149D77F3B9AC0E836B17ABAE9B739AD.e.596\")>, <selenium.webdriver.remote.webelement.WebElement (session=\"6baf1e91ee7009b57cbb597a1bb9e11f\", element=\"f.303ED80D28A2068DDADAAFC4F807D3C6.d.C149D77F3B9AC0E836B17ABAE9B739AD.e.344\")>, <selenium.webdriver.remote.webelement.WebElement (session=\"6baf1e91ee7009b57cbb597a1bb9e11f\", element=\"f.303ED80D28A2068DDADAAFC4F807D3C6.d.C149D77F3B9AC0E836B17ABAE9B739AD.e.380\")>, <selenium.webdriver.remote.webelement.WebElement (session=\"6baf1e91ee7009b57cbb597a1bb9e11f\", element=\"f.303ED80D28A2068DDADAAFC4F807D3C6.d.C149D77F3B9AC0E836B17ABAE9B739AD.e.416\")>, <selenium.webdriver.remote.webelement.WebElement (session=\"6baf1e91ee7009b57cbb597a1bb9e11f\", element=\"f.303ED80D28A2068DDADAAFC4F807D3C6.d.C149D77F3B9AC0E836B17ABAE9B739AD.e.452\")>, <selenium.webdriver.remote.webelement.WebElement (session=\"6baf1e91ee7009b57cbb597a1bb9e11f\", element=\"f.303ED80D28A2068DDADAAFC4F807D3C6.d.C149D77F3B9AC0E836B17ABAE9B739AD.e.488\")>, <selenium.webdriver.remote.webelement.WebElement (session=\"6baf1e91ee7009b57cbb597a1bb9e11f\", element=\"f.303ED80D28A2068DDADAAFC4F807D3C6.d.C149D77F3B9AC0E836B17ABAE9B739AD.e.524\")>, <selenium.webdriver.remote.webelement.WebElement (session=\"6baf1e91ee7009b57cbb597a1bb9e11f\", element=\"f.303ED80D28A2068DDADAAFC4F807D3C6.d.C149D77F3B9AC0E836B17ABAE9B739AD.e.560\")>) (<selenium.webdriver.remote.webelement.WebElement (session=\"6baf1e91ee7009b57cbb597a1bb9e11f\", element=\"f.303ED80D28A2068DDADAAFC4F807D3C6.d.C149D77F3B9AC0E836B17ABAE9B739AD.e.597\")>, <selenium.webdriver.remote.webelement.WebElement (session=\"6baf1e91ee7009b57cbb597a1bb9e11f\", element=\"f.303ED80D28A2068DDADAAFC4F807D3C6.d.C149D77F3B9AC0E836B17ABAE9B739AD.e.345\")>, <selenium.webdriver.remote.webelement.WebElement (session=\"6baf1e91ee7009b57cbb597a1bb9e11f\", element=\"f.303ED80D28A2068DDADAAFC4F807D3C6.d.C149D77F3B9AC0E836B17ABAE9B739AD.e.381\")>, <selenium.webdriver.remote.webelement.WebElement (session=\"6baf1e91ee7009b57cbb597a1bb9e11f\", element=\"f.303ED80D28A2068DDADAAFC4F807D3C6.d.C149D77F3B9AC0E836B17ABAE9B739AD.e.417\")>, <selenium.webdriver.remote.webelement.WebElement (session=\"6baf1e91ee7009b57cbb597a1bb9e11f\", element=\"f.303ED80D28A2068DDADAAFC4F807D3C6.d.C149D77F3B9AC0E836B17ABAE9B739AD.e.453\")>, <selenium.webdriver.remote.webelement.WebElement (session=\"6baf1e91ee7009b57cbb597a1bb9e11f\", element=\"f.303ED80D28A2068DDADAAFC4F807D3C6.d.C149D77F3B9AC0E836B17ABAE9B739AD.e.489\")>, <selenium.webdriver.remote.webelement.WebElement (session=\"6baf1e91ee7009b57cbb597a1bb9e11f\", element=\"f.303ED80D28A2068DDADAAFC4F807D3C6.d.C149D77F3B9AC0E836B17ABAE9B739AD.e.525\")>, <selenium.webdriver.remote.webelement.WebElement (session=\"6baf1e91ee7009b57cbb597a1bb9e11f\", element=\"f.303ED80D28A2068DDADAAFC4F807D3C6.d.C149D77F3B9AC0E836B17ABAE9B739AD.e.561\")>) (<selenium.webdriver.remote.webelement.WebElement (session=\"6baf1e91ee7009b57cbb597a1bb9e11f\", element=\"f.303ED80D28A2068DDADAAFC4F807D3C6.d.C149D77F3B9AC0E836B17ABAE9B739AD.e.598\")>, <selenium.webdriver.remote.webelement.WebElement (session=\"6baf1e91ee7009b57cbb597a1bb9e11f\", element=\"f.303ED80D28A2068DDADAAFC4F807D3C6.d.C149D77F3B9AC0E836B17ABAE9B739AD.e.346\")>, <selenium.webdriver.remote.webelement.WebElement (session=\"6baf1e91ee7009b57cbb597a1bb9e11f\", element=\"f.303ED80D28A2068DDADAAFC4F807D3C6.d.C149D77F3B9AC0E836B17ABAE9B739AD.e.382\")>, <selenium.webdriver.remote.webelement.WebElement (session=\"6baf1e91ee7009b57cbb597a1bb9e11f\", element=\"f.303ED80D28A2068DDADAAFC4F807D3C6.d.C149D77F3B9AC0E836B17ABAE9B739AD.e.418\")>, <selenium.webdriver.remote.webelement.WebElement (session=\"6baf1e91ee7009b57cbb597a1bb9e11f\", element=\"f.303ED80D28A2068DDADAAFC4F807D3C6.d.C149D77F3B9AC0E836B17ABAE9B739AD.e.454\")>, <selenium.webdriver.remote.webelement.WebElement (session=\"6baf1e91ee7009b57cbb597a1bb9e11f\", element=\"f.303ED80D28A2068DDADAAFC4F807D3C6.d.C149D77F3B9AC0E836B17ABAE9B739AD.e.490\")>, <selenium.webdriver.remote.webelement.WebElement (session=\"6baf1e91ee7009b57cbb597a1bb9e11f\", element=\"f.303ED80D28A2068DDADAAFC4F807D3C6.d.C149D77F3B9AC0E836B17ABAE9B739AD.e.526\")>, <selenium.webdriver.remote.webelement.WebElement (session=\"6baf1e91ee7009b57cbb597a1bb9e11f\", element=\"f.303ED80D28A2068DDADAAFC4F807D3C6.d.C149D77F3B9AC0E836B17ABAE9B739AD.e.562\")>) (<selenium.webdriver.remote.webelement.WebElement (session=\"6baf1e91ee7009b57cbb597a1bb9e11f\", element=\"f.303ED80D28A2068DDADAAFC4F807D3C6.d.C149D77F3B9AC0E836B17ABAE9B739AD.e.599\")>, <selenium.webdriver.remote.webelement.WebElement (session=\"6baf1e91ee7009b57cbb597a1bb9e11f\", element=\"f.303ED80D28A2068DDADAAFC4F807D3C6.d.C149D77F3B9AC0E836B17ABAE9B739AD.e.347\")>, <selenium.webdriver.remote.webelement.WebElement (session=\"6baf1e91ee7009b57cbb597a1bb9e11f\", element=\"f.303ED80D28A2068DDADAAFC4F807D3C6.d.C149D77F3B9AC0E836B17ABAE9B739AD.e.383\")>, <selenium.webdriver.remote.webelement.WebElement (session=\"6baf1e91ee7009b57cbb597a1bb9e11f\", element=\"f.303ED80D28A2068DDADAAFC4F807D3C6.d.C149D77F3B9AC0E836B17ABAE9B739AD.e.419\")>, <selenium.webdriver.remote.webelement.WebElement (session=\"6baf1e91ee7009b57cbb597a1bb9e11f\", element=\"f.303ED80D28A2068DDADAAFC4F807D3C6.d.C149D77F3B9AC0E836B17ABAE9B739AD.e.455\")>, <selenium.webdriver.remote.webelement.WebElement (session=\"6baf1e91ee7009b57cbb597a1bb9e11f\", element=\"f.303ED80D28A2068DDADAAFC4F807D3C6.d.C149D77F3B9AC0E836B17ABAE9B739AD.e.491\")>, <selenium.webdriver.remote.webelement.WebElement (session=\"6baf1e91ee7009b57cbb597a1bb9e11f\", element=\"f.303ED80D28A2068DDADAAFC4F807D3C6.d.C149D77F3B9AC0E836B17ABAE9B739AD.e.527\")>, <selenium.webdriver.remote.webelement.WebElement (session=\"6baf1e91ee7009b57cbb597a1bb9e11f\", element=\"f.303ED80D28A2068DDADAAFC4F807D3C6.d.C149D77F3B9AC0E836B17ABAE9B739AD.e.563\")>) (<selenium.webdriver.remote.webelement.WebElement (session=\"6baf1e91ee7009b57cbb597a1bb9e11f\", element=\"f.303ED80D28A2068DDADAAFC4F807D3C6.d.C149D77F3B9AC0E836B17ABAE9B739AD.e.600\")>, <selenium.webdriver.remote.webelement.WebElement (session=\"6baf1e91ee7009b57cbb597a1bb9e11f\", element=\"f.303ED80D28A2068DDADAAFC4F807D3C6.d.C149D77F3B9AC0E836B17ABAE9B739AD.e.348\")>, <selenium.webdriver.remote.webelement.WebElement (session=\"6baf1e91ee7009b57cbb597a1bb9e11f\", element=\"f.303ED80D28A2068DDADAAFC4F807D3C6.d.C149D77F3B9AC0E836B17ABAE9B739AD.e.384\")>, <selenium.webdriver.remote.webelement.WebElement (session=\"6baf1e91ee7009b57cbb597a1bb9e11f\", element=\"f.303ED80D28A2068DDADAAFC4F807D3C6.d.C149D77F3B9AC0E836B17ABAE9B739AD.e.420\")>, <selenium.webdriver.remote.webelement.WebElement (session=\"6baf1e91ee7009b57cbb597a1bb9e11f\", element=\"f.303ED80D28A2068DDADAAFC4F807D3C6.d.C149D77F3B9AC0E836B17ABAE9B739AD.e.456\")>, <selenium.webdriver.remote.webelement.WebElement (session=\"6baf1e91ee7009b57cbb597a1bb9e11f\", element=\"f.303ED80D28A2068DDADAAFC4F807D3C6.d.C149D77F3B9AC0E836B17ABAE9B739AD.e.492\")>, <selenium.webdriver.remote.webelement.WebElement (session=\"6baf1e91ee7009b57cbb597a1bb9e11f\", element=\"f.303ED80D28A2068DDADAAFC4F807D3C6.d.C149D77F3B9AC0E836B17ABAE9B739AD.e.528\")>, <selenium.webdriver.remote.webelement.WebElement (session=\"6baf1e91ee7009b57cbb597a1bb9e11f\", element=\"f.303ED80D28A2068DDADAAFC4F807D3C6.d.C149D77F3B9AC0E836B17ABAE9B739AD.e.564\")>) (<selenium.webdriver.remote.webelement.WebElement (session=\"6baf1e91ee7009b57cbb597a1bb9e11f\", element=\"f.303ED80D28A2068DDADAAFC4F807D3C6.d.C149D77F3B9AC0E836B17ABAE9B739AD.e.601\")>, <selenium.webdriver.remote.webelement.WebElement (session=\"6baf1e91ee7009b57cbb597a1bb9e11f\", element=\"f.303ED80D28A2068DDADAAFC4F807D3C6.d.C149D77F3B9AC0E836B17ABAE9B739AD.e.349\")>, <selenium.webdriver.remote.webelement.WebElement (session=\"6baf1e91ee7009b57cbb597a1bb9e11f\", element=\"f.303ED80D28A2068DDADAAFC4F807D3C6.d.C149D77F3B9AC0E836B17ABAE9B739AD.e.385\")>, <selenium.webdriver.remote.webelement.WebElement (session=\"6baf1e91ee7009b57cbb597a1bb9e11f\", element=\"f.303ED80D28A2068DDADAAFC4F807D3C6.d.C149D77F3B9AC0E836B17ABAE9B739AD.e.421\")>, <selenium.webdriver.remote.webelement.WebElement (session=\"6baf1e91ee7009b57cbb597a1bb9e11f\", element=\"f.303ED80D28A2068DDADAAFC4F807D3C6.d.C149D77F3B9AC0E836B17ABAE9B739AD.e.457\")>, <selenium.webdriver.remote.webelement.WebElement (session=\"6baf1e91ee7009b57cbb597a1bb9e11f\", element=\"f.303ED80D28A2068DDADAAFC4F807D3C6.d.C149D77F3B9AC0E836B17ABAE9B739AD.e.493\")>, <selenium.webdriver.remote.webelement.WebElement (session=\"6baf1e91ee7009b57cbb597a1bb9e11f\", element=\"f.303ED80D28A2068DDADAAFC4F807D3C6.d.C149D77F3B9AC0E836B17ABAE9B739AD.e.529\")>, <selenium.webdriver.remote.webelement.WebElement (session=\"6baf1e91ee7009b57cbb597a1bb9e11f\", element=\"f.303ED80D28A2068DDADAAFC4F807D3C6.d.C149D77F3B9AC0E836B17ABAE9B739AD.e.565\")>) (<selenium.webdriver.remote.webelement.WebElement (session=\"6baf1e91ee7009b57cbb597a1bb9e11f\", element=\"f.303ED80D28A2068DDADAAFC4F807D3C6.d.C149D77F3B9AC0E836B17ABAE9B739AD.e.602\")>, <selenium.webdriver.remote.webelement.WebElement (session=\"6baf1e91ee7009b57cbb597a1bb9e11f\", element=\"f.303ED80D28A2068DDADAAFC4F807D3C6.d.C149D77F3B9AC0E836B17ABAE9B739AD.e.350\")>, <selenium.webdriver.remote.webelement.WebElement (session=\"6baf1e91ee7009b57cbb597a1bb9e11f\", element=\"f.303ED80D28A2068DDADAAFC4F807D3C6.d.C149D77F3B9AC0E836B17ABAE9B739AD.e.386\")>, <selenium.webdriver.remote.webelement.WebElement (session=\"6baf1e91ee7009b57cbb597a1bb9e11f\", element=\"f.303ED80D28A2068DDADAAFC4F807D3C6.d.C149D77F3B9AC0E836B17ABAE9B739AD.e.422\")>, <selenium.webdriver.remote.webelement.WebElement (session=\"6baf1e91ee7009b57cbb597a1bb9e11f\", element=\"f.303ED80D28A2068DDADAAFC4F807D3C6.d.C149D77F3B9AC0E836B17ABAE9B739AD.e.458\")>, <selenium.webdriver.remote.webelement.WebElement (session=\"6baf1e91ee7009b57cbb597a1bb9e11f\", element=\"f.303ED80D28A2068DDADAAFC4F807D3C6.d.C149D77F3B9AC0E836B17ABAE9B739AD.e.494\")>, <selenium.webdriver.remote.webelement.WebElement (session=\"6baf1e91ee7009b57cbb597a1bb9e11f\", element=\"f.303ED80D28A2068DDADAAFC4F807D3C6.d.C149D77F3B9AC0E836B17ABAE9B739AD.e.530\")>, <selenium.webdriver.remote.webelement.WebElement (session=\"6baf1e91ee7009b57cbb597a1bb9e11f\", element=\"f.303ED80D28A2068DDADAAFC4F807D3C6.d.C149D77F3B9AC0E836B17ABAE9B739AD.e.566\")>) (<selenium.webdriver.remote.webelement.WebElement (session=\"6baf1e91ee7009b57cbb597a1bb9e11f\", element=\"f.303ED80D28A2068DDADAAFC4F807D3C6.d.C149D77F3B9AC0E836B17ABAE9B739AD.e.603\")>, <selenium.webdriver.remote.webelement.WebElement (session=\"6baf1e91ee7009b57cbb597a1bb9e11f\", element=\"f.303ED80D28A2068DDADAAFC4F807D3C6.d.C149D77F3B9AC0E836B17ABAE9B739AD.e.351\")>, <selenium.webdriver.remote.webelement.WebElement (session=\"6baf1e91ee7009b57cbb597a1bb9e11f\", element=\"f.303ED80D28A2068DDADAAFC4F807D3C6.d.C149D77F3B9AC0E836B17ABAE9B739AD.e.387\")>, <selenium.webdriver.remote.webelement.WebElement (session=\"6baf1e91ee7009b57cbb597a1bb9e11f\", element=\"f.303ED80D28A2068DDADAAFC4F807D3C6.d.C149D77F3B9AC0E836B17ABAE9B739AD.e.423\")>, <selenium.webdriver.remote.webelement.WebElement (session=\"6baf1e91ee7009b57cbb597a1bb9e11f\", element=\"f.303ED80D28A2068DDADAAFC4F807D3C6.d.C149D77F3B9AC0E836B17ABAE9B739AD.e.459\")>, <selenium.webdriver.remote.webelement.WebElement (session=\"6baf1e91ee7009b57cbb597a1bb9e11f\", element=\"f.303ED80D28A2068DDADAAFC4F807D3C6.d.C149D77F3B9AC0E836B17ABAE9B739AD.e.495\")>, <selenium.webdriver.remote.webelement.WebElement (session=\"6baf1e91ee7009b57cbb597a1bb9e11f\", element=\"f.303ED80D28A2068DDADAAFC4F807D3C6.d.C149D77F3B9AC0E836B17ABAE9B739AD.e.531\")>, <selenium.webdriver.remote.webelement.WebElement (session=\"6baf1e91ee7009b57cbb597a1bb9e11f\", element=\"f.303ED80D28A2068DDADAAFC4F807D3C6.d.C149D77F3B9AC0E836B17ABAE9B739AD.e.567\")>) (<selenium.webdriver.remote.webelement.WebElement (session=\"6baf1e91ee7009b57cbb597a1bb9e11f\", element=\"f.303ED80D28A2068DDADAAFC4F807D3C6.d.C149D77F3B9AC0E836B17ABAE9B739AD.e.604\")>, <selenium.webdriver.remote.webelement.WebElement (session=\"6baf1e91ee7009b57cbb597a1bb9e11f\", element=\"f.303ED80D28A2068DDADAAFC4F807D3C6.d.C149D77F3B9AC0E836B17ABAE9B739AD.e.352\")>, <selenium.webdriver.remote.webelement.WebElement (session=\"6baf1e91ee7009b57cbb597a1bb9e11f\", element=\"f.303ED80D28A2068DDADAAFC4F807D3C6.d.C149D77F3B9AC0E836B17ABAE9B739AD.e.388\")>, <selenium.webdriver.remote.webelement.WebElement (session=\"6baf1e91ee7009b57cbb597a1bb9e11f\", element=\"f.303ED80D28A2068DDADAAFC4F807D3C6.d.C149D77F3B9AC0E836B17ABAE9B739AD.e.424\")>, <selenium.webdriver.remote.webelement.WebElement (session=\"6baf1e91ee7009b57cbb597a1bb9e11f\", element=\"f.303ED80D28A2068DDADAAFC4F807D3C6.d.C149D77F3B9AC0E836B17ABAE9B739AD.e.460\")>, <selenium.webdriver.remote.webelement.WebElement (session=\"6baf1e91ee7009b57cbb597a1bb9e11f\", element=\"f.303ED80D28A2068DDADAAFC4F807D3C6.d.C149D77F3B9AC0E836B17ABAE9B739AD.e.496\")>, <selenium.webdriver.remote.webelement.WebElement (session=\"6baf1e91ee7009b57cbb597a1bb9e11f\", element=\"f.303ED80D28A2068DDADAAFC4F807D3C6.d.C149D77F3B9AC0E836B17ABAE9B739AD.e.532\")>, <selenium.webdriver.remote.webelement.WebElement (session=\"6baf1e91ee7009b57cbb597a1bb9e11f\", element=\"f.303ED80D28A2068DDADAAFC4F807D3C6.d.C149D77F3B9AC0E836B17ABAE9B739AD.e.568\")>) (<selenium.webdriver.remote.webelement.WebElement (session=\"6baf1e91ee7009b57cbb597a1bb9e11f\", element=\"f.303ED80D28A2068DDADAAFC4F807D3C6.d.C149D77F3B9AC0E836B17ABAE9B739AD.e.605\")>, <selenium.webdriver.remote.webelement.WebElement (session=\"6baf1e91ee7009b57cbb597a1bb9e11f\", element=\"f.303ED80D28A2068DDADAAFC4F807D3C6.d.C149D77F3B9AC0E836B17ABAE9B739AD.e.353\")>, <selenium.webdriver.remote.webelement.WebElement (session=\"6baf1e91ee7009b57cbb597a1bb9e11f\", element=\"f.303ED80D28A2068DDADAAFC4F807D3C6.d.C149D77F3B9AC0E836B17ABAE9B739AD.e.389\")>, <selenium.webdriver.remote.webelement.WebElement (session=\"6baf1e91ee7009b57cbb597a1bb9e11f\", element=\"f.303ED80D28A2068DDADAAFC4F807D3C6.d.C149D77F3B9AC0E836B17ABAE9B739AD.e.425\")>, <selenium.webdriver.remote.webelement.WebElement (session=\"6baf1e91ee7009b57cbb597a1bb9e11f\", element=\"f.303ED80D28A2068DDADAAFC4F807D3C6.d.C149D77F3B9AC0E836B17ABAE9B739AD.e.461\")>, <selenium.webdriver.remote.webelement.WebElement (session=\"6baf1e91ee7009b57cbb597a1bb9e11f\", element=\"f.303ED80D28A2068DDADAAFC4F807D3C6.d.C149D77F3B9AC0E836B17ABAE9B739AD.e.497\")>, <selenium.webdriver.remote.webelement.WebElement (session=\"6baf1e91ee7009b57cbb597a1bb9e11f\", element=\"f.303ED80D28A2068DDADAAFC4F807D3C6.d.C149D77F3B9AC0E836B17ABAE9B739AD.e.533\")>, <selenium.webdriver.remote.webelement.WebElement (session=\"6baf1e91ee7009b57cbb597a1bb9e11f\", element=\"f.303ED80D28A2068DDADAAFC4F807D3C6.d.C149D77F3B9AC0E836B17ABAE9B739AD.e.569\")>) (<selenium.webdriver.remote.webelement.WebElement (session=\"6baf1e91ee7009b57cbb597a1bb9e11f\", element=\"f.303ED80D28A2068DDADAAFC4F807D3C6.d.C149D77F3B9AC0E836B17ABAE9B739AD.e.606\")>, <selenium.webdriver.remote.webelement.WebElement (session=\"6baf1e91ee7009b57cbb597a1bb9e11f\", element=\"f.303ED80D28A2068DDADAAFC4F807D3C6.d.C149D77F3B9AC0E836B17ABAE9B739AD.e.354\")>, <selenium.webdriver.remote.webelement.WebElement (session=\"6baf1e91ee7009b57cbb597a1bb9e11f\", element=\"f.303ED80D28A2068DDADAAFC4F807D3C6.d.C149D77F3B9AC0E836B17ABAE9B739AD.e.390\")>, <selenium.webdriver.remote.webelement.WebElement (session=\"6baf1e91ee7009b57cbb597a1bb9e11f\", element=\"f.303ED80D28A2068DDADAAFC4F807D3C6.d.C149D77F3B9AC0E836B17ABAE9B739AD.e.426\")>, <selenium.webdriver.remote.webelement.WebElement (session=\"6baf1e91ee7009b57cbb597a1bb9e11f\", element=\"f.303ED80D28A2068DDADAAFC4F807D3C6.d.C149D77F3B9AC0E836B17ABAE9B739AD.e.462\")>, <selenium.webdriver.remote.webelement.WebElement (session=\"6baf1e91ee7009b57cbb597a1bb9e11f\", element=\"f.303ED80D28A2068DDADAAFC4F807D3C6.d.C149D77F3B9AC0E836B17ABAE9B739AD.e.498\")>, <selenium.webdriver.remote.webelement.WebElement (session=\"6baf1e91ee7009b57cbb597a1bb9e11f\", element=\"f.303ED80D28A2068DDADAAFC4F807D3C6.d.C149D77F3B9AC0E836B17ABAE9B739AD.e.534\")>, <selenium.webdriver.remote.webelement.WebElement (session=\"6baf1e91ee7009b57cbb597a1bb9e11f\", element=\"f.303ED80D28A2068DDADAAFC4F807D3C6.d.C149D77F3B9AC0E836B17ABAE9B739AD.e.570\")>) (<selenium.webdriver.remote.webelement.WebElement (session=\"6baf1e91ee7009b57cbb597a1bb9e11f\", element=\"f.303ED80D28A2068DDADAAFC4F807D3C6.d.C149D77F3B9AC0E836B17ABAE9B739AD.e.607\")>, <selenium.webdriver.remote.webelement.WebElement (session=\"6baf1e91ee7009b57cbb597a1bb9e11f\", element=\"f.303ED80D28A2068DDADAAFC4F807D3C6.d.C149D77F3B9AC0E836B17ABAE9B739AD.e.355\")>, <selenium.webdriver.remote.webelement.WebElement (session=\"6baf1e91ee7009b57cbb597a1bb9e11f\", element=\"f.303ED80D28A2068DDADAAFC4F807D3C6.d.C149D77F3B9AC0E836B17ABAE9B739AD.e.391\")>, <selenium.webdriver.remote.webelement.WebElement (session=\"6baf1e91ee7009b57cbb597a1bb9e11f\", element=\"f.303ED80D28A2068DDADAAFC4F807D3C6.d.C149D77F3B9AC0E836B17ABAE9B739AD.e.427\")>, <selenium.webdriver.remote.webelement.WebElement (session=\"6baf1e91ee7009b57cbb597a1bb9e11f\", element=\"f.303ED80D28A2068DDADAAFC4F807D3C6.d.C149D77F3B9AC0E836B17ABAE9B739AD.e.463\")>, <selenium.webdriver.remote.webelement.WebElement (session=\"6baf1e91ee7009b57cbb597a1bb9e11f\", element=\"f.303ED80D28A2068DDADAAFC4F807D3C6.d.C149D77F3B9AC0E836B17ABAE9B739AD.e.499\")>, <selenium.webdriver.remote.webelement.WebElement (session=\"6baf1e91ee7009b57cbb597a1bb9e11f\", element=\"f.303ED80D28A2068DDADAAFC4F807D3C6.d.C149D77F3B9AC0E836B17ABAE9B739AD.e.535\")>, <selenium.webdriver.remote.webelement.WebElement (session=\"6baf1e91ee7009b57cbb597a1bb9e11f\", element=\"f.303ED80D28A2068DDADAAFC4F807D3C6.d.C149D77F3B9AC0E836B17ABAE9B739AD.e.571\")>) (<selenium.webdriver.remote.webelement.WebElement (session=\"6baf1e91ee7009b57cbb597a1bb9e11f\", element=\"f.303ED80D28A2068DDADAAFC4F807D3C6.d.C149D77F3B9AC0E836B17ABAE9B739AD.e.608\")>, <selenium.webdriver.remote.webelement.WebElement (session=\"6baf1e91ee7009b57cbb597a1bb9e11f\", element=\"f.303ED80D28A2068DDADAAFC4F807D3C6.d.C149D77F3B9AC0E836B17ABAE9B739AD.e.356\")>, <selenium.webdriver.remote.webelement.WebElement (session=\"6baf1e91ee7009b57cbb597a1bb9e11f\", element=\"f.303ED80D28A2068DDADAAFC4F807D3C6.d.C149D77F3B9AC0E836B17ABAE9B739AD.e.392\")>, <selenium.webdriver.remote.webelement.WebElement (session=\"6baf1e91ee7009b57cbb597a1bb9e11f\", element=\"f.303ED80D28A2068DDADAAFC4F807D3C6.d.C149D77F3B9AC0E836B17ABAE9B739AD.e.428\")>, <selenium.webdriver.remote.webelement.WebElement (session=\"6baf1e91ee7009b57cbb597a1bb9e11f\", element=\"f.303ED80D28A2068DDADAAFC4F807D3C6.d.C149D77F3B9AC0E836B17ABAE9B739AD.e.464\")>, <selenium.webdriver.remote.webelement.WebElement (session=\"6baf1e91ee7009b57cbb597a1bb9e11f\", element=\"f.303ED80D28A2068DDADAAFC4F807D3C6.d.C149D77F3B9AC0E836B17ABAE9B739AD.e.500\")>, <selenium.webdriver.remote.webelement.WebElement (session=\"6baf1e91ee7009b57cbb597a1bb9e11f\", element=\"f.303ED80D28A2068DDADAAFC4F807D3C6.d.C149D77F3B9AC0E836B17ABAE9B739AD.e.536\")>, <selenium.webdriver.remote.webelement.WebElement (session=\"6baf1e91ee7009b57cbb597a1bb9e11f\", element=\"f.303ED80D28A2068DDADAAFC4F807D3C6.d.C149D77F3B9AC0E836B17ABAE9B739AD.e.572\")>) (<selenium.webdriver.remote.webelement.WebElement (session=\"6baf1e91ee7009b57cbb597a1bb9e11f\", element=\"f.303ED80D28A2068DDADAAFC4F807D3C6.d.C149D77F3B9AC0E836B17ABAE9B739AD.e.609\")>, <selenium.webdriver.remote.webelement.WebElement (session=\"6baf1e91ee7009b57cbb597a1bb9e11f\", element=\"f.303ED80D28A2068DDADAAFC4F807D3C6.d.C149D77F3B9AC0E836B17ABAE9B739AD.e.357\")>, <selenium.webdriver.remote.webelement.WebElement (session=\"6baf1e91ee7009b57cbb597a1bb9e11f\", element=\"f.303ED80D28A2068DDADAAFC4F807D3C6.d.C149D77F3B9AC0E836B17ABAE9B739AD.e.393\")>, <selenium.webdriver.remote.webelement.WebElement (session=\"6baf1e91ee7009b57cbb597a1bb9e11f\", element=\"f.303ED80D28A2068DDADAAFC4F807D3C6.d.C149D77F3B9AC0E836B17ABAE9B739AD.e.429\")>, <selenium.webdriver.remote.webelement.WebElement (session=\"6baf1e91ee7009b57cbb597a1bb9e11f\", element=\"f.303ED80D28A2068DDADAAFC4F807D3C6.d.C149D77F3B9AC0E836B17ABAE9B739AD.e.465\")>, <selenium.webdriver.remote.webelement.WebElement (session=\"6baf1e91ee7009b57cbb597a1bb9e11f\", element=\"f.303ED80D28A2068DDADAAFC4F807D3C6.d.C149D77F3B9AC0E836B17ABAE9B739AD.e.501\")>, <selenium.webdriver.remote.webelement.WebElement (session=\"6baf1e91ee7009b57cbb597a1bb9e11f\", element=\"f.303ED80D28A2068DDADAAFC4F807D3C6.d.C149D77F3B9AC0E836B17ABAE9B739AD.e.537\")>, <selenium.webdriver.remote.webelement.WebElement (session=\"6baf1e91ee7009b57cbb597a1bb9e11f\", element=\"f.303ED80D28A2068DDADAAFC4F807D3C6.d.C149D77F3B9AC0E836B17ABAE9B739AD.e.573\")>) (<selenium.webdriver.remote.webelement.WebElement (session=\"6baf1e91ee7009b57cbb597a1bb9e11f\", element=\"f.303ED80D28A2068DDADAAFC4F807D3C6.d.C149D77F3B9AC0E836B17ABAE9B739AD.e.610\")>, <selenium.webdriver.remote.webelement.WebElement (session=\"6baf1e91ee7009b57cbb597a1bb9e11f\", element=\"f.303ED80D28A2068DDADAAFC4F807D3C6.d.C149D77F3B9AC0E836B17ABAE9B739AD.e.358\")>, <selenium.webdriver.remote.webelement.WebElement (session=\"6baf1e91ee7009b57cbb597a1bb9e11f\", element=\"f.303ED80D28A2068DDADAAFC4F807D3C6.d.C149D77F3B9AC0E836B17ABAE9B739AD.e.394\")>, <selenium.webdriver.remote.webelement.WebElement (session=\"6baf1e91ee7009b57cbb597a1bb9e11f\", element=\"f.303ED80D28A2068DDADAAFC4F807D3C6.d.C149D77F3B9AC0E836B17ABAE9B739AD.e.430\")>, <selenium.webdriver.remote.webelement.WebElement (session=\"6baf1e91ee7009b57cbb597a1bb9e11f\", element=\"f.303ED80D28A2068DDADAAFC4F807D3C6.d.C149D77F3B9AC0E836B17ABAE9B739AD.e.466\")>, <selenium.webdriver.remote.webelement.WebElement (session=\"6baf1e91ee7009b57cbb597a1bb9e11f\", element=\"f.303ED80D28A2068DDADAAFC4F807D3C6.d.C149D77F3B9AC0E836B17ABAE9B739AD.e.502\")>, <selenium.webdriver.remote.webelement.WebElement (session=\"6baf1e91ee7009b57cbb597a1bb9e11f\", element=\"f.303ED80D28A2068DDADAAFC4F807D3C6.d.C149D77F3B9AC0E836B17ABAE9B739AD.e.538\")>, <selenium.webdriver.remote.webelement.WebElement (session=\"6baf1e91ee7009b57cbb597a1bb9e11f\", element=\"f.303ED80D28A2068DDADAAFC4F807D3C6.d.C149D77F3B9AC0E836B17ABAE9B739AD.e.574\")>) (<selenium.webdriver.remote.webelement.WebElement (session=\"6baf1e91ee7009b57cbb597a1bb9e11f\", element=\"f.303ED80D28A2068DDADAAFC4F807D3C6.d.C149D77F3B9AC0E836B17ABAE9B739AD.e.611\")>, <selenium.webdriver.remote.webelement.WebElement (session=\"6baf1e91ee7009b57cbb597a1bb9e11f\", element=\"f.303ED80D28A2068DDADAAFC4F807D3C6.d.C149D77F3B9AC0E836B17ABAE9B739AD.e.359\")>, <selenium.webdriver.remote.webelement.WebElement (session=\"6baf1e91ee7009b57cbb597a1bb9e11f\", element=\"f.303ED80D28A2068DDADAAFC4F807D3C6.d.C149D77F3B9AC0E836B17ABAE9B739AD.e.395\")>, <selenium.webdriver.remote.webelement.WebElement (session=\"6baf1e91ee7009b57cbb597a1bb9e11f\", element=\"f.303ED80D28A2068DDADAAFC4F807D3C6.d.C149D77F3B9AC0E836B17ABAE9B739AD.e.431\")>, <selenium.webdriver.remote.webelement.WebElement (session=\"6baf1e91ee7009b57cbb597a1bb9e11f\", element=\"f.303ED80D28A2068DDADAAFC4F807D3C6.d.C149D77F3B9AC0E836B17ABAE9B739AD.e.467\")>, <selenium.webdriver.remote.webelement.WebElement (session=\"6baf1e91ee7009b57cbb597a1bb9e11f\", element=\"f.303ED80D28A2068DDADAAFC4F807D3C6.d.C149D77F3B9AC0E836B17ABAE9B739AD.e.503\")>, <selenium.webdriver.remote.webelement.WebElement (session=\"6baf1e91ee7009b57cbb597a1bb9e11f\", element=\"f.303ED80D28A2068DDADAAFC4F807D3C6.d.C149D77F3B9AC0E836B17ABAE9B739AD.e.539\")>, <selenium.webdriver.remote.webelement.WebElement (session=\"6baf1e91ee7009b57cbb597a1bb9e11f\", element=\"f.303ED80D28A2068DDADAAFC4F807D3C6.d.C149D77F3B9AC0E836B17ABAE9B739AD.e.575\")>) (<selenium.webdriver.remote.webelement.WebElement (session=\"6baf1e91ee7009b57cbb597a1bb9e11f\", element=\"f.303ED80D28A2068DDADAAFC4F807D3C6.d.C149D77F3B9AC0E836B17ABAE9B739AD.e.612\")>, <selenium.webdriver.remote.webelement.WebElement (session=\"6baf1e91ee7009b57cbb597a1bb9e11f\", element=\"f.303ED80D28A2068DDADAAFC4F807D3C6.d.C149D77F3B9AC0E836B17ABAE9B739AD.e.360\")>, <selenium.webdriver.remote.webelement.WebElement (session=\"6baf1e91ee7009b57cbb597a1bb9e11f\", element=\"f.303ED80D28A2068DDADAAFC4F807D3C6.d.C149D77F3B9AC0E836B17ABAE9B739AD.e.396\")>, <selenium.webdriver.remote.webelement.WebElement (session=\"6baf1e91ee7009b57cbb597a1bb9e11f\", element=\"f.303ED80D28A2068DDADAAFC4F807D3C6.d.C149D77F3B9AC0E836B17ABAE9B739AD.e.432\")>, <selenium.webdriver.remote.webelement.WebElement (session=\"6baf1e91ee7009b57cbb597a1bb9e11f\", element=\"f.303ED80D28A2068DDADAAFC4F807D3C6.d.C149D77F3B9AC0E836B17ABAE9B739AD.e.468\")>, <selenium.webdriver.remote.webelement.WebElement (session=\"6baf1e91ee7009b57cbb597a1bb9e11f\", element=\"f.303ED80D28A2068DDADAAFC4F807D3C6.d.C149D77F3B9AC0E836B17ABAE9B739AD.e.504\")>, <selenium.webdriver.remote.webelement.WebElement (session=\"6baf1e91ee7009b57cbb597a1bb9e11f\", element=\"f.303ED80D28A2068DDADAAFC4F807D3C6.d.C149D77F3B9AC0E836B17ABAE9B739AD.e.540\")>, <selenium.webdriver.remote.webelement.WebElement (session=\"6baf1e91ee7009b57cbb597a1bb9e11f\", element=\"f.303ED80D28A2068DDADAAFC4F807D3C6.d.C149D77F3B9AC0E836B17ABAE9B739AD.e.576\")>) (<selenium.webdriver.remote.webelement.WebElement (session=\"6baf1e91ee7009b57cbb597a1bb9e11f\", element=\"f.303ED80D28A2068DDADAAFC4F807D3C6.d.C149D77F3B9AC0E836B17ABAE9B739AD.e.613\")>, <selenium.webdriver.remote.webelement.WebElement (session=\"6baf1e91ee7009b57cbb597a1bb9e11f\", element=\"f.303ED80D28A2068DDADAAFC4F807D3C6.d.C149D77F3B9AC0E836B17ABAE9B739AD.e.361\")>, <selenium.webdriver.remote.webelement.WebElement (session=\"6baf1e91ee7009b57cbb597a1bb9e11f\", element=\"f.303ED80D28A2068DDADAAFC4F807D3C6.d.C149D77F3B9AC0E836B17ABAE9B739AD.e.397\")>, <selenium.webdriver.remote.webelement.WebElement (session=\"6baf1e91ee7009b57cbb597a1bb9e11f\", element=\"f.303ED80D28A2068DDADAAFC4F807D3C6.d.C149D77F3B9AC0E836B17ABAE9B739AD.e.433\")>, <selenium.webdriver.remote.webelement.WebElement (session=\"6baf1e91ee7009b57cbb597a1bb9e11f\", element=\"f.303ED80D28A2068DDADAAFC4F807D3C6.d.C149D77F3B9AC0E836B17ABAE9B739AD.e.469\")>, <selenium.webdriver.remote.webelement.WebElement (session=\"6baf1e91ee7009b57cbb597a1bb9e11f\", element=\"f.303ED80D28A2068DDADAAFC4F807D3C6.d.C149D77F3B9AC0E836B17ABAE9B739AD.e.505\")>, <selenium.webdriver.remote.webelement.WebElement (session=\"6baf1e91ee7009b57cbb597a1bb9e11f\", element=\"f.303ED80D28A2068DDADAAFC4F807D3C6.d.C149D77F3B9AC0E836B17ABAE9B739AD.e.541\")>, <selenium.webdriver.remote.webelement.WebElement (session=\"6baf1e91ee7009b57cbb597a1bb9e11f\", element=\"f.303ED80D28A2068DDADAAFC4F807D3C6.d.C149D77F3B9AC0E836B17ABAE9B739AD.e.577\")>) (<selenium.webdriver.remote.webelement.WebElement (session=\"6baf1e91ee7009b57cbb597a1bb9e11f\", element=\"f.303ED80D28A2068DDADAAFC4F807D3C6.d.C149D77F3B9AC0E836B17ABAE9B739AD.e.614\")>, <selenium.webdriver.remote.webelement.WebElement (session=\"6baf1e91ee7009b57cbb597a1bb9e11f\", element=\"f.303ED80D28A2068DDADAAFC4F807D3C6.d.C149D77F3B9AC0E836B17ABAE9B739AD.e.362\")>, <selenium.webdriver.remote.webelement.WebElement (session=\"6baf1e91ee7009b57cbb597a1bb9e11f\", element=\"f.303ED80D28A2068DDADAAFC4F807D3C6.d.C149D77F3B9AC0E836B17ABAE9B739AD.e.398\")>, <selenium.webdriver.remote.webelement.WebElement (session=\"6baf1e91ee7009b57cbb597a1bb9e11f\", element=\"f.303ED80D28A2068DDADAAFC4F807D3C6.d.C149D77F3B9AC0E836B17ABAE9B739AD.e.434\")>, <selenium.webdriver.remote.webelement.WebElement (session=\"6baf1e91ee7009b57cbb597a1bb9e11f\", element=\"f.303ED80D28A2068DDADAAFC4F807D3C6.d.C149D77F3B9AC0E836B17ABAE9B739AD.e.470\")>, <selenium.webdriver.remote.webelement.WebElement (session=\"6baf1e91ee7009b57cbb597a1bb9e11f\", element=\"f.303ED80D28A2068DDADAAFC4F807D3C6.d.C149D77F3B9AC0E836B17ABAE9B739AD.e.506\")>, <selenium.webdriver.remote.webelement.WebElement (session=\"6baf1e91ee7009b57cbb597a1bb9e11f\", element=\"f.303ED80D28A2068DDADAAFC4F807D3C6.d.C149D77F3B9AC0E836B17ABAE9B739AD.e.542\")>, <selenium.webdriver.remote.webelement.WebElement (session=\"6baf1e91ee7009b57cbb597a1bb9e11f\", element=\"f.303ED80D28A2068DDADAAFC4F807D3C6.d.C149D77F3B9AC0E836B17ABAE9B739AD.e.578\")>) (<selenium.webdriver.remote.webelement.WebElement (session=\"6baf1e91ee7009b57cbb597a1bb9e11f\", element=\"f.303ED80D28A2068DDADAAFC4F807D3C6.d.C149D77F3B9AC0E836B17ABAE9B739AD.e.615\")>, <selenium.webdriver.remote.webelement.WebElement (session=\"6baf1e91ee7009b57cbb597a1bb9e11f\", element=\"f.303ED80D28A2068DDADAAFC4F807D3C6.d.C149D77F3B9AC0E836B17ABAE9B739AD.e.363\")>, <selenium.webdriver.remote.webelement.WebElement (session=\"6baf1e91ee7009b57cbb597a1bb9e11f\", element=\"f.303ED80D28A2068DDADAAFC4F807D3C6.d.C149D77F3B9AC0E836B17ABAE9B739AD.e.399\")>, <selenium.webdriver.remote.webelement.WebElement (session=\"6baf1e91ee7009b57cbb597a1bb9e11f\", element=\"f.303ED80D28A2068DDADAAFC4F807D3C6.d.C149D77F3B9AC0E836B17ABAE9B739AD.e.435\")>, <selenium.webdriver.remote.webelement.WebElement (session=\"6baf1e91ee7009b57cbb597a1bb9e11f\", element=\"f.303ED80D28A2068DDADAAFC4F807D3C6.d.C149D77F3B9AC0E836B17ABAE9B739AD.e.471\")>, <selenium.webdriver.remote.webelement.WebElement (session=\"6baf1e91ee7009b57cbb597a1bb9e11f\", element=\"f.303ED80D28A2068DDADAAFC4F807D3C6.d.C149D77F3B9AC0E836B17ABAE9B739AD.e.507\")>, <selenium.webdriver.remote.webelement.WebElement (session=\"6baf1e91ee7009b57cbb597a1bb9e11f\", element=\"f.303ED80D28A2068DDADAAFC4F807D3C6.d.C149D77F3B9AC0E836B17ABAE9B739AD.e.543\")>, <selenium.webdriver.remote.webelement.WebElement (session=\"6baf1e91ee7009b57cbb597a1bb9e11f\", element=\"f.303ED80D28A2068DDADAAFC4F807D3C6.d.C149D77F3B9AC0E836B17ABAE9B739AD.e.579\")>) (<selenium.webdriver.remote.webelement.WebElement (session=\"6baf1e91ee7009b57cbb597a1bb9e11f\", element=\"f.303ED80D28A2068DDADAAFC4F807D3C6.d.C149D77F3B9AC0E836B17ABAE9B739AD.e.616\")>, <selenium.webdriver.remote.webelement.WebElement (session=\"6baf1e91ee7009b57cbb597a1bb9e11f\", element=\"f.303ED80D28A2068DDADAAFC4F807D3C6.d.C149D77F3B9AC0E836B17ABAE9B739AD.e.364\")>, <selenium.webdriver.remote.webelement.WebElement (session=\"6baf1e91ee7009b57cbb597a1bb9e11f\", element=\"f.303ED80D28A2068DDADAAFC4F807D3C6.d.C149D77F3B9AC0E836B17ABAE9B739AD.e.400\")>, <selenium.webdriver.remote.webelement.WebElement (session=\"6baf1e91ee7009b57cbb597a1bb9e11f\", element=\"f.303ED80D28A2068DDADAAFC4F807D3C6.d.C149D77F3B9AC0E836B17ABAE9B739AD.e.436\")>, <selenium.webdriver.remote.webelement.WebElement (session=\"6baf1e91ee7009b57cbb597a1bb9e11f\", element=\"f.303ED80D28A2068DDADAAFC4F807D3C6.d.C149D77F3B9AC0E836B17ABAE9B739AD.e.472\")>, <selenium.webdriver.remote.webelement.WebElement (session=\"6baf1e91ee7009b57cbb597a1bb9e11f\", element=\"f.303ED80D28A2068DDADAAFC4F807D3C6.d.C149D77F3B9AC0E836B17ABAE9B739AD.e.508\")>, <selenium.webdriver.remote.webelement.WebElement (session=\"6baf1e91ee7009b57cbb597a1bb9e11f\", element=\"f.303ED80D28A2068DDADAAFC4F807D3C6.d.C149D77F3B9AC0E836B17ABAE9B739AD.e.544\")>, <selenium.webdriver.remote.webelement.WebElement (session=\"6baf1e91ee7009b57cbb597a1bb9e11f\", element=\"f.303ED80D28A2068DDADAAFC4F807D3C6.d.C149D77F3B9AC0E836B17ABAE9B739AD.e.580\")>) (<selenium.webdriver.remote.webelement.WebElement (session=\"6baf1e91ee7009b57cbb597a1bb9e11f\", element=\"f.303ED80D28A2068DDADAAFC4F807D3C6.d.C149D77F3B9AC0E836B17ABAE9B739AD.e.617\")>, <selenium.webdriver.remote.webelement.WebElement (session=\"6baf1e91ee7009b57cbb597a1bb9e11f\", element=\"f.303ED80D28A2068DDADAAFC4F807D3C6.d.C149D77F3B9AC0E836B17ABAE9B739AD.e.365\")>, <selenium.webdriver.remote.webelement.WebElement (session=\"6baf1e91ee7009b57cbb597a1bb9e11f\", element=\"f.303ED80D28A2068DDADAAFC4F807D3C6.d.C149D77F3B9AC0E836B17ABAE9B739AD.e.401\")>, <selenium.webdriver.remote.webelement.WebElement (session=\"6baf1e91ee7009b57cbb597a1bb9e11f\", element=\"f.303ED80D28A2068DDADAAFC4F807D3C6.d.C149D77F3B9AC0E836B17ABAE9B739AD.e.437\")>, <selenium.webdriver.remote.webelement.WebElement (session=\"6baf1e91ee7009b57cbb597a1bb9e11f\", element=\"f.303ED80D28A2068DDADAAFC4F807D3C6.d.C149D77F3B9AC0E836B17ABAE9B739AD.e.473\")>, <selenium.webdriver.remote.webelement.WebElement (session=\"6baf1e91ee7009b57cbb597a1bb9e11f\", element=\"f.303ED80D28A2068DDADAAFC4F807D3C6.d.C149D77F3B9AC0E836B17ABAE9B739AD.e.509\")>, <selenium.webdriver.remote.webelement.WebElement (session=\"6baf1e91ee7009b57cbb597a1bb9e11f\", element=\"f.303ED80D28A2068DDADAAFC4F807D3C6.d.C149D77F3B9AC0E836B17ABAE9B739AD.e.545\")>, <selenium.webdriver.remote.webelement.WebElement (session=\"6baf1e91ee7009b57cbb597a1bb9e11f\", element=\"f.303ED80D28A2068DDADAAFC4F807D3C6.d.C149D77F3B9AC0E836B17ABAE9B739AD.e.581\")>) (<selenium.webdriver.remote.webelement.WebElement (session=\"6baf1e91ee7009b57cbb597a1bb9e11f\", element=\"f.303ED80D28A2068DDADAAFC4F807D3C6.d.C149D77F3B9AC0E836B17ABAE9B739AD.e.618\")>, <selenium.webdriver.remote.webelement.WebElement (session=\"6baf1e91ee7009b57cbb597a1bb9e11f\", element=\"f.303ED80D28A2068DDADAAFC4F807D3C6.d.C149D77F3B9AC0E836B17ABAE9B739AD.e.366\")>, <selenium.webdriver.remote.webelement.WebElement (session=\"6baf1e91ee7009b57cbb597a1bb9e11f\", element=\"f.303ED80D28A2068DDADAAFC4F807D3C6.d.C149D77F3B9AC0E836B17ABAE9B739AD.e.402\")>, <selenium.webdriver.remote.webelement.WebElement (session=\"6baf1e91ee7009b57cbb597a1bb9e11f\", element=\"f.303ED80D28A2068DDADAAFC4F807D3C6.d.C149D77F3B9AC0E836B17ABAE9B739AD.e.438\")>, <selenium.webdriver.remote.webelement.WebElement (session=\"6baf1e91ee7009b57cbb597a1bb9e11f\", element=\"f.303ED80D28A2068DDADAAFC4F807D3C6.d.C149D77F3B9AC0E836B17ABAE9B739AD.e.474\")>, <selenium.webdriver.remote.webelement.WebElement (session=\"6baf1e91ee7009b57cbb597a1bb9e11f\", element=\"f.303ED80D28A2068DDADAAFC4F807D3C6.d.C149D77F3B9AC0E836B17ABAE9B739AD.e.510\")>, <selenium.webdriver.remote.webelement.WebElement (session=\"6baf1e91ee7009b57cbb597a1bb9e11f\", element=\"f.303ED80D28A2068DDADAAFC4F807D3C6.d.C149D77F3B9AC0E836B17ABAE9B739AD.e.546\")>, <selenium.webdriver.remote.webelement.WebElement (session=\"6baf1e91ee7009b57cbb597a1bb9e11f\", element=\"f.303ED80D28A2068DDADAAFC4F807D3C6.d.C149D77F3B9AC0E836B17ABAE9B739AD.e.582\")>) (<selenium.webdriver.remote.webelement.WebElement (session=\"6baf1e91ee7009b57cbb597a1bb9e11f\", element=\"f.303ED80D28A2068DDADAAFC4F807D3C6.d.C149D77F3B9AC0E836B17ABAE9B739AD.e.619\")>, <selenium.webdriver.remote.webelement.WebElement (session=\"6baf1e91ee7009b57cbb597a1bb9e11f\", element=\"f.303ED80D28A2068DDADAAFC4F807D3C6.d.C149D77F3B9AC0E836B17ABAE9B739AD.e.367\")>, <selenium.webdriver.remote.webelement.WebElement (session=\"6baf1e91ee7009b57cbb597a1bb9e11f\", element=\"f.303ED80D28A2068DDADAAFC4F807D3C6.d.C149D77F3B9AC0E836B17ABAE9B739AD.e.403\")>, <selenium.webdriver.remote.webelement.WebElement (session=\"6baf1e91ee7009b57cbb597a1bb9e11f\", element=\"f.303ED80D28A2068DDADAAFC4F807D3C6.d.C149D77F3B9AC0E836B17ABAE9B739AD.e.439\")>, <selenium.webdriver.remote.webelement.WebElement (session=\"6baf1e91ee7009b57cbb597a1bb9e11f\", element=\"f.303ED80D28A2068DDADAAFC4F807D3C6.d.C149D77F3B9AC0E836B17ABAE9B739AD.e.475\")>, <selenium.webdriver.remote.webelement.WebElement (session=\"6baf1e91ee7009b57cbb597a1bb9e11f\", element=\"f.303ED80D28A2068DDADAAFC4F807D3C6.d.C149D77F3B9AC0E836B17ABAE9B739AD.e.511\")>, <selenium.webdriver.remote.webelement.WebElement (session=\"6baf1e91ee7009b57cbb597a1bb9e11f\", element=\"f.303ED80D28A2068DDADAAFC4F807D3C6.d.C149D77F3B9AC0E836B17ABAE9B739AD.e.547\")>, <selenium.webdriver.remote.webelement.WebElement (session=\"6baf1e91ee7009b57cbb597a1bb9e11f\", element=\"f.303ED80D28A2068DDADAAFC4F807D3C6.d.C149D77F3B9AC0E836B17ABAE9B739AD.e.583\")>) (<selenium.webdriver.remote.webelement.WebElement (session=\"6baf1e91ee7009b57cbb597a1bb9e11f\", element=\"f.303ED80D28A2068DDADAAFC4F807D3C6.d.C149D77F3B9AC0E836B17ABAE9B739AD.e.620\")>, <selenium.webdriver.remote.webelement.WebElement (session=\"6baf1e91ee7009b57cbb597a1bb9e11f\", element=\"f.303ED80D28A2068DDADAAFC4F807D3C6.d.C149D77F3B9AC0E836B17ABAE9B739AD.e.368\")>, <selenium.webdriver.remote.webelement.WebElement (session=\"6baf1e91ee7009b57cbb597a1bb9e11f\", element=\"f.303ED80D28A2068DDADAAFC4F807D3C6.d.C149D77F3B9AC0E836B17ABAE9B739AD.e.404\")>, <selenium.webdriver.remote.webelement.WebElement (session=\"6baf1e91ee7009b57cbb597a1bb9e11f\", element=\"f.303ED80D28A2068DDADAAFC4F807D3C6.d.C149D77F3B9AC0E836B17ABAE9B739AD.e.440\")>, <selenium.webdriver.remote.webelement.WebElement (session=\"6baf1e91ee7009b57cbb597a1bb9e11f\", element=\"f.303ED80D28A2068DDADAAFC4F807D3C6.d.C149D77F3B9AC0E836B17ABAE9B739AD.e.476\")>, <selenium.webdriver.remote.webelement.WebElement (session=\"6baf1e91ee7009b57cbb597a1bb9e11f\", element=\"f.303ED80D28A2068DDADAAFC4F807D3C6.d.C149D77F3B9AC0E836B17ABAE9B739AD.e.512\")>, <selenium.webdriver.remote.webelement.WebElement (session=\"6baf1e91ee7009b57cbb597a1bb9e11f\", element=\"f.303ED80D28A2068DDADAAFC4F807D3C6.d.C149D77F3B9AC0E836B17ABAE9B739AD.e.548\")>, <selenium.webdriver.remote.webelement.WebElement (session=\"6baf1e91ee7009b57cbb597a1bb9e11f\", element=\"f.303ED80D28A2068DDADAAFC4F807D3C6.d.C149D77F3B9AC0E836B17ABAE9B739AD.e.584\")>) (<selenium.webdriver.remote.webelement.WebElement (session=\"6baf1e91ee7009b57cbb597a1bb9e11f\", element=\"f.303ED80D28A2068DDADAAFC4F807D3C6.d.C149D77F3B9AC0E836B17ABAE9B739AD.e.621\")>, <selenium.webdriver.remote.webelement.WebElement (session=\"6baf1e91ee7009b57cbb597a1bb9e11f\", element=\"f.303ED80D28A2068DDADAAFC4F807D3C6.d.C149D77F3B9AC0E836B17ABAE9B739AD.e.369\")>, <selenium.webdriver.remote.webelement.WebElement (session=\"6baf1e91ee7009b57cbb597a1bb9e11f\", element=\"f.303ED80D28A2068DDADAAFC4F807D3C6.d.C149D77F3B9AC0E836B17ABAE9B739AD.e.405\")>, <selenium.webdriver.remote.webelement.WebElement (session=\"6baf1e91ee7009b57cbb597a1bb9e11f\", element=\"f.303ED80D28A2068DDADAAFC4F807D3C6.d.C149D77F3B9AC0E836B17ABAE9B739AD.e.441\")>, <selenium.webdriver.remote.webelement.WebElement (session=\"6baf1e91ee7009b57cbb597a1bb9e11f\", element=\"f.303ED80D28A2068DDADAAFC4F807D3C6.d.C149D77F3B9AC0E836B17ABAE9B739AD.e.477\")>, <selenium.webdriver.remote.webelement.WebElement (session=\"6baf1e91ee7009b57cbb597a1bb9e11f\", element=\"f.303ED80D28A2068DDADAAFC4F807D3C6.d.C149D77F3B9AC0E836B17ABAE9B739AD.e.513\")>, <selenium.webdriver.remote.webelement.WebElement (session=\"6baf1e91ee7009b57cbb597a1bb9e11f\", element=\"f.303ED80D28A2068DDADAAFC4F807D3C6.d.C149D77F3B9AC0E836B17ABAE9B739AD.e.549\")>, <selenium.webdriver.remote.webelement.WebElement (session=\"6baf1e91ee7009b57cbb597a1bb9e11f\", element=\"f.303ED80D28A2068DDADAAFC4F807D3C6.d.C149D77F3B9AC0E836B17ABAE9B739AD.e.585\")>) (<selenium.webdriver.remote.webelement.WebElement (session=\"6baf1e91ee7009b57cbb597a1bb9e11f\", element=\"f.303ED80D28A2068DDADAAFC4F807D3C6.d.C149D77F3B9AC0E836B17ABAE9B739AD.e.622\")>, <selenium.webdriver.remote.webelement.WebElement (session=\"6baf1e91ee7009b57cbb597a1bb9e11f\", element=\"f.303ED80D28A2068DDADAAFC4F807D3C6.d.C149D77F3B9AC0E836B17ABAE9B739AD.e.370\")>, <selenium.webdriver.remote.webelement.WebElement (session=\"6baf1e91ee7009b57cbb597a1bb9e11f\", element=\"f.303ED80D28A2068DDADAAFC4F807D3C6.d.C149D77F3B9AC0E836B17ABAE9B739AD.e.406\")>, <selenium.webdriver.remote.webelement.WebElement (session=\"6baf1e91ee7009b57cbb597a1bb9e11f\", element=\"f.303ED80D28A2068DDADAAFC4F807D3C6.d.C149D77F3B9AC0E836B17ABAE9B739AD.e.442\")>, <selenium.webdriver.remote.webelement.WebElement (session=\"6baf1e91ee7009b57cbb597a1bb9e11f\", element=\"f.303ED80D28A2068DDADAAFC4F807D3C6.d.C149D77F3B9AC0E836B17ABAE9B739AD.e.478\")>, <selenium.webdriver.remote.webelement.WebElement (session=\"6baf1e91ee7009b57cbb597a1bb9e11f\", element=\"f.303ED80D28A2068DDADAAFC4F807D3C6.d.C149D77F3B9AC0E836B17ABAE9B739AD.e.514\")>, <selenium.webdriver.remote.webelement.WebElement (session=\"6baf1e91ee7009b57cbb597a1bb9e11f\", element=\"f.303ED80D28A2068DDADAAFC4F807D3C6.d.C149D77F3B9AC0E836B17ABAE9B739AD.e.550\")>, <selenium.webdriver.remote.webelement.WebElement (session=\"6baf1e91ee7009b57cbb597a1bb9e11f\", element=\"f.303ED80D28A2068DDADAAFC4F807D3C6.d.C149D77F3B9AC0E836B17ABAE9B739AD.e.586\")>)\n"
     ]
    }
   ],
   "source": [
    "print(*zip(urls, nome_apartamentos, precos, enderecos_apartamentos, metragem,  quartos, banheiros, garagens))"
   ]
  },
  {
   "cell_type": "code",
   "execution_count": 25,
   "metadata": {},
   "outputs": [
    {
     "data": {
      "text/plain": [
       "376"
      ]
     },
     "execution_count": 25,
     "metadata": {},
     "output_type": "execute_result"
    }
   ],
   "source": [
    "sys.getsizeof(casas)"
   ]
  },
  {
   "cell_type": "code",
   "execution_count": 45,
   "metadata": {},
   "outputs": [
    {
     "name": "stdout",
     "output_type": "stream",
     "text": [
      "Tempo decorrido: -37.37085580825806 segundos\n"
     ]
    }
   ],
   "source": [
    "import time\n",
    "\n",
    "# Começa a medir o tempo\n",
    "start_time = time.time()\n",
    "\n",
    "# Seu código aqui...\n",
    "casas = []\n",
    "for chave, (nome_apartamento, preco) in enumerate(zip(nome_apartamentos, precos)):\n",
    "    dc_casas = {}\n",
    "    dc_casas['apartamento'] = nome_apartamento.text\n",
    "    dc_casas['preco'] = preco.text\n",
    "    casas.append(dc_casas)\n",
    "\n",
    "elapsed_time = end_time - start_time\n",
    "\n",
    "print(f\"Tempo decorrido: {elapsed_time} segundos\")\n"
   ]
  },
  {
   "cell_type": "code",
   "execution_count": 9,
   "metadata": {},
   "outputs": [
    {
     "name": "stdout",
     "output_type": "stream",
     "text": [
      "2 Quartos\n",
      "3 Quartos\n",
      "3 Quartos\n",
      "2 Quartos\n",
      "3 Quartos\n",
      "3 Quartos\n",
      "3 Quartos\n",
      "2 Quartos\n",
      "2 Quartos\n",
      "2 Quartos\n",
      "2 Quartos\n",
      "2 Quartos\n",
      "2 Quartos\n",
      "2 Quartos\n",
      "1 Quarto\n",
      "2 Quartos\n",
      "1 Quarto\n",
      "2 Quartos\n",
      "3 Quartos\n",
      "3 Quartos\n",
      "2 Quartos\n",
      "3 Quartos\n",
      "3 Quartos\n",
      "2 Quartos\n",
      "1 Quarto\n",
      "3 Quartos\n",
      "1 Quarto\n",
      "2 Quartos\n",
      "2 Quartos\n",
      "2 Quartos\n",
      "1 Quarto\n",
      "2 Quartos\n",
      "2 Quartos\n",
      "2 Quartos\n",
      "2 Quartos\n",
      "3 Quartos\n"
     ]
    }
   ],
   "source": [
    "for quarto in quartos:\n",
    "    print(quarto.text)"
   ]
  },
  {
   "cell_type": "code",
   "execution_count": 10,
   "metadata": {},
   "outputs": [
    {
     "name": "stdout",
     "output_type": "stream",
     "text": [
      "['Via João Batista Santanna ', ' Bonfim Paulista, Ribeirão Preto ', ' SP'] 3\n",
      "['Rua Waldomiro Corrêa da Silva ', ' Jardim Botânico, Ribeirão Preto ', ' SP'] 3\n",
      "['Rua José Arigó, 1893 ', ' Residencial e Comercial Palmares, Ribeirão Preto ', ' SP'] 3\n",
      "['Vila Amélia, Ribeirão Preto ', ' SP'] 2\n",
      "['Rua Antônio Luiz Fracasso, 145 ', ' Residencial e Comercial Palmares, Ribeirão Preto ', ' SP'] 3\n",
      "['Rua Padre Euclides, 301 ', ' Campos Eliseos, Ribeirão Preto ', ' SP'] 3\n",
      "['Jardim América, Ribeirão Preto ', ' SP'] 2\n",
      "['Rua Joaquim de Souza Melo ', ' Jardim Presidente Medici, Ribeirão Preto ', ' SP'] 3\n",
      "['Reserva Real, Ribeirão Preto ', ' SP'] 2\n",
      "['Parque dos Servidores, Ribeirão Preto ', ' SP'] 2\n",
      "['Praça Fioravante Fiorotto, 160 ', ' Jardim Botânico, Ribeirão Preto ', ' SP'] 3\n",
      "['Jardim Diva Tarla de Carvalho, Ribeirão Preto ', ' SP'] 2\n",
      "['Ipiranga, Ribeirão Preto ', ' SP'] 2\n",
      "['Jardim Diva Tarla de Carvalho, Ribeirão Preto ', ' SP'] 2\n",
      "['Jardim Maria Goretti, Ribeirão Preto ', ' SP'] 2\n",
      "['Bonfim Paulista, Ribeirão Preto ', ' SP'] 2\n",
      "['Rua Américo Brasiliense, 1838 ', ' Vila Seixas, Ribeirão Preto ', ' SP'] 3\n",
      "['Rua Amador Bueno, 1151 ', ' Centro, Ribeirão Preto ', ' SP'] 3\n",
      "['Rua Duque de Caxias, 1158 ', ' Centro, Ribeirão Preto ', ' SP'] 3\n",
      "['Higienópolis, Ribeirão Preto ', ' SP'] 2\n",
      "['Reserva Sul Condomínio Resort, Ribeirão Preto ', ' SP'] 2\n",
      "['Rua Severiano Amaro dos Santos ', ' Bosque das Juritis, Ribeirão Preto ', ' SP'] 3\n",
      "['Rua Rui Barbosa ', ' Higienópolis, Ribeirão Preto ', ' SP'] 3\n",
      "['Rua Vicente Urbano, 100 ', ' Residencial Greenville, Ribeirão Preto ', ' SP'] 3\n",
      "['Rua Irene Toniolli Domench, 80 ', ' Jardim Nova Aliança Sul, Ribeirão Preto ', ' SP'] 3\n",
      "['Avenida Caramuru ', ' Jardim Sumare, Ribeirão Preto ', ' SP'] 3\n",
      "['Jardim Botânico, Ribeirão Preto ', ' SP'] 2\n",
      "['Rua Doutor Antônio Carlos Tinoco ', ' Jardim Anhanguéra, Ribeirão Preto ', ' SP'] 3\n",
      "['Jardim Botânico, Ribeirão Preto ', ' SP'] 2\n",
      "['Condominio Mirante Sul, Ribeirão Preto ', ' SP'] 2\n",
      "['Centro, Ribeirão Preto ', ' SP'] 2\n",
      "['Parque Industrial Lagoinha, Ribeirão Preto ', ' SP'] 2\n",
      "['Jardim Botânico, Ribeirão Preto ', ' SP'] 2\n",
      "['Rua Barão do Amazonas, 2339 ', ' Jardim Sumare, Ribeirão Preto ', ' SP'] 3\n",
      "['Rua Flório de Souza Coelho ', ' Jardim João Rossi, Ribeirão Preto ', ' SP'] 3\n",
      "['Centro, Ribeirão Preto ', ' SP'] 2\n"
     ]
    }
   ],
   "source": [
    "\n",
    "for  endereco in ( enderecos_apartamentos):\n",
    "    print(endereco.text.split('-'), len(endereco.text.split('-')))\n",
    " "
   ]
  },
  {
   "cell_type": "code",
   "execution_count": 80,
   "metadata": {},
   "outputs": [
    {
     "data": {
      "text/plain": [
       "36"
      ]
     },
     "execution_count": 80,
     "metadata": {},
     "output_type": "execute_result"
    }
   ],
   "source": [
    "lista_ids = navegador.find_elements(By.CLASS_NAME, 'property-card__content-link')\n",
    "len(lista_ids)"
   ]
  },
  {
   "cell_type": "code",
   "execution_count": 81,
   "metadata": {},
   "outputs": [
    {
     "name": "stdout",
     "output_type": "stream",
     "text": [
      "https://www.vivareal.com.br/imovel/apartamento-2-quartos-alto-da-boa-vista-bairros-ribeirao-preto-com-garagem-67m2-venda-RS375000-id-2698675885/\n",
      "https://www.vivareal.com.br/imoveis-lancamento/reserva-direcional-jardim-botanico-2689332217/\n",
      "https://www.vivareal.com.br/imovel/apartamento-2-quartos-jardim-paulistano-bairros-ribeirao-preto-com-garagem-97m2-venda-RS380000-id-2698074219/\n",
      "https://www.vivareal.com.br/imovel/apartamento-2-quartos-vila-maria-luiza-bairros-ribeirao-preto-com-garagem-65m2-venda-RS265000-id-2506997628/\n",
      "https://www.vivareal.com.br/imovel/apartamento-2-quartos-jardim-santa-cecilia-bairros-ribeirao-preto-com-garagem-48m2-venda-RS104652-id-2697953996/\n",
      "https://www.vivareal.com.br/imovel/apartamento-2-quartos-parque-sao-sebastiao-bairros-ribeirao-preto-com-garagem-47m2-venda-RS135000-id-2698133075/\n",
      "https://www.vivareal.com.br/imovel/apartamento-3-quartos-parque-anhanguera-bairros-ribeirao-preto-com-garagem-88m2-venda-RS289000-id-2691000070/\n",
      "https://www.vivareal.com.br/imovel/apartamento-2-quartos-parque-sao-sebastiao-bairros-ribeirao-preto-com-garagem-56m2-venda-RS250000-id-2667763555/\n",
      "https://www.vivareal.com.br/imoveis-lancamento/rimini-2543051149/\n",
      "https://www.vivareal.com.br/imovel/apartamento-3-quartos-parque-dos-bandeirantes-bairros-ribeirao-preto-com-garagem-84m2-venda-RS279000-id-2698117878/\n",
      "https://www.vivareal.com.br/imovel/apartamento-2-quartos-sumarezinho-bairros-ribeirao-preto-com-garagem-63m2-venda-RS258000-id-2687126313/\n",
      "https://www.vivareal.com.br/imovel/apartamento-2-quartos-ipiranga-bairros-ribeirao-preto-com-garagem-63m2-venda-RS285000-id-2667765106/\n",
      "https://www.vivareal.com.br/imovel/apartamento-3-quartos-residencial-e-comercial-palmares-bairros-ribeirao-preto-com-garagem-80m2-venda-RS277000-id-2662549031/\n",
      "https://www.vivareal.com.br/imovel/apartamento-2-quartos-ribeirania-bairros-ribeirao-preto-com-garagem-67m2-venda-RS379990-id-2698089780/\n",
      "https://www.vivareal.com.br/imovel/apartamento-2-quartos-jardim-ouro-branco-bairros-ribeirao-preto-com-garagem-41m2-venda-RS131307-id-2698244377/\n",
      "https://www.vivareal.com.br/imoveis-lancamento/blend-one-2551709890/\n",
      "https://www.vivareal.com.br/imovel/apartamento-1-quartos-jardim-recreio-bairros-ribeirao-preto-com-garagem-45m2-venda-RS249000-id-2698590386/\n",
      "https://www.vivareal.com.br/imovel/apartamento-2-quartos-jardim-botanico-bairros-ribeirao-preto-com-garagem-80m2-venda-RS360000-id-2698511584/\n",
      "https://www.vivareal.com.br/imovel/apartamento-3-quartos-jardim-palma-travassos-bairros-ribeirao-preto-com-garagem-120m2-venda-RS385000-id-2558224710/\n",
      "https://www.vivareal.com.br/imovel/apartamento-3-quartos-lagoinha-bairros-ribeirao-preto-com-garagem-67m2-venda-RS210000-id-1041907725/\n",
      "https://www.vivareal.com.br/imovel/apartamento-2-quartos-sumarezinho-bairros-ribeirao-preto-com-garagem-65m2-venda-RS265000-id-2568307742/\n",
      "https://www.vivareal.com.br/imovel/apartamento-2-quartos-jardim-paulistano-bairros-ribeirao-preto-com-garagem-54m2-venda-RS189000-id-2696264898/\n",
      "https://www.vivareal.com.br/imoveis-lancamento/portal-alto-das-oliveiras-2613485694/\n",
      "https://www.vivareal.com.br/imovel/apartamento-2-quartos-recanto-das-palmeiras-bairros-ribeirao-preto-com-garagem-42m2-venda-RS161037-id-2698238698/\n",
      "https://www.vivareal.com.br/imovel/apartamento-2-quartos-jardim-botanico-bairros-ribeirao-preto-com-garagem-65m2-venda-RS350000-id-2698193573/\n",
      "https://www.vivareal.com.br/imovel/apartamento-2-quartos-alto-da-boa-vista-bairros-ribeirao-preto-com-garagem-68m2-venda-RS379000-id-2698169204/\n",
      "https://www.vivareal.com.br/imovel/apartamento-2-quartos-jardim-silvio-passalacqua-bairros-ribeirao-preto-com-garagem-42m2-venda-RS129427-id-2697604104/\n",
      "https://www.vivareal.com.br/imovel/apartamento-2-quartos-parque-ribeirao-preto-bairros-ribeirao-preto-com-garagem-49m2-venda-RS89227-id-2698244079/\n",
      "https://www.vivareal.com.br/imovel/apartamento-2-quartos-adelino-simioni-bairros-ribeirao-preto-com-garagem-48m2-venda-RS220000-id-2679907195/\n",
      "https://www.vivareal.com.br/imoveis-lancamento/yellow-2621969226/\n",
      "https://www.vivareal.com.br/imovel/apartamento-2-quartos-jardim-heitor-rigon-bairros-ribeirao-preto-com-garagem-43m2-venda-RS135315-id-2698243982/\n",
      "https://www.vivareal.com.br/imovel/apartamento-2-quartos-jardim-botanico-bairros-ribeirao-preto-com-garagem-81m2-venda-RS350000-id-2698478419/\n",
      "https://www.vivareal.com.br/imovel/apartamento-2-quartos-jardim-manoel-penna-bairros-ribeirao-preto-com-garagem-47m2-venda-RS160000-id-2568300991/\n",
      "https://www.vivareal.com.br/imovel/apartamento-2-quartos-nova-alianca-bairros-ribeirao-preto-com-garagem-57m2-venda-RS405000-id-2660244827/\n",
      "https://www.vivareal.com.br/imovel/apartamento-2-quartos-recanto-das-palmeiras-bairros-ribeirao-preto-com-garagem-42m2-venda-RS120727-id-2697606074/\n",
      "https://www.vivareal.com.br/imovel/apartamento-2-quartos-ipiranga-bairros-ribeirao-preto-47m2-venda-RS155000-id-2688457811/\n"
     ]
    }
   ],
   "source": [
    "for id in lista_ids:\n",
    "    print(id.get_attribute('href'))"
   ]
  },
  {
   "cell_type": "code",
   "execution_count": 12,
   "metadata": {},
   "outputs": [
    {
     "name": "stdout",
     "output_type": "stream",
     "text": [
      "2682424171\n",
      "2666103317\n",
      "2604958189\n",
      "2599527964\n",
      "2662552417\n",
      "2662548192\n",
      "2695497280\n",
      "2629727754\n",
      "2696113880\n",
      "2691039372\n",
      "2634242973\n",
      "2697760134\n",
      "2689473888\n",
      "2687561031\n",
      "2625387426\n",
      "2652014669\n",
      "2637110835\n",
      "2688748986\n",
      "2684809595\n",
      "2671563611\n",
      "2568443946\n",
      "2666104586\n",
      "2547611055\n",
      "2697419989\n",
      "2604606592\n",
      "2666103171\n",
      "2673700494\n",
      "2666103130\n",
      "2647606577\n",
      "2694271299\n",
      "2580547926\n",
      "2617155359\n",
      "2673697288\n",
      "2681928249\n",
      "2663306455\n",
      "2599529993\n"
     ]
    }
   ],
   "source": [
    "for id in lista_ids:\n",
    "    print(id.get_attribute('href').split('-')[-1].replace('/', ''))"
   ]
  },
  {
   "cell_type": "code",
   "execution_count": 13,
   "metadata": {},
   "outputs": [
    {
     "name": "stdout",
     "output_type": "stream",
     "text": [
      "2682424171 -- Apartamento com 2 Quartos à Venda, 50m² --- Via João Batista Santanna - Bonfim Paulista, Ribeirão Preto - SP --- R$ 205.000\n",
      "\n",
      "2666103317 -- Apartamento com 3 Quartos à Venda, 122m² --- Rua Waldomiro Corrêa da Silva - Jardim Botânico, Ribeirão Preto - SP --- R$ 470.000\n",
      "Preço abaixo do mercado\n",
      "\n",
      "2604958189 -- Apartamento com 3 Quartos à Venda, 80m² --- Rua José Arigó, 1893 - Residencial e Comercial Palmares, Ribeirão Preto - SP --- R$ 277.000\n",
      "\n",
      "2599527964 -- Apartamento com 2 Quartos à Venda, 54m² --- Vila Amélia, Ribeirão Preto - SP --- R$ 295.000\n",
      "\n",
      "2662552417 -- Apartamento com 3 Quartos à Venda, 68m² --- Rua Antônio Luiz Fracasso, 145 - Residencial e Comercial Palmares, Ribeirão Preto - SP --- R$ 234.000\n",
      "\n",
      "2662548192 -- Apartamento com 3 Quartos à Venda, 121m² --- Rua Padre Euclides, 301 - Campos Eliseos, Ribeirão Preto - SP --- R$ 400.000\n",
      "\n",
      "2695497280 -- Apartamento com 3 Quartos para Venda/Aluguel 99m² --- Jardim América, Ribeirão Preto - SP --- R$ 470.000\n",
      "\n",
      "2629727754 -- Apartamento com 2 Quartos à Venda, 68m² --- Rua Joaquim de Souza Melo - Jardim Presidente Medici, Ribeirão Preto - SP --- R$ 255.000\n",
      "\n",
      "2696113880 -- Apartamento com 2 Quartos à Venda, 10m² --- Reserva Real, Ribeirão Preto - SP --- R$ 150.000\n",
      "\n",
      "2691039372 -- Apartamento com 2 Quartos à Venda, 10m² --- Parque dos Servidores, Ribeirão Preto - SP --- R$ 155.000\n",
      "\n",
      "2634242973 -- Apartamento com 2 Quartos à Venda, 72m² --- Praça Fioravante Fiorotto, 160 - Jardim Botânico, Ribeirão Preto - SP --- R$ 450.000\n",
      "\n",
      "2697760134 -- Apartamento com 2 Quartos à Venda, 10m² --- Jardim Diva Tarla de Carvalho, Ribeirão Preto - SP --- R$ 80.400\n",
      "\n",
      "2689473888 -- Apartamento com 2 Quartos à Venda, 10m² --- Ipiranga, Ribeirão Preto - SP --- R$ 144.641\n",
      "\n",
      "2687561031 -- Apartamento com 2 Quartos à Venda, 10m² --- Jardim Diva Tarla de Carvalho, Ribeirão Preto - SP --- R$ 148.000\n",
      "\n",
      "2625387426 -- Apartamento com Quarto à Venda, 45m² --- Jardim Maria Goretti, Ribeirão Preto - SP --- R$ 188.000\n",
      "\n",
      "2652014669 -- Apartamento com 2 Quartos à Venda, 71m² --- Bonfim Paulista, Ribeirão Preto - SP --- R$ 391.500\n",
      "\n",
      "2637110835 -- Apartamento com Quarto à Venda, 51m² --- Rua Américo Brasiliense, 1838 - Vila Seixas, Ribeirão Preto - SP --- R$ 223.000\n",
      "\n",
      "2688748986 -- Apartamento com 2 Quartos à Venda, 106m² --- Rua Amador Bueno, 1151 - Centro, Ribeirão Preto - SP --- R$ 250.000\n",
      "\n",
      "2684809595 -- Apartamento com 3 Quartos à Venda, 110m² --- Rua Duque de Caxias, 1158 - Centro, Ribeirão Preto - SP --- R$ 350.000\n",
      "\n",
      "2671563611 -- Apartamento com 3 Quartos à Venda, 210m² --- Higienópolis, Ribeirão Preto - SP --- R$ 470.000\n",
      "\n",
      "2568443946 -- Apartamento com 2 Quartos à Venda, 54m² --- Reserva Sul Condomínio Resort, Ribeirão Preto - SP --- R$ 260.000\n",
      "\n",
      "2666104586 -- Apartamento com 3 Quartos à Venda, 103m² --- Rua Severiano Amaro dos Santos - Bosque das Juritis, Ribeirão Preto - SP --- R$ 450.000\n",
      "\n",
      "2547611055 -- Apartamento com 3 Quartos à Venda, 210m² --- Rua Rui Barbosa - Higienópolis, Ribeirão Preto - SP --- R$ 490.000\n",
      "\n",
      "2697419989 -- Apartamento com 2 Quartos à Venda, 51m² --- Rua Vicente Urbano, 100 - Residencial Greenville, Ribeirão Preto - SP --- R$ 250.000\n",
      "Preço abaixo do mercado\n",
      "\n",
      "2604606592 -- Apartamento com Quarto à Venda, 36m² --- Rua Irene Toniolli Domench, 80 - Jardim Nova Aliança Sul, Ribeirão Preto - SP --- R$ 274.490\n",
      "\n",
      "2666103171 -- Apartamento com 3 Quartos à Venda, 103m² --- Avenida Caramuru - Jardim Sumare, Ribeirão Preto - SP --- R$ 480.000\n",
      "\n",
      "2673700494 -- Apartamento com Quarto à Venda, 48m² --- Jardim Botânico, Ribeirão Preto - SP --- R$ 249.000\n",
      "\n",
      "2666103130 -- Apartamento com 2 Quartos à Venda, 99m² --- Rua Doutor Antônio Carlos Tinoco - Jardim Anhanguéra, Ribeirão Preto - SP --- R$ 320.000\n",
      "\n",
      "2647606577 -- Apartamento com 2 Quartos à Venda, 81m² --- Jardim Botânico, Ribeirão Preto - SP --- R$ 350.000\n",
      "Preço abaixo do mercado\n",
      "\n",
      "2694271299 -- Apartamento com 2 Quartos à Venda, 10m² --- Condominio Mirante Sul, Ribeirão Preto - SP --- R$ 144.092\n",
      "\n",
      "2580547926 -- Apartamento com Quarto à Venda, 52m² --- Centro, Ribeirão Preto - SP --- R$ 199.900\n",
      "\n",
      "2617155359 -- Apartamento com 2 Quartos à Venda, 69m² --- Parque Industrial Lagoinha, Ribeirão Preto - SP --- R$ 250.000\n",
      "\n",
      "2673697288 -- Apartamento com 2 Quartos à Venda, 78m² --- Jardim Botânico, Ribeirão Preto - SP --- R$ 380.000\n",
      "\n",
      "2681928249 -- Apartamento com 2 Quartos à Venda, 58m² --- Rua Barão do Amazonas, 2339 - Jardim Sumare, Ribeirão Preto - SP --- R$ 150.000\n",
      "\n",
      "2663306455 -- Apartamento com 2 Quartos à Venda, 45m² --- Rua Flório de Souza Coelho - Jardim João Rossi, Ribeirão Preto - SP --- R$ 95.000\n",
      "\n",
      "2599529993 -- Apartamento com 3 Quartos à Venda, 116m² --- Centro, Ribeirão Preto - SP --- R$ 450.000\n",
      "\n"
     ]
    }
   ],
   "source": [
    "\n",
    "for id, nome, endereco, preco in zip(lista_ids, nome_apartamentos, enderecos_apartamentos, precos):\n",
    "    print(id.get_attribute('href').split('-')[-1].replace('/', ''), '--', nome.text,'---',  endereco.text,'---', preco.text)\n",
    "    print()"
   ]
  },
  {
   "cell_type": "code",
   "execution_count": 21,
   "metadata": {},
   "outputs": [
    {
     "ename": "ElementClickInterceptedException",
     "evalue": "Message: element click intercepted: Element <button class=\"js-change-page\" title=\"Próxima página\" data-page=\"\" data-disabled=\"\">...</button> is not clickable at point (1369, 904). Other element would receive the click: <li class=\"pagination__item\">...</li>\n  (Session info: chrome=122.0.6261.128)\nStacktrace:\n#0 0x559402718f33 <unknown>\n#1 0x559402410ce6 <unknown>\n#2 0x559402462a73 <unknown>\n#3 0x55940246098e <unknown>\n#4 0x55940245e367 <unknown>\n#5 0x55940245d732 <unknown>\n#6 0x559402450d27 <unknown>\n#7 0x55940247deb2 <unknown>\n#8 0x5594024506b8 <unknown>\n#9 0x55940247e07e <unknown>\n#10 0x55940249c899 <unknown>\n#11 0x55940247dc53 <unknown>\n#12 0x55940244edb3 <unknown>\n#13 0x55940244f77e <unknown>\n#14 0x5594026de86b <unknown>\n#15 0x5594026e2885 <unknown>\n#16 0x5594026cc181 <unknown>\n#17 0x5594026e3412 <unknown>\n#18 0x5594026b025f <unknown>\n#19 0x559402707528 <unknown>\n#20 0x559402707723 <unknown>\n#21 0x5594027180e4 <unknown>\n#22 0x7ffba4f1fac3 <unknown>\n",
     "output_type": "error",
     "traceback": [
      "\u001b[0;31m---------------------------------------------------------------------------\u001b[0m",
      "\u001b[0;31mElementClickInterceptedException\u001b[0m          Traceback (most recent call last)",
      "Cell \u001b[0;32mIn[21], line 1\u001b[0m\n\u001b[0;32m----> 1\u001b[0m \u001b[43mnavegador\u001b[49m\u001b[38;5;241;43m.\u001b[39;49m\u001b[43mfind_element\u001b[49m\u001b[43m(\u001b[49m\u001b[43mBy\u001b[49m\u001b[38;5;241;43m.\u001b[39;49m\u001b[43mXPATH\u001b[49m\u001b[43m,\u001b[49m\u001b[43m  \u001b[49m\u001b[38;5;124;43m'\u001b[39;49m\u001b[38;5;124;43m//*[@id=\u001b[39;49m\u001b[38;5;124;43m\"\u001b[39;49m\u001b[38;5;124;43mjs-site-main\u001b[39;49m\u001b[38;5;124;43m\"\u001b[39;49m\u001b[38;5;124;43m]/div[2]/div[1]/section/div[2]/div[2]/div/ul/li[9]/button\u001b[39;49m\u001b[38;5;124;43m'\u001b[39;49m\u001b[43m)\u001b[49m\u001b[38;5;241;43m.\u001b[39;49m\u001b[43mclick\u001b[49m\u001b[43m(\u001b[49m\u001b[43m)\u001b[49m\n",
      "File \u001b[0;32m~/Documentos/projetos/conhecendo_selenium/venv/lib/python3.10/site-packages/selenium/webdriver/remote/webelement.py:81\u001b[0m, in \u001b[0;36mWebElement.click\u001b[0;34m(self)\u001b[0m\n\u001b[1;32m     79\u001b[0m \u001b[38;5;28;01mdef\u001b[39;00m \u001b[38;5;21mclick\u001b[39m(\u001b[38;5;28mself\u001b[39m) \u001b[38;5;241m-\u001b[39m\u001b[38;5;241m>\u001b[39m \u001b[38;5;28;01mNone\u001b[39;00m:\n\u001b[1;32m     80\u001b[0m \u001b[38;5;250m    \u001b[39m\u001b[38;5;124;03m\"\"\"Clicks the element.\"\"\"\u001b[39;00m\n\u001b[0;32m---> 81\u001b[0m     \u001b[38;5;28;43mself\u001b[39;49m\u001b[38;5;241;43m.\u001b[39;49m\u001b[43m_execute\u001b[49m\u001b[43m(\u001b[49m\u001b[43mCommand\u001b[49m\u001b[38;5;241;43m.\u001b[39;49m\u001b[43mCLICK_ELEMENT\u001b[49m\u001b[43m)\u001b[49m\n",
      "File \u001b[0;32m~/Documentos/projetos/conhecendo_selenium/venv/lib/python3.10/site-packages/selenium/webdriver/remote/webelement.py:710\u001b[0m, in \u001b[0;36mWebElement._execute\u001b[0;34m(self, command, params)\u001b[0m\n\u001b[1;32m    708\u001b[0m     params \u001b[38;5;241m=\u001b[39m {}\n\u001b[1;32m    709\u001b[0m params[\u001b[38;5;124m'\u001b[39m\u001b[38;5;124mid\u001b[39m\u001b[38;5;124m'\u001b[39m] \u001b[38;5;241m=\u001b[39m \u001b[38;5;28mself\u001b[39m\u001b[38;5;241m.\u001b[39m_id\n\u001b[0;32m--> 710\u001b[0m \u001b[38;5;28;01mreturn\u001b[39;00m \u001b[38;5;28;43mself\u001b[39;49m\u001b[38;5;241;43m.\u001b[39;49m\u001b[43m_parent\u001b[49m\u001b[38;5;241;43m.\u001b[39;49m\u001b[43mexecute\u001b[49m\u001b[43m(\u001b[49m\u001b[43mcommand\u001b[49m\u001b[43m,\u001b[49m\u001b[43m \u001b[49m\u001b[43mparams\u001b[49m\u001b[43m)\u001b[49m\n",
      "File \u001b[0;32m~/Documentos/projetos/conhecendo_selenium/venv/lib/python3.10/site-packages/selenium/webdriver/remote/webdriver.py:424\u001b[0m, in \u001b[0;36mWebDriver.execute\u001b[0;34m(self, driver_command, params)\u001b[0m\n\u001b[1;32m    422\u001b[0m response \u001b[38;5;241m=\u001b[39m \u001b[38;5;28mself\u001b[39m\u001b[38;5;241m.\u001b[39mcommand_executor\u001b[38;5;241m.\u001b[39mexecute(driver_command, params)\n\u001b[1;32m    423\u001b[0m \u001b[38;5;28;01mif\u001b[39;00m response:\n\u001b[0;32m--> 424\u001b[0m     \u001b[38;5;28;43mself\u001b[39;49m\u001b[38;5;241;43m.\u001b[39;49m\u001b[43merror_handler\u001b[49m\u001b[38;5;241;43m.\u001b[39;49m\u001b[43mcheck_response\u001b[49m\u001b[43m(\u001b[49m\u001b[43mresponse\u001b[49m\u001b[43m)\u001b[49m\n\u001b[1;32m    425\u001b[0m     response[\u001b[38;5;124m'\u001b[39m\u001b[38;5;124mvalue\u001b[39m\u001b[38;5;124m'\u001b[39m] \u001b[38;5;241m=\u001b[39m \u001b[38;5;28mself\u001b[39m\u001b[38;5;241m.\u001b[39m_unwrap_value(\n\u001b[1;32m    426\u001b[0m         response\u001b[38;5;241m.\u001b[39mget(\u001b[38;5;124m'\u001b[39m\u001b[38;5;124mvalue\u001b[39m\u001b[38;5;124m'\u001b[39m, \u001b[38;5;28;01mNone\u001b[39;00m))\n\u001b[1;32m    427\u001b[0m     \u001b[38;5;28;01mreturn\u001b[39;00m response\n",
      "File \u001b[0;32m~/Documentos/projetos/conhecendo_selenium/venv/lib/python3.10/site-packages/selenium/webdriver/remote/errorhandler.py:247\u001b[0m, in \u001b[0;36mErrorHandler.check_response\u001b[0;34m(self, response)\u001b[0m\n\u001b[1;32m    245\u001b[0m         alert_text \u001b[38;5;241m=\u001b[39m value[\u001b[38;5;124m'\u001b[39m\u001b[38;5;124malert\u001b[39m\u001b[38;5;124m'\u001b[39m]\u001b[38;5;241m.\u001b[39mget(\u001b[38;5;124m'\u001b[39m\u001b[38;5;124mtext\u001b[39m\u001b[38;5;124m'\u001b[39m)\n\u001b[1;32m    246\u001b[0m     \u001b[38;5;28;01mraise\u001b[39;00m exception_class(message, screen, stacktrace, alert_text)  \u001b[38;5;66;03m# type: ignore[call-arg]  # mypy is not smart enough here\u001b[39;00m\n\u001b[0;32m--> 247\u001b[0m \u001b[38;5;28;01mraise\u001b[39;00m exception_class(message, screen, stacktrace)\n",
      "\u001b[0;31mElementClickInterceptedException\u001b[0m: Message: element click intercepted: Element <button class=\"js-change-page\" title=\"Próxima página\" data-page=\"\" data-disabled=\"\">...</button> is not clickable at point (1369, 904). Other element would receive the click: <li class=\"pagination__item\">...</li>\n  (Session info: chrome=122.0.6261.128)\nStacktrace:\n#0 0x559402718f33 <unknown>\n#1 0x559402410ce6 <unknown>\n#2 0x559402462a73 <unknown>\n#3 0x55940246098e <unknown>\n#4 0x55940245e367 <unknown>\n#5 0x55940245d732 <unknown>\n#6 0x559402450d27 <unknown>\n#7 0x55940247deb2 <unknown>\n#8 0x5594024506b8 <unknown>\n#9 0x55940247e07e <unknown>\n#10 0x55940249c899 <unknown>\n#11 0x55940247dc53 <unknown>\n#12 0x55940244edb3 <unknown>\n#13 0x55940244f77e <unknown>\n#14 0x5594026de86b <unknown>\n#15 0x5594026e2885 <unknown>\n#16 0x5594026cc181 <unknown>\n#17 0x5594026e3412 <unknown>\n#18 0x5594026b025f <unknown>\n#19 0x559402707528 <unknown>\n#20 0x559402707723 <unknown>\n#21 0x5594027180e4 <unknown>\n#22 0x7ffba4f1fac3 <unknown>\n"
     ]
    }
   ],
   "source": [
    "navegador.find_element(By.XPATH,  '//*[@id=\"js-site-main\"]/div[2]/div[1]/section/div[2]/div[2]/div/ul/li[9]/button').click()"
   ]
  },
  {
   "cell_type": "code",
   "execution_count": 2,
   "metadata": {},
   "outputs": [
    {
     "name": "stdout",
     "output_type": "stream",
     "text": [
      "parei\n",
      "fora do while\n"
     ]
    }
   ],
   "source": [
    "n = True\n",
    "while n:\n",
    "    n = False\n",
    "    if not n:\n",
    "        print('parei')\n",
    "        break\n",
    "print('fora do while')"
   ]
  },
  {
   "cell_type": "code",
   "execution_count": 60,
   "metadata": {},
   "outputs": [
    {
     "name": "stdout",
     "output_type": "stream",
     "text": [
      "0\n"
     ]
    }
   ],
   "source": [
    "cards = navegador.find_elements(By.CLASS_NAME, 'property-card')\n",
    "print(len(cards))\n",
    "casas = []\n",
    "for card in cards:\n",
    "    url = card.find_element(By.CLASS_NAME, 'property-card__content-link').get_attribute('href')\n",
    "    nome = card.find_element(By.CLASS_NAME, 'property-card__title').text\n",
    "    preco = card.find_element(By.CLASS_NAME, 'js-property-card__price-small').text\n",
    "    endereco = card.find_element(By.CLASS_NAME, 'property-card__address').text\n",
    "    metragem = card.find_element(By.CLASS_NAME, 'js-property-card-detail-area').text\n",
    "    quarto = card.find_element(By.CLASS_NAME, 'js-property-detail-rooms').text\n",
    "    banheiro = card.find_element(By.CLASS_NAME, 'js-property-detail-bathroom').text\n",
    "    garagem = card.find_element(By.CLASS_NAME, 'js-property-detail-garages').text\n",
    "\n",
    "    casa = {\n",
    "            'url': url,\n",
    "            'nome': nome,\n",
    "            'preco': preco,\n",
    "            'endereco': endereco,\n",
    "            'metragem': metragem,\n",
    "            'quarto': quarto,\n",
    "            'banheiro': banheiro,\n",
    "            'garagem': garagem\n",
    "    }\n",
    "    casas.append(casa)"
   ]
  },
  {
   "cell_type": "code",
   "execution_count": 27,
   "metadata": {},
   "outputs": [],
   "source": [
    "from itertools import zip_longest"
   ]
  },
  {
   "cell_type": "code",
   "execution_count": 32,
   "metadata": {},
   "outputs": [
    {
     "name": "stdout",
     "output_type": "stream",
     "text": [
      "0 223 34\n",
      "1 33 1\n"
     ]
    }
   ],
   "source": [
    "from itertools import zip_longest\n",
    "\n",
    "a = [223, 33]\n",
    "b = [34, 1]\n",
    "for idx, (x, y) in enumerate(zip_longest(a, b)):\n",
    "    print(idx, x, y)\n"
   ]
  },
  {
   "cell_type": "code",
   "execution_count": 46,
   "metadata": {},
   "outputs": [
    {
     "ename": "WebDriverException",
     "evalue": "Message: disconnected: not connected to DevTools\n  (failed to check if window was closed: disconnected: not connected to DevTools)\n  (Session info: chrome=122.0.6261.128)\nStacktrace:\n#0 0x563a8aad1f33 <unknown>\n#1 0x563a8a7c9ce6 <unknown>\n#2 0x563a8a7aeaef <unknown>\n#3 0x563a8a7aff1f <unknown>\n#4 0x563a8a7ca240 <unknown>\n#5 0x563a8a7a041e <unknown>\n#6 0x563a8a846025 <unknown>\n#7 0x563a8a836e78 <unknown>\n#8 0x563a8a807db3 <unknown>\n#9 0x563a8a80877e <unknown>\n#10 0x563a8aa9786b <unknown>\n#11 0x563a8aa9b885 <unknown>\n#12 0x563a8aa85181 <unknown>\n#13 0x563a8aa9c412 <unknown>\n#14 0x563a8aa6925f <unknown>\n#15 0x563a8aac0528 <unknown>\n#16 0x563a8aac0723 <unknown>\n#17 0x563a8aad10e4 <unknown>\n#18 0x7f330563aac3 <unknown>\n",
     "output_type": "error",
     "traceback": [
      "\u001b[0;31m---------------------------------------------------------------------------\u001b[0m",
      "\u001b[0;31mWebDriverException\u001b[0m                        Traceback (most recent call last)",
      "Cell \u001b[0;32mIn[46], line 1\u001b[0m\n\u001b[0;32m----> 1\u001b[0m \u001b[43mnavegador\u001b[49m\u001b[38;5;241;43m.\u001b[39;49m\u001b[43mclose\u001b[49m\u001b[43m(\u001b[49m\u001b[43m)\u001b[49m\n",
      "File \u001b[0;32m~/Documentos/projetos/conhecendo_selenium/venv/lib/python3.10/site-packages/selenium/webdriver/remote/webdriver.py:937\u001b[0m, in \u001b[0;36mWebDriver.close\u001b[0;34m(self)\u001b[0m\n\u001b[1;32m    928\u001b[0m \u001b[38;5;28;01mdef\u001b[39;00m \u001b[38;5;21mclose\u001b[39m(\u001b[38;5;28mself\u001b[39m) \u001b[38;5;241m-\u001b[39m\u001b[38;5;241m>\u001b[39m \u001b[38;5;28;01mNone\u001b[39;00m:\n\u001b[1;32m    929\u001b[0m \u001b[38;5;250m    \u001b[39m\u001b[38;5;124;03m\"\"\"\u001b[39;00m\n\u001b[1;32m    930\u001b[0m \u001b[38;5;124;03m    Closes the current window.\u001b[39;00m\n\u001b[1;32m    931\u001b[0m \n\u001b[0;32m   (...)\u001b[0m\n\u001b[1;32m    935\u001b[0m \u001b[38;5;124;03m            driver.close()\u001b[39;00m\n\u001b[1;32m    936\u001b[0m \u001b[38;5;124;03m    \"\"\"\u001b[39;00m\n\u001b[0;32m--> 937\u001b[0m     \u001b[38;5;28;43mself\u001b[39;49m\u001b[38;5;241;43m.\u001b[39;49m\u001b[43mexecute\u001b[49m\u001b[43m(\u001b[49m\u001b[43mCommand\u001b[49m\u001b[38;5;241;43m.\u001b[39;49m\u001b[43mCLOSE\u001b[49m\u001b[43m)\u001b[49m\n",
      "File \u001b[0;32m~/Documentos/projetos/conhecendo_selenium/venv/lib/python3.10/site-packages/selenium/webdriver/remote/webdriver.py:424\u001b[0m, in \u001b[0;36mWebDriver.execute\u001b[0;34m(self, driver_command, params)\u001b[0m\n\u001b[1;32m    422\u001b[0m response \u001b[38;5;241m=\u001b[39m \u001b[38;5;28mself\u001b[39m\u001b[38;5;241m.\u001b[39mcommand_executor\u001b[38;5;241m.\u001b[39mexecute(driver_command, params)\n\u001b[1;32m    423\u001b[0m \u001b[38;5;28;01mif\u001b[39;00m response:\n\u001b[0;32m--> 424\u001b[0m     \u001b[38;5;28;43mself\u001b[39;49m\u001b[38;5;241;43m.\u001b[39;49m\u001b[43merror_handler\u001b[49m\u001b[38;5;241;43m.\u001b[39;49m\u001b[43mcheck_response\u001b[49m\u001b[43m(\u001b[49m\u001b[43mresponse\u001b[49m\u001b[43m)\u001b[49m\n\u001b[1;32m    425\u001b[0m     response[\u001b[38;5;124m'\u001b[39m\u001b[38;5;124mvalue\u001b[39m\u001b[38;5;124m'\u001b[39m] \u001b[38;5;241m=\u001b[39m \u001b[38;5;28mself\u001b[39m\u001b[38;5;241m.\u001b[39m_unwrap_value(\n\u001b[1;32m    426\u001b[0m         response\u001b[38;5;241m.\u001b[39mget(\u001b[38;5;124m'\u001b[39m\u001b[38;5;124mvalue\u001b[39m\u001b[38;5;124m'\u001b[39m, \u001b[38;5;28;01mNone\u001b[39;00m))\n\u001b[1;32m    427\u001b[0m     \u001b[38;5;28;01mreturn\u001b[39;00m response\n",
      "File \u001b[0;32m~/Documentos/projetos/conhecendo_selenium/venv/lib/python3.10/site-packages/selenium/webdriver/remote/errorhandler.py:247\u001b[0m, in \u001b[0;36mErrorHandler.check_response\u001b[0;34m(self, response)\u001b[0m\n\u001b[1;32m    245\u001b[0m         alert_text \u001b[38;5;241m=\u001b[39m value[\u001b[38;5;124m'\u001b[39m\u001b[38;5;124malert\u001b[39m\u001b[38;5;124m'\u001b[39m]\u001b[38;5;241m.\u001b[39mget(\u001b[38;5;124m'\u001b[39m\u001b[38;5;124mtext\u001b[39m\u001b[38;5;124m'\u001b[39m)\n\u001b[1;32m    246\u001b[0m     \u001b[38;5;28;01mraise\u001b[39;00m exception_class(message, screen, stacktrace, alert_text)  \u001b[38;5;66;03m# type: ignore[call-arg]  # mypy is not smart enough here\u001b[39;00m\n\u001b[0;32m--> 247\u001b[0m \u001b[38;5;28;01mraise\u001b[39;00m exception_class(message, screen, stacktrace)\n",
      "\u001b[0;31mWebDriverException\u001b[0m: Message: disconnected: not connected to DevTools\n  (failed to check if window was closed: disconnected: not connected to DevTools)\n  (Session info: chrome=122.0.6261.128)\nStacktrace:\n#0 0x563a8aad1f33 <unknown>\n#1 0x563a8a7c9ce6 <unknown>\n#2 0x563a8a7aeaef <unknown>\n#3 0x563a8a7aff1f <unknown>\n#4 0x563a8a7ca240 <unknown>\n#5 0x563a8a7a041e <unknown>\n#6 0x563a8a846025 <unknown>\n#7 0x563a8a836e78 <unknown>\n#8 0x563a8a807db3 <unknown>\n#9 0x563a8a80877e <unknown>\n#10 0x563a8aa9786b <unknown>\n#11 0x563a8aa9b885 <unknown>\n#12 0x563a8aa85181 <unknown>\n#13 0x563a8aa9c412 <unknown>\n#14 0x563a8aa6925f <unknown>\n#15 0x563a8aac0528 <unknown>\n#16 0x563a8aac0723 <unknown>\n#17 0x563a8aad10e4 <unknown>\n#18 0x7f330563aac3 <unknown>\n"
     ]
    }
   ],
   "source": [
    "navegador.close()"
   ]
  },
  {
   "cell_type": "markdown",
   "metadata": {},
   "source": [
    "# Métodos de seleção"
   ]
  }
 ],
 "metadata": {
  "kernelspec": {
   "display_name": "venv",
   "language": "python",
   "name": "python3"
  },
  "language_info": {
   "codemirror_mode": {
    "name": "ipython",
    "version": 3
   },
   "file_extension": ".py",
   "mimetype": "text/x-python",
   "name": "python",
   "nbconvert_exporter": "python",
   "pygments_lexer": "ipython3",
   "version": "3.10.12"
  }
 },
 "nbformat": 4,
 "nbformat_minor": 2
}
