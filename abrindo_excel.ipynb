{
 "cells": [
  {
   "cell_type": "code",
   "execution_count": 30,
   "metadata": {},
   "outputs": [],
   "source": [
    "from openpyxl import load_workbook, Workbook\n",
    "from openpyxl.utils.cell import *\n"
   ]
  },
  {
   "cell_type": "code",
   "execution_count": 48,
   "metadata": {},
   "outputs": [],
   "source": [
    "import sys\n",
    "import os\n",
    "sys.path.insert(0, os.path.abspath(os.curdir))"
   ]
  },
  {
   "cell_type": "code",
   "execution_count": 45,
   "metadata": {},
   "outputs": [
    {
     "name": "stdout",
     "output_type": "stream",
     "text": [
      "Dado gravado e planilha fechada com sucesso!\n"
     ]
    }
   ],
   "source": [
    "import openpyxl\n",
    "\n",
    "# Abrindo o arquivo Excel existente\n",
    "planilha = openpyxl.Workbook()\n",
    "\n",
    "# Acessando a planilha padrão e mudando o nome para 'teste'\n",
    "aba = planilha.active\n",
    "aba.title = 'teste'\n",
    "\n",
    "# Adicionando mais dados à planilha\n",
    "aba.cell(row=aba.max_row + 1, column=1, value=2)\n",
    "\n",
    "# Salvando as alterações no arquivo\n",
    "planilha.save(\"exemplo.xlsx\")\n",
    "\n",
    "# Fechando o arquivo Excel\n",
    "planilha.close()\n",
    "\n",
    "print(\"Dado gravado e planilha fechada com sucesso!\")\n"
   ]
  },
  {
   "cell_type": "code",
   "execution_count": 46,
   "metadata": {},
   "outputs": [
    {
     "name": "stdout",
     "output_type": "stream",
     "text": [
      "Dado gravado e planilha fechada com sucesso!\n"
     ]
    },
    {
     "name": "stderr",
     "output_type": "stream",
     "text": [
      "/tmp/ipykernel_4644/1834930301.py:7: DeprecationWarning: Call to deprecated function get_sheet_by_name (Use wb[sheetname]).\n",
      "  sheet = workbook.get_sheet_by_name(\"teste\")\n"
     ]
    }
   ],
   "source": [
    "import openpyxl\n",
    "\n",
    "# Abrindo o arquivo Excel existente\n",
    "workbook = openpyxl.load_workbook(\"exemplo.xlsx\")\n",
    "\n",
    "# Selecionando a planilha desejada\n",
    "sheet = workbook.get_sheet_by_name(\"teste\")\n",
    "sheet.tables\n",
    "\n",
    "sheet.cell(row=2, column=1, value=2)\n",
    "\n",
    "# Salvando as alterações no arquivo\n",
    "workbook.save(\"exemplo.xlsx\")\n",
    "\n",
    "# Fechando o arquivo Excel\n",
    "workbook.close()\n",
    "\n",
    "print(\"Dado gravado e planilha fechada com sucesso!\")"
   ]
  }
 ],
 "metadata": {
  "kernelspec": {
   "display_name": "venv",
   "language": "python",
   "name": "python3"
  },
  "language_info": {
   "codemirror_mode": {
    "name": "ipython",
    "version": 3
   },
   "file_extension": ".py",
   "mimetype": "text/x-python",
   "name": "python",
   "nbconvert_exporter": "python",
   "pygments_lexer": "ipython3",
   "version": "3.10.12"
  }
 },
 "nbformat": 4,
 "nbformat_minor": 2
}
