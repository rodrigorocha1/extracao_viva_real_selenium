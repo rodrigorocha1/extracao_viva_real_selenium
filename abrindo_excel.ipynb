{
 "cells": [
  {
   "cell_type": "code",
   "execution_count": 1,
   "metadata": {},
   "outputs": [],
   "source": [
    "from openpyxl import load_workbook, Workbook\n",
    "from openpyxl.utils.cell import *\n"
   ]
  },
  {
   "cell_type": "code",
   "execution_count": 2,
   "metadata": {},
   "outputs": [],
   "source": [
    "\n",
    "\n",
    "teste = [\n",
    "    {\n",
    "        'a': 1,\n",
    "        'b' : 2\n",
    "    }\n",
    "]"
   ]
  },
  {
   "cell_type": "code",
   "execution_count": null,
   "metadata": {},
   "outputs": [],
   "source": [
    "for linha in teste"
   ]
  },
  {
   "cell_type": "code",
   "execution_count": 4,
   "metadata": {},
   "outputs": [
    {
     "name": "stdout",
     "output_type": "stream",
     "text": [
      "[1, 2]\n"
     ]
    }
   ],
   "source": [
    "\n",
    "         \n",
    "planilha = Workbook()\n",
    "aba = planilha.active\n",
    "aba.title = 'teste'\n",
    "cabecalhos = list(teste[0].keys())\n",
    "aba.append(cabecalhos)\n",
    "for linha in teste:\n",
    "    valores = [linha[coluna] for coluna in cabecalhos]\n",
    "    print(valores)\n",
    "aba.append(valores)\n"
   ]
  },
  {
   "cell_type": "code",
   "execution_count": 5,
   "metadata": {},
   "outputs": [],
   "source": [
    "planilha.save('teste.xlsx')\n"
   ]
  },
  {
   "cell_type": "code",
   "execution_count": 11,
   "metadata": {},
   "outputs": [
    {
     "data": {
      "text/plain": [
       "[1, 2]"
      ]
     },
     "execution_count": 11,
     "metadata": {},
     "output_type": "execute_result"
    }
   ],
   "source": [
    "valores"
   ]
  },
  {
   "cell_type": "code",
   "execution_count": 13,
   "metadata": {},
   "outputs": [
    {
     "name": "stderr",
     "output_type": "stream",
     "text": [
      "/tmp/ipykernel_17630/1714629046.py:7: DeprecationWarning: Call to deprecated function get_sheet_by_name (Use wb[sheetname]).\n",
      "  sheet = workbook.get_sheet_by_name(\"teste\")\n"
     ]
    },
    {
     "data": {
      "text/plain": [
       "{}"
      ]
     },
     "execution_count": 13,
     "metadata": {},
     "output_type": "execute_result"
    }
   ],
   "source": [
    "import openpyxl\n",
    "\n",
    "# Abrindo o arquivo Excel existente\n",
    "workbook = openpyxl.load_workbook(\"teste.xlsx\")\n",
    "\n",
    "# Selecionando a planilha desejada\n",
    "sheet = workbook.get_sheet_by_name(\"teste\")\n",
    "sheet.tables"
   ]
  },
  {
   "cell_type": "code",
   "execution_count": 41,
   "metadata": {},
   "outputs": [
    {
     "data": {
      "text/plain": [
       "[1, 2]"
      ]
     },
     "execution_count": 41,
     "metadata": {},
     "output_type": "execute_result"
    }
   ],
   "source": [
    "list(teste[0].values())"
   ]
  },
  {
   "cell_type": "code",
   "execution_count": 39,
   "metadata": {},
   "outputs": [
    {
     "name": "stdout",
     "output_type": "stream",
     "text": [
      "list[dict_values([1, 2])]\n"
     ]
    }
   ],
   "source": [
    "for linha in teste:\n",
    "    print(list[linha.values()])"
   ]
  },
  {
   "cell_type": "code",
   "execution_count": 45,
   "metadata": {},
   "outputs": [],
   "source": [
    "teste = [\n",
    "    {\n",
    "        'a': 1,\n",
    "        'b' : 2\n",
    "    },\n",
    "    {\n",
    "        'a': 3,\n",
    "        'b' : 4\n",
    "    }\n",
    "\n",
    "]"
   ]
  },
  {
   "cell_type": "code",
   "execution_count": 78,
   "metadata": {},
   "outputs": [],
   "source": [
    "import openpyxl\n",
    "\n",
    "\n",
    "workbook = openpyxl.load_workbook(\"teste.xlsx\")\n",
    "planilha = workbook['teste']\n"
   ]
  },
  {
   "cell_type": "code",
   "execution_count": 79,
   "metadata": {},
   "outputs": [
    {
     "data": {
      "text/plain": [
       "11"
      ]
     },
     "execution_count": 79,
     "metadata": {},
     "output_type": "execute_result"
    }
   ],
   "source": [
    "\n",
    "ultima_lina = planilha.max_row + 1\n",
    "ultima_lina\n"
   ]
  },
  {
   "cell_type": "code",
   "execution_count": 80,
   "metadata": {},
   "outputs": [
    {
     "name": "stdout",
     "output_type": "stream",
     "text": [
      "11 [1, 2]\n",
      "12 [3, 4]\n"
     ]
    }
   ],
   "source": [
    "for linha, valor in enumerate(teste, start=ultima_lina):\n",
    "    print(linha, list(valor.values()))\n",
    "    planilha.append(list(valor.values()))\n",
    "workbook.save(\"teste.xlsx\")\n",
    "\n",
    "\n",
    "workbook.close()\n"
   ]
  }
 ],
 "metadata": {
  "kernelspec": {
   "display_name": "venv",
   "language": "python",
   "name": "python3"
  },
  "language_info": {
   "codemirror_mode": {
    "name": "ipython",
    "version": 3
   },
   "file_extension": ".py",
   "mimetype": "text/x-python",
   "name": "python",
   "nbconvert_exporter": "python",
   "pygments_lexer": "ipython3",
   "version": "3.10.12"
  }
 },
 "nbformat": 4,
 "nbformat_minor": 2
}
