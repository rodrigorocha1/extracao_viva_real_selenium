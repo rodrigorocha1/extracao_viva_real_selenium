{
 "cells": [
  {
   "cell_type": "code",
   "execution_count": 305,
   "metadata": {},
   "outputs": [],
   "source": [
    "from selenium import webdriver\n",
    "from selenium.webdriver.chrome.service import Service\n",
    "from webdriver_manager.chrome import ChromeDriverManager\n",
    "from selenium.webdriver.common.by import By\n",
    "import os"
   ]
  },
  {
   "cell_type": "code",
   "execution_count": 306,
   "metadata": {},
   "outputs": [],
   "source": [
    "servico = Service(ChromeDriverManager().install())\n",
    "navegador = webdriver.Chrome(service=servico)\n"
   ]
  },
  {
   "cell_type": "code",
   "execution_count": 307,
   "metadata": {},
   "outputs": [],
   "source": [
    "url = 'https://www.kabum.com.br/computadores/notebooks'\n",
    "navegador.get(url)"
   ]
  },
  {
   "cell_type": "markdown",
   "metadata": {},
   "source": [
    "# Métodos de seleção"
   ]
  },
  {
   "cell_type": "code",
   "execution_count": 308,
   "metadata": {},
   "outputs": [],
   "source": [
    "navegador.find_element(By.ID, 'input-busca').send_keys('LInux')"
   ]
  },
  {
   "cell_type": "code",
   "execution_count": 309,
   "metadata": {},
   "outputs": [
    {
     "data": {
      "text/plain": [
       "'faleconosco@kabum.com.br'"
      ]
     },
     "execution_count": 309,
     "metadata": {},
     "output_type": "execute_result"
    }
   ],
   "source": [
    "contato = navegador.find_element(By.XPATH, '//*[@id=\"linksFooter\"]/div/div/div[5]/div[3]/span').text\n",
    "contato\n"
   ]
  },
  {
   "cell_type": "code",
   "execution_count": 310,
   "metadata": {},
   "outputs": [
    {
     "name": "stdout",
     "output_type": "stream",
     "text": [
      "DEPARTAMENTOS\n",
      "MONTE SEU PC\n",
      "OFERTA DO DIA\n",
      "CUPONS\n",
      "ENTREGA FLASH\n",
      "OPENBOX\n",
      "BAIXE O APP\n",
      "PRIME NINJA\n",
      "VENDA NO KABUM!\n",
      "MULHERES NO GAME\n"
     ]
    }
   ],
   "source": [
    "barra_principal = navegador.find_elements(By.TAG_NAME, 'nav')\n",
    "for opcao in barra_principal:\n",
    "    print(opcao.text)"
   ]
  },
  {
   "cell_type": "markdown",
   "metadata": {},
   "source": [
    "# imagem do produto"
   ]
  },
  {
   "cell_type": "code",
   "execution_count": 311,
   "metadata": {},
   "outputs": [
    {
     "name": "stdout",
     "output_type": "stream",
     "text": [
      "https://images.kabum.com.br/produtos/fotos/495514/notebook-acer-aspire-3-amd-ryzen-3-7320u-8gb-ram-amd-radeon-ssd-512gb-15-6-led-hd-tn-60hz-windows-11-cinza-a315-24p-r06b_1696514197_m.jpg\n"
     ]
    }
   ],
   "source": [
    "link_imagen = navegador.find_element(By.XPATH, '//*[@id=\"listing\"]/div[3]/div/div/div[2]/div/main/div[1]/a/img').get_attribute('src')\n",
    "print(link_imagen)"
   ]
  },
  {
   "cell_type": "code",
   "execution_count": null,
   "metadata": {},
   "outputs": [],
   "source": []
  },
  {
   "cell_type": "markdown",
   "metadata": {},
   "source": [
    "# Todos os links que redirecionam a página específica do produto"
   ]
  },
  {
   "cell_type": "code",
   "execution_count": 312,
   "metadata": {},
   "outputs": [
    {
     "name": "stdout",
     "output_type": "stream",
     "text": [
      "https://images.kabum.com.br/produtos/fotos/495514/notebook-acer-aspire-3-amd-ryzen-3-7320u-8gb-ram-amd-radeon-ssd-512gb-15-6-led-hd-tn-60hz-windows-11-cinza-a315-24p-r06b_1696514197_m.jpg\n"
     ]
    }
   ],
   "source": [
    "lista_produtos = navegador.find_element(By.CLASS_NAME, 'sc-273aa53f-12' )\n",
    "print(lista_produtos.find_elements(By.TAG_NAME, 'img')[0].get_attribute('src'))"
   ]
  },
  {
   "cell_type": "code",
   "execution_count": 313,
   "metadata": {},
   "outputs": [
    {
     "name": "stdout",
     "output_type": "stream",
     "text": [
      "20\n"
     ]
    }
   ],
   "source": [
    "lista_produtos = lista_produtos.find_elements(By.TAG_NAME, 'a')\n",
    "print(len(lista_produtos))"
   ]
  },
  {
   "cell_type": "code",
   "execution_count": 314,
   "metadata": {},
   "outputs": [
    {
     "data": {
      "text/plain": [
       "'https://www.kabum.com.br/produto/495514/notebook-acer-aspire-3-amd-ryzen-3-7320u-8gb-ram-amd-radeon-ssd-512gb-15-6-led-hd-tn-60hz-windows-11-cinza-a315-24p-r06b'"
      ]
     },
     "execution_count": 314,
     "metadata": {},
     "output_type": "execute_result"
    }
   ],
   "source": [
    "lista_produtos[0].get_attribute('href')"
   ]
  },
  {
   "cell_type": "code",
   "execution_count": 315,
   "metadata": {},
   "outputs": [
    {
     "name": "stdout",
     "output_type": "stream",
     "text": [
      "Notebook Acer Aspire 3 AMD Ryzen 3-7320U, 8GB RAM, AMD Radeon, SSD 512GB, 15.6\" LED HD TN 60Hz Windows 11, Cinza - A315-24P-R06B\n",
      "\n",
      "Notebook Gamer Acer Nitro 5 Intel Core I7-11800H, 16GB RAM, NVIDIA RTX3050, SSD 512GB, 15.6\" LED FHD IPS, Linux, Preto - AN515-57-795J\n",
      "\n",
      "Notebook Gamer Acer Nitro 5 AMD Ryzen 5 7535HS, 8GB, NVIDIA RTX 3050, SSD 512GB, 15.6 Full HD, Linux Gutta, Preto - AN515-47-R5SU\n",
      "\n",
      "Notebook Gamer ASUS TUF Gaming F15, Intel Core i7-12700H, 8GB RAM, GeForce RTX 3050, SSD 512GB, 15.6, Full HD 144Hz, KeepOS, Cinza - FX507ZC4-HN112\n",
      "\n",
      "Notebook Acer Aspire 3, AMD Ryzen 5, 8GB LPDDR5, SSD 512GB, 15.6 Full HD, Windows 11 Home - A315-24p-R31z\n",
      "\n",
      "Notebook Lenovo IdeaPad 3-15ITL, Intel Core I5-1135G7, 8GB RAM, SSD 512GB, 15.6 Full HD, Windows 11, Cinza - 82MD000WBR\n",
      "\n",
      "Notebook Gamer Lenovo Gaming 3i Intel Core i5-11300H, 8GB RAM, GeForce GTX 1650, SSD 512GB, 15.6 Full HD, Windows 11, Preto  - 82MG0009BR\n",
      "\n",
      "Notebook Asus Vivobook, AMD Ryzen 7-4800h, 16GB, SSD 256GB, Tela 15.6 LED, Linux Keep Os, Prata - M1502ia-Ej211\n",
      "\n",
      "Notebook ASUS Vivobook X1502ZA-EJ1761 Intel Core i5 12450H 2 GHz 8Gb Ram 256Gb SSD Linux KeepOS 15,60” LED Full HD Intel UHD Graphics Prata\n",
      "\n",
      "Notebook ASUS Vivobook 15 AMD Ryzen 5-4600H, 8GB RAM, SSD 256GB, 15.6 Full HD, AMD Radeon Graphics, Win 11, Prata Metálico - M1502IA-EJ251W\n",
      "\n",
      "Notebook Gamer Acer Nitro 5 Intel Core i7-11600H, 16GB RAM, NVIDIA GeForce RTX 3050, SSD 512GB, 17.3\" FHD 144Hz IPS, Linux, Preto com vermelho - AN517-54-765V\n",
      "\n",
      "Notebook Lenovo IdeaPad 1i Core i7-1255U, 12GB RAM, SSD 512GB, Intel Iris Xe, 15.6\", Windows 11, Cinza - 82VY000PBR\n",
      "\n",
      "Notebook Gamer ASUS TUF Gaming F15, Intel Core i7-12700H, 16GB RAM, GeForce RTX 3050, SSD 512GB, 15.6, Full HD 144Hz, Windows 11, Cinza - FX507ZC4-HN113W\n",
      "\n",
      "Notebook ASUS Vivobook X1502ZA-EJ1764 Intel Core i3 1220P 3,3GHz 4Gb Ram 256Gb SSD Linux KeepOS 15,6” Led Fhd Intel UHD Graphics Prata Metálico\n",
      "\n",
      "Notebook Gamer Acer Nitro 5, Intel Core I5-11260h, 8GB, GTX 1650 4GB, SSD 512GB, Tela 15.6 Full HD 144Hz, Windows 11 H - AN515-57-59HT\n",
      "\n",
      "Notebook Asus Vivobook M1502ia-Eej251, AMD Ryzen 5-4600h, 8GB, SSD 256GB, Tela 15.6 LED, Linux Keep Os, Prata - 90nb0y52-M00b60\n",
      "\n",
      "Notebook Samsung Book2 Intel Core i5-1235U, 8GB RAM, SSD 256GB, 15.6\" FHD, Intel Iris Xe, Windows 11 Pro, Prata - NP550XED-KF6BR\n",
      "\n",
      "Notebook Samsung Galaxy Book2 Intel Core I3-1215u, Windows 11 Home, 8GB, 256GB SSD, 15.6\" Full HD LED - Grafite\n",
      "\n",
      "Notebook Gamer ASUS Vivobook 16X Intel Core I5-12450H, 8GB, SSD 512GB, Tela 16, RTX 2050, Win 11, Preto - K3605ZF-N1198W\n",
      "\n",
      "Notebook Dell Inspiron 15 3000, 12ª Geração Intel Core I5, 8GB, 512GB SSD, Tela de 15.6\" Polegadas Full HD, Linux, Preto\n",
      "\n"
     ]
    }
   ],
   "source": [
    "for produto in lista_produtos:\n",
    "    print(produto.find_element(By.CLASS_NAME, 'imageCard').get_attribute('title'))\n",
    "    # print(produto.find_element(By.CLASS_NAME, 'imageCard').get_attribute('src'))\n",
    "    # print(produto.get_attribute('href'))\n",
    "    # print(produto.find_element(By.CLASS_NAME, 'sc-620f2d27-1').text)\n",
    "    # print(produto.find_element(By.CLASS_NAME, 'sc-620f2d27-2').text)\n",
    "    print()\n"
   ]
  },
  {
   "cell_type": "code",
   "execution_count": 316,
   "metadata": {},
   "outputs": [
    {
     "data": {
      "text/plain": [
       "'Notebook Acer Aspire 3 AMD Ryzen 3-7320U, 8GB RAM, AMD Radeon, SSD 512GB, 15.6\" LED HD TN 60Hz Windows 11, Cinza - A315-24P-R06B'"
      ]
     },
     "execution_count": 316,
     "metadata": {},
     "output_type": "execute_result"
    }
   ],
   "source": [
    "titulo = navegador.find_elements(By.XPATH, '//span[@class=\"sc-d79c9c3f-0 nlmfp sc-cdc9b13f-16 eHyEuD nameCard\"]')\n",
    "titulo[0].text"
   ]
  },
  {
   "cell_type": "code",
   "execution_count": 317,
   "metadata": {},
   "outputs": [
    {
     "data": {
      "text/plain": [
       "('https://www.kabum.com.br/produto/495514/notebook-acer-aspire-3-amd-ryzen-3-7320u-8gb-ram-amd-radeon-ssd-512gb-15-6-led-hd-tn-60hz-windows-11-cinza-a315-24p-r06b',\n",
       " 20)"
      ]
     },
     "execution_count": 317,
     "metadata": {},
     "output_type": "execute_result"
    }
   ],
   "source": [
    "# //a[@class=\"sc-cdc9b13f-10 jaPdUR productLink\"]\n",
    "titulo = navegador.find_elements(By.XPATH, '//a[@class=\"sc-cdc9b13f-10 jaPdUR productLink\"]')\n",
    "titulo[0].get_attribute('href'), len(titulo)"
   ]
  },
  {
   "cell_type": "code",
   "execution_count": 318,
   "metadata": {},
   "outputs": [
    {
     "name": "stdout",
     "output_type": "stream",
     "text": [
      "Notebook Acer Aspire 3 AMD Ryzen 3-7320U, 8GB RAM, AMD Radeon, SSD 512GB, 15.6\" LED HD TN 60Hz Windows 11, Cinza - A315-24P-R06B\n",
      "Notebook Gamer Acer Nitro 5 Intel Core I7-11800H, 16GB RAM, NVIDIA RTX3050, SSD 512GB, 15.6\" LED FHD IPS, Linux, Preto - AN515-57-795J\n",
      "Notebook Gamer Acer Nitro 5 AMD Ryzen 5 7535HS, 8GB, NVIDIA RTX 3050, SSD 512GB, 15.6 Full HD, Linux Gutta, Preto - AN515-47-R5SU\n",
      "Notebook Gamer ASUS TUF Gaming F15, Intel Core i7-12700H, 8GB RAM, GeForce RTX 3050, SSD 512GB, 15.6, Full HD 144Hz, KeepOS, Cinza - FX507ZC4-HN112\n",
      "Notebook Acer Aspire 3, AMD Ryzen 5, 8GB LPDDR5, SSD 512GB, 15.6 Full HD, Windows 11 Home - A315-24p-R31z\n",
      "Notebook Lenovo IdeaPad 3-15ITL, Intel Core I5-1135G7, 8GB RAM, SSD 512GB, 15.6 Full HD, Windows 11, Cinza - 82MD000WBR\n",
      "Notebook Gamer Lenovo Gaming 3i Intel Core i5-11300H, 8GB RAM, GeForce GTX 1650, SSD 512GB, 15.6 Full HD, Windows 11, Preto - 82MG0009BR\n",
      "Notebook Asus Vivobook, AMD Ryzen 7-4800h, 16GB, SSD 256GB, Tela 15.6 LED, Linux Keep Os, Prata - M1502ia-Ej211\n",
      "Notebook ASUS Vivobook X1502ZA-EJ1761 Intel Core i5 12450H 2 GHz 8Gb Ram 256Gb SSD Linux KeepOS 15,60” LED Full HD Intel UHD Graphics Prata\n",
      "Notebook ASUS Vivobook 15 AMD Ryzen 5-4600H, 8GB RAM, SSD 256GB, 15.6 Full HD, AMD Radeon Graphics, Win 11, Prata Metálico - M1502IA-EJ251W\n",
      "Notebook Gamer Acer Nitro 5 Intel Core i7-11600H, 16GB RAM, NVIDIA GeForce RTX 3050, SSD 512GB, 17.3\" FHD 144Hz IPS, Linux, Preto com vermelho - AN517-54-765V\n",
      "Notebook Lenovo IdeaPad 1i Core i7-1255U, 12GB RAM, SSD 512GB, Intel Iris Xe, 15.6\", Windows 11, Cinza - 82VY000PBR\n",
      "Notebook Gamer ASUS TUF Gaming F15, Intel Core i7-12700H, 16GB RAM, GeForce RTX 3050, SSD 512GB, 15.6, Full HD 144Hz, Windows 11, Cinza - FX507ZC4-HN113W\n",
      "Notebook ASUS Vivobook X1502ZA-EJ1764 Intel Core i3 1220P 3,3GHz 4Gb Ram 256Gb SSD Linux KeepOS 15,6” Led Fhd Intel UHD Graphics Prata Metálico\n",
      "Notebook Gamer Acer Nitro 5, Intel Core I5-11260h, 8GB, GTX 1650 4GB, SSD 512GB, Tela 15.6 Full HD 144Hz, Windows 11 H - AN515-57-59HT\n",
      "Notebook Asus Vivobook M1502ia-Eej251, AMD Ryzen 5-4600h, 8GB, SSD 256GB, Tela 15.6 LED, Linux Keep Os, Prata - 90nb0y52-M00b60\n",
      "Notebook Samsung Book2 Intel Core i5-1235U, 8GB RAM, SSD 256GB, 15.6\" FHD, Intel Iris Xe, Windows 11 Pro, Prata - NP550XED-KF6BR\n",
      "Notebook Samsung Galaxy Book2 Intel Core I3-1215u, Windows 11 Home, 8GB, 256GB SSD, 15.6\" Full HD LED - Grafite\n",
      "Notebook Gamer ASUS Vivobook 16X Intel Core I5-12450H, 8GB, SSD 512GB, Tela 16, RTX 2050, Win 11, Preto - K3605ZF-N1198W\n",
      "Notebook Dell Inspiron 15 3000, 12ª Geração Intel Core I5, 8GB, 512GB SSD, Tela de 15.6\" Polegadas Full HD, Linux, Preto\n"
     ]
    }
   ],
   "source": [
    "titulos = navegador.find_elements(By.CLASS_NAME, 'nameCard')\n",
    "for titulo in titulos:\n",
    "    print(titulo.text)"
   ]
  },
  {
   "cell_type": "code",
   "execution_count": 319,
   "metadata": {},
   "outputs": [
    {
     "name": "stdout",
     "output_type": "stream",
     "text": [
      "Notebook Acer Aspire 3 AMD Ryzen 3-7320U, 8GB RAM, AMD Radeon, SSD 512GB, 15.6\" LED HD TN 60Hz Windows 11, Cinza - A315-24P-R06B\n",
      "Notebook Gamer Acer Nitro 5 Intel Core I7-11800H, 16GB RAM, NVIDIA RTX3050, SSD 512GB, 15.6\" LED FHD IPS, Linux, Preto - AN515-57-795J\n",
      "Notebook Gamer Acer Nitro 5 AMD Ryzen 5 7535HS, 8GB, NVIDIA RTX 3050, SSD 512GB, 15.6 Full HD, Linux Gutta, Preto - AN515-47-R5SU\n",
      "Notebook Gamer ASUS TUF Gaming F15, Intel Core i7-12700H, 8GB RAM, GeForce RTX 3050, SSD 512GB, 15.6, Full HD 144Hz, KeepOS, Cinza - FX507ZC4-HN112\n",
      "Notebook Acer Aspire 3, AMD Ryzen 5, 8GB LPDDR5, SSD 512GB, 15.6 Full HD, Windows 11 Home - A315-24p-R31z\n",
      "Notebook Lenovo IdeaPad 3-15ITL, Intel Core I5-1135G7, 8GB RAM, SSD 512GB, 15.6 Full HD, Windows 11, Cinza - 82MD000WBR\n",
      "Notebook Gamer Lenovo Gaming 3i Intel Core i5-11300H, 8GB RAM, GeForce GTX 1650, SSD 512GB, 15.6 Full HD, Windows 11, Preto - 82MG0009BR\n",
      "Notebook Asus Vivobook, AMD Ryzen 7-4800h, 16GB, SSD 256GB, Tela 15.6 LED, Linux Keep Os, Prata - M1502ia-Ej211\n",
      "Notebook ASUS Vivobook X1502ZA-EJ1761 Intel Core i5 12450H 2 GHz 8Gb Ram 256Gb SSD Linux KeepOS 15,60” LED Full HD Intel UHD Graphics Prata\n",
      "Notebook ASUS Vivobook 15 AMD Ryzen 5-4600H, 8GB RAM, SSD 256GB, 15.6 Full HD, AMD Radeon Graphics, Win 11, Prata Metálico - M1502IA-EJ251W\n",
      "Notebook Gamer Acer Nitro 5 Intel Core i7-11600H, 16GB RAM, NVIDIA GeForce RTX 3050, SSD 512GB, 17.3\" FHD 144Hz IPS, Linux, Preto com vermelho - AN517-54-765V\n",
      "Notebook Lenovo IdeaPad 1i Core i7-1255U, 12GB RAM, SSD 512GB, Intel Iris Xe, 15.6\", Windows 11, Cinza - 82VY000PBR\n",
      "Notebook Gamer ASUS TUF Gaming F15, Intel Core i7-12700H, 16GB RAM, GeForce RTX 3050, SSD 512GB, 15.6, Full HD 144Hz, Windows 11, Cinza - FX507ZC4-HN113W\n",
      "Notebook ASUS Vivobook X1502ZA-EJ1764 Intel Core i3 1220P 3,3GHz 4Gb Ram 256Gb SSD Linux KeepOS 15,6” Led Fhd Intel UHD Graphics Prata Metálico\n",
      "Notebook Gamer Acer Nitro 5, Intel Core I5-11260h, 8GB, GTX 1650 4GB, SSD 512GB, Tela 15.6 Full HD 144Hz, Windows 11 H - AN515-57-59HT\n",
      "Notebook Asus Vivobook M1502ia-Eej251, AMD Ryzen 5-4600h, 8GB, SSD 256GB, Tela 15.6 LED, Linux Keep Os, Prata - 90nb0y52-M00b60\n",
      "Notebook Samsung Book2 Intel Core i5-1235U, 8GB RAM, SSD 256GB, 15.6\" FHD, Intel Iris Xe, Windows 11 Pro, Prata - NP550XED-KF6BR\n",
      "Notebook Samsung Galaxy Book2 Intel Core I3-1215u, Windows 11 Home, 8GB, 256GB SSD, 15.6\" Full HD LED - Grafite\n",
      "Notebook Gamer ASUS Vivobook 16X Intel Core I5-12450H, 8GB, SSD 512GB, Tela 16, RTX 2050, Win 11, Preto - K3605ZF-N1198W\n",
      "Notebook Dell Inspiron 15 3000, 12ª Geração Intel Core I5, 8GB, 512GB SSD, Tela de 15.6\" Polegadas Full HD, Linux, Preto\n"
     ]
    }
   ],
   "source": [
    "titulos = navegador.find_elements(By.CLASS_NAME, 'nameCard')\n",
    "for titulo in titulos:\n",
    "    print(titulo.text)"
   ]
  },
  {
   "cell_type": "code",
   "execution_count": 320,
   "metadata": {},
   "outputs": [
    {
     "name": "stdout",
     "output_type": "stream",
     "text": [
      "https://images.kabum.com.br/produtos/fotos/495514/notebook-acer-aspire-3-amd-ryzen-3-7320u-8gb-ram-amd-radeon-ssd-512gb-15-6-led-hd-tn-60hz-windows-11-cinza-a315-24p-r06b_1696514197_m.jpg\n",
      "https://images.kabum.com.br/produtos/fotos/495513/notebook-gamer-acer-nitro-5-intel-core-i7-11800h-16gb-ram-nvidia-rtx3050-ssd-512gb-15-6-led-fhd-ips-linux-preto-an515-57-795j_1696511422_m.jpg\n",
      "https://images.kabum.com.br/produtos/fotos/471697/notebook-gamer-acer-nitro-5-an515-47-r5su-amd-ryzen-5-7535hs-8gb-nvidia-rtx-3050-ssd-512gb-15-6-full-hd-win-11-preto-nh-qlhal-001_1689859064_m.jpg\n",
      "https://images.kabum.com.br/produtos/fotos/461315/notebook-gamer-asus-tuf-intel-core-i7-12700h-8gb-ram-rtx-3050-512gb-ssd-15-6-hd-keepos-cinza-fx507zc4-hn112_1684413409_m.jpg\n",
      "https://images.kabum.com.br/produtos/fotos/sync_mirakl/483426/Notebook-Acer-Aspire-3-AMD-Ryzen-5-8GB-LPDDR5-SSD-512GB-15-6-Full-HD-Windows-11-Home-A315-24p-R31z_1708440493_m.jpg\n",
      "https://images.kabum.com.br/produtos/fotos/477398/notebook-lenovo-ideapad-3-15itl-intel-core-i5-1135g7-8gb-ram-ssd-512gb-15-6-full-hd-windows-11-cinza-82md000wbr_1695843217_m.jpg\n",
      "https://images.kabum.com.br/produtos/fotos/373931/notebook-gamer-lenovo-gaming-3-intel-core-i5-11300h-geforce-gtx1650-8gb-ram-ssd-512gb-15-6-full-hd-windows-11-preto-82mg0009br-_1662137575_m.jpg\n",
      "https://images.kabum.com.br/produtos/fotos/sync_mirakl/483912/Notebook-Asus-Vivobook-AMD-Ryzen-7-4800h-16GB-SSD-256GB-Tela-15-6-LED-Linux-Keep-Os-Prata-M1502ia-Ej211_1697569128_m.jpg\n",
      "https://images.kabum.com.br/produtos/fotos/sync_mirakl/510065/Notebook-ASUS-Vivobook-X1502ZA-EJ1761-Intel-Core-i5-12450H-2-GHz-8Gb-Ram-256Gb-SSD-Linux-KeepOS-15-60-LED-Full-HD-Intel-UHD-Graphics-Prata_1706292497_m.jpg\n",
      "https://images.kabum.com.br/produtos/fotos/393218/notebook-asus-vivobook-15-amd-ryzen-5-4600h-8gb-ram-ssd-256gb-15-6-full-hd-amd-radeon-graphics-win-11-prata-metalico-m1502ia-ej251w_1710269786_m.jpg\n",
      "https://images.kabum.com.br/produtos/fotos/527012/notebook-gamer-acer-nitro-5-intel-core-i7-16gb-ram-geforce-rtx-3050-ssd-512gb-17-3-fhd-linux-preto-com-vermelho-an517-54-765v_1709304791_m.jpg\n",
      "https://images.kabum.com.br/produtos/fotos/509699/notebook-gamer-lenovo-ideapad-1i-i7-1255u-12gb-ram-placa-de-video-intel-iris-xe-ssd-512gb-15-6-windows-11-cinza-82vy000pbr_1703015452_m.jpg\n",
      "https://images.kabum.com.br/produtos/fotos/461316/notebook-gamer-asus-tuf-intel-core-i7-12700h-16gb-ram-ssd-512gb-geforce-rtx3050-15-6-hd-windows-11-home-cinza-fx507zc4-hn113w_1684416162_m.jpg\n",
      "https://images.kabum.com.br/produtos/fotos/sync_mirakl/510011/Notebook-ASUS-Vivobook-X1502ZA-EJ1764-Intel-Core-i3-1220P-3-3GHz-4Gb-Ram-256Gb-SSD-Linux-KeepOS-15-6-Led-Fhd-Intel-UHD-Graphics-Prata-Met-lico_1706292497_m.jpg\n",
      "https://images.kabum.com.br/produtos/fotos/sync_mirakl/512403/Notebook-Gamer-Acer-Nitro-5-Intel-Core-I5-11260h-8GB-GTX-1650-4GB-SSD-512GB-Tela-15-6-Full-HD-144Hz-Windows-11-H-AN515-57-59HT_1708441093_m.jpg\n",
      "https://images.kabum.com.br/produtos/fotos/sync_mirakl/459327/Notebook-Asus-Vivobook-M1502ia-Eej251-AMD-Ryzen-5-4600h-8GB-SSD-256GB-Tela-15-6-LED-Linux-Keep-Os-Prata-90nb0y52-M00b60_1705590493_m.jpg\n",
      "https://images.kabum.com.br/produtos/fotos/514806/notebook-samsung-book2-intel-core-i5-1235u-8gb-ram-ssd-256gb-15-6-fhd-intel-iris-xe-windows-11-pro-prata-np550xed-kf6br_1709808958_m.jpg\n",
      "https://images.kabum.com.br/produtos/fotos/sync_mirakl/385568/Notebook-Samsung-Galaxy-Book2-Intel-Core-I3-1215u-Windows-11-Home-8GB-256GB-SSD-15-6-Full-HD-LED-Grafite_1704984496_m.jpg\n",
      "https://images.kabum.com.br/produtos/fotos/477142/notebook-gamer-asus-vivobook-16x-intel-core-i5-12450h-8gb-ssd-512gb-tela-16-rtx-2050-win-11-preto-k3605zf-n1198w_1704277052_m.jpg\n",
      "https://images.kabum.com.br/produtos/fotos/sync_mirakl/508495/Notebook-Dell-Inspiron-15-3000-12-Gera-o-Intel-Core-I5-8GB-512GB-SSD-Tela-de-15-6-Polegadas-Full-HD-Linux-Preto_1701780492_m.jpg\n"
     ]
    }
   ],
   "source": [
    "titulos = navegador.find_elements(By.CLASS_NAME, 'imageCard')\n",
    "for titulo in titulos:\n",
    "    print(titulo.get_attribute('src'))"
   ]
  },
  {
   "cell_type": "code",
   "execution_count": 321,
   "metadata": {},
   "outputs": [],
   "source": [
    "navegador.close()"
   ]
  }
 ],
 "metadata": {
  "kernelspec": {
   "display_name": "venv",
   "language": "python",
   "name": "python3"
  },
  "language_info": {
   "codemirror_mode": {
    "name": "ipython",
    "version": 3
   },
   "file_extension": ".py",
   "mimetype": "text/x-python",
   "name": "python",
   "nbconvert_exporter": "python",
   "pygments_lexer": "ipython3",
   "version": "3.10.12"
  }
 },
 "nbformat": 4,
 "nbformat_minor": 2
}
