{
 "cells": [
  {
   "cell_type": "code",
   "execution_count": 1,
   "metadata": {},
   "outputs": [],
   "source": [
    "import pandas as pd\n",
    "import plotly.express as px\n",
    "import numpy as np"
   ]
  },
  {
   "cell_type": "code",
   "execution_count": 2,
   "metadata": {},
   "outputs": [],
   "source": [
    "base_original = pd.read_parquet('../data/processed/base_casa.parquet')"
   ]
  },
  {
   "cell_type": "code",
   "execution_count": 3,
   "metadata": {},
   "outputs": [
    {
     "data": {
      "text/plain": [
       "Index(['tipo_imovel', 'nome', 'preco', 'metragem', 'quarto', 'banheiro',\n",
       "       'garagem', 'ID_CASA', 'bairro_teste'],\n",
       "      dtype='object')"
      ]
     },
     "execution_count": 3,
     "metadata": {},
     "output_type": "execute_result"
    }
   ],
   "source": [
    "base_original.columns"
   ]
  },
  {
   "cell_type": "code",
   "execution_count": 4,
   "metadata": {},
   "outputs": [
    {
     "data": {
      "text/html": [
       "<div>\n",
       "<style scoped>\n",
       "    .dataframe tbody tr th:only-of-type {\n",
       "        vertical-align: middle;\n",
       "    }\n",
       "\n",
       "    .dataframe tbody tr th {\n",
       "        vertical-align: top;\n",
       "    }\n",
       "\n",
       "    .dataframe thead th {\n",
       "        text-align: right;\n",
       "    }\n",
       "</style>\n",
       "<table border=\"1\" class=\"dataframe\">\n",
       "  <thead>\n",
       "    <tr style=\"text-align: right;\">\n",
       "      <th></th>\n",
       "      <th>tipo_imovel</th>\n",
       "      <th>nome</th>\n",
       "      <th>preco</th>\n",
       "      <th>metragem</th>\n",
       "      <th>quarto</th>\n",
       "      <th>banheiro</th>\n",
       "      <th>garagem</th>\n",
       "      <th>ID_CASA</th>\n",
       "      <th>bairro_teste</th>\n",
       "    </tr>\n",
       "  </thead>\n",
       "  <tbody>\n",
       "    <tr>\n",
       "      <th>0</th>\n",
       "      <td>Apartamento</td>\n",
       "      <td>Apartamento com 2 Quartos à Venda, 65m²</td>\n",
       "      <td>310000.0</td>\n",
       "      <td>65</td>\n",
       "      <td>2</td>\n",
       "      <td>2</td>\n",
       "      <td>1</td>\n",
       "      <td>2699716579</td>\n",
       "      <td>Jardim Botânico</td>\n",
       "    </tr>\n",
       "    <tr>\n",
       "      <th>2</th>\n",
       "      <td>Apartamento</td>\n",
       "      <td>Apartamento com 2 Quartos à Venda, 71m²</td>\n",
       "      <td>403500.0</td>\n",
       "      <td>71</td>\n",
       "      <td>2</td>\n",
       "      <td>2</td>\n",
       "      <td>2</td>\n",
       "      <td>2690493538</td>\n",
       "      <td>Bonfim Paulista</td>\n",
       "    </tr>\n",
       "    <tr>\n",
       "      <th>3</th>\n",
       "      <td>Apartamento</td>\n",
       "      <td>Apartamento com 2 Quartos à Venda, 54m²</td>\n",
       "      <td>290000.0</td>\n",
       "      <td>54</td>\n",
       "      <td>2</td>\n",
       "      <td>2</td>\n",
       "      <td>1</td>\n",
       "      <td>2667652105</td>\n",
       "      <td>Nova Aliança</td>\n",
       "    </tr>\n",
       "    <tr>\n",
       "      <th>4</th>\n",
       "      <td>Apartamento</td>\n",
       "      <td>Apartamento com 2 Quartos à Venda, 45m²</td>\n",
       "      <td>166420.0</td>\n",
       "      <td>45</td>\n",
       "      <td>2</td>\n",
       "      <td>1</td>\n",
       "      <td>1</td>\n",
       "      <td>2682840782</td>\n",
       "      <td>Conjunto Habitacional Jardim Das Palmeiras</td>\n",
       "    </tr>\n",
       "    <tr>\n",
       "      <th>5</th>\n",
       "      <td>Apartamento</td>\n",
       "      <td>Apartamento com 2 Quartos à Venda, 64m²</td>\n",
       "      <td>370000.0</td>\n",
       "      <td>64</td>\n",
       "      <td>2</td>\n",
       "      <td>2</td>\n",
       "      <td>2</td>\n",
       "      <td>2688027260</td>\n",
       "      <td>Vila Ana Maria</td>\n",
       "    </tr>\n",
       "  </tbody>\n",
       "</table>\n",
       "</div>"
      ],
      "text/plain": [
       "   tipo_imovel                                     nome     preco metragem  \\\n",
       "0  Apartamento  Apartamento com 2 Quartos à Venda, 65m²  310000.0       65   \n",
       "2  Apartamento  Apartamento com 2 Quartos à Venda, 71m²  403500.0       71   \n",
       "3  Apartamento  Apartamento com 2 Quartos à Venda, 54m²  290000.0       54   \n",
       "4  Apartamento  Apartamento com 2 Quartos à Venda, 45m²  166420.0       45   \n",
       "5  Apartamento  Apartamento com 2 Quartos à Venda, 64m²  370000.0       64   \n",
       "\n",
       "  quarto banheiro garagem     ID_CASA  \\\n",
       "0     2        2       1   2699716579   \n",
       "2     2        2       2   2690493538   \n",
       "3     2        2       1   2667652105   \n",
       "4     2        1       1   2682840782   \n",
       "5     2        2       2   2688027260   \n",
       "\n",
       "                                 bairro_teste  \n",
       "0                             Jardim Botânico  \n",
       "2                             Bonfim Paulista  \n",
       "3                                Nova Aliança  \n",
       "4  Conjunto Habitacional Jardim Das Palmeiras  \n",
       "5                              Vila Ana Maria  "
      ]
     },
     "execution_count": 4,
     "metadata": {},
     "output_type": "execute_result"
    }
   ],
   "source": [
    "base_original.head()"
   ]
  },
  {
   "cell_type": "code",
   "execution_count": 5,
   "metadata": {},
   "outputs": [
    {
     "data": {
      "text/plain": [
       "True"
      ]
     },
     "execution_count": 5,
     "metadata": {},
     "output_type": "execute_result"
    }
   ],
   "source": [
    "base_original.duplicated().any()"
   ]
  },
  {
   "cell_type": "code",
   "execution_count": 6,
   "metadata": {},
   "outputs": [
    {
     "data": {
      "text/plain": [
       "(19936, 9)"
      ]
     },
     "execution_count": 6,
     "metadata": {},
     "output_type": "execute_result"
    }
   ],
   "source": [
    "base_original.shape"
   ]
  },
  {
   "cell_type": "code",
   "execution_count": 7,
   "metadata": {},
   "outputs": [],
   "source": [
    "base_original.drop_duplicates(inplace=True)"
   ]
  },
  {
   "cell_type": "code",
   "execution_count": 8,
   "metadata": {},
   "outputs": [
    {
     "data": {
      "text/plain": [
       "(15390, 9)"
      ]
     },
     "execution_count": 8,
     "metadata": {},
     "output_type": "execute_result"
    }
   ],
   "source": [
    "base_original.shape"
   ]
  },
  {
   "cell_type": "code",
   "execution_count": 9,
   "metadata": {},
   "outputs": [
    {
     "data": {
      "text/html": [
       "<div>\n",
       "<style scoped>\n",
       "    .dataframe tbody tr th:only-of-type {\n",
       "        vertical-align: middle;\n",
       "    }\n",
       "\n",
       "    .dataframe tbody tr th {\n",
       "        vertical-align: top;\n",
       "    }\n",
       "\n",
       "    .dataframe thead th {\n",
       "        text-align: right;\n",
       "    }\n",
       "</style>\n",
       "<table border=\"1\" class=\"dataframe\">\n",
       "  <thead>\n",
       "    <tr style=\"text-align: right;\">\n",
       "      <th></th>\n",
       "      <th>tipo_imovel</th>\n",
       "      <th>nome</th>\n",
       "      <th>preco</th>\n",
       "      <th>metragem</th>\n",
       "      <th>quarto</th>\n",
       "      <th>banheiro</th>\n",
       "      <th>garagem</th>\n",
       "      <th>ID_CASA</th>\n",
       "      <th>bairro_teste</th>\n",
       "    </tr>\n",
       "  </thead>\n",
       "  <tbody>\n",
       "    <tr>\n",
       "      <th>0</th>\n",
       "      <td>Apartamento</td>\n",
       "      <td>Apartamento com 2 Quartos à Venda, 65m²</td>\n",
       "      <td>310000.0</td>\n",
       "      <td>65</td>\n",
       "      <td>2</td>\n",
       "      <td>2</td>\n",
       "      <td>1</td>\n",
       "      <td>2699716579</td>\n",
       "      <td>Jardim Botânico</td>\n",
       "    </tr>\n",
       "    <tr>\n",
       "      <th>2</th>\n",
       "      <td>Apartamento</td>\n",
       "      <td>Apartamento com 2 Quartos à Venda, 71m²</td>\n",
       "      <td>403500.0</td>\n",
       "      <td>71</td>\n",
       "      <td>2</td>\n",
       "      <td>2</td>\n",
       "      <td>2</td>\n",
       "      <td>2690493538</td>\n",
       "      <td>Bonfim Paulista</td>\n",
       "    </tr>\n",
       "    <tr>\n",
       "      <th>3</th>\n",
       "      <td>Apartamento</td>\n",
       "      <td>Apartamento com 2 Quartos à Venda, 54m²</td>\n",
       "      <td>290000.0</td>\n",
       "      <td>54</td>\n",
       "      <td>2</td>\n",
       "      <td>2</td>\n",
       "      <td>1</td>\n",
       "      <td>2667652105</td>\n",
       "      <td>Nova Aliança</td>\n",
       "    </tr>\n",
       "    <tr>\n",
       "      <th>4</th>\n",
       "      <td>Apartamento</td>\n",
       "      <td>Apartamento com 2 Quartos à Venda, 45m²</td>\n",
       "      <td>166420.0</td>\n",
       "      <td>45</td>\n",
       "      <td>2</td>\n",
       "      <td>1</td>\n",
       "      <td>1</td>\n",
       "      <td>2682840782</td>\n",
       "      <td>Conjunto Habitacional Jardim Das Palmeiras</td>\n",
       "    </tr>\n",
       "    <tr>\n",
       "      <th>5</th>\n",
       "      <td>Apartamento</td>\n",
       "      <td>Apartamento com 2 Quartos à Venda, 64m²</td>\n",
       "      <td>370000.0</td>\n",
       "      <td>64</td>\n",
       "      <td>2</td>\n",
       "      <td>2</td>\n",
       "      <td>2</td>\n",
       "      <td>2688027260</td>\n",
       "      <td>Vila Ana Maria</td>\n",
       "    </tr>\n",
       "    <tr>\n",
       "      <th>...</th>\n",
       "      <td>...</td>\n",
       "      <td>...</td>\n",
       "      <td>...</td>\n",
       "      <td>...</td>\n",
       "      <td>...</td>\n",
       "      <td>...</td>\n",
       "      <td>...</td>\n",
       "      <td>...</td>\n",
       "      <td>...</td>\n",
       "    </tr>\n",
       "    <tr>\n",
       "      <th>9967</th>\n",
       "      <td>Apartamento</td>\n",
       "      <td>Apartamento com 3 Quartos à Venda, 81m²</td>\n",
       "      <td>540000.0</td>\n",
       "      <td>81</td>\n",
       "      <td>3</td>\n",
       "      <td>2</td>\n",
       "      <td>2</td>\n",
       "      <td>2696267182</td>\n",
       "      <td>Vila Do Golf</td>\n",
       "    </tr>\n",
       "    <tr>\n",
       "      <th>9968</th>\n",
       "      <td>Apartamento</td>\n",
       "      <td>Apartamento com Quarto à Venda, 61m²</td>\n",
       "      <td>280000.0</td>\n",
       "      <td>61</td>\n",
       "      <td>1</td>\n",
       "      <td>1</td>\n",
       "      <td>1</td>\n",
       "      <td>2476716299</td>\n",
       "      <td>Centro</td>\n",
       "    </tr>\n",
       "    <tr>\n",
       "      <th>9969</th>\n",
       "      <td>Apartamento</td>\n",
       "      <td>Apartamento com 3 Quartos à Venda, 83m²</td>\n",
       "      <td>375000.0</td>\n",
       "      <td>83</td>\n",
       "      <td>3</td>\n",
       "      <td>3</td>\n",
       "      <td>2</td>\n",
       "      <td>2693112449</td>\n",
       "      <td>Jardim São Luiz</td>\n",
       "    </tr>\n",
       "    <tr>\n",
       "      <th>9970</th>\n",
       "      <td>Apartamento</td>\n",
       "      <td>Apartamento com 2 Quartos à Venda, 48m²</td>\n",
       "      <td>175000.0</td>\n",
       "      <td>48</td>\n",
       "      <td>2</td>\n",
       "      <td>1</td>\n",
       "      <td>1</td>\n",
       "      <td>2572455642</td>\n",
       "      <td>Lagoinha</td>\n",
       "    </tr>\n",
       "    <tr>\n",
       "      <th>9971</th>\n",
       "      <td>Apartamento</td>\n",
       "      <td>Apartamento com 3 Quartos à Venda, 120m²</td>\n",
       "      <td>394000.0</td>\n",
       "      <td>120</td>\n",
       "      <td>3</td>\n",
       "      <td>3</td>\n",
       "      <td>1</td>\n",
       "      <td>2523506081</td>\n",
       "      <td>Centro</td>\n",
       "    </tr>\n",
       "  </tbody>\n",
       "</table>\n",
       "<p>8395 rows × 9 columns</p>\n",
       "</div>"
      ],
      "text/plain": [
       "      tipo_imovel                                      nome     preco  \\\n",
       "0     Apartamento   Apartamento com 2 Quartos à Venda, 65m²  310000.0   \n",
       "2     Apartamento   Apartamento com 2 Quartos à Venda, 71m²  403500.0   \n",
       "3     Apartamento   Apartamento com 2 Quartos à Venda, 54m²  290000.0   \n",
       "4     Apartamento   Apartamento com 2 Quartos à Venda, 45m²  166420.0   \n",
       "5     Apartamento   Apartamento com 2 Quartos à Venda, 64m²  370000.0   \n",
       "...           ...                                       ...       ...   \n",
       "9967  Apartamento   Apartamento com 3 Quartos à Venda, 81m²  540000.0   \n",
       "9968  Apartamento      Apartamento com Quarto à Venda, 61m²  280000.0   \n",
       "9969  Apartamento   Apartamento com 3 Quartos à Venda, 83m²  375000.0   \n",
       "9970  Apartamento   Apartamento com 2 Quartos à Venda, 48m²  175000.0   \n",
       "9971  Apartamento  Apartamento com 3 Quartos à Venda, 120m²  394000.0   \n",
       "\n",
       "      metragem  quarto  banheiro  garagem     ID_CASA  \\\n",
       "0           65       2         2        1  2699716579   \n",
       "2           71       2         2        2  2690493538   \n",
       "3           54       2         2        1  2667652105   \n",
       "4           45       2         1        1  2682840782   \n",
       "5           64       2         2        2  2688027260   \n",
       "...        ...     ...       ...      ...         ...   \n",
       "9967        81       3         2        2  2696267182   \n",
       "9968        61       1         1        1  2476716299   \n",
       "9969        83       3         3        2  2693112449   \n",
       "9970        48       2         1        1  2572455642   \n",
       "9971       120       3         3        1  2523506081   \n",
       "\n",
       "                                    bairro_teste  \n",
       "0                                Jardim Botânico  \n",
       "2                                Bonfim Paulista  \n",
       "3                                   Nova Aliança  \n",
       "4     Conjunto Habitacional Jardim Das Palmeiras  \n",
       "5                                 Vila Ana Maria  \n",
       "...                                          ...  \n",
       "9967                                Vila Do Golf  \n",
       "9968                                      Centro  \n",
       "9969                             Jardim São Luiz  \n",
       "9970                                    Lagoinha  \n",
       "9971                                      Centro  \n",
       "\n",
       "[8395 rows x 9 columns]"
      ]
     },
     "execution_count": 9,
     "metadata": {},
     "output_type": "execute_result"
    }
   ],
   "source": [
    "tipo_imovel = 'Apartamento'\n",
    "base_original = base_original.query(f'tipo_imovel == \"{tipo_imovel}\"')\n",
    "base_original"
   ]
  },
  {
   "cell_type": "markdown",
   "metadata": {},
   "source": [
    "- Metro mais caro"
   ]
  },
  {
   "cell_type": "code",
   "execution_count": 20,
   "metadata": {},
   "outputs": [],
   "source": [
    "base_original['preco_por_metro'] = base_original['preco'] / base_original['metragem']"
   ]
  },
  {
   "cell_type": "code",
   "execution_count": 21,
   "metadata": {},
   "outputs": [
    {
     "data": {
      "text/html": [
       "<div>\n",
       "<style scoped>\n",
       "    .dataframe tbody tr th:only-of-type {\n",
       "        vertical-align: middle;\n",
       "    }\n",
       "\n",
       "    .dataframe tbody tr th {\n",
       "        vertical-align: top;\n",
       "    }\n",
       "\n",
       "    .dataframe thead th {\n",
       "        text-align: right;\n",
       "    }\n",
       "</style>\n",
       "<table border=\"1\" class=\"dataframe\">\n",
       "  <thead>\n",
       "    <tr style=\"text-align: right;\">\n",
       "      <th></th>\n",
       "      <th>tipo_imovel</th>\n",
       "      <th>nome</th>\n",
       "      <th>preco</th>\n",
       "      <th>metragem</th>\n",
       "      <th>quarto</th>\n",
       "      <th>banheiro</th>\n",
       "      <th>garagem</th>\n",
       "      <th>ID_CASA</th>\n",
       "      <th>bairro_teste</th>\n",
       "      <th>preco_por_metro</th>\n",
       "    </tr>\n",
       "  </thead>\n",
       "  <tbody>\n",
       "    <tr>\n",
       "      <th>0</th>\n",
       "      <td>Apartamento</td>\n",
       "      <td>Apartamento com 2 Quartos à Venda, 65m²</td>\n",
       "      <td>310000.0</td>\n",
       "      <td>65</td>\n",
       "      <td>2</td>\n",
       "      <td>2</td>\n",
       "      <td>1</td>\n",
       "      <td>2699716579</td>\n",
       "      <td>Jardim Botânico</td>\n",
       "      <td>4769.230769</td>\n",
       "    </tr>\n",
       "    <tr>\n",
       "      <th>2</th>\n",
       "      <td>Apartamento</td>\n",
       "      <td>Apartamento com 2 Quartos à Venda, 71m²</td>\n",
       "      <td>403500.0</td>\n",
       "      <td>71</td>\n",
       "      <td>2</td>\n",
       "      <td>2</td>\n",
       "      <td>2</td>\n",
       "      <td>2690493538</td>\n",
       "      <td>Bonfim Paulista</td>\n",
       "      <td>5683.098592</td>\n",
       "    </tr>\n",
       "    <tr>\n",
       "      <th>3</th>\n",
       "      <td>Apartamento</td>\n",
       "      <td>Apartamento com 2 Quartos à Venda, 54m²</td>\n",
       "      <td>290000.0</td>\n",
       "      <td>54</td>\n",
       "      <td>2</td>\n",
       "      <td>2</td>\n",
       "      <td>1</td>\n",
       "      <td>2667652105</td>\n",
       "      <td>Nova Aliança</td>\n",
       "      <td>5370.370370</td>\n",
       "    </tr>\n",
       "    <tr>\n",
       "      <th>4</th>\n",
       "      <td>Apartamento</td>\n",
       "      <td>Apartamento com 2 Quartos à Venda, 45m²</td>\n",
       "      <td>166420.0</td>\n",
       "      <td>45</td>\n",
       "      <td>2</td>\n",
       "      <td>1</td>\n",
       "      <td>1</td>\n",
       "      <td>2682840782</td>\n",
       "      <td>Conjunto Habitacional Jardim Das Palmeiras</td>\n",
       "      <td>3698.222222</td>\n",
       "    </tr>\n",
       "    <tr>\n",
       "      <th>5</th>\n",
       "      <td>Apartamento</td>\n",
       "      <td>Apartamento com 2 Quartos à Venda, 64m²</td>\n",
       "      <td>370000.0</td>\n",
       "      <td>64</td>\n",
       "      <td>2</td>\n",
       "      <td>2</td>\n",
       "      <td>2</td>\n",
       "      <td>2688027260</td>\n",
       "      <td>Vila Ana Maria</td>\n",
       "      <td>5781.250000</td>\n",
       "    </tr>\n",
       "    <tr>\n",
       "      <th>...</th>\n",
       "      <td>...</td>\n",
       "      <td>...</td>\n",
       "      <td>...</td>\n",
       "      <td>...</td>\n",
       "      <td>...</td>\n",
       "      <td>...</td>\n",
       "      <td>...</td>\n",
       "      <td>...</td>\n",
       "      <td>...</td>\n",
       "      <td>...</td>\n",
       "    </tr>\n",
       "    <tr>\n",
       "      <th>9946</th>\n",
       "      <td>Casa</td>\n",
       "      <td>Casa com 3 Quartos à Venda, 144m²</td>\n",
       "      <td>399000.0</td>\n",
       "      <td>144</td>\n",
       "      <td>3</td>\n",
       "      <td>2</td>\n",
       "      <td>4</td>\n",
       "      <td>2622227362</td>\n",
       "      <td>Parque Residencial Cândido Portinari</td>\n",
       "      <td>2770.833333</td>\n",
       "    </tr>\n",
       "    <tr>\n",
       "      <th>9947</th>\n",
       "      <td>Casa</td>\n",
       "      <td>Casa com 3 Quartos à Venda, 100m²</td>\n",
       "      <td>265000.0</td>\n",
       "      <td>100</td>\n",
       "      <td>3</td>\n",
       "      <td>2</td>\n",
       "      <td>4</td>\n",
       "      <td>2672360578</td>\n",
       "      <td>Dom Bernardo Jose Mielle</td>\n",
       "      <td>2650.000000</td>\n",
       "    </tr>\n",
       "    <tr>\n",
       "      <th>9948</th>\n",
       "      <td>Casa</td>\n",
       "      <td>Casa com 2 Quartos à Venda, 81m²</td>\n",
       "      <td>185000.0</td>\n",
       "      <td>81</td>\n",
       "      <td>2</td>\n",
       "      <td>1</td>\n",
       "      <td>1</td>\n",
       "      <td>2615919718</td>\n",
       "      <td>Jardim Maria Das Graças</td>\n",
       "      <td>2283.950617</td>\n",
       "    </tr>\n",
       "    <tr>\n",
       "      <th>9949</th>\n",
       "      <td>Casa</td>\n",
       "      <td>Casa com 3 Quartos à Venda, 222m²</td>\n",
       "      <td>430000.0</td>\n",
       "      <td>222</td>\n",
       "      <td>3</td>\n",
       "      <td>2</td>\n",
       "      <td>2</td>\n",
       "      <td>2631657528</td>\n",
       "      <td>Parque Ribeirão Preto</td>\n",
       "      <td>1936.936937</td>\n",
       "    </tr>\n",
       "    <tr>\n",
       "      <th>9950</th>\n",
       "      <td>Casa</td>\n",
       "      <td>Casa com 4 Quartos à Venda, 160m²</td>\n",
       "      <td>595000.0</td>\n",
       "      <td>160</td>\n",
       "      <td>4</td>\n",
       "      <td>4</td>\n",
       "      <td>2</td>\n",
       "      <td>2635510468</td>\n",
       "      <td>Jardim Califórnia</td>\n",
       "      <td>3718.750000</td>\n",
       "    </tr>\n",
       "  </tbody>\n",
       "</table>\n",
       "<p>15390 rows × 10 columns</p>\n",
       "</div>"
      ],
      "text/plain": [
       "      tipo_imovel                                     nome     preco  \\\n",
       "0     Apartamento  Apartamento com 2 Quartos à Venda, 65m²  310000.0   \n",
       "2     Apartamento  Apartamento com 2 Quartos à Venda, 71m²  403500.0   \n",
       "3     Apartamento  Apartamento com 2 Quartos à Venda, 54m²  290000.0   \n",
       "4     Apartamento  Apartamento com 2 Quartos à Venda, 45m²  166420.0   \n",
       "5     Apartamento  Apartamento com 2 Quartos à Venda, 64m²  370000.0   \n",
       "...           ...                                      ...       ...   \n",
       "9946         Casa        Casa com 3 Quartos à Venda, 144m²  399000.0   \n",
       "9947         Casa        Casa com 3 Quartos à Venda, 100m²  265000.0   \n",
       "9948         Casa         Casa com 2 Quartos à Venda, 81m²  185000.0   \n",
       "9949         Casa        Casa com 3 Quartos à Venda, 222m²  430000.0   \n",
       "9950         Casa        Casa com 4 Quartos à Venda, 160m²  595000.0   \n",
       "\n",
       "      metragem  quarto  banheiro  garagem     ID_CASA  \\\n",
       "0           65       2         2        1  2699716579   \n",
       "2           71       2         2        2  2690493538   \n",
       "3           54       2         2        1  2667652105   \n",
       "4           45       2         1        1  2682840782   \n",
       "5           64       2         2        2  2688027260   \n",
       "...        ...     ...       ...      ...         ...   \n",
       "9946       144       3         2        4  2622227362   \n",
       "9947       100       3         2        4  2672360578   \n",
       "9948        81       2         1        1  2615919718   \n",
       "9949       222       3         2        2  2631657528   \n",
       "9950       160       4         4        2  2635510468   \n",
       "\n",
       "                                    bairro_teste  preco_por_metro  \n",
       "0                                Jardim Botânico      4769.230769  \n",
       "2                                Bonfim Paulista      5683.098592  \n",
       "3                                   Nova Aliança      5370.370370  \n",
       "4     Conjunto Habitacional Jardim Das Palmeiras      3698.222222  \n",
       "5                                 Vila Ana Maria      5781.250000  \n",
       "...                                          ...              ...  \n",
       "9946        Parque Residencial Cândido Portinari      2770.833333  \n",
       "9947                    Dom Bernardo Jose Mielle      2650.000000  \n",
       "9948                     Jardim Maria Das Graças      2283.950617  \n",
       "9949                       Parque Ribeirão Preto      1936.936937  \n",
       "9950                           Jardim Califórnia      3718.750000  \n",
       "\n",
       "[15390 rows x 10 columns]"
      ]
     },
     "execution_count": 21,
     "metadata": {},
     "output_type": "execute_result"
    }
   ],
   "source": [
    "base_original"
   ]
  },
  {
   "cell_type": "code",
   "execution_count": 9,
   "metadata": {},
   "outputs": [],
   "source": [
    "base_original.to_parquet('../data/processed/base_casa_v2.parquet')"
   ]
  },
  {
   "cell_type": "code",
   "execution_count": 11,
   "metadata": {},
   "outputs": [
    {
     "data": {
      "text/html": [
       "<div>\n",
       "<style scoped>\n",
       "    .dataframe tbody tr th:only-of-type {\n",
       "        vertical-align: middle;\n",
       "    }\n",
       "\n",
       "    .dataframe tbody tr th {\n",
       "        vertical-align: top;\n",
       "    }\n",
       "\n",
       "    .dataframe thead th {\n",
       "        text-align: right;\n",
       "    }\n",
       "</style>\n",
       "<table border=\"1\" class=\"dataframe\">\n",
       "  <thead>\n",
       "    <tr style=\"text-align: right;\">\n",
       "      <th></th>\n",
       "      <th>bairro_teste</th>\n",
       "      <th>preco_por_metro_bairro</th>\n",
       "    </tr>\n",
       "  </thead>\n",
       "  <tbody>\n",
       "    <tr>\n",
       "      <th>9</th>\n",
       "      <td>Centro</td>\n",
       "      <td>44500.000000</td>\n",
       "    </tr>\n",
       "    <tr>\n",
       "      <th>94</th>\n",
       "      <td>Jardim Zara</td>\n",
       "      <td>24000.000000</td>\n",
       "    </tr>\n",
       "    <tr>\n",
       "      <th>145</th>\n",
       "      <td>Vila Amélia</td>\n",
       "      <td>22835.820896</td>\n",
       "    </tr>\n",
       "    <tr>\n",
       "      <th>102</th>\n",
       "      <td>Parque Dos Bandeirantes</td>\n",
       "      <td>21200.000000</td>\n",
       "    </tr>\n",
       "    <tr>\n",
       "      <th>58</th>\n",
       "      <td>Jardim Jose Wilson Toni</td>\n",
       "      <td>18000.000000</td>\n",
       "    </tr>\n",
       "    <tr>\n",
       "      <th>...</th>\n",
       "      <td>...</td>\n",
       "      <td>...</td>\n",
       "    </tr>\n",
       "    <tr>\n",
       "      <th>77</th>\n",
       "      <td>Jardim Piratininga</td>\n",
       "      <td>2881.355932</td>\n",
       "    </tr>\n",
       "    <tr>\n",
       "      <th>31</th>\n",
       "      <td>Jardim Angelo Jurca</td>\n",
       "      <td>2826.086957</td>\n",
       "    </tr>\n",
       "    <tr>\n",
       "      <th>64</th>\n",
       "      <td>Jardim Marchesi</td>\n",
       "      <td>2674.418605</td>\n",
       "    </tr>\n",
       "    <tr>\n",
       "      <th>112</th>\n",
       "      <td>Planalto Verde Vi</td>\n",
       "      <td>2650.000000</td>\n",
       "    </tr>\n",
       "    <tr>\n",
       "      <th>95</th>\n",
       "      <td>Jose Figueira</td>\n",
       "      <td>2326.086957</td>\n",
       "    </tr>\n",
       "  </tbody>\n",
       "</table>\n",
       "<p>159 rows × 2 columns</p>\n",
       "</div>"
      ],
      "text/plain": [
       "                bairro_teste  preco_por_metro_bairro\n",
       "9                     Centro            44500.000000\n",
       "94               Jardim Zara            24000.000000\n",
       "145              Vila Amélia            22835.820896\n",
       "102  Parque Dos Bandeirantes            21200.000000\n",
       "58   Jardim Jose Wilson Toni            18000.000000\n",
       "..                       ...                     ...\n",
       "77        Jardim Piratininga             2881.355932\n",
       "31       Jardim Angelo Jurca             2826.086957\n",
       "64           Jardim Marchesi             2674.418605\n",
       "112        Planalto Verde Vi             2650.000000\n",
       "95             Jose Figueira             2326.086957\n",
       "\n",
       "[159 rows x 2 columns]"
      ]
     },
     "execution_count": 11,
     "metadata": {},
     "output_type": "execute_result"
    }
   ],
   "source": [
    "base_original.groupby('bairro_teste') \\\n",
    "    .agg(\n",
    "        preco_por_metro_bairro=('preco_por_metro', 'max')\n",
    "    ).reset_index().sort_values(by='preco_por_metro_bairro', ascending=False)"
   ]
  },
  {
   "cell_type": "markdown",
   "metadata": {},
   "source": [
    "- Análise de preço por bairro"
   ]
  },
  {
   "cell_type": "code",
   "execution_count": 45,
   "metadata": {},
   "outputs": [
    {
     "data": {
      "text/html": [
       "<div>\n",
       "<style scoped>\n",
       "    .dataframe tbody tr th:only-of-type {\n",
       "        vertical-align: middle;\n",
       "    }\n",
       "\n",
       "    .dataframe tbody tr th {\n",
       "        vertical-align: top;\n",
       "    }\n",
       "\n",
       "    .dataframe thead th {\n",
       "        text-align: right;\n",
       "    }\n",
       "</style>\n",
       "<table border=\"1\" class=\"dataframe\">\n",
       "  <thead>\n",
       "    <tr style=\"text-align: right;\">\n",
       "      <th></th>\n",
       "      <th>bairro_teste</th>\n",
       "      <th>preco_medio</th>\n",
       "      <th>preco_max</th>\n",
       "    </tr>\n",
       "  </thead>\n",
       "  <tbody>\n",
       "    <tr>\n",
       "      <th>34</th>\n",
       "      <td>Jardim Botânico</td>\n",
       "      <td>7.443894e+05</td>\n",
       "      <td>8000000.0</td>\n",
       "    </tr>\n",
       "    <tr>\n",
       "      <th>6</th>\n",
       "      <td>Bonfim Paulista</td>\n",
       "      <td>5.892700e+05</td>\n",
       "      <td>7451000.0</td>\n",
       "    </tr>\n",
       "    <tr>\n",
       "      <th>69</th>\n",
       "      <td>Jardim Olhos D Agua</td>\n",
       "      <td>1.042924e+06</td>\n",
       "      <td>7200000.0</td>\n",
       "    </tr>\n",
       "    <tr>\n",
       "      <th>48</th>\n",
       "      <td>Jardim Ilhas Do Sul</td>\n",
       "      <td>2.473534e+06</td>\n",
       "      <td>7123670.0</td>\n",
       "    </tr>\n",
       "    <tr>\n",
       "      <th>135</th>\n",
       "      <td>Residencial Morro Do Ipê</td>\n",
       "      <td>2.426780e+06</td>\n",
       "      <td>4300000.0</td>\n",
       "    </tr>\n",
       "    <tr>\n",
       "      <th>...</th>\n",
       "      <td>...</td>\n",
       "      <td>...</td>\n",
       "      <td>...</td>\n",
       "    </tr>\n",
       "    <tr>\n",
       "      <th>92</th>\n",
       "      <td>Jardim Valentina Figueiredo</td>\n",
       "      <td>1.400000e+05</td>\n",
       "      <td>140000.0</td>\n",
       "    </tr>\n",
       "    <tr>\n",
       "      <th>22</th>\n",
       "      <td>Engenheiro Carlos De Lacerda Chaves</td>\n",
       "      <td>1.310000e+05</td>\n",
       "      <td>131000.0</td>\n",
       "    </tr>\n",
       "    <tr>\n",
       "      <th>31</th>\n",
       "      <td>Jardim Angelo Jurca</td>\n",
       "      <td>1.290000e+05</td>\n",
       "      <td>130000.0</td>\n",
       "    </tr>\n",
       "    <tr>\n",
       "      <th>64</th>\n",
       "      <td>Jardim Marchesi</td>\n",
       "      <td>1.150000e+05</td>\n",
       "      <td>115000.0</td>\n",
       "    </tr>\n",
       "    <tr>\n",
       "      <th>95</th>\n",
       "      <td>Jose Figueira</td>\n",
       "      <td>1.070000e+05</td>\n",
       "      <td>107000.0</td>\n",
       "    </tr>\n",
       "  </tbody>\n",
       "</table>\n",
       "<p>159 rows × 3 columns</p>\n",
       "</div>"
      ],
      "text/plain": [
       "                            bairro_teste   preco_medio  preco_max\n",
       "34                       Jardim Botânico  7.443894e+05  8000000.0\n",
       "6                        Bonfim Paulista  5.892700e+05  7451000.0\n",
       "69                   Jardim Olhos D Agua  1.042924e+06  7200000.0\n",
       "48                   Jardim Ilhas Do Sul  2.473534e+06  7123670.0\n",
       "135             Residencial Morro Do Ipê  2.426780e+06  4300000.0\n",
       "..                                   ...           ...        ...\n",
       "92           Jardim Valentina Figueiredo  1.400000e+05   140000.0\n",
       "22   Engenheiro Carlos De Lacerda Chaves  1.310000e+05   131000.0\n",
       "31                   Jardim Angelo Jurca  1.290000e+05   130000.0\n",
       "64                       Jardim Marchesi  1.150000e+05   115000.0\n",
       "95                         Jose Figueira  1.070000e+05   107000.0\n",
       "\n",
       "[159 rows x 3 columns]"
      ]
     },
     "execution_count": 45,
     "metadata": {},
     "output_type": "execute_result"
    }
   ],
   "source": [
    "base_original.groupby('bairro_teste') \\\n",
    "    .agg(\n",
    "        preco_medio=('preco', 'mean'),\n",
    "        preco_max=('preco', 'max'),\n",
    "    ).reset_index().sort_values(by='preco_max', ascending=False)"
   ]
  },
  {
   "cell_type": "markdown",
   "metadata": {},
   "source": [
    "# Preço Médio selecionando quantidade de quartos"
   ]
  },
  {
   "cell_type": "code",
   "execution_count": 12,
   "metadata": {},
   "outputs": [
    {
     "data": {
      "text/html": [
       "<div>\n",
       "<style scoped>\n",
       "    .dataframe tbody tr th:only-of-type {\n",
       "        vertical-align: middle;\n",
       "    }\n",
       "\n",
       "    .dataframe tbody tr th {\n",
       "        vertical-align: top;\n",
       "    }\n",
       "\n",
       "    .dataframe thead th {\n",
       "        text-align: right;\n",
       "    }\n",
       "</style>\n",
       "<table border=\"1\" class=\"dataframe\">\n",
       "  <thead>\n",
       "    <tr style=\"text-align: right;\">\n",
       "      <th></th>\n",
       "      <th>bairro_teste</th>\n",
       "      <th>quarto</th>\n",
       "      <th>preco_medio</th>\n",
       "      <th>preco_maximo</th>\n",
       "    </tr>\n",
       "  </thead>\n",
       "  <tbody>\n",
       "    <tr>\n",
       "      <th>0</th>\n",
       "      <td>Adelino Simioni</td>\n",
       "      <td>2</td>\n",
       "      <td>222000.0</td>\n",
       "      <td>280000.0</td>\n",
       "    </tr>\n",
       "    <tr>\n",
       "      <th>1</th>\n",
       "      <td>Alamedas Do Botânico</td>\n",
       "      <td>2</td>\n",
       "      <td>666500.0</td>\n",
       "      <td>677000.0</td>\n",
       "    </tr>\n",
       "    <tr>\n",
       "      <th>2</th>\n",
       "      <td>Alto Da Boa Vista</td>\n",
       "      <td>2</td>\n",
       "      <td>274000.0</td>\n",
       "      <td>700000.0</td>\n",
       "    </tr>\n",
       "    <tr>\n",
       "      <th>3</th>\n",
       "      <td>Alto Do Ipiranga</td>\n",
       "      <td>2</td>\n",
       "      <td>226200.0</td>\n",
       "      <td>271000.0</td>\n",
       "    </tr>\n",
       "    <tr>\n",
       "      <th>4</th>\n",
       "      <td>Antonio Marincek</td>\n",
       "      <td>2</td>\n",
       "      <td>192500.0</td>\n",
       "      <td>255000.0</td>\n",
       "    </tr>\n",
       "    <tr>\n",
       "      <th>...</th>\n",
       "      <td>...</td>\n",
       "      <td>...</td>\n",
       "      <td>...</td>\n",
       "      <td>...</td>\n",
       "    </tr>\n",
       "    <tr>\n",
       "      <th>146</th>\n",
       "      <td>Vila Pompeia</td>\n",
       "      <td>2</td>\n",
       "      <td>150000.0</td>\n",
       "      <td>244000.0</td>\n",
       "    </tr>\n",
       "    <tr>\n",
       "      <th>147</th>\n",
       "      <td>Vila Seixas</td>\n",
       "      <td>2</td>\n",
       "      <td>320000.0</td>\n",
       "      <td>550000.0</td>\n",
       "    </tr>\n",
       "    <tr>\n",
       "      <th>148</th>\n",
       "      <td>Vila Tamandaré</td>\n",
       "      <td>2</td>\n",
       "      <td>250000.0</td>\n",
       "      <td>250000.0</td>\n",
       "    </tr>\n",
       "    <tr>\n",
       "      <th>149</th>\n",
       "      <td>Vila Tibério</td>\n",
       "      <td>2</td>\n",
       "      <td>315000.0</td>\n",
       "      <td>430000.0</td>\n",
       "    </tr>\n",
       "    <tr>\n",
       "      <th>150</th>\n",
       "      <td>Vila Virginia</td>\n",
       "      <td>2</td>\n",
       "      <td>175000.0</td>\n",
       "      <td>396703.0</td>\n",
       "    </tr>\n",
       "  </tbody>\n",
       "</table>\n",
       "<p>151 rows × 4 columns</p>\n",
       "</div>"
      ],
      "text/plain": [
       "             bairro_teste  quarto  preco_medio  preco_maximo\n",
       "0         Adelino Simioni       2     222000.0      280000.0\n",
       "1    Alamedas Do Botânico       2     666500.0      677000.0\n",
       "2       Alto Da Boa Vista       2     274000.0      700000.0\n",
       "3        Alto Do Ipiranga       2     226200.0      271000.0\n",
       "4        Antonio Marincek       2     192500.0      255000.0\n",
       "..                    ...     ...          ...           ...\n",
       "146          Vila Pompeia       2     150000.0      244000.0\n",
       "147           Vila Seixas       2     320000.0      550000.0\n",
       "148        Vila Tamandaré       2     250000.0      250000.0\n",
       "149          Vila Tibério       2     315000.0      430000.0\n",
       "150         Vila Virginia       2     175000.0      396703.0\n",
       "\n",
       "[151 rows x 4 columns]"
      ]
     },
     "execution_count": 12,
     "metadata": {},
     "output_type": "execute_result"
    }
   ],
   "source": [
    "base_original.query('quarto == 2').groupby(['bairro_teste', 'quarto']) \\\n",
    "    .agg(\n",
    "        preco_medio=('preco', 'median'),\n",
    "        preco_maximo=('preco', 'max'),\n",
    "    ).reset_index()"
   ]
  },
  {
   "cell_type": "markdown",
   "metadata": {},
   "source": [
    "# Preço Médio selecionando quantidade de banheiros"
   ]
  },
  {
   "cell_type": "code",
   "execution_count": 13,
   "metadata": {},
   "outputs": [
    {
     "data": {
      "text/html": [
       "<div>\n",
       "<style scoped>\n",
       "    .dataframe tbody tr th:only-of-type {\n",
       "        vertical-align: middle;\n",
       "    }\n",
       "\n",
       "    .dataframe tbody tr th {\n",
       "        vertical-align: top;\n",
       "    }\n",
       "\n",
       "    .dataframe thead th {\n",
       "        text-align: right;\n",
       "    }\n",
       "</style>\n",
       "<table border=\"1\" class=\"dataframe\">\n",
       "  <thead>\n",
       "    <tr style=\"text-align: right;\">\n",
       "      <th></th>\n",
       "      <th>bairro_teste</th>\n",
       "      <th>banheiro</th>\n",
       "      <th>preco_medio</th>\n",
       "      <th>preco_maximo</th>\n",
       "    </tr>\n",
       "  </thead>\n",
       "  <tbody>\n",
       "    <tr>\n",
       "      <th>0</th>\n",
       "      <td>Alamedas Do Botânico</td>\n",
       "      <td>2</td>\n",
       "      <td>666500.0</td>\n",
       "      <td>677000.0</td>\n",
       "    </tr>\n",
       "    <tr>\n",
       "      <th>1</th>\n",
       "      <td>Alto Da Boa Vista</td>\n",
       "      <td>2</td>\n",
       "      <td>350000.0</td>\n",
       "      <td>700000.0</td>\n",
       "    </tr>\n",
       "    <tr>\n",
       "      <th>2</th>\n",
       "      <td>Alto Do Ipiranga</td>\n",
       "      <td>2</td>\n",
       "      <td>280000.0</td>\n",
       "      <td>325000.0</td>\n",
       "    </tr>\n",
       "    <tr>\n",
       "      <th>3</th>\n",
       "      <td>Bonfim Paulista</td>\n",
       "      <td>2</td>\n",
       "      <td>391500.0</td>\n",
       "      <td>630000.0</td>\n",
       "    </tr>\n",
       "    <tr>\n",
       "      <th>4</th>\n",
       "      <td>Bosque Das Juritis</td>\n",
       "      <td>2</td>\n",
       "      <td>550000.0</td>\n",
       "      <td>1700000.0</td>\n",
       "    </tr>\n",
       "    <tr>\n",
       "      <th>...</th>\n",
       "      <td>...</td>\n",
       "      <td>...</td>\n",
       "      <td>...</td>\n",
       "      <td>...</td>\n",
       "    </tr>\n",
       "    <tr>\n",
       "      <th>92</th>\n",
       "      <td>Vila Monte Alegre</td>\n",
       "      <td>2</td>\n",
       "      <td>299000.0</td>\n",
       "      <td>410000.0</td>\n",
       "    </tr>\n",
       "    <tr>\n",
       "      <th>93</th>\n",
       "      <td>Vila Seixas</td>\n",
       "      <td>2</td>\n",
       "      <td>319500.0</td>\n",
       "      <td>512000.0</td>\n",
       "    </tr>\n",
       "    <tr>\n",
       "      <th>94</th>\n",
       "      <td>Vila Tamandaré</td>\n",
       "      <td>2</td>\n",
       "      <td>230000.0</td>\n",
       "      <td>250000.0</td>\n",
       "    </tr>\n",
       "    <tr>\n",
       "      <th>95</th>\n",
       "      <td>Vila Tibério</td>\n",
       "      <td>2</td>\n",
       "      <td>390000.0</td>\n",
       "      <td>636000.0</td>\n",
       "    </tr>\n",
       "    <tr>\n",
       "      <th>96</th>\n",
       "      <td>Vila Virginia</td>\n",
       "      <td>2</td>\n",
       "      <td>250000.0</td>\n",
       "      <td>265000.0</td>\n",
       "    </tr>\n",
       "  </tbody>\n",
       "</table>\n",
       "<p>97 rows × 4 columns</p>\n",
       "</div>"
      ],
      "text/plain": [
       "            bairro_teste  banheiro  preco_medio  preco_maximo\n",
       "0   Alamedas Do Botânico         2     666500.0      677000.0\n",
       "1      Alto Da Boa Vista         2     350000.0      700000.0\n",
       "2       Alto Do Ipiranga         2     280000.0      325000.0\n",
       "3        Bonfim Paulista         2     391500.0      630000.0\n",
       "4     Bosque Das Juritis         2     550000.0     1700000.0\n",
       "..                   ...       ...          ...           ...\n",
       "92     Vila Monte Alegre         2     299000.0      410000.0\n",
       "93           Vila Seixas         2     319500.0      512000.0\n",
       "94        Vila Tamandaré         2     230000.0      250000.0\n",
       "95          Vila Tibério         2     390000.0      636000.0\n",
       "96         Vila Virginia         2     250000.0      265000.0\n",
       "\n",
       "[97 rows x 4 columns]"
      ]
     },
     "execution_count": 13,
     "metadata": {},
     "output_type": "execute_result"
    }
   ],
   "source": [
    "base_original.query('banheiro == 2').groupby(['bairro_teste', 'banheiro']) \\\n",
    "    .agg(\n",
    "        preco_medio=('preco', 'median'),\n",
    "        preco_maximo=('preco', 'max'),\n",
    "    ).reset_index()"
   ]
  },
  {
   "cell_type": "markdown",
   "metadata": {},
   "source": [
    "# Preço Médio selecionando quantidade de garagem"
   ]
  },
  {
   "cell_type": "code",
   "execution_count": 14,
   "metadata": {},
   "outputs": [
    {
     "data": {
      "text/html": [
       "<div>\n",
       "<style scoped>\n",
       "    .dataframe tbody tr th:only-of-type {\n",
       "        vertical-align: middle;\n",
       "    }\n",
       "\n",
       "    .dataframe tbody tr th {\n",
       "        vertical-align: top;\n",
       "    }\n",
       "\n",
       "    .dataframe thead th {\n",
       "        text-align: right;\n",
       "    }\n",
       "</style>\n",
       "<table border=\"1\" class=\"dataframe\">\n",
       "  <thead>\n",
       "    <tr style=\"text-align: right;\">\n",
       "      <th></th>\n",
       "      <th>bairro_teste</th>\n",
       "      <th>garagem</th>\n",
       "      <th>preco_medio</th>\n",
       "      <th>preco_maximo</th>\n",
       "    </tr>\n",
       "  </thead>\n",
       "  <tbody>\n",
       "    <tr>\n",
       "      <th>0</th>\n",
       "      <td>Alamedas Do Botânico</td>\n",
       "      <td>2</td>\n",
       "      <td>671500.0</td>\n",
       "      <td>677000.0</td>\n",
       "    </tr>\n",
       "    <tr>\n",
       "      <th>1</th>\n",
       "      <td>Alto Da Boa Vista</td>\n",
       "      <td>2</td>\n",
       "      <td>412500.0</td>\n",
       "      <td>925000.0</td>\n",
       "    </tr>\n",
       "    <tr>\n",
       "      <th>2</th>\n",
       "      <td>Alto Do Ipiranga</td>\n",
       "      <td>2</td>\n",
       "      <td>227500.0</td>\n",
       "      <td>240000.0</td>\n",
       "    </tr>\n",
       "    <tr>\n",
       "      <th>3</th>\n",
       "      <td>Bonfim Paulista</td>\n",
       "      <td>2</td>\n",
       "      <td>575000.0</td>\n",
       "      <td>1627000.0</td>\n",
       "    </tr>\n",
       "    <tr>\n",
       "      <th>4</th>\n",
       "      <td>Bosque Das Juritis</td>\n",
       "      <td>2</td>\n",
       "      <td>765000.0</td>\n",
       "      <td>2200000.0</td>\n",
       "    </tr>\n",
       "    <tr>\n",
       "      <th>...</th>\n",
       "      <td>...</td>\n",
       "      <td>...</td>\n",
       "      <td>...</td>\n",
       "      <td>...</td>\n",
       "    </tr>\n",
       "    <tr>\n",
       "      <th>82</th>\n",
       "      <td>Vila Monte Alegre</td>\n",
       "      <td>2</td>\n",
       "      <td>390000.0</td>\n",
       "      <td>410000.0</td>\n",
       "    </tr>\n",
       "    <tr>\n",
       "      <th>83</th>\n",
       "      <td>Vila Seixas</td>\n",
       "      <td>2</td>\n",
       "      <td>482500.0</td>\n",
       "      <td>750000.0</td>\n",
       "    </tr>\n",
       "    <tr>\n",
       "      <th>84</th>\n",
       "      <td>Vila Tibério</td>\n",
       "      <td>2</td>\n",
       "      <td>390000.0</td>\n",
       "      <td>636000.0</td>\n",
       "    </tr>\n",
       "    <tr>\n",
       "      <th>85</th>\n",
       "      <td>Vila Virginia</td>\n",
       "      <td>2</td>\n",
       "      <td>185000.0</td>\n",
       "      <td>329000.0</td>\n",
       "    </tr>\n",
       "    <tr>\n",
       "      <th>86</th>\n",
       "      <td>Zona Sul</td>\n",
       "      <td>2</td>\n",
       "      <td>1365620.0</td>\n",
       "      <td>1365620.0</td>\n",
       "    </tr>\n",
       "  </tbody>\n",
       "</table>\n",
       "<p>87 rows × 4 columns</p>\n",
       "</div>"
      ],
      "text/plain": [
       "            bairro_teste  garagem  preco_medio  preco_maximo\n",
       "0   Alamedas Do Botânico        2     671500.0      677000.0\n",
       "1      Alto Da Boa Vista        2     412500.0      925000.0\n",
       "2       Alto Do Ipiranga        2     227500.0      240000.0\n",
       "3        Bonfim Paulista        2     575000.0     1627000.0\n",
       "4     Bosque Das Juritis        2     765000.0     2200000.0\n",
       "..                   ...      ...          ...           ...\n",
       "82     Vila Monte Alegre        2     390000.0      410000.0\n",
       "83           Vila Seixas        2     482500.0      750000.0\n",
       "84          Vila Tibério        2     390000.0      636000.0\n",
       "85         Vila Virginia        2     185000.0      329000.0\n",
       "86              Zona Sul        2    1365620.0     1365620.0\n",
       "\n",
       "[87 rows x 4 columns]"
      ]
     },
     "execution_count": 14,
     "metadata": {},
     "output_type": "execute_result"
    }
   ],
   "source": [
    "base_original.query('garagem == 2').groupby(['bairro_teste', 'garagem']) \\\n",
    "    .agg(\n",
    "        preco_medio=('preco', 'median'),\n",
    "        preco_maximo=('preco', 'max'),\n",
    "    ).reset_index()"
   ]
  },
  {
   "cell_type": "markdown",
   "metadata": {},
   "source": [
    "# Total de ímovel por bairro"
   ]
  },
  {
   "cell_type": "code",
   "execution_count": 15,
   "metadata": {},
   "outputs": [
    {
     "data": {
      "text/html": [
       "<div>\n",
       "<style scoped>\n",
       "    .dataframe tbody tr th:only-of-type {\n",
       "        vertical-align: middle;\n",
       "    }\n",
       "\n",
       "    .dataframe tbody tr th {\n",
       "        vertical-align: top;\n",
       "    }\n",
       "\n",
       "    .dataframe thead th {\n",
       "        text-align: right;\n",
       "    }\n",
       "</style>\n",
       "<table border=\"1\" class=\"dataframe\">\n",
       "  <thead>\n",
       "    <tr style=\"text-align: right;\">\n",
       "      <th></th>\n",
       "      <th>bairro_teste</th>\n",
       "      <th>count</th>\n",
       "    </tr>\n",
       "  </thead>\n",
       "  <tbody>\n",
       "    <tr>\n",
       "      <th>0</th>\n",
       "      <td>Jardim Botânico</td>\n",
       "      <td>739</td>\n",
       "    </tr>\n",
       "    <tr>\n",
       "      <th>1</th>\n",
       "      <td>Centro</td>\n",
       "      <td>736</td>\n",
       "    </tr>\n",
       "    <tr>\n",
       "      <th>2</th>\n",
       "      <td>Nova Aliança</td>\n",
       "      <td>661</td>\n",
       "    </tr>\n",
       "    <tr>\n",
       "      <th>3</th>\n",
       "      <td>Jardim Irajá</td>\n",
       "      <td>353</td>\n",
       "    </tr>\n",
       "    <tr>\n",
       "      <th>4</th>\n",
       "      <td>Jardim Paulista</td>\n",
       "      <td>315</td>\n",
       "    </tr>\n",
       "    <tr>\n",
       "      <th>...</th>\n",
       "      <td>...</td>\n",
       "      <td>...</td>\n",
       "    </tr>\n",
       "    <tr>\n",
       "      <th>154</th>\n",
       "      <td>Jardim Do Trevo</td>\n",
       "      <td>1</td>\n",
       "    </tr>\n",
       "    <tr>\n",
       "      <th>155</th>\n",
       "      <td>Jardim Juliana</td>\n",
       "      <td>1</td>\n",
       "    </tr>\n",
       "    <tr>\n",
       "      <th>156</th>\n",
       "      <td>Jardim Valentina Figueiredo</td>\n",
       "      <td>1</td>\n",
       "    </tr>\n",
       "    <tr>\n",
       "      <th>157</th>\n",
       "      <td>Zona Sul</td>\n",
       "      <td>1</td>\n",
       "    </tr>\n",
       "    <tr>\n",
       "      <th>158</th>\n",
       "      <td>Condominio Garden Ville</td>\n",
       "      <td>1</td>\n",
       "    </tr>\n",
       "  </tbody>\n",
       "</table>\n",
       "<p>159 rows × 2 columns</p>\n",
       "</div>"
      ],
      "text/plain": [
       "                    bairro_teste  count\n",
       "0                Jardim Botânico    739\n",
       "1                         Centro    736\n",
       "2                   Nova Aliança    661\n",
       "3                   Jardim Irajá    353\n",
       "4                Jardim Paulista    315\n",
       "..                           ...    ...\n",
       "154              Jardim Do Trevo      1\n",
       "155               Jardim Juliana      1\n",
       "156  Jardim Valentina Figueiredo      1\n",
       "157                     Zona Sul      1\n",
       "158      Condominio Garden Ville      1\n",
       "\n",
       "[159 rows x 2 columns]"
      ]
     },
     "execution_count": 15,
     "metadata": {},
     "output_type": "execute_result"
    }
   ],
   "source": [
    "base_original['bairro_teste'].value_counts().reset_index()"
   ]
  },
  {
   "cell_type": "markdown",
   "metadata": {},
   "source": [
    "# Análise de preço Selecionando bairro"
   ]
  },
  {
   "cell_type": "code",
   "execution_count": 16,
   "metadata": {},
   "outputs": [],
   "source": [
    "bairro = 'Sumarezinho'"
   ]
  },
  {
   "cell_type": "code",
   "execution_count": 17,
   "metadata": {},
   "outputs": [],
   "source": [
    "base_bairro = base_original.query(f'bairro_teste == \"{bairro}\" and tipo_imovel == \"{tipo_imovel}\" ')"
   ]
  },
  {
   "cell_type": "code",
   "execution_count": 18,
   "metadata": {},
   "outputs": [
    {
     "data": {
      "text/html": [
       "<div>\n",
       "<style scoped>\n",
       "    .dataframe tbody tr th:only-of-type {\n",
       "        vertical-align: middle;\n",
       "    }\n",
       "\n",
       "    .dataframe tbody tr th {\n",
       "        vertical-align: top;\n",
       "    }\n",
       "\n",
       "    .dataframe thead th {\n",
       "        text-align: right;\n",
       "    }\n",
       "</style>\n",
       "<table border=\"1\" class=\"dataframe\">\n",
       "  <thead>\n",
       "    <tr style=\"text-align: right;\">\n",
       "      <th></th>\n",
       "      <th>preco</th>\n",
       "      <th>metragem</th>\n",
       "      <th>quarto</th>\n",
       "      <th>banheiro</th>\n",
       "      <th>garagem</th>\n",
       "      <th>ID_CASA</th>\n",
       "      <th>preco_por_metro</th>\n",
       "    </tr>\n",
       "  </thead>\n",
       "  <tbody>\n",
       "    <tr>\n",
       "      <th>count</th>\n",
       "      <td>118.000000</td>\n",
       "      <td>118.000000</td>\n",
       "      <td>118.000000</td>\n",
       "      <td>118.000000</td>\n",
       "      <td>118.000000</td>\n",
       "      <td>1.180000e+02</td>\n",
       "      <td>118.000000</td>\n",
       "    </tr>\n",
       "    <tr>\n",
       "      <th>mean</th>\n",
       "      <td>245524.661017</td>\n",
       "      <td>59.186441</td>\n",
       "      <td>2.127119</td>\n",
       "      <td>1.398305</td>\n",
       "      <td>1.042373</td>\n",
       "      <td>2.630640e+09</td>\n",
       "      <td>4216.740586</td>\n",
       "    </tr>\n",
       "    <tr>\n",
       "      <th>std</th>\n",
       "      <td>72993.168146</td>\n",
       "      <td>15.749616</td>\n",
       "      <td>0.359168</td>\n",
       "      <td>0.508724</td>\n",
       "      <td>0.378799</td>\n",
       "      <td>5.070566e+07</td>\n",
       "      <td>956.877587</td>\n",
       "    </tr>\n",
       "    <tr>\n",
       "      <th>min</th>\n",
       "      <td>117000.000000</td>\n",
       "      <td>44.000000</td>\n",
       "      <td>2.000000</td>\n",
       "      <td>1.000000</td>\n",
       "      <td>0.000000</td>\n",
       "      <td>2.435754e+09</td>\n",
       "      <td>1923.076923</td>\n",
       "    </tr>\n",
       "    <tr>\n",
       "      <th>25%</th>\n",
       "      <td>195500.000000</td>\n",
       "      <td>47.000000</td>\n",
       "      <td>2.000000</td>\n",
       "      <td>1.000000</td>\n",
       "      <td>1.000000</td>\n",
       "      <td>2.599532e+09</td>\n",
       "      <td>3617.021277</td>\n",
       "    </tr>\n",
       "    <tr>\n",
       "      <th>50%</th>\n",
       "      <td>230000.000000</td>\n",
       "      <td>56.000000</td>\n",
       "      <td>2.000000</td>\n",
       "      <td>1.000000</td>\n",
       "      <td>1.000000</td>\n",
       "      <td>2.640957e+09</td>\n",
       "      <td>4144.780585</td>\n",
       "    </tr>\n",
       "    <tr>\n",
       "      <th>75%</th>\n",
       "      <td>270000.000000</td>\n",
       "      <td>64.000000</td>\n",
       "      <td>2.000000</td>\n",
       "      <td>2.000000</td>\n",
       "      <td>1.000000</td>\n",
       "      <td>2.669504e+09</td>\n",
       "      <td>4670.794548</td>\n",
       "    </tr>\n",
       "    <tr>\n",
       "      <th>max</th>\n",
       "      <td>590000.000000</td>\n",
       "      <td>123.000000</td>\n",
       "      <td>4.000000</td>\n",
       "      <td>3.000000</td>\n",
       "      <td>4.000000</td>\n",
       "      <td>2.698511e+09</td>\n",
       "      <td>6461.538462</td>\n",
       "    </tr>\n",
       "  </tbody>\n",
       "</table>\n",
       "</div>"
      ],
      "text/plain": [
       "               preco    metragem      quarto    banheiro     garagem  \\\n",
       "count     118.000000  118.000000  118.000000  118.000000  118.000000   \n",
       "mean   245524.661017   59.186441    2.127119    1.398305    1.042373   \n",
       "std     72993.168146   15.749616    0.359168    0.508724    0.378799   \n",
       "min    117000.000000   44.000000    2.000000    1.000000    0.000000   \n",
       "25%    195500.000000   47.000000    2.000000    1.000000    1.000000   \n",
       "50%    230000.000000   56.000000    2.000000    1.000000    1.000000   \n",
       "75%    270000.000000   64.000000    2.000000    2.000000    1.000000   \n",
       "max    590000.000000  123.000000    4.000000    3.000000    4.000000   \n",
       "\n",
       "            ID_CASA  preco_por_metro  \n",
       "count  1.180000e+02       118.000000  \n",
       "mean   2.630640e+09      4216.740586  \n",
       "std    5.070566e+07       956.877587  \n",
       "min    2.435754e+09      1923.076923  \n",
       "25%    2.599532e+09      3617.021277  \n",
       "50%    2.640957e+09      4144.780585  \n",
       "75%    2.669504e+09      4670.794548  \n",
       "max    2.698511e+09      6461.538462  "
      ]
     },
     "execution_count": 18,
     "metadata": {},
     "output_type": "execute_result"
    }
   ],
   "source": [
    "base_bairro.describe()"
   ]
  },
  {
   "cell_type": "code",
   "execution_count": 19,
   "metadata": {},
   "outputs": [
    {
     "name": "stdout",
     "output_type": "stream",
     "text": [
      "Média:  245524.66101694916\n",
      "Mediana:  230000.0\n",
      "Móda:  0    170000.0\n",
      "Name: preco, dtype: float64\n",
      "Preço Minimo 117000.0\n",
      "Preco Máximo 590000.0\n"
     ]
    }
   ],
   "source": [
    "print('Média: ', base_bairro['preco'].mean())\n",
    "print('Mediana: ', base_bairro['preco'].median())\n",
    "print('Móda: ', base_bairro['preco'].mode())\n",
    "print('Preço Minimo', base_bairro['preco'].min())\n",
    "print('Preco Máximo', base_bairro['preco'].max())"
   ]
  },
  {
   "cell_type": "code",
   "execution_count": 20,
   "metadata": {},
   "outputs": [
    {
     "data": {
      "application/vnd.plotly.v1+json": {
       "config": {
        "plotlyServerURL": "https://plot.ly"
       },
       "data": [
        {
         "alignmentgroup": "True",
         "bingroup": "x",
         "hovertemplate": "preco=%{x}<br>count=%{y}<extra></extra>",
         "legendgroup": "",
         "marker": {
          "color": "#636efa",
          "pattern": {
           "shape": ""
          }
         },
         "name": "",
         "nbinsx": 50,
         "offsetgroup": "",
         "orientation": "v",
         "showlegend": false,
         "type": "histogram",
         "x": [
          331000,
          266000,
          265000,
          212000,
          288000,
          328490,
          172000,
          350800,
          245000,
          268000,
          213000,
          404000,
          268000,
          403000,
          213000,
          380000,
          265000,
          212000,
          175000,
          385000,
          304000,
          235000,
          372600,
          300000,
          268000,
          270000,
          200000,
          230000,
          180000,
          220000,
          180000,
          170000,
          175000,
          230000,
          230000,
          214000,
          212000,
          410000,
          213000,
          212000,
          218000,
          170000,
          200000,
          277000,
          256000,
          270000,
          280000,
          175000,
          265000,
          220000,
          210000,
          337500,
          360000,
          199000,
          170000,
          195000,
          220000,
          220000,
          170000,
          170000,
          297000,
          265000,
          240000,
          230000,
          200000,
          195000,
          165000,
          255000,
          170000,
          220000,
          245000,
          170000,
          295000,
          190000,
          230000,
          160000,
          170000,
          220000,
          310000,
          220000,
          287000,
          160000,
          590000,
          195000,
          171000,
          250000,
          175000,
          250000,
          200000,
          180000,
          117000,
          340000,
          230000,
          149000,
          268000,
          231000,
          200000,
          235000,
          420000,
          258000,
          230000,
          175000,
          250000,
          410000,
          197000,
          190000,
          152000,
          268000,
          330770,
          280000,
          215000,
          160000,
          300000,
          211000,
          265000,
          265000,
          337000,
          330750
         ],
         "xaxis": "x",
         "yaxis": "y"
        }
       ],
       "layout": {
        "bargap": 0.1,
        "barmode": "relative",
        "legend": {
         "tracegroupgap": 0
        },
        "margin": {
         "t": 60
        },
        "template": {
         "data": {
          "bar": [
           {
            "error_x": {
             "color": "#2a3f5f"
            },
            "error_y": {
             "color": "#2a3f5f"
            },
            "marker": {
             "line": {
              "color": "#E5ECF6",
              "width": 0.5
             },
             "pattern": {
              "fillmode": "overlay",
              "size": 10,
              "solidity": 0.2
             }
            },
            "type": "bar"
           }
          ],
          "barpolar": [
           {
            "marker": {
             "line": {
              "color": "#E5ECF6",
              "width": 0.5
             },
             "pattern": {
              "fillmode": "overlay",
              "size": 10,
              "solidity": 0.2
             }
            },
            "type": "barpolar"
           }
          ],
          "carpet": [
           {
            "aaxis": {
             "endlinecolor": "#2a3f5f",
             "gridcolor": "white",
             "linecolor": "white",
             "minorgridcolor": "white",
             "startlinecolor": "#2a3f5f"
            },
            "baxis": {
             "endlinecolor": "#2a3f5f",
             "gridcolor": "white",
             "linecolor": "white",
             "minorgridcolor": "white",
             "startlinecolor": "#2a3f5f"
            },
            "type": "carpet"
           }
          ],
          "choropleth": [
           {
            "colorbar": {
             "outlinewidth": 0,
             "ticks": ""
            },
            "type": "choropleth"
           }
          ],
          "contour": [
           {
            "colorbar": {
             "outlinewidth": 0,
             "ticks": ""
            },
            "colorscale": [
             [
              0,
              "#0d0887"
             ],
             [
              0.1111111111111111,
              "#46039f"
             ],
             [
              0.2222222222222222,
              "#7201a8"
             ],
             [
              0.3333333333333333,
              "#9c179e"
             ],
             [
              0.4444444444444444,
              "#bd3786"
             ],
             [
              0.5555555555555556,
              "#d8576b"
             ],
             [
              0.6666666666666666,
              "#ed7953"
             ],
             [
              0.7777777777777778,
              "#fb9f3a"
             ],
             [
              0.8888888888888888,
              "#fdca26"
             ],
             [
              1,
              "#f0f921"
             ]
            ],
            "type": "contour"
           }
          ],
          "contourcarpet": [
           {
            "colorbar": {
             "outlinewidth": 0,
             "ticks": ""
            },
            "type": "contourcarpet"
           }
          ],
          "heatmap": [
           {
            "colorbar": {
             "outlinewidth": 0,
             "ticks": ""
            },
            "colorscale": [
             [
              0,
              "#0d0887"
             ],
             [
              0.1111111111111111,
              "#46039f"
             ],
             [
              0.2222222222222222,
              "#7201a8"
             ],
             [
              0.3333333333333333,
              "#9c179e"
             ],
             [
              0.4444444444444444,
              "#bd3786"
             ],
             [
              0.5555555555555556,
              "#d8576b"
             ],
             [
              0.6666666666666666,
              "#ed7953"
             ],
             [
              0.7777777777777778,
              "#fb9f3a"
             ],
             [
              0.8888888888888888,
              "#fdca26"
             ],
             [
              1,
              "#f0f921"
             ]
            ],
            "type": "heatmap"
           }
          ],
          "heatmapgl": [
           {
            "colorbar": {
             "outlinewidth": 0,
             "ticks": ""
            },
            "colorscale": [
             [
              0,
              "#0d0887"
             ],
             [
              0.1111111111111111,
              "#46039f"
             ],
             [
              0.2222222222222222,
              "#7201a8"
             ],
             [
              0.3333333333333333,
              "#9c179e"
             ],
             [
              0.4444444444444444,
              "#bd3786"
             ],
             [
              0.5555555555555556,
              "#d8576b"
             ],
             [
              0.6666666666666666,
              "#ed7953"
             ],
             [
              0.7777777777777778,
              "#fb9f3a"
             ],
             [
              0.8888888888888888,
              "#fdca26"
             ],
             [
              1,
              "#f0f921"
             ]
            ],
            "type": "heatmapgl"
           }
          ],
          "histogram": [
           {
            "marker": {
             "pattern": {
              "fillmode": "overlay",
              "size": 10,
              "solidity": 0.2
             }
            },
            "type": "histogram"
           }
          ],
          "histogram2d": [
           {
            "colorbar": {
             "outlinewidth": 0,
             "ticks": ""
            },
            "colorscale": [
             [
              0,
              "#0d0887"
             ],
             [
              0.1111111111111111,
              "#46039f"
             ],
             [
              0.2222222222222222,
              "#7201a8"
             ],
             [
              0.3333333333333333,
              "#9c179e"
             ],
             [
              0.4444444444444444,
              "#bd3786"
             ],
             [
              0.5555555555555556,
              "#d8576b"
             ],
             [
              0.6666666666666666,
              "#ed7953"
             ],
             [
              0.7777777777777778,
              "#fb9f3a"
             ],
             [
              0.8888888888888888,
              "#fdca26"
             ],
             [
              1,
              "#f0f921"
             ]
            ],
            "type": "histogram2d"
           }
          ],
          "histogram2dcontour": [
           {
            "colorbar": {
             "outlinewidth": 0,
             "ticks": ""
            },
            "colorscale": [
             [
              0,
              "#0d0887"
             ],
             [
              0.1111111111111111,
              "#46039f"
             ],
             [
              0.2222222222222222,
              "#7201a8"
             ],
             [
              0.3333333333333333,
              "#9c179e"
             ],
             [
              0.4444444444444444,
              "#bd3786"
             ],
             [
              0.5555555555555556,
              "#d8576b"
             ],
             [
              0.6666666666666666,
              "#ed7953"
             ],
             [
              0.7777777777777778,
              "#fb9f3a"
             ],
             [
              0.8888888888888888,
              "#fdca26"
             ],
             [
              1,
              "#f0f921"
             ]
            ],
            "type": "histogram2dcontour"
           }
          ],
          "mesh3d": [
           {
            "colorbar": {
             "outlinewidth": 0,
             "ticks": ""
            },
            "type": "mesh3d"
           }
          ],
          "parcoords": [
           {
            "line": {
             "colorbar": {
              "outlinewidth": 0,
              "ticks": ""
             }
            },
            "type": "parcoords"
           }
          ],
          "pie": [
           {
            "automargin": true,
            "type": "pie"
           }
          ],
          "scatter": [
           {
            "fillpattern": {
             "fillmode": "overlay",
             "size": 10,
             "solidity": 0.2
            },
            "type": "scatter"
           }
          ],
          "scatter3d": [
           {
            "line": {
             "colorbar": {
              "outlinewidth": 0,
              "ticks": ""
             }
            },
            "marker": {
             "colorbar": {
              "outlinewidth": 0,
              "ticks": ""
             }
            },
            "type": "scatter3d"
           }
          ],
          "scattercarpet": [
           {
            "marker": {
             "colorbar": {
              "outlinewidth": 0,
              "ticks": ""
             }
            },
            "type": "scattercarpet"
           }
          ],
          "scattergeo": [
           {
            "marker": {
             "colorbar": {
              "outlinewidth": 0,
              "ticks": ""
             }
            },
            "type": "scattergeo"
           }
          ],
          "scattergl": [
           {
            "marker": {
             "colorbar": {
              "outlinewidth": 0,
              "ticks": ""
             }
            },
            "type": "scattergl"
           }
          ],
          "scattermapbox": [
           {
            "marker": {
             "colorbar": {
              "outlinewidth": 0,
              "ticks": ""
             }
            },
            "type": "scattermapbox"
           }
          ],
          "scatterpolar": [
           {
            "marker": {
             "colorbar": {
              "outlinewidth": 0,
              "ticks": ""
             }
            },
            "type": "scatterpolar"
           }
          ],
          "scatterpolargl": [
           {
            "marker": {
             "colorbar": {
              "outlinewidth": 0,
              "ticks": ""
             }
            },
            "type": "scatterpolargl"
           }
          ],
          "scatterternary": [
           {
            "marker": {
             "colorbar": {
              "outlinewidth": 0,
              "ticks": ""
             }
            },
            "type": "scatterternary"
           }
          ],
          "surface": [
           {
            "colorbar": {
             "outlinewidth": 0,
             "ticks": ""
            },
            "colorscale": [
             [
              0,
              "#0d0887"
             ],
             [
              0.1111111111111111,
              "#46039f"
             ],
             [
              0.2222222222222222,
              "#7201a8"
             ],
             [
              0.3333333333333333,
              "#9c179e"
             ],
             [
              0.4444444444444444,
              "#bd3786"
             ],
             [
              0.5555555555555556,
              "#d8576b"
             ],
             [
              0.6666666666666666,
              "#ed7953"
             ],
             [
              0.7777777777777778,
              "#fb9f3a"
             ],
             [
              0.8888888888888888,
              "#fdca26"
             ],
             [
              1,
              "#f0f921"
             ]
            ],
            "type": "surface"
           }
          ],
          "table": [
           {
            "cells": {
             "fill": {
              "color": "#EBF0F8"
             },
             "line": {
              "color": "white"
             }
            },
            "header": {
             "fill": {
              "color": "#C8D4E3"
             },
             "line": {
              "color": "white"
             }
            },
            "type": "table"
           }
          ]
         },
         "layout": {
          "annotationdefaults": {
           "arrowcolor": "#2a3f5f",
           "arrowhead": 0,
           "arrowwidth": 1
          },
          "autotypenumbers": "strict",
          "coloraxis": {
           "colorbar": {
            "outlinewidth": 0,
            "ticks": ""
           }
          },
          "colorscale": {
           "diverging": [
            [
             0,
             "#8e0152"
            ],
            [
             0.1,
             "#c51b7d"
            ],
            [
             0.2,
             "#de77ae"
            ],
            [
             0.3,
             "#f1b6da"
            ],
            [
             0.4,
             "#fde0ef"
            ],
            [
             0.5,
             "#f7f7f7"
            ],
            [
             0.6,
             "#e6f5d0"
            ],
            [
             0.7,
             "#b8e186"
            ],
            [
             0.8,
             "#7fbc41"
            ],
            [
             0.9,
             "#4d9221"
            ],
            [
             1,
             "#276419"
            ]
           ],
           "sequential": [
            [
             0,
             "#0d0887"
            ],
            [
             0.1111111111111111,
             "#46039f"
            ],
            [
             0.2222222222222222,
             "#7201a8"
            ],
            [
             0.3333333333333333,
             "#9c179e"
            ],
            [
             0.4444444444444444,
             "#bd3786"
            ],
            [
             0.5555555555555556,
             "#d8576b"
            ],
            [
             0.6666666666666666,
             "#ed7953"
            ],
            [
             0.7777777777777778,
             "#fb9f3a"
            ],
            [
             0.8888888888888888,
             "#fdca26"
            ],
            [
             1,
             "#f0f921"
            ]
           ],
           "sequentialminus": [
            [
             0,
             "#0d0887"
            ],
            [
             0.1111111111111111,
             "#46039f"
            ],
            [
             0.2222222222222222,
             "#7201a8"
            ],
            [
             0.3333333333333333,
             "#9c179e"
            ],
            [
             0.4444444444444444,
             "#bd3786"
            ],
            [
             0.5555555555555556,
             "#d8576b"
            ],
            [
             0.6666666666666666,
             "#ed7953"
            ],
            [
             0.7777777777777778,
             "#fb9f3a"
            ],
            [
             0.8888888888888888,
             "#fdca26"
            ],
            [
             1,
             "#f0f921"
            ]
           ]
          },
          "colorway": [
           "#636efa",
           "#EF553B",
           "#00cc96",
           "#ab63fa",
           "#FFA15A",
           "#19d3f3",
           "#FF6692",
           "#B6E880",
           "#FF97FF",
           "#FECB52"
          ],
          "font": {
           "color": "#2a3f5f"
          },
          "geo": {
           "bgcolor": "white",
           "lakecolor": "white",
           "landcolor": "#E5ECF6",
           "showlakes": true,
           "showland": true,
           "subunitcolor": "white"
          },
          "hoverlabel": {
           "align": "left"
          },
          "hovermode": "closest",
          "mapbox": {
           "style": "light"
          },
          "paper_bgcolor": "white",
          "plot_bgcolor": "#E5ECF6",
          "polar": {
           "angularaxis": {
            "gridcolor": "white",
            "linecolor": "white",
            "ticks": ""
           },
           "bgcolor": "#E5ECF6",
           "radialaxis": {
            "gridcolor": "white",
            "linecolor": "white",
            "ticks": ""
           }
          },
          "scene": {
           "xaxis": {
            "backgroundcolor": "#E5ECF6",
            "gridcolor": "white",
            "gridwidth": 2,
            "linecolor": "white",
            "showbackground": true,
            "ticks": "",
            "zerolinecolor": "white"
           },
           "yaxis": {
            "backgroundcolor": "#E5ECF6",
            "gridcolor": "white",
            "gridwidth": 2,
            "linecolor": "white",
            "showbackground": true,
            "ticks": "",
            "zerolinecolor": "white"
           },
           "zaxis": {
            "backgroundcolor": "#E5ECF6",
            "gridcolor": "white",
            "gridwidth": 2,
            "linecolor": "white",
            "showbackground": true,
            "ticks": "",
            "zerolinecolor": "white"
           }
          },
          "shapedefaults": {
           "line": {
            "color": "#2a3f5f"
           }
          },
          "ternary": {
           "aaxis": {
            "gridcolor": "white",
            "linecolor": "white",
            "ticks": ""
           },
           "baxis": {
            "gridcolor": "white",
            "linecolor": "white",
            "ticks": ""
           },
           "bgcolor": "#E5ECF6",
           "caxis": {
            "gridcolor": "white",
            "linecolor": "white",
            "ticks": ""
           }
          },
          "title": {
           "x": 0.05
          },
          "xaxis": {
           "automargin": true,
           "gridcolor": "white",
           "linecolor": "white",
           "ticks": "",
           "title": {
            "standoff": 15
           },
           "zerolinecolor": "white",
           "zerolinewidth": 2
          },
          "yaxis": {
           "automargin": true,
           "gridcolor": "white",
           "linecolor": "white",
           "ticks": "",
           "title": {
            "standoff": 15
           },
           "zerolinecolor": "white",
           "zerolinewidth": 2
          }
         }
        },
        "xaxis": {
         "anchor": "y",
         "domain": [
          0,
          1
         ],
         "title": {
          "text": "preco"
         }
        },
        "yaxis": {
         "anchor": "x",
         "domain": [
          0,
          1
         ],
         "title": {
          "text": "count"
         }
        }
       }
      }
     },
     "metadata": {},
     "output_type": "display_data"
    }
   ],
   "source": [
    "fig = px.histogram(base_bairro, x='preco', nbins=50)\n",
    "fig.update_layout(bargap=0.1) \n",
    "fig.show()"
   ]
  },
  {
   "cell_type": "code",
   "execution_count": 21,
   "metadata": {},
   "outputs": [
    {
     "data": {
      "text/html": [
       "<div>\n",
       "<style scoped>\n",
       "    .dataframe tbody tr th:only-of-type {\n",
       "        vertical-align: middle;\n",
       "    }\n",
       "\n",
       "    .dataframe tbody tr th {\n",
       "        vertical-align: top;\n",
       "    }\n",
       "\n",
       "    .dataframe thead th {\n",
       "        text-align: right;\n",
       "    }\n",
       "</style>\n",
       "<table border=\"1\" class=\"dataframe\">\n",
       "  <thead>\n",
       "    <tr style=\"text-align: right;\">\n",
       "      <th></th>\n",
       "      <th>preco</th>\n",
       "      <th>metragem</th>\n",
       "      <th>quarto</th>\n",
       "      <th>banheiro</th>\n",
       "      <th>garagem</th>\n",
       "      <th>preco_por_metro</th>\n",
       "    </tr>\n",
       "  </thead>\n",
       "  <tbody>\n",
       "    <tr>\n",
       "      <th>preco</th>\n",
       "      <td>1.000000</td>\n",
       "      <td>0.543660</td>\n",
       "      <td>0.361851</td>\n",
       "      <td>0.611390</td>\n",
       "      <td>0.393858</td>\n",
       "      <td>0.636756</td>\n",
       "    </tr>\n",
       "    <tr>\n",
       "      <th>metragem</th>\n",
       "      <td>0.543660</td>\n",
       "      <td>1.000000</td>\n",
       "      <td>0.586551</td>\n",
       "      <td>0.562429</td>\n",
       "      <td>0.375448</td>\n",
       "      <td>-0.270981</td>\n",
       "    </tr>\n",
       "    <tr>\n",
       "      <th>quarto</th>\n",
       "      <td>0.361851</td>\n",
       "      <td>0.586551</td>\n",
       "      <td>1.000000</td>\n",
       "      <td>0.422183</td>\n",
       "      <td>0.085714</td>\n",
       "      <td>-0.093085</td>\n",
       "    </tr>\n",
       "    <tr>\n",
       "      <th>banheiro</th>\n",
       "      <td>0.611390</td>\n",
       "      <td>0.562429</td>\n",
       "      <td>0.422183</td>\n",
       "      <td>1.000000</td>\n",
       "      <td>0.222141</td>\n",
       "      <td>0.167583</td>\n",
       "    </tr>\n",
       "    <tr>\n",
       "      <th>garagem</th>\n",
       "      <td>0.393858</td>\n",
       "      <td>0.375448</td>\n",
       "      <td>0.085714</td>\n",
       "      <td>0.222141</td>\n",
       "      <td>1.000000</td>\n",
       "      <td>0.124551</td>\n",
       "    </tr>\n",
       "    <tr>\n",
       "      <th>preco_por_metro</th>\n",
       "      <td>0.636756</td>\n",
       "      <td>-0.270981</td>\n",
       "      <td>-0.093085</td>\n",
       "      <td>0.167583</td>\n",
       "      <td>0.124551</td>\n",
       "      <td>1.000000</td>\n",
       "    </tr>\n",
       "  </tbody>\n",
       "</table>\n",
       "</div>"
      ],
      "text/plain": [
       "                    preco  metragem    quarto  banheiro   garagem  \\\n",
       "preco            1.000000  0.543660  0.361851  0.611390  0.393858   \n",
       "metragem         0.543660  1.000000  0.586551  0.562429  0.375448   \n",
       "quarto           0.361851  0.586551  1.000000  0.422183  0.085714   \n",
       "banheiro         0.611390  0.562429  0.422183  1.000000  0.222141   \n",
       "garagem          0.393858  0.375448  0.085714  0.222141  1.000000   \n",
       "preco_por_metro  0.636756 -0.270981 -0.093085  0.167583  0.124551   \n",
       "\n",
       "                 preco_por_metro  \n",
       "preco                   0.636756  \n",
       "metragem               -0.270981  \n",
       "quarto                 -0.093085  \n",
       "banheiro                0.167583  \n",
       "garagem                 0.124551  \n",
       "preco_por_metro         1.000000  "
      ]
     },
     "execution_count": 21,
     "metadata": {},
     "output_type": "execute_result"
    }
   ],
   "source": [
    "base_bairro.select_dtypes(include=['int32', 'float']).corr()"
   ]
  },
  {
   "cell_type": "code",
   "execution_count": 22,
   "metadata": {},
   "outputs": [
    {
     "data": {
      "application/vnd.plotly.v1+json": {
       "config": {
        "plotlyServerURL": "https://plot.ly"
       },
       "data": [
        {
         "hovertemplate": "metragem=%{x}<br>preco=%{y}<extra></extra>",
         "legendgroup": "",
         "marker": {
          "color": "#636efa",
          "symbol": "circle"
         },
         "mode": "markers",
         "name": "",
         "orientation": "v",
         "showlegend": false,
         "type": "scatter",
         "x": [
          64,
          62,
          59,
          55,
          64,
          57,
          46,
          66,
          47,
          61,
          47,
          64,
          61,
          64,
          55,
          64,
          92,
          46,
          46,
          65,
          61,
          48,
          64,
          81,
          61,
          90,
          50,
          55,
          49,
          49,
          46,
          47,
          49,
          44,
          50,
          62,
          48,
          64,
          45,
          49,
          46,
          47,
          47,
          45,
          62,
          67,
          61,
          46,
          84,
          47,
          83,
          61,
          72,
          46,
          46,
          47,
          62,
          45,
          49,
          46,
          64,
          64,
          47,
          63,
          44,
          46,
          47,
          49,
          47,
          63,
          104,
          46,
          81,
          46,
          64,
          52,
          48,
          84,
          95,
          50,
          64,
          50,
          120,
          45,
          47,
          63,
          46,
          89,
          104,
          46,
          58,
          54,
          62,
          46,
          61,
          63,
          47,
          67,
          65,
          63,
          45,
          49,
          50,
          65,
          55,
          46,
          49,
          61,
          64,
          67,
          57,
          46,
          95,
          68,
          61,
          58,
          55,
          123
         ],
         "xaxis": "x",
         "y": [
          331000,
          266000,
          265000,
          212000,
          288000,
          328490,
          172000,
          350800,
          245000,
          268000,
          213000,
          404000,
          268000,
          403000,
          213000,
          380000,
          265000,
          212000,
          175000,
          385000,
          304000,
          235000,
          372600,
          300000,
          268000,
          270000,
          200000,
          230000,
          180000,
          220000,
          180000,
          170000,
          175000,
          230000,
          230000,
          214000,
          212000,
          410000,
          213000,
          212000,
          218000,
          170000,
          200000,
          277000,
          256000,
          270000,
          280000,
          175000,
          265000,
          220000,
          210000,
          337500,
          360000,
          199000,
          170000,
          195000,
          220000,
          220000,
          170000,
          170000,
          297000,
          265000,
          240000,
          230000,
          200000,
          195000,
          165000,
          255000,
          170000,
          220000,
          245000,
          170000,
          295000,
          190000,
          230000,
          160000,
          170000,
          220000,
          310000,
          220000,
          287000,
          160000,
          590000,
          195000,
          171000,
          250000,
          175000,
          250000,
          200000,
          180000,
          117000,
          340000,
          230000,
          149000,
          268000,
          231000,
          200000,
          235000,
          420000,
          258000,
          230000,
          175000,
          250000,
          410000,
          197000,
          190000,
          152000,
          268000,
          330770,
          280000,
          215000,
          160000,
          300000,
          211000,
          265000,
          265000,
          337000,
          330750
         ],
         "yaxis": "y"
        },
        {
         "hovertemplate": "<b>OLS trendline</b><br>preco = 2519.65 * metragem + 96395.7<br>R<sup>2</sup>=0.295566<br><br>metragem=%{x}<br>preco=%{y} <b>(trend)</b><extra></extra>",
         "legendgroup": "",
         "marker": {
          "color": "#636efa",
          "symbol": "circle"
         },
         "mode": "lines",
         "name": "",
         "showlegend": false,
         "type": "scatter",
         "x": [
          44,
          44,
          45,
          45,
          45,
          45,
          45,
          46,
          46,
          46,
          46,
          46,
          46,
          46,
          46,
          46,
          46,
          46,
          46,
          46,
          46,
          46,
          46,
          46,
          47,
          47,
          47,
          47,
          47,
          47,
          47,
          47,
          47,
          47,
          47,
          47,
          48,
          48,
          48,
          49,
          49,
          49,
          49,
          49,
          49,
          49,
          49,
          50,
          50,
          50,
          50,
          50,
          52,
          54,
          55,
          55,
          55,
          55,
          55,
          57,
          57,
          58,
          58,
          59,
          61,
          61,
          61,
          61,
          61,
          61,
          61,
          61,
          61,
          62,
          62,
          62,
          62,
          62,
          63,
          63,
          63,
          63,
          63,
          64,
          64,
          64,
          64,
          64,
          64,
          64,
          64,
          64,
          64,
          64,
          64,
          65,
          65,
          65,
          66,
          67,
          67,
          67,
          68,
          72,
          81,
          81,
          83,
          84,
          84,
          89,
          90,
          92,
          95,
          95,
          104,
          104,
          120,
          123
         ],
         "xaxis": "x",
         "y": [
          207260.19736119785,
          207260.19736119785,
          209779.84396352968,
          209779.84396352968,
          209779.84396352968,
          209779.84396352968,
          209779.84396352968,
          212299.49056586152,
          212299.49056586152,
          212299.49056586152,
          212299.49056586152,
          212299.49056586152,
          212299.49056586152,
          212299.49056586152,
          212299.49056586152,
          212299.49056586152,
          212299.49056586152,
          212299.49056586152,
          212299.49056586152,
          212299.49056586152,
          212299.49056586152,
          212299.49056586152,
          212299.49056586152,
          212299.49056586152,
          214819.13716819335,
          214819.13716819335,
          214819.13716819335,
          214819.13716819335,
          214819.13716819335,
          214819.13716819335,
          214819.13716819335,
          214819.13716819335,
          214819.13716819335,
          214819.13716819335,
          214819.13716819335,
          214819.13716819335,
          217338.78377052522,
          217338.78377052522,
          217338.78377052522,
          219858.43037285708,
          219858.43037285708,
          219858.43037285708,
          219858.43037285708,
          219858.43037285708,
          219858.43037285708,
          219858.43037285708,
          219858.43037285708,
          222378.07697518892,
          222378.07697518892,
          222378.07697518892,
          222378.07697518892,
          222378.07697518892,
          227417.3701798526,
          232456.6633845163,
          234976.30998684812,
          234976.30998684812,
          234976.30998684812,
          234976.30998684812,
          234976.30998684812,
          240015.60319151182,
          240015.60319151182,
          242535.24979384366,
          242535.24979384366,
          245054.8963961755,
          250094.1896008392,
          250094.1896008392,
          250094.1896008392,
          250094.1896008392,
          250094.1896008392,
          250094.1896008392,
          250094.1896008392,
          250094.1896008392,
          250094.1896008392,
          252613.83620317103,
          252613.83620317103,
          252613.83620317103,
          252613.83620317103,
          252613.83620317103,
          255133.4828055029,
          255133.4828055029,
          255133.4828055029,
          255133.4828055029,
          255133.4828055029,
          257653.12940783473,
          257653.12940783473,
          257653.12940783473,
          257653.12940783473,
          257653.12940783473,
          257653.12940783473,
          257653.12940783473,
          257653.12940783473,
          257653.12940783473,
          257653.12940783473,
          257653.12940783473,
          257653.12940783473,
          260172.77601016656,
          260172.77601016656,
          260172.77601016656,
          262692.4226124984,
          265212.0692148303,
          265212.0692148303,
          265212.0692148303,
          267731.71581716207,
          277810.30222648947,
          300487.1216474761,
          300487.1216474761,
          305526.4148521398,
          308046.0614544716,
          308046.0614544716,
          320644.29446613084,
          323163.9410684627,
          328203.23427312635,
          335762.1740801219,
          335762.1740801219,
          358438.9935011085,
          358438.9935011085,
          398753.339138418,
          406312.27894541353
         ],
         "yaxis": "y"
        }
       ],
       "layout": {
        "legend": {
         "tracegroupgap": 0
        },
        "margin": {
         "t": 60
        },
        "template": {
         "data": {
          "bar": [
           {
            "error_x": {
             "color": "#2a3f5f"
            },
            "error_y": {
             "color": "#2a3f5f"
            },
            "marker": {
             "line": {
              "color": "#E5ECF6",
              "width": 0.5
             },
             "pattern": {
              "fillmode": "overlay",
              "size": 10,
              "solidity": 0.2
             }
            },
            "type": "bar"
           }
          ],
          "barpolar": [
           {
            "marker": {
             "line": {
              "color": "#E5ECF6",
              "width": 0.5
             },
             "pattern": {
              "fillmode": "overlay",
              "size": 10,
              "solidity": 0.2
             }
            },
            "type": "barpolar"
           }
          ],
          "carpet": [
           {
            "aaxis": {
             "endlinecolor": "#2a3f5f",
             "gridcolor": "white",
             "linecolor": "white",
             "minorgridcolor": "white",
             "startlinecolor": "#2a3f5f"
            },
            "baxis": {
             "endlinecolor": "#2a3f5f",
             "gridcolor": "white",
             "linecolor": "white",
             "minorgridcolor": "white",
             "startlinecolor": "#2a3f5f"
            },
            "type": "carpet"
           }
          ],
          "choropleth": [
           {
            "colorbar": {
             "outlinewidth": 0,
             "ticks": ""
            },
            "type": "choropleth"
           }
          ],
          "contour": [
           {
            "colorbar": {
             "outlinewidth": 0,
             "ticks": ""
            },
            "colorscale": [
             [
              0,
              "#0d0887"
             ],
             [
              0.1111111111111111,
              "#46039f"
             ],
             [
              0.2222222222222222,
              "#7201a8"
             ],
             [
              0.3333333333333333,
              "#9c179e"
             ],
             [
              0.4444444444444444,
              "#bd3786"
             ],
             [
              0.5555555555555556,
              "#d8576b"
             ],
             [
              0.6666666666666666,
              "#ed7953"
             ],
             [
              0.7777777777777778,
              "#fb9f3a"
             ],
             [
              0.8888888888888888,
              "#fdca26"
             ],
             [
              1,
              "#f0f921"
             ]
            ],
            "type": "contour"
           }
          ],
          "contourcarpet": [
           {
            "colorbar": {
             "outlinewidth": 0,
             "ticks": ""
            },
            "type": "contourcarpet"
           }
          ],
          "heatmap": [
           {
            "colorbar": {
             "outlinewidth": 0,
             "ticks": ""
            },
            "colorscale": [
             [
              0,
              "#0d0887"
             ],
             [
              0.1111111111111111,
              "#46039f"
             ],
             [
              0.2222222222222222,
              "#7201a8"
             ],
             [
              0.3333333333333333,
              "#9c179e"
             ],
             [
              0.4444444444444444,
              "#bd3786"
             ],
             [
              0.5555555555555556,
              "#d8576b"
             ],
             [
              0.6666666666666666,
              "#ed7953"
             ],
             [
              0.7777777777777778,
              "#fb9f3a"
             ],
             [
              0.8888888888888888,
              "#fdca26"
             ],
             [
              1,
              "#f0f921"
             ]
            ],
            "type": "heatmap"
           }
          ],
          "heatmapgl": [
           {
            "colorbar": {
             "outlinewidth": 0,
             "ticks": ""
            },
            "colorscale": [
             [
              0,
              "#0d0887"
             ],
             [
              0.1111111111111111,
              "#46039f"
             ],
             [
              0.2222222222222222,
              "#7201a8"
             ],
             [
              0.3333333333333333,
              "#9c179e"
             ],
             [
              0.4444444444444444,
              "#bd3786"
             ],
             [
              0.5555555555555556,
              "#d8576b"
             ],
             [
              0.6666666666666666,
              "#ed7953"
             ],
             [
              0.7777777777777778,
              "#fb9f3a"
             ],
             [
              0.8888888888888888,
              "#fdca26"
             ],
             [
              1,
              "#f0f921"
             ]
            ],
            "type": "heatmapgl"
           }
          ],
          "histogram": [
           {
            "marker": {
             "pattern": {
              "fillmode": "overlay",
              "size": 10,
              "solidity": 0.2
             }
            },
            "type": "histogram"
           }
          ],
          "histogram2d": [
           {
            "colorbar": {
             "outlinewidth": 0,
             "ticks": ""
            },
            "colorscale": [
             [
              0,
              "#0d0887"
             ],
             [
              0.1111111111111111,
              "#46039f"
             ],
             [
              0.2222222222222222,
              "#7201a8"
             ],
             [
              0.3333333333333333,
              "#9c179e"
             ],
             [
              0.4444444444444444,
              "#bd3786"
             ],
             [
              0.5555555555555556,
              "#d8576b"
             ],
             [
              0.6666666666666666,
              "#ed7953"
             ],
             [
              0.7777777777777778,
              "#fb9f3a"
             ],
             [
              0.8888888888888888,
              "#fdca26"
             ],
             [
              1,
              "#f0f921"
             ]
            ],
            "type": "histogram2d"
           }
          ],
          "histogram2dcontour": [
           {
            "colorbar": {
             "outlinewidth": 0,
             "ticks": ""
            },
            "colorscale": [
             [
              0,
              "#0d0887"
             ],
             [
              0.1111111111111111,
              "#46039f"
             ],
             [
              0.2222222222222222,
              "#7201a8"
             ],
             [
              0.3333333333333333,
              "#9c179e"
             ],
             [
              0.4444444444444444,
              "#bd3786"
             ],
             [
              0.5555555555555556,
              "#d8576b"
             ],
             [
              0.6666666666666666,
              "#ed7953"
             ],
             [
              0.7777777777777778,
              "#fb9f3a"
             ],
             [
              0.8888888888888888,
              "#fdca26"
             ],
             [
              1,
              "#f0f921"
             ]
            ],
            "type": "histogram2dcontour"
           }
          ],
          "mesh3d": [
           {
            "colorbar": {
             "outlinewidth": 0,
             "ticks": ""
            },
            "type": "mesh3d"
           }
          ],
          "parcoords": [
           {
            "line": {
             "colorbar": {
              "outlinewidth": 0,
              "ticks": ""
             }
            },
            "type": "parcoords"
           }
          ],
          "pie": [
           {
            "automargin": true,
            "type": "pie"
           }
          ],
          "scatter": [
           {
            "fillpattern": {
             "fillmode": "overlay",
             "size": 10,
             "solidity": 0.2
            },
            "type": "scatter"
           }
          ],
          "scatter3d": [
           {
            "line": {
             "colorbar": {
              "outlinewidth": 0,
              "ticks": ""
             }
            },
            "marker": {
             "colorbar": {
              "outlinewidth": 0,
              "ticks": ""
             }
            },
            "type": "scatter3d"
           }
          ],
          "scattercarpet": [
           {
            "marker": {
             "colorbar": {
              "outlinewidth": 0,
              "ticks": ""
             }
            },
            "type": "scattercarpet"
           }
          ],
          "scattergeo": [
           {
            "marker": {
             "colorbar": {
              "outlinewidth": 0,
              "ticks": ""
             }
            },
            "type": "scattergeo"
           }
          ],
          "scattergl": [
           {
            "marker": {
             "colorbar": {
              "outlinewidth": 0,
              "ticks": ""
             }
            },
            "type": "scattergl"
           }
          ],
          "scattermapbox": [
           {
            "marker": {
             "colorbar": {
              "outlinewidth": 0,
              "ticks": ""
             }
            },
            "type": "scattermapbox"
           }
          ],
          "scatterpolar": [
           {
            "marker": {
             "colorbar": {
              "outlinewidth": 0,
              "ticks": ""
             }
            },
            "type": "scatterpolar"
           }
          ],
          "scatterpolargl": [
           {
            "marker": {
             "colorbar": {
              "outlinewidth": 0,
              "ticks": ""
             }
            },
            "type": "scatterpolargl"
           }
          ],
          "scatterternary": [
           {
            "marker": {
             "colorbar": {
              "outlinewidth": 0,
              "ticks": ""
             }
            },
            "type": "scatterternary"
           }
          ],
          "surface": [
           {
            "colorbar": {
             "outlinewidth": 0,
             "ticks": ""
            },
            "colorscale": [
             [
              0,
              "#0d0887"
             ],
             [
              0.1111111111111111,
              "#46039f"
             ],
             [
              0.2222222222222222,
              "#7201a8"
             ],
             [
              0.3333333333333333,
              "#9c179e"
             ],
             [
              0.4444444444444444,
              "#bd3786"
             ],
             [
              0.5555555555555556,
              "#d8576b"
             ],
             [
              0.6666666666666666,
              "#ed7953"
             ],
             [
              0.7777777777777778,
              "#fb9f3a"
             ],
             [
              0.8888888888888888,
              "#fdca26"
             ],
             [
              1,
              "#f0f921"
             ]
            ],
            "type": "surface"
           }
          ],
          "table": [
           {
            "cells": {
             "fill": {
              "color": "#EBF0F8"
             },
             "line": {
              "color": "white"
             }
            },
            "header": {
             "fill": {
              "color": "#C8D4E3"
             },
             "line": {
              "color": "white"
             }
            },
            "type": "table"
           }
          ]
         },
         "layout": {
          "annotationdefaults": {
           "arrowcolor": "#2a3f5f",
           "arrowhead": 0,
           "arrowwidth": 1
          },
          "autotypenumbers": "strict",
          "coloraxis": {
           "colorbar": {
            "outlinewidth": 0,
            "ticks": ""
           }
          },
          "colorscale": {
           "diverging": [
            [
             0,
             "#8e0152"
            ],
            [
             0.1,
             "#c51b7d"
            ],
            [
             0.2,
             "#de77ae"
            ],
            [
             0.3,
             "#f1b6da"
            ],
            [
             0.4,
             "#fde0ef"
            ],
            [
             0.5,
             "#f7f7f7"
            ],
            [
             0.6,
             "#e6f5d0"
            ],
            [
             0.7,
             "#b8e186"
            ],
            [
             0.8,
             "#7fbc41"
            ],
            [
             0.9,
             "#4d9221"
            ],
            [
             1,
             "#276419"
            ]
           ],
           "sequential": [
            [
             0,
             "#0d0887"
            ],
            [
             0.1111111111111111,
             "#46039f"
            ],
            [
             0.2222222222222222,
             "#7201a8"
            ],
            [
             0.3333333333333333,
             "#9c179e"
            ],
            [
             0.4444444444444444,
             "#bd3786"
            ],
            [
             0.5555555555555556,
             "#d8576b"
            ],
            [
             0.6666666666666666,
             "#ed7953"
            ],
            [
             0.7777777777777778,
             "#fb9f3a"
            ],
            [
             0.8888888888888888,
             "#fdca26"
            ],
            [
             1,
             "#f0f921"
            ]
           ],
           "sequentialminus": [
            [
             0,
             "#0d0887"
            ],
            [
             0.1111111111111111,
             "#46039f"
            ],
            [
             0.2222222222222222,
             "#7201a8"
            ],
            [
             0.3333333333333333,
             "#9c179e"
            ],
            [
             0.4444444444444444,
             "#bd3786"
            ],
            [
             0.5555555555555556,
             "#d8576b"
            ],
            [
             0.6666666666666666,
             "#ed7953"
            ],
            [
             0.7777777777777778,
             "#fb9f3a"
            ],
            [
             0.8888888888888888,
             "#fdca26"
            ],
            [
             1,
             "#f0f921"
            ]
           ]
          },
          "colorway": [
           "#636efa",
           "#EF553B",
           "#00cc96",
           "#ab63fa",
           "#FFA15A",
           "#19d3f3",
           "#FF6692",
           "#B6E880",
           "#FF97FF",
           "#FECB52"
          ],
          "font": {
           "color": "#2a3f5f"
          },
          "geo": {
           "bgcolor": "white",
           "lakecolor": "white",
           "landcolor": "#E5ECF6",
           "showlakes": true,
           "showland": true,
           "subunitcolor": "white"
          },
          "hoverlabel": {
           "align": "left"
          },
          "hovermode": "closest",
          "mapbox": {
           "style": "light"
          },
          "paper_bgcolor": "white",
          "plot_bgcolor": "#E5ECF6",
          "polar": {
           "angularaxis": {
            "gridcolor": "white",
            "linecolor": "white",
            "ticks": ""
           },
           "bgcolor": "#E5ECF6",
           "radialaxis": {
            "gridcolor": "white",
            "linecolor": "white",
            "ticks": ""
           }
          },
          "scene": {
           "xaxis": {
            "backgroundcolor": "#E5ECF6",
            "gridcolor": "white",
            "gridwidth": 2,
            "linecolor": "white",
            "showbackground": true,
            "ticks": "",
            "zerolinecolor": "white"
           },
           "yaxis": {
            "backgroundcolor": "#E5ECF6",
            "gridcolor": "white",
            "gridwidth": 2,
            "linecolor": "white",
            "showbackground": true,
            "ticks": "",
            "zerolinecolor": "white"
           },
           "zaxis": {
            "backgroundcolor": "#E5ECF6",
            "gridcolor": "white",
            "gridwidth": 2,
            "linecolor": "white",
            "showbackground": true,
            "ticks": "",
            "zerolinecolor": "white"
           }
          },
          "shapedefaults": {
           "line": {
            "color": "#2a3f5f"
           }
          },
          "ternary": {
           "aaxis": {
            "gridcolor": "white",
            "linecolor": "white",
            "ticks": ""
           },
           "baxis": {
            "gridcolor": "white",
            "linecolor": "white",
            "ticks": ""
           },
           "bgcolor": "#E5ECF6",
           "caxis": {
            "gridcolor": "white",
            "linecolor": "white",
            "ticks": ""
           }
          },
          "title": {
           "x": 0.05
          },
          "xaxis": {
           "automargin": true,
           "gridcolor": "white",
           "linecolor": "white",
           "ticks": "",
           "title": {
            "standoff": 15
           },
           "zerolinecolor": "white",
           "zerolinewidth": 2
          },
          "yaxis": {
           "automargin": true,
           "gridcolor": "white",
           "linecolor": "white",
           "ticks": "",
           "title": {
            "standoff": 15
           },
           "zerolinecolor": "white",
           "zerolinewidth": 2
          }
         }
        },
        "xaxis": {
         "anchor": "y",
         "domain": [
          0,
          1
         ],
         "title": {
          "text": "metragem"
         }
        },
        "yaxis": {
         "anchor": "x",
         "domain": [
          0,
          1
         ],
         "title": {
          "text": "preco"
         }
        }
       }
      }
     },
     "metadata": {},
     "output_type": "display_data"
    }
   ],
   "source": [
    "fig = px.scatter(base_bairro, x='metragem', y='preco', trendline='ols')\n",
    "fig.show()"
   ]
  },
  {
   "cell_type": "markdown",
   "metadata": {},
   "source": [
    "- Média de preço por metro por faixa Metragem"
   ]
  },
  {
   "cell_type": "code",
   "execution_count": 23,
   "metadata": {},
   "outputs": [
    {
     "name": "stderr",
     "output_type": "stream",
     "text": [
      "/tmp/ipykernel_770/3581440384.py:5: SettingWithCopyWarning:\n",
      "\n",
      "\n",
      "A value is trying to be set on a copy of a slice from a DataFrame.\n",
      "Try using .loc[row_indexer,col_indexer] = value instead\n",
      "\n",
      "See the caveats in the documentation: https://pandas.pydata.org/pandas-docs/stable/user_guide/indexing.html#returning-a-view-versus-a-copy\n",
      "\n"
     ]
    }
   ],
   "source": [
    "n = base_bairro.shape[0]\n",
    "k = 1 + (10/3) * np.log10(n)\n",
    "k = int(k)\n",
    "faixas_metragem = pd.cut(base_bairro['metragem'], bins=k, include_lowest=True, right=False)\n",
    "base_bairro.loc[:, 'faixa_metragem'] = faixas_metragem\n",
    "\n"
   ]
  },
  {
   "cell_type": "code",
   "execution_count": 24,
   "metadata": {},
   "outputs": [
    {
     "data": {
      "text/html": [
       "<div>\n",
       "<style scoped>\n",
       "    .dataframe tbody tr th:only-of-type {\n",
       "        vertical-align: middle;\n",
       "    }\n",
       "\n",
       "    .dataframe tbody tr th {\n",
       "        vertical-align: top;\n",
       "    }\n",
       "\n",
       "    .dataframe thead th {\n",
       "        text-align: right;\n",
       "    }\n",
       "</style>\n",
       "<table border=\"1\" class=\"dataframe\">\n",
       "  <thead>\n",
       "    <tr style=\"text-align: right;\">\n",
       "      <th></th>\n",
       "      <th>faixa_metragem</th>\n",
       "      <th>media_por_faixa_metragem</th>\n",
       "      <th>preco_maximo_metragem</th>\n",
       "    </tr>\n",
       "  </thead>\n",
       "  <tbody>\n",
       "    <tr>\n",
       "      <th>6</th>\n",
       "      <td>[111.714, 123.079)</td>\n",
       "      <td>460375.000000</td>\n",
       "      <td>590000.0</td>\n",
       "    </tr>\n",
       "    <tr>\n",
       "      <th>1</th>\n",
       "      <td>[55.286, 66.571)</td>\n",
       "      <td>291404.000000</td>\n",
       "      <td>420000.0</td>\n",
       "    </tr>\n",
       "    <tr>\n",
       "      <th>4</th>\n",
       "      <td>[89.143, 100.429)</td>\n",
       "      <td>286250.000000</td>\n",
       "      <td>310000.0</td>\n",
       "    </tr>\n",
       "    <tr>\n",
       "      <th>2</th>\n",
       "      <td>[66.571, 77.857)</td>\n",
       "      <td>271200.000000</td>\n",
       "      <td>360000.0</td>\n",
       "    </tr>\n",
       "    <tr>\n",
       "      <th>3</th>\n",
       "      <td>[77.857, 89.143)</td>\n",
       "      <td>256666.666667</td>\n",
       "      <td>300000.0</td>\n",
       "    </tr>\n",
       "    <tr>\n",
       "      <th>5</th>\n",
       "      <td>[100.429, 111.714)</td>\n",
       "      <td>222500.000000</td>\n",
       "      <td>245000.0</td>\n",
       "    </tr>\n",
       "    <tr>\n",
       "      <th>0</th>\n",
       "      <td>[44.0, 55.286)</td>\n",
       "      <td>201847.457627</td>\n",
       "      <td>340000.0</td>\n",
       "    </tr>\n",
       "  </tbody>\n",
       "</table>\n",
       "</div>"
      ],
      "text/plain": [
       "       faixa_metragem  media_por_faixa_metragem  preco_maximo_metragem\n",
       "6  [111.714, 123.079)             460375.000000               590000.0\n",
       "1    [55.286, 66.571)             291404.000000               420000.0\n",
       "4   [89.143, 100.429)             286250.000000               310000.0\n",
       "2    [66.571, 77.857)             271200.000000               360000.0\n",
       "3    [77.857, 89.143)             256666.666667               300000.0\n",
       "5  [100.429, 111.714)             222500.000000               245000.0\n",
       "0      [44.0, 55.286)             201847.457627               340000.0"
      ]
     },
     "execution_count": 24,
     "metadata": {},
     "output_type": "execute_result"
    }
   ],
   "source": [
    "resultado = base_bairro.groupby('faixa_metragem', observed=True).agg(\n",
    "    media_por_faixa_metragem=('preco', 'mean'),\n",
    "    preco_maximo_metragem=('preco', 'max'),\n",
    ").reset_index().sort_values(by='media_por_faixa_metragem', ascending=False)\n",
    "resultado\n"
   ]
  },
  {
   "cell_type": "markdown",
   "metadata": {},
   "source": [
    "- Média de preço por quantidade banheiro"
   ]
  },
  {
   "cell_type": "code",
   "execution_count": 25,
   "metadata": {},
   "outputs": [
    {
     "data": {
      "text/plain": [
       "Index(['tipo_imovel', 'nome', 'preco', 'metragem', 'quarto', 'banheiro',\n",
       "       'garagem', 'ID_CASA', 'bairro_teste', 'preco_por_metro',\n",
       "       'faixa_metragem'],\n",
       "      dtype='object')"
      ]
     },
     "execution_count": 25,
     "metadata": {},
     "output_type": "execute_result"
    }
   ],
   "source": [
    "base_bairro.columns"
   ]
  },
  {
   "cell_type": "code",
   "execution_count": 26,
   "metadata": {},
   "outputs": [
    {
     "data": {
      "text/html": [
       "<div>\n",
       "<style scoped>\n",
       "    .dataframe tbody tr th:only-of-type {\n",
       "        vertical-align: middle;\n",
       "    }\n",
       "\n",
       "    .dataframe tbody tr th {\n",
       "        vertical-align: top;\n",
       "    }\n",
       "\n",
       "    .dataframe thead th {\n",
       "        text-align: right;\n",
       "    }\n",
       "</style>\n",
       "<table border=\"1\" class=\"dataframe\">\n",
       "  <thead>\n",
       "    <tr style=\"text-align: right;\">\n",
       "      <th></th>\n",
       "      <th>banheiro</th>\n",
       "      <th>media_de_preco_por_banheiro</th>\n",
       "      <th>preco_maximo_banheiro</th>\n",
       "    </tr>\n",
       "  </thead>\n",
       "  <tbody>\n",
       "    <tr>\n",
       "      <th>2</th>\n",
       "      <td>3</td>\n",
       "      <td>590000.000000</td>\n",
       "      <td>590000.0</td>\n",
       "    </tr>\n",
       "    <tr>\n",
       "      <th>1</th>\n",
       "      <td>2</td>\n",
       "      <td>289242.444444</td>\n",
       "      <td>420000.0</td>\n",
       "    </tr>\n",
       "    <tr>\n",
       "      <th>0</th>\n",
       "      <td>1</td>\n",
       "      <td>213416.666667</td>\n",
       "      <td>410000.0</td>\n",
       "    </tr>\n",
       "  </tbody>\n",
       "</table>\n",
       "</div>"
      ],
      "text/plain": [
       "   banheiro  media_de_preco_por_banheiro  preco_maximo_banheiro\n",
       "2         3                590000.000000               590000.0\n",
       "1         2                289242.444444               420000.0\n",
       "0         1                213416.666667               410000.0"
      ]
     },
     "execution_count": 26,
     "metadata": {},
     "output_type": "execute_result"
    }
   ],
   "source": [
    "base_bairro.groupby('banheiro') \\\n",
    "    .agg(\n",
    "        media_de_preco_por_banheiro=('preco', 'mean'),\n",
    "        preco_maximo_banheiro=('preco', 'max')\n",
    "    ).reset_index().sort_values(by='media_de_preco_por_banheiro', ascending=False)"
   ]
  },
  {
   "cell_type": "markdown",
   "metadata": {},
   "source": [
    "- Média de preço por quartos"
   ]
  },
  {
   "cell_type": "code",
   "execution_count": 27,
   "metadata": {},
   "outputs": [
    {
     "data": {
      "text/html": [
       "<div>\n",
       "<style scoped>\n",
       "    .dataframe tbody tr th:only-of-type {\n",
       "        vertical-align: middle;\n",
       "    }\n",
       "\n",
       "    .dataframe tbody tr th {\n",
       "        vertical-align: top;\n",
       "    }\n",
       "\n",
       "    .dataframe thead th {\n",
       "        text-align: right;\n",
       "    }\n",
       "</style>\n",
       "<table border=\"1\" class=\"dataframe\">\n",
       "  <thead>\n",
       "    <tr style=\"text-align: right;\">\n",
       "      <th></th>\n",
       "      <th>quarto</th>\n",
       "      <th>media_de_preco_por_quarto</th>\n",
       "      <th>preco_maximo_quarto</th>\n",
       "    </tr>\n",
       "  </thead>\n",
       "  <tbody>\n",
       "    <tr>\n",
       "      <th>1</th>\n",
       "      <td>3</td>\n",
       "      <td>337907.692308</td>\n",
       "      <td>590000.0</td>\n",
       "    </tr>\n",
       "    <tr>\n",
       "      <th>0</th>\n",
       "      <td>2</td>\n",
       "      <td>234414.519231</td>\n",
       "      <td>420000.0</td>\n",
       "    </tr>\n",
       "    <tr>\n",
       "      <th>2</th>\n",
       "      <td>4</td>\n",
       "      <td>200000.000000</td>\n",
       "      <td>200000.0</td>\n",
       "    </tr>\n",
       "  </tbody>\n",
       "</table>\n",
       "</div>"
      ],
      "text/plain": [
       "   quarto  media_de_preco_por_quarto  preco_maximo_quarto\n",
       "1       3              337907.692308             590000.0\n",
       "0       2              234414.519231             420000.0\n",
       "2       4              200000.000000             200000.0"
      ]
     },
     "execution_count": 27,
     "metadata": {},
     "output_type": "execute_result"
    }
   ],
   "source": [
    "base_bairro.groupby('quarto') \\\n",
    "    .agg(\n",
    "        media_de_preco_por_quarto=('preco', 'mean'),\n",
    "        preco_maximo_quarto=('preco', 'max'),\n",
    "    ).reset_index().sort_values(by='media_de_preco_por_quarto', ascending=False)"
   ]
  },
  {
   "cell_type": "markdown",
   "metadata": {},
   "source": [
    "- Média de preço garagem"
   ]
  },
  {
   "cell_type": "code",
   "execution_count": 28,
   "metadata": {},
   "outputs": [
    {
     "data": {
      "text/html": [
       "<div>\n",
       "<style scoped>\n",
       "    .dataframe tbody tr th:only-of-type {\n",
       "        vertical-align: middle;\n",
       "    }\n",
       "\n",
       "    .dataframe tbody tr th {\n",
       "        vertical-align: top;\n",
       "    }\n",
       "\n",
       "    .dataframe thead th {\n",
       "        text-align: right;\n",
       "    }\n",
       "</style>\n",
       "<table border=\"1\" class=\"dataframe\">\n",
       "  <thead>\n",
       "    <tr style=\"text-align: right;\">\n",
       "      <th></th>\n",
       "      <th>garagem</th>\n",
       "      <th>media_de_preco_por_garagem</th>\n",
       "      <th>preco_maximo_garagem</th>\n",
       "    </tr>\n",
       "  </thead>\n",
       "  <tbody>\n",
       "    <tr>\n",
       "      <th>2</th>\n",
       "      <td>2</td>\n",
       "      <td>433000.000000</td>\n",
       "      <td>590000.0</td>\n",
       "    </tr>\n",
       "    <tr>\n",
       "      <th>3</th>\n",
       "      <td>4</td>\n",
       "      <td>330750.000000</td>\n",
       "      <td>330750.0</td>\n",
       "    </tr>\n",
       "    <tr>\n",
       "      <th>1</th>\n",
       "      <td>1</td>\n",
       "      <td>236886.880734</td>\n",
       "      <td>410000.0</td>\n",
       "    </tr>\n",
       "    <tr>\n",
       "      <th>0</th>\n",
       "      <td>0</td>\n",
       "      <td>218496.666667</td>\n",
       "      <td>328490.0</td>\n",
       "    </tr>\n",
       "  </tbody>\n",
       "</table>\n",
       "</div>"
      ],
      "text/plain": [
       "   garagem  media_de_preco_por_garagem  preco_maximo_garagem\n",
       "2        2               433000.000000              590000.0\n",
       "3        4               330750.000000              330750.0\n",
       "1        1               236886.880734              410000.0\n",
       "0        0               218496.666667              328490.0"
      ]
     },
     "execution_count": 28,
     "metadata": {},
     "output_type": "execute_result"
    }
   ],
   "source": [
    "base_bairro.groupby('garagem') \\\n",
    "    .agg(\n",
    "        media_de_preco_por_garagem=('preco', 'mean'),\n",
    "        preco_maximo_garagem=('preco','max')\n",
    "\n",
    "    ).reset_index().sort_values(by='media_de_preco_por_garagem', ascending=False)"
   ]
  },
  {
   "cell_type": "markdown",
   "metadata": {},
   "source": [
    "# \t- Identificar Outliers"
   ]
  },
  {
   "cell_type": "code",
   "execution_count": 29,
   "metadata": {},
   "outputs": [],
   "source": [
    "def remove_outliers(df):\n",
    "  \n",
    "  num_cols = df.select_dtypes(include=[np.number]).columns\n",
    "  for col in num_cols:\n",
    "      Q1 = df[col].quantile(0.25)\n",
    "      Q3 = df[col].quantile(0.75)\n",
    "      IQR = Q3 - Q1\n",
    "      lower_bound = Q1 - 1.5 * IQR\n",
    "      upper_bound = Q3 + 1.5 * IQR\n",
    "      df = df[(df[col] >= lower_bound) & (df[col] <= upper_bound)]\n",
    "  return df"
   ]
  },
  {
   "cell_type": "code",
   "execution_count": 30,
   "metadata": {},
   "outputs": [
    {
     "data": {
      "text/html": [
       "<div>\n",
       "<style scoped>\n",
       "    .dataframe tbody tr th:only-of-type {\n",
       "        vertical-align: middle;\n",
       "    }\n",
       "\n",
       "    .dataframe tbody tr th {\n",
       "        vertical-align: top;\n",
       "    }\n",
       "\n",
       "    .dataframe thead th {\n",
       "        text-align: right;\n",
       "    }\n",
       "</style>\n",
       "<table border=\"1\" class=\"dataframe\">\n",
       "  <thead>\n",
       "    <tr style=\"text-align: right;\">\n",
       "      <th></th>\n",
       "      <th>tipo_imovel</th>\n",
       "      <th>nome</th>\n",
       "      <th>preco</th>\n",
       "      <th>metragem</th>\n",
       "      <th>quarto</th>\n",
       "      <th>banheiro</th>\n",
       "      <th>garagem</th>\n",
       "      <th>ID_CASA</th>\n",
       "      <th>bairro_teste</th>\n",
       "      <th>preco_por_metro</th>\n",
       "    </tr>\n",
       "  </thead>\n",
       "  <tbody>\n",
       "    <tr>\n",
       "      <th>0</th>\n",
       "      <td>Apartamento</td>\n",
       "      <td>Apartamento com 2 Quartos à Venda, 65m²</td>\n",
       "      <td>310000.0</td>\n",
       "      <td>65</td>\n",
       "      <td>2</td>\n",
       "      <td>2</td>\n",
       "      <td>1</td>\n",
       "      <td>2699716579</td>\n",
       "      <td>Jardim Botânico</td>\n",
       "      <td>4769.230769</td>\n",
       "    </tr>\n",
       "    <tr>\n",
       "      <th>2</th>\n",
       "      <td>Apartamento</td>\n",
       "      <td>Apartamento com 2 Quartos à Venda, 71m²</td>\n",
       "      <td>403500.0</td>\n",
       "      <td>71</td>\n",
       "      <td>2</td>\n",
       "      <td>2</td>\n",
       "      <td>2</td>\n",
       "      <td>2690493538</td>\n",
       "      <td>Bonfim Paulista</td>\n",
       "      <td>5683.098592</td>\n",
       "    </tr>\n",
       "    <tr>\n",
       "      <th>3</th>\n",
       "      <td>Apartamento</td>\n",
       "      <td>Apartamento com 2 Quartos à Venda, 54m²</td>\n",
       "      <td>290000.0</td>\n",
       "      <td>54</td>\n",
       "      <td>2</td>\n",
       "      <td>2</td>\n",
       "      <td>1</td>\n",
       "      <td>2667652105</td>\n",
       "      <td>Nova Aliança</td>\n",
       "      <td>5370.370370</td>\n",
       "    </tr>\n",
       "    <tr>\n",
       "      <th>4</th>\n",
       "      <td>Apartamento</td>\n",
       "      <td>Apartamento com 2 Quartos à Venda, 45m²</td>\n",
       "      <td>166420.0</td>\n",
       "      <td>45</td>\n",
       "      <td>2</td>\n",
       "      <td>1</td>\n",
       "      <td>1</td>\n",
       "      <td>2682840782</td>\n",
       "      <td>Conjunto Habitacional Jardim Das Palmeiras</td>\n",
       "      <td>3698.222222</td>\n",
       "    </tr>\n",
       "    <tr>\n",
       "      <th>5</th>\n",
       "      <td>Apartamento</td>\n",
       "      <td>Apartamento com 2 Quartos à Venda, 64m²</td>\n",
       "      <td>370000.0</td>\n",
       "      <td>64</td>\n",
       "      <td>2</td>\n",
       "      <td>2</td>\n",
       "      <td>2</td>\n",
       "      <td>2688027260</td>\n",
       "      <td>Vila Ana Maria</td>\n",
       "      <td>5781.250000</td>\n",
       "    </tr>\n",
       "    <tr>\n",
       "      <th>...</th>\n",
       "      <td>...</td>\n",
       "      <td>...</td>\n",
       "      <td>...</td>\n",
       "      <td>...</td>\n",
       "      <td>...</td>\n",
       "      <td>...</td>\n",
       "      <td>...</td>\n",
       "      <td>...</td>\n",
       "      <td>...</td>\n",
       "      <td>...</td>\n",
       "    </tr>\n",
       "    <tr>\n",
       "      <th>9965</th>\n",
       "      <td>Apartamento</td>\n",
       "      <td>Apartamento com 3 Quartos à Venda, 128m²</td>\n",
       "      <td>400000.0</td>\n",
       "      <td>128</td>\n",
       "      <td>3</td>\n",
       "      <td>3</td>\n",
       "      <td>1</td>\n",
       "      <td>2629905962</td>\n",
       "      <td>Centro</td>\n",
       "      <td>3125.000000</td>\n",
       "    </tr>\n",
       "    <tr>\n",
       "      <th>9967</th>\n",
       "      <td>Apartamento</td>\n",
       "      <td>Apartamento com 3 Quartos à Venda, 81m²</td>\n",
       "      <td>540000.0</td>\n",
       "      <td>81</td>\n",
       "      <td>3</td>\n",
       "      <td>2</td>\n",
       "      <td>2</td>\n",
       "      <td>2696267182</td>\n",
       "      <td>Vila Do Golf</td>\n",
       "      <td>6666.666667</td>\n",
       "    </tr>\n",
       "    <tr>\n",
       "      <th>9969</th>\n",
       "      <td>Apartamento</td>\n",
       "      <td>Apartamento com 3 Quartos à Venda, 83m²</td>\n",
       "      <td>375000.0</td>\n",
       "      <td>83</td>\n",
       "      <td>3</td>\n",
       "      <td>3</td>\n",
       "      <td>2</td>\n",
       "      <td>2693112449</td>\n",
       "      <td>Jardim São Luiz</td>\n",
       "      <td>4518.072289</td>\n",
       "    </tr>\n",
       "    <tr>\n",
       "      <th>9970</th>\n",
       "      <td>Apartamento</td>\n",
       "      <td>Apartamento com 2 Quartos à Venda, 48m²</td>\n",
       "      <td>175000.0</td>\n",
       "      <td>48</td>\n",
       "      <td>2</td>\n",
       "      <td>1</td>\n",
       "      <td>1</td>\n",
       "      <td>2572455642</td>\n",
       "      <td>Lagoinha</td>\n",
       "      <td>3645.833333</td>\n",
       "    </tr>\n",
       "    <tr>\n",
       "      <th>9971</th>\n",
       "      <td>Apartamento</td>\n",
       "      <td>Apartamento com 3 Quartos à Venda, 120m²</td>\n",
       "      <td>394000.0</td>\n",
       "      <td>120</td>\n",
       "      <td>3</td>\n",
       "      <td>3</td>\n",
       "      <td>1</td>\n",
       "      <td>2523506081</td>\n",
       "      <td>Centro</td>\n",
       "      <td>3283.333333</td>\n",
       "    </tr>\n",
       "  </tbody>\n",
       "</table>\n",
       "<p>6781 rows × 10 columns</p>\n",
       "</div>"
      ],
      "text/plain": [
       "      tipo_imovel                                      nome     preco  \\\n",
       "0     Apartamento   Apartamento com 2 Quartos à Venda, 65m²  310000.0   \n",
       "2     Apartamento   Apartamento com 2 Quartos à Venda, 71m²  403500.0   \n",
       "3     Apartamento   Apartamento com 2 Quartos à Venda, 54m²  290000.0   \n",
       "4     Apartamento   Apartamento com 2 Quartos à Venda, 45m²  166420.0   \n",
       "5     Apartamento   Apartamento com 2 Quartos à Venda, 64m²  370000.0   \n",
       "...           ...                                       ...       ...   \n",
       "9965  Apartamento  Apartamento com 3 Quartos à Venda, 128m²  400000.0   \n",
       "9967  Apartamento   Apartamento com 3 Quartos à Venda, 81m²  540000.0   \n",
       "9969  Apartamento   Apartamento com 3 Quartos à Venda, 83m²  375000.0   \n",
       "9970  Apartamento   Apartamento com 2 Quartos à Venda, 48m²  175000.0   \n",
       "9971  Apartamento  Apartamento com 3 Quartos à Venda, 120m²  394000.0   \n",
       "\n",
       "      metragem  quarto  banheiro  garagem     ID_CASA  \\\n",
       "0           65       2         2        1  2699716579   \n",
       "2           71       2         2        2  2690493538   \n",
       "3           54       2         2        1  2667652105   \n",
       "4           45       2         1        1  2682840782   \n",
       "5           64       2         2        2  2688027260   \n",
       "...        ...     ...       ...      ...         ...   \n",
       "9965       128       3         3        1  2629905962   \n",
       "9967        81       3         2        2  2696267182   \n",
       "9969        83       3         3        2  2693112449   \n",
       "9970        48       2         1        1  2572455642   \n",
       "9971       120       3         3        1  2523506081   \n",
       "\n",
       "                                    bairro_teste  preco_por_metro  \n",
       "0                                Jardim Botânico      4769.230769  \n",
       "2                                Bonfim Paulista      5683.098592  \n",
       "3                                   Nova Aliança      5370.370370  \n",
       "4     Conjunto Habitacional Jardim Das Palmeiras      3698.222222  \n",
       "5                                 Vila Ana Maria      5781.250000  \n",
       "...                                          ...              ...  \n",
       "9965                                      Centro      3125.000000  \n",
       "9967                                Vila Do Golf      6666.666667  \n",
       "9969                             Jardim São Luiz      4518.072289  \n",
       "9970                                    Lagoinha      3645.833333  \n",
       "9971                                      Centro      3283.333333  \n",
       "\n",
       "[6781 rows x 10 columns]"
      ]
     },
     "execution_count": 30,
     "metadata": {},
     "output_type": "execute_result"
    }
   ],
   "source": [
    "df_outliers = remove_outliers(base_original)\n",
    "df_outliers"
   ]
  },
  {
   "cell_type": "code",
   "execution_count": 36,
   "metadata": {},
   "outputs": [
    {
     "data": {
      "text/html": [
       "<div>\n",
       "<style scoped>\n",
       "    .dataframe tbody tr th:only-of-type {\n",
       "        vertical-align: middle;\n",
       "    }\n",
       "\n",
       "    .dataframe tbody tr th {\n",
       "        vertical-align: top;\n",
       "    }\n",
       "\n",
       "    .dataframe thead th {\n",
       "        text-align: right;\n",
       "    }\n",
       "</style>\n",
       "<table border=\"1\" class=\"dataframe\">\n",
       "  <thead>\n",
       "    <tr style=\"text-align: right;\">\n",
       "      <th></th>\n",
       "      <th>bairro_teste</th>\n",
       "      <th>count</th>\n",
       "    </tr>\n",
       "  </thead>\n",
       "  <tbody>\n",
       "    <tr>\n",
       "      <th>0</th>\n",
       "      <td>Centro</td>\n",
       "      <td>529</td>\n",
       "    </tr>\n",
       "    <tr>\n",
       "      <th>1</th>\n",
       "      <td>Nova Aliança</td>\n",
       "      <td>520</td>\n",
       "    </tr>\n",
       "    <tr>\n",
       "      <th>2</th>\n",
       "      <td>Jardim Botânico</td>\n",
       "      <td>441</td>\n",
       "    </tr>\n",
       "    <tr>\n",
       "      <th>3</th>\n",
       "      <td>Jardim Paulista</td>\n",
       "      <td>285</td>\n",
       "    </tr>\n",
       "    <tr>\n",
       "      <th>4</th>\n",
       "      <td>Jardim Irajá</td>\n",
       "      <td>248</td>\n",
       "    </tr>\n",
       "    <tr>\n",
       "      <th>5</th>\n",
       "      <td>Ribeirânia</td>\n",
       "      <td>196</td>\n",
       "    </tr>\n",
       "    <tr>\n",
       "      <th>6</th>\n",
       "      <td>Campos Eliseos</td>\n",
       "      <td>176</td>\n",
       "    </tr>\n",
       "    <tr>\n",
       "      <th>7</th>\n",
       "      <td>Jardim Palma Travassos</td>\n",
       "      <td>172</td>\n",
       "    </tr>\n",
       "    <tr>\n",
       "      <th>8</th>\n",
       "      <td>Ipiranga</td>\n",
       "      <td>162</td>\n",
       "    </tr>\n",
       "    <tr>\n",
       "      <th>9</th>\n",
       "      <td>Parque Industrial Lagoinha</td>\n",
       "      <td>146</td>\n",
       "    </tr>\n",
       "  </tbody>\n",
       "</table>\n",
       "</div>"
      ],
      "text/plain": [
       "                 bairro_teste  count\n",
       "0                      Centro    529\n",
       "1                Nova Aliança    520\n",
       "2             Jardim Botânico    441\n",
       "3             Jardim Paulista    285\n",
       "4                Jardim Irajá    248\n",
       "5                  Ribeirânia    196\n",
       "6              Campos Eliseos    176\n",
       "7      Jardim Palma Travassos    172\n",
       "8                    Ipiranga    162\n",
       "9  Parque Industrial Lagoinha    146"
      ]
     },
     "execution_count": 36,
     "metadata": {},
     "output_type": "execute_result"
    }
   ],
   "source": [
    "df_outliers['bairro_teste'].value_counts().reset_index().nlargest(10, columns=['count'])"
   ]
  },
  {
   "cell_type": "markdown",
   "metadata": {},
   "source": [
    "- Preço por metro"
   ]
  },
  {
   "cell_type": "code",
   "execution_count": 44,
   "metadata": {},
   "outputs": [
    {
     "data": {
      "text/html": [
       "<div>\n",
       "<style scoped>\n",
       "    .dataframe tbody tr th:only-of-type {\n",
       "        vertical-align: middle;\n",
       "    }\n",
       "\n",
       "    .dataframe tbody tr th {\n",
       "        vertical-align: top;\n",
       "    }\n",
       "\n",
       "    .dataframe thead th {\n",
       "        text-align: right;\n",
       "    }\n",
       "</style>\n",
       "<table border=\"1\" class=\"dataframe\">\n",
       "  <thead>\n",
       "    <tr style=\"text-align: right;\">\n",
       "      <th></th>\n",
       "      <th>bairro_teste</th>\n",
       "      <th>preco_max</th>\n",
       "      <th>preco_por_metro_max</th>\n",
       "      <th>preco_por_metro_media</th>\n",
       "    </tr>\n",
       "  </thead>\n",
       "  <tbody>\n",
       "    <tr>\n",
       "      <th>7</th>\n",
       "      <td>Bosque Das Juritis</td>\n",
       "      <td>975000.0</td>\n",
       "      <td>8918.918919</td>\n",
       "      <td>7063.295435</td>\n",
       "    </tr>\n",
       "    <tr>\n",
       "      <th>67</th>\n",
       "      <td>Jardim Olhos D Agua</td>\n",
       "      <td>972000.0</td>\n",
       "      <td>8840.579710</td>\n",
       "      <td>8133.049868</td>\n",
       "    </tr>\n",
       "    <tr>\n",
       "      <th>82</th>\n",
       "      <td>Jardim Saint Gerard</td>\n",
       "      <td>965001.0</td>\n",
       "      <td>6892.864286</td>\n",
       "      <td>6892.864286</td>\n",
       "    </tr>\n",
       "    <tr>\n",
       "      <th>6</th>\n",
       "      <td>Bonfim Paulista</td>\n",
       "      <td>960000.0</td>\n",
       "      <td>8253.968254</td>\n",
       "      <td>4833.245243</td>\n",
       "    </tr>\n",
       "    <tr>\n",
       "      <th>96</th>\n",
       "      <td>Nova Aliança</td>\n",
       "      <td>955000.0</td>\n",
       "      <td>8623.709677</td>\n",
       "      <td>5793.029595</td>\n",
       "    </tr>\n",
       "    <tr>\n",
       "      <th>34</th>\n",
       "      <td>Jardim Canadá</td>\n",
       "      <td>954000.0</td>\n",
       "      <td>8875.000000</td>\n",
       "      <td>6940.476190</td>\n",
       "    </tr>\n",
       "    <tr>\n",
       "      <th>32</th>\n",
       "      <td>Jardim Botânico</td>\n",
       "      <td>950000.0</td>\n",
       "      <td>8936.170213</td>\n",
       "      <td>5760.869565</td>\n",
       "    </tr>\n",
       "    <tr>\n",
       "      <th>49</th>\n",
       "      <td>Jardim Irajá</td>\n",
       "      <td>900000.0</td>\n",
       "      <td>8750.000000</td>\n",
       "      <td>4866.642959</td>\n",
       "    </tr>\n",
       "    <tr>\n",
       "      <th>134</th>\n",
       "      <td>Santa Cruz Do José Jacques</td>\n",
       "      <td>880000.0</td>\n",
       "      <td>8728.813559</td>\n",
       "      <td>5070.422535</td>\n",
       "    </tr>\n",
       "    <tr>\n",
       "      <th>65</th>\n",
       "      <td>Jardim Nova Aliança Sul</td>\n",
       "      <td>870000.0</td>\n",
       "      <td>8867.821429</td>\n",
       "      <td>5846.153846</td>\n",
       "    </tr>\n",
       "  </tbody>\n",
       "</table>\n",
       "</div>"
      ],
      "text/plain": [
       "                   bairro_teste  preco_max  preco_por_metro_max  \\\n",
       "7            Bosque Das Juritis   975000.0          8918.918919   \n",
       "67          Jardim Olhos D Agua   972000.0          8840.579710   \n",
       "82          Jardim Saint Gerard   965001.0          6892.864286   \n",
       "6               Bonfim Paulista   960000.0          8253.968254   \n",
       "96                 Nova Aliança   955000.0          8623.709677   \n",
       "34                Jardim Canadá   954000.0          8875.000000   \n",
       "32              Jardim Botânico   950000.0          8936.170213   \n",
       "49                 Jardim Irajá   900000.0          8750.000000   \n",
       "134  Santa Cruz Do José Jacques   880000.0          8728.813559   \n",
       "65      Jardim Nova Aliança Sul   870000.0          8867.821429   \n",
       "\n",
       "     preco_por_metro_media  \n",
       "7              7063.295435  \n",
       "67             8133.049868  \n",
       "82             6892.864286  \n",
       "6              4833.245243  \n",
       "96             5793.029595  \n",
       "34             6940.476190  \n",
       "32             5760.869565  \n",
       "49             4866.642959  \n",
       "134            5070.422535  \n",
       "65             5846.153846  "
      ]
     },
     "execution_count": 44,
     "metadata": {},
     "output_type": "execute_result"
    }
   ],
   "source": [
    "df_outliers.groupby('bairro_teste').agg(\n",
    "    preco_max=('preco', 'max'),\n",
    "    preco_por_metro_max=('preco_por_metro', 'max'),\n",
    "    preco_por_metro_media=('preco_por_metro', 'median')\n",
    ").reset_index().nlargest(10, columns=['preco_max'])"
   ]
  },
  {
   "cell_type": "code",
   "execution_count": 40,
   "metadata": {},
   "outputs": [
    {
     "data": {
      "text/html": [
       "<div>\n",
       "<style scoped>\n",
       "    .dataframe tbody tr th:only-of-type {\n",
       "        vertical-align: middle;\n",
       "    }\n",
       "\n",
       "    .dataframe tbody tr th {\n",
       "        vertical-align: top;\n",
       "    }\n",
       "\n",
       "    .dataframe thead th {\n",
       "        text-align: right;\n",
       "    }\n",
       "</style>\n",
       "<table border=\"1\" class=\"dataframe\">\n",
       "  <thead>\n",
       "    <tr style=\"text-align: right;\">\n",
       "      <th></th>\n",
       "      <th>bairro_teste</th>\n",
       "      <th>preco_por_metro_max</th>\n",
       "      <th>preco_por_metro_media</th>\n",
       "    </tr>\n",
       "  </thead>\n",
       "  <tbody>\n",
       "    <tr>\n",
       "      <th>93</th>\n",
       "      <td>Jose Figueira</td>\n",
       "      <td>2326.086957</td>\n",
       "      <td>2326.086957</td>\n",
       "    </tr>\n",
       "    <tr>\n",
       "      <th>110</th>\n",
       "      <td>Planalto Verde Vi</td>\n",
       "      <td>2650.000000</td>\n",
       "      <td>2650.000000</td>\n",
       "    </tr>\n",
       "    <tr>\n",
       "      <th>62</th>\n",
       "      <td>Jardim Marchesi</td>\n",
       "      <td>2674.418605</td>\n",
       "      <td>2442.978533</td>\n",
       "    </tr>\n",
       "    <tr>\n",
       "      <th>29</th>\n",
       "      <td>Jardim Angelo Jurca</td>\n",
       "      <td>2826.086957</td>\n",
       "      <td>2804.347826</td>\n",
       "    </tr>\n",
       "    <tr>\n",
       "      <th>75</th>\n",
       "      <td>Jardim Piratininga</td>\n",
       "      <td>2881.355932</td>\n",
       "      <td>2881.355932</td>\n",
       "    </tr>\n",
       "    <tr>\n",
       "      <th>59</th>\n",
       "      <td>Jardim Juliana</td>\n",
       "      <td>3000.000000</td>\n",
       "      <td>3000.000000</td>\n",
       "    </tr>\n",
       "    <tr>\n",
       "      <th>20</th>\n",
       "      <td>Engenheiro Carlos De Lacerda Chaves</td>\n",
       "      <td>3046.511628</td>\n",
       "      <td>3046.511628</td>\n",
       "    </tr>\n",
       "    <tr>\n",
       "      <th>143</th>\n",
       "      <td>Vila Elisa</td>\n",
       "      <td>3080.000000</td>\n",
       "      <td>2859.444444</td>\n",
       "    </tr>\n",
       "    <tr>\n",
       "      <th>111</th>\n",
       "      <td>Portal Do Alto</td>\n",
       "      <td>3153.846154</td>\n",
       "      <td>3153.846154</td>\n",
       "    </tr>\n",
       "    <tr>\n",
       "      <th>45</th>\n",
       "      <td>Jardim Herculano Fernandes</td>\n",
       "      <td>3163.265306</td>\n",
       "      <td>3000.000000</td>\n",
       "    </tr>\n",
       "  </tbody>\n",
       "</table>\n",
       "</div>"
      ],
      "text/plain": [
       "                            bairro_teste  preco_por_metro_max  \\\n",
       "93                         Jose Figueira          2326.086957   \n",
       "110                    Planalto Verde Vi          2650.000000   \n",
       "62                       Jardim Marchesi          2674.418605   \n",
       "29                   Jardim Angelo Jurca          2826.086957   \n",
       "75                    Jardim Piratininga          2881.355932   \n",
       "59                        Jardim Juliana          3000.000000   \n",
       "20   Engenheiro Carlos De Lacerda Chaves          3046.511628   \n",
       "143                           Vila Elisa          3080.000000   \n",
       "111                       Portal Do Alto          3153.846154   \n",
       "45            Jardim Herculano Fernandes          3163.265306   \n",
       "\n",
       "     preco_por_metro_media  \n",
       "93             2326.086957  \n",
       "110            2650.000000  \n",
       "62             2442.978533  \n",
       "29             2804.347826  \n",
       "75             2881.355932  \n",
       "59             3000.000000  \n",
       "20             3046.511628  \n",
       "143            2859.444444  \n",
       "111            3153.846154  \n",
       "45             3000.000000  "
      ]
     },
     "execution_count": 40,
     "metadata": {},
     "output_type": "execute_result"
    }
   ],
   "source": [
    "df_outliers.groupby('bairro_teste').agg(\n",
    "    preco_por_metro_max=('preco_por_metro', 'max'),\n",
    "    preco_por_metro_media=('preco_por_metro', 'median')\n",
    ").reset_index().nsmallest(10, columns=['preco_por_metro_max'])"
   ]
  },
  {
   "cell_type": "code",
   "execution_count": null,
   "metadata": {},
   "outputs": [],
   "source": [
    "df_outliers.groupby('bairro_teste').agg(\n",
    "    preco_por_metro_max=('preco_por_metro', 'max'),\n",
    "    preco_por_metro_media=('preco_por_metro', 'median')\n",
    ").reset_index()"
   ]
  }
 ],
 "metadata": {
  "kernelspec": {
   "display_name": "venv",
   "language": "python",
   "name": "python3"
  },
  "language_info": {
   "codemirror_mode": {
    "name": "ipython",
    "version": 3
   },
   "file_extension": ".py",
   "mimetype": "text/x-python",
   "name": "python",
   "nbconvert_exporter": "python",
   "pygments_lexer": "ipython3",
   "version": "3.11.8"
  }
 },
 "nbformat": 4,
 "nbformat_minor": 2
}
