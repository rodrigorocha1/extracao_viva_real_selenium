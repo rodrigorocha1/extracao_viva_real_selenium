{
 "cells": [
  {
   "cell_type": "markdown",
   "metadata": {},
   "source": [
    "# Importação das bibliotecas"
   ]
  },
  {
   "cell_type": "code",
   "execution_count": 45,
   "metadata": {},
   "outputs": [],
   "source": [
    "from scipy.stats import t\n",
    "import pandas as pd\n",
    "import seaborn as sns\n",
    "import numpy as np\n",
    "import plotly.express as px\n",
    "from scipy.stats import norm\n",
    "pd.set_option('display.float_format', lambda x: '{:.2f}'.format(x))\n",
    "from typing import List\n"
   ]
  },
  {
   "cell_type": "code",
   "execution_count": 46,
   "metadata": {},
   "outputs": [],
   "source": [
    "def obter_intervalo_confianca(dataframe: pd.DataFrame):    \n",
    "    conf_level = 0.95\n",
    "    media = dataframe['preco'].mean()\n",
    "    std = dataframe['preco'].std()\n",
    "    n = dataframe.shape[0]\n",
    "    grausLiberdade = n - 1\n",
    "    t_value = t.ppf((1 + conf_level) / 2, grausLiberdade)\n",
    "    inf = media - t_value * std / np.sqrt(n)\n",
    "    sup = media + t_value * std / np.sqrt(n)\n",
    "    print('Média:', round(media), ' Desvio padrão:', round(std))\n",
    "    # Imprime o intervalo de confiança para a média\n",
    "    print('Intervalo de confiança:', round(inf), '-', round(sup))"
   ]
  },
  {
   "cell_type": "code",
   "execution_count": 47,
   "metadata": {},
   "outputs": [],
   "source": [
    "def obter_resumo(tipo_imovel: str, bairro: str = None, banheiro: int = None, quartos: int = None) -> pd.DataFrame:\n",
    "    query = f'  tipo_imovel == \"{tipo_imovel}\"'\n",
    "    if bairro is not None:\n",
    "        query += f' and bairro_teste == \"{bairro}\"  '\n",
    "    if banheiro is not None:\n",
    "        query += f' and banheiro == {banheiro} '\n",
    "    if quartos is not None:\n",
    "        query += f' and quarto == {quartos} '\n",
    "    base_original = pd.read_parquet('../data/processed/base_casa_v2.parquet')\n",
    "    base_original = base_original.query(query)\n",
    "    return base_original"
   ]
  },
  {
   "cell_type": "code",
   "execution_count": 67,
   "metadata": {},
   "outputs": [],
   "source": [
    "def obter_estatistica(bairros: List[str], base_original_completa: pd.DataFrame) -> pd.DataFrame:\n",
    "    lista_dados = []\n",
    "    for bairro in bairros:\n",
    "        dados_temp = base_original_completa.query(\n",
    "            f'bairro_teste == \"{bairro}\"')\n",
    "        lista_dados.append(\n",
    "            {\n",
    "                'bairro': bairro,\n",
    "                'media_preco':  round(dados_temp['preco'].mean(), 2),\n",
    "                'mediana_preco':  round(dados_temp['preco'].median(), 2),\n",
    "                'moda': round(dados_temp['preco'].mode()[0], 2),\n",
    "                'desvio_padrao': round(dados_temp['preco'].std(), 2),\n",
    "                'total_imoveis': dados_temp.shape[0],\n",
    "                'coeficiente_variacao': (round(dados_temp['preco'].std(), 2) / round(dados_temp['preco'].mean(), 2)) * 100\n",
    "            }\n",
    "        )\n",
    "    df = pd.DataFrame(lista_dados)\n",
    "    return df\n",
    "  "
   ]
  },
  {
   "cell_type": "markdown",
   "metadata": {},
   "source": [
    "- Preço Geral"
   ]
  },
  {
   "cell_type": "code",
   "execution_count": 68,
   "metadata": {},
   "outputs": [
    {
     "data": {
      "text/html": [
       "<div>\n",
       "<style scoped>\n",
       "    .dataframe tbody tr th:only-of-type {\n",
       "        vertical-align: middle;\n",
       "    }\n",
       "\n",
       "    .dataframe tbody tr th {\n",
       "        vertical-align: top;\n",
       "    }\n",
       "\n",
       "    .dataframe thead th {\n",
       "        text-align: right;\n",
       "    }\n",
       "</style>\n",
       "<table border=\"1\" class=\"dataframe\">\n",
       "  <thead>\n",
       "    <tr style=\"text-align: right;\">\n",
       "      <th></th>\n",
       "      <th>tipo_imovel</th>\n",
       "      <th>nome</th>\n",
       "      <th>preco</th>\n",
       "      <th>metragem</th>\n",
       "      <th>quarto</th>\n",
       "      <th>banheiro</th>\n",
       "      <th>garagem</th>\n",
       "      <th>ID_CASA</th>\n",
       "      <th>bairro_teste</th>\n",
       "    </tr>\n",
       "  </thead>\n",
       "  <tbody>\n",
       "    <tr>\n",
       "      <th>0</th>\n",
       "      <td>Apartamento</td>\n",
       "      <td>Apartamento com 2 Quartos à Venda, 65m²</td>\n",
       "      <td>310000.00</td>\n",
       "      <td>65</td>\n",
       "      <td>2</td>\n",
       "      <td>2</td>\n",
       "      <td>1</td>\n",
       "      <td>2699716579</td>\n",
       "      <td>Jardim Botânico</td>\n",
       "    </tr>\n",
       "    <tr>\n",
       "      <th>2</th>\n",
       "      <td>Apartamento</td>\n",
       "      <td>Apartamento com 2 Quartos à Venda, 71m²</td>\n",
       "      <td>403500.00</td>\n",
       "      <td>71</td>\n",
       "      <td>2</td>\n",
       "      <td>2</td>\n",
       "      <td>2</td>\n",
       "      <td>2690493538</td>\n",
       "      <td>Bonfim Paulista</td>\n",
       "    </tr>\n",
       "    <tr>\n",
       "      <th>3</th>\n",
       "      <td>Apartamento</td>\n",
       "      <td>Apartamento com 2 Quartos à Venda, 54m²</td>\n",
       "      <td>290000.00</td>\n",
       "      <td>54</td>\n",
       "      <td>2</td>\n",
       "      <td>2</td>\n",
       "      <td>1</td>\n",
       "      <td>2667652105</td>\n",
       "      <td>Nova Aliança</td>\n",
       "    </tr>\n",
       "    <tr>\n",
       "      <th>4</th>\n",
       "      <td>Apartamento</td>\n",
       "      <td>Apartamento com 2 Quartos à Venda, 45m²</td>\n",
       "      <td>166420.00</td>\n",
       "      <td>45</td>\n",
       "      <td>2</td>\n",
       "      <td>1</td>\n",
       "      <td>1</td>\n",
       "      <td>2682840782</td>\n",
       "      <td>Conjunto Habitacional Jardim Das Palmeiras</td>\n",
       "    </tr>\n",
       "    <tr>\n",
       "      <th>5</th>\n",
       "      <td>Apartamento</td>\n",
       "      <td>Apartamento com 2 Quartos à Venda, 64m²</td>\n",
       "      <td>370000.00</td>\n",
       "      <td>64</td>\n",
       "      <td>2</td>\n",
       "      <td>2</td>\n",
       "      <td>2</td>\n",
       "      <td>2688027260</td>\n",
       "      <td>Vila Ana Maria</td>\n",
       "    </tr>\n",
       "    <tr>\n",
       "      <th>...</th>\n",
       "      <td>...</td>\n",
       "      <td>...</td>\n",
       "      <td>...</td>\n",
       "      <td>...</td>\n",
       "      <td>...</td>\n",
       "      <td>...</td>\n",
       "      <td>...</td>\n",
       "      <td>...</td>\n",
       "      <td>...</td>\n",
       "    </tr>\n",
       "    <tr>\n",
       "      <th>9967</th>\n",
       "      <td>Apartamento</td>\n",
       "      <td>Apartamento com 3 Quartos à Venda, 81m²</td>\n",
       "      <td>540000.00</td>\n",
       "      <td>81</td>\n",
       "      <td>3</td>\n",
       "      <td>2</td>\n",
       "      <td>2</td>\n",
       "      <td>2696267182</td>\n",
       "      <td>Vila Do Golf</td>\n",
       "    </tr>\n",
       "    <tr>\n",
       "      <th>9968</th>\n",
       "      <td>Apartamento</td>\n",
       "      <td>Apartamento com Quarto à Venda, 61m²</td>\n",
       "      <td>280000.00</td>\n",
       "      <td>61</td>\n",
       "      <td>1</td>\n",
       "      <td>1</td>\n",
       "      <td>1</td>\n",
       "      <td>2476716299</td>\n",
       "      <td>Centro</td>\n",
       "    </tr>\n",
       "    <tr>\n",
       "      <th>9969</th>\n",
       "      <td>Apartamento</td>\n",
       "      <td>Apartamento com 3 Quartos à Venda, 83m²</td>\n",
       "      <td>375000.00</td>\n",
       "      <td>83</td>\n",
       "      <td>3</td>\n",
       "      <td>3</td>\n",
       "      <td>2</td>\n",
       "      <td>2693112449</td>\n",
       "      <td>Jardim São Luiz</td>\n",
       "    </tr>\n",
       "    <tr>\n",
       "      <th>9970</th>\n",
       "      <td>Apartamento</td>\n",
       "      <td>Apartamento com 2 Quartos à Venda, 48m²</td>\n",
       "      <td>175000.00</td>\n",
       "      <td>48</td>\n",
       "      <td>2</td>\n",
       "      <td>1</td>\n",
       "      <td>1</td>\n",
       "      <td>2572455642</td>\n",
       "      <td>Lagoinha</td>\n",
       "    </tr>\n",
       "    <tr>\n",
       "      <th>9971</th>\n",
       "      <td>Apartamento</td>\n",
       "      <td>Apartamento com 3 Quartos à Venda, 120m²</td>\n",
       "      <td>394000.00</td>\n",
       "      <td>120</td>\n",
       "      <td>3</td>\n",
       "      <td>3</td>\n",
       "      <td>1</td>\n",
       "      <td>2523506081</td>\n",
       "      <td>Centro</td>\n",
       "    </tr>\n",
       "  </tbody>\n",
       "</table>\n",
       "<p>8395 rows × 9 columns</p>\n",
       "</div>"
      ],
      "text/plain": [
       "      tipo_imovel                                      nome     preco  \\\n",
       "0     Apartamento   Apartamento com 2 Quartos à Venda, 65m² 310000.00   \n",
       "2     Apartamento   Apartamento com 2 Quartos à Venda, 71m² 403500.00   \n",
       "3     Apartamento   Apartamento com 2 Quartos à Venda, 54m² 290000.00   \n",
       "4     Apartamento   Apartamento com 2 Quartos à Venda, 45m² 166420.00   \n",
       "5     Apartamento   Apartamento com 2 Quartos à Venda, 64m² 370000.00   \n",
       "...           ...                                       ...       ...   \n",
       "9967  Apartamento   Apartamento com 3 Quartos à Venda, 81m² 540000.00   \n",
       "9968  Apartamento      Apartamento com Quarto à Venda, 61m² 280000.00   \n",
       "9969  Apartamento   Apartamento com 3 Quartos à Venda, 83m² 375000.00   \n",
       "9970  Apartamento   Apartamento com 2 Quartos à Venda, 48m² 175000.00   \n",
       "9971  Apartamento  Apartamento com 3 Quartos à Venda, 120m² 394000.00   \n",
       "\n",
       "      metragem  quarto  banheiro  garagem     ID_CASA  \\\n",
       "0           65       2         2        1  2699716579   \n",
       "2           71       2         2        2  2690493538   \n",
       "3           54       2         2        1  2667652105   \n",
       "4           45       2         1        1  2682840782   \n",
       "5           64       2         2        2  2688027260   \n",
       "...        ...     ...       ...      ...         ...   \n",
       "9967        81       3         2        2  2696267182   \n",
       "9968        61       1         1        1  2476716299   \n",
       "9969        83       3         3        2  2693112449   \n",
       "9970        48       2         1        1  2572455642   \n",
       "9971       120       3         3        1  2523506081   \n",
       "\n",
       "                                    bairro_teste  \n",
       "0                                Jardim Botânico  \n",
       "2                                Bonfim Paulista  \n",
       "3                                   Nova Aliança  \n",
       "4     Conjunto Habitacional Jardim Das Palmeiras  \n",
       "5                                 Vila Ana Maria  \n",
       "...                                          ...  \n",
       "9967                                Vila Do Golf  \n",
       "9968                                      Centro  \n",
       "9969                             Jardim São Luiz  \n",
       "9970                                    Lagoinha  \n",
       "9971                                      Centro  \n",
       "\n",
       "[8395 rows x 9 columns]"
      ]
     },
     "execution_count": 68,
     "metadata": {},
     "output_type": "execute_result"
    }
   ],
   "source": [
    "base_original = obter_resumo(tipo_imovel='Apartamento')\n",
    "base_original"
   ]
  },
  {
   "cell_type": "markdown",
   "metadata": {},
   "source": [
    "- Teste da normalidade de uma amostra"
   ]
  },
  {
   "cell_type": "code",
   "execution_count": 69,
   "metadata": {},
   "outputs": [],
   "source": [
    "from scipy.stats import normaltest"
   ]
  },
  {
   "cell_type": "code",
   "execution_count": 70,
   "metadata": {},
   "outputs": [],
   "source": [
    "base_original_completa = obter_resumo(tipo_imovel='Apartamento')\n",
    "dados_sumarezinho = base_original_completa.query(\n",
    "    'bairro_teste == \"Sumarezinho\"')\n",
    "dados_centro = base_original_completa.query(\n",
    "    'bairro_teste == \"Centro\"')"
   ]
  },
  {
   "cell_type": "code",
   "execution_count": 71,
   "metadata": {},
   "outputs": [],
   "source": [
    "significancia = 0.05"
   ]
  },
  {
   "cell_type": "code",
   "execution_count": 72,
   "metadata": {},
   "outputs": [],
   "source": [
    "stat_test, p_valor = normaltest(dados_sumarezinho.preco)"
   ]
  },
  {
   "cell_type": "code",
   "execution_count": 73,
   "metadata": {},
   "outputs": [
    {
     "data": {
      "text/plain": [
       "True"
      ]
     },
     "execution_count": 73,
     "metadata": {},
     "output_type": "execute_result"
    }
   ],
   "source": [
    "p_valor <= significancia"
   ]
  },
  {
   "cell_type": "code",
   "execution_count": 74,
   "metadata": {},
   "outputs": [
    {
     "data": {
      "text/plain": [
       "True"
      ]
     },
     "execution_count": 74,
     "metadata": {},
     "output_type": "execute_result"
    }
   ],
   "source": [
    "stat_test, p_valor = normaltest(dados_centro.preco)\n",
    "p_valor <= significancia"
   ]
  },
  {
   "cell_type": "markdown",
   "metadata": {},
   "source": [
    "- Para todos os bairros"
   ]
  },
  {
   "cell_type": "code",
   "execution_count": 75,
   "metadata": {},
   "outputs": [
    {
     "data": {
      "text/html": [
       "<div>\n",
       "<style scoped>\n",
       "    .dataframe tbody tr th:only-of-type {\n",
       "        vertical-align: middle;\n",
       "    }\n",
       "\n",
       "    .dataframe tbody tr th {\n",
       "        vertical-align: top;\n",
       "    }\n",
       "\n",
       "    .dataframe thead th {\n",
       "        text-align: right;\n",
       "    }\n",
       "</style>\n",
       "<table border=\"1\" class=\"dataframe\">\n",
       "  <thead>\n",
       "    <tr style=\"text-align: right;\">\n",
       "      <th></th>\n",
       "      <th>bairro</th>\n",
       "      <th>teste_normalidade</th>\n",
       "      <th>desvio_padrao</th>\n",
       "      <th>Total Imoveis</th>\n",
       "    </tr>\n",
       "  </thead>\n",
       "  <tbody>\n",
       "    <tr>\n",
       "      <th>99</th>\n",
       "      <td>Jardim Ilhas Do Sul</td>\n",
       "      <td>True</td>\n",
       "      <td>1752338.48</td>\n",
       "      <td>23</td>\n",
       "    </tr>\n",
       "    <tr>\n",
       "      <th>98</th>\n",
       "      <td>Bonfim Paulista</td>\n",
       "      <td>True</td>\n",
       "      <td>911435.88</td>\n",
       "      <td>141</td>\n",
       "    </tr>\n",
       "    <tr>\n",
       "      <th>97</th>\n",
       "      <td>Jardim Olhos D Agua</td>\n",
       "      <td>True</td>\n",
       "      <td>735905.38</td>\n",
       "      <td>172</td>\n",
       "    </tr>\n",
       "    <tr>\n",
       "      <th>96</th>\n",
       "      <td>Jardim Botânico</td>\n",
       "      <td>True</td>\n",
       "      <td>720996.16</td>\n",
       "      <td>739</td>\n",
       "    </tr>\n",
       "    <tr>\n",
       "      <th>95</th>\n",
       "      <td>Vila Do Golf</td>\n",
       "      <td>True</td>\n",
       "      <td>666626.96</td>\n",
       "      <td>100</td>\n",
       "    </tr>\n",
       "    <tr>\n",
       "      <th>94</th>\n",
       "      <td>Residencial Morro Do Ipê</td>\n",
       "      <td>True</td>\n",
       "      <td>611889.34</td>\n",
       "      <td>36</td>\n",
       "    </tr>\n",
       "    <tr>\n",
       "      <th>93</th>\n",
       "      <td>Jardim Canadá</td>\n",
       "      <td>True</td>\n",
       "      <td>524776.17</td>\n",
       "      <td>48</td>\n",
       "    </tr>\n",
       "    <tr>\n",
       "      <th>92</th>\n",
       "      <td>Bosque Das Juritis</td>\n",
       "      <td>False</td>\n",
       "      <td>443196.05</td>\n",
       "      <td>159</td>\n",
       "    </tr>\n",
       "    <tr>\n",
       "      <th>91</th>\n",
       "      <td>Jardim Santa Angela</td>\n",
       "      <td>False</td>\n",
       "      <td>430756.32</td>\n",
       "      <td>17</td>\n",
       "    </tr>\n",
       "    <tr>\n",
       "      <th>90</th>\n",
       "      <td>Ribeirânia</td>\n",
       "      <td>True</td>\n",
       "      <td>395303.50</td>\n",
       "      <td>235</td>\n",
       "    </tr>\n",
       "  </tbody>\n",
       "</table>\n",
       "</div>"
      ],
      "text/plain": [
       "                      bairro  teste_normalidade  desvio_padrao  Total Imoveis\n",
       "99       Jardim Ilhas Do Sul               True     1752338.48             23\n",
       "98           Bonfim Paulista               True      911435.88            141\n",
       "97       Jardim Olhos D Agua               True      735905.38            172\n",
       "96           Jardim Botânico               True      720996.16            739\n",
       "95              Vila Do Golf               True      666626.96            100\n",
       "94  Residencial Morro Do Ipê               True      611889.34             36\n",
       "93             Jardim Canadá               True      524776.17             48\n",
       "92        Bosque Das Juritis              False      443196.05            159\n",
       "91       Jardim Santa Angela              False      430756.32             17\n",
       "90                Ribeirânia               True      395303.50            235"
      ]
     },
     "execution_count": 75,
     "metadata": {},
     "output_type": "execute_result"
    }
   ],
   "source": [
    "\n",
    "import warnings\n",
    "warnings.filterwarnings(\"ignore\")\n",
    "\n",
    "lista_dados = []\n",
    "for bairro in base_original['bairro_teste'].unique():\n",
    "    try:\n",
    "        dados_sumarezinho = base_original_completa.query(\n",
    "            f'bairro_teste == \"{bairro}\"')\n",
    "        \n",
    "        stat_test, p_valor = normaltest(dados_sumarezinho.preco)\n",
    "        lista_dados.append(\n",
    "            {\n",
    "                'bairro': bairro,\n",
    "                'teste_normalidade': p_valor <= significancia,\n",
    "                'desvio_padrao': dados_sumarezinho['preco'].std(),\n",
    "                'Total Imoveis': dados_sumarezinho.shape[0]\n",
    "            }\n",
    "                \n",
    "            \n",
    "        )\n",
    "    except:\n",
    "        pass\n",
    "\n",
    "lista_dados = sorted(lista_dados, key=lambda x: x['desvio_padrao'])\n",
    "df_teste_normalidade = pd.DataFrame(lista_dados)\n",
    "df_teste_normalidade.nlargest(10, columns=['desvio_padrao'])"
   ]
  },
  {
   "cell_type": "code",
   "execution_count": 91,
   "metadata": {},
   "outputs": [
    {
     "data": {
      "text/html": [
       "<div>\n",
       "<style scoped>\n",
       "    .dataframe tbody tr th:only-of-type {\n",
       "        vertical-align: middle;\n",
       "    }\n",
       "\n",
       "    .dataframe tbody tr th {\n",
       "        vertical-align: top;\n",
       "    }\n",
       "\n",
       "    .dataframe thead th {\n",
       "        text-align: right;\n",
       "    }\n",
       "</style>\n",
       "<table border=\"1\" class=\"dataframe\">\n",
       "  <thead>\n",
       "    <tr style=\"text-align: right;\">\n",
       "      <th></th>\n",
       "      <th>bairro</th>\n",
       "      <th>teste_normalidade</th>\n",
       "      <th>desvio_padrao</th>\n",
       "      <th>Total Imoveis</th>\n",
       "    </tr>\n",
       "  </thead>\n",
       "  <tbody>\n",
       "    <tr>\n",
       "      <th>82</th>\n",
       "      <td>Centro</td>\n",
       "      <td>True</td>\n",
       "      <td>223344.46</td>\n",
       "      <td>736</td>\n",
       "    </tr>\n",
       "  </tbody>\n",
       "</table>\n",
       "</div>"
      ],
      "text/plain": [
       "    bairro  teste_normalidade  desvio_padrao  Total Imoveis\n",
       "82  Centro               True      223344.46            736"
      ]
     },
     "execution_count": 91,
     "metadata": {},
     "output_type": "execute_result"
    }
   ],
   "source": [
    "df_teste_normalidade.query('bairro==\"Centro\"')"
   ]
  },
  {
   "cell_type": "code",
   "execution_count": 76,
   "metadata": {},
   "outputs": [
    {
     "data": {
      "text/html": [
       "<div>\n",
       "<style scoped>\n",
       "    .dataframe tbody tr th:only-of-type {\n",
       "        vertical-align: middle;\n",
       "    }\n",
       "\n",
       "    .dataframe tbody tr th {\n",
       "        vertical-align: top;\n",
       "    }\n",
       "\n",
       "    .dataframe thead th {\n",
       "        text-align: right;\n",
       "    }\n",
       "</style>\n",
       "<table border=\"1\" class=\"dataframe\">\n",
       "  <thead>\n",
       "    <tr style=\"text-align: right;\">\n",
       "      <th></th>\n",
       "      <th>bairro</th>\n",
       "      <th>teste_normalidade</th>\n",
       "      <th>desvio_padrao</th>\n",
       "      <th>Total Imoveis</th>\n",
       "    </tr>\n",
       "  </thead>\n",
       "  <tbody>\n",
       "    <tr>\n",
       "      <th>0</th>\n",
       "      <td>Ribeirao Verde</td>\n",
       "      <td>True</td>\n",
       "      <td>18415.75</td>\n",
       "      <td>17</td>\n",
       "    </tr>\n",
       "    <tr>\n",
       "      <th>1</th>\n",
       "      <td>Jardim Itaú</td>\n",
       "      <td>False</td>\n",
       "      <td>19039.14</td>\n",
       "      <td>10</td>\n",
       "    </tr>\n",
       "    <tr>\n",
       "      <th>2</th>\n",
       "      <td>Geraldo Correia De Carvalho</td>\n",
       "      <td>False</td>\n",
       "      <td>19094.23</td>\n",
       "      <td>13</td>\n",
       "    </tr>\n",
       "    <tr>\n",
       "      <th>3</th>\n",
       "      <td>Vila Abranches</td>\n",
       "      <td>True</td>\n",
       "      <td>19109.26</td>\n",
       "      <td>11</td>\n",
       "    </tr>\n",
       "    <tr>\n",
       "      <th>4</th>\n",
       "      <td>Jardim José Figueira</td>\n",
       "      <td>False</td>\n",
       "      <td>21737.07</td>\n",
       "      <td>10</td>\n",
       "    </tr>\n",
       "    <tr>\n",
       "      <th>5</th>\n",
       "      <td>Recanto Das Palmeiras</td>\n",
       "      <td>False</td>\n",
       "      <td>22612.05</td>\n",
       "      <td>8</td>\n",
       "    </tr>\n",
       "    <tr>\n",
       "      <th>6</th>\n",
       "      <td>Jardim Florestan Fernandes</td>\n",
       "      <td>True</td>\n",
       "      <td>24058.96</td>\n",
       "      <td>28</td>\n",
       "    </tr>\n",
       "    <tr>\n",
       "      <th>7</th>\n",
       "      <td>Parque Ribeirão Preto</td>\n",
       "      <td>False</td>\n",
       "      <td>24098.35</td>\n",
       "      <td>16</td>\n",
       "    </tr>\n",
       "    <tr>\n",
       "      <th>8</th>\n",
       "      <td>Condominío Chácara Hípica</td>\n",
       "      <td>False</td>\n",
       "      <td>25344.89</td>\n",
       "      <td>11</td>\n",
       "    </tr>\n",
       "    <tr>\n",
       "      <th>9</th>\n",
       "      <td>Jardim Silvio Passalacqua</td>\n",
       "      <td>False</td>\n",
       "      <td>26292.21</td>\n",
       "      <td>27</td>\n",
       "    </tr>\n",
       "  </tbody>\n",
       "</table>\n",
       "</div>"
      ],
      "text/plain": [
       "                        bairro  teste_normalidade  desvio_padrao  \\\n",
       "0               Ribeirao Verde               True       18415.75   \n",
       "1                  Jardim Itaú              False       19039.14   \n",
       "2  Geraldo Correia De Carvalho              False       19094.23   \n",
       "3               Vila Abranches               True       19109.26   \n",
       "4         Jardim José Figueira              False       21737.07   \n",
       "5        Recanto Das Palmeiras              False       22612.05   \n",
       "6   Jardim Florestan Fernandes               True       24058.96   \n",
       "7        Parque Ribeirão Preto              False       24098.35   \n",
       "8    Condominío Chácara Hípica              False       25344.89   \n",
       "9    Jardim Silvio Passalacqua              False       26292.21   \n",
       "\n",
       "   Total Imoveis  \n",
       "0             17  \n",
       "1             10  \n",
       "2             13  \n",
       "3             11  \n",
       "4             10  \n",
       "5              8  \n",
       "6             28  \n",
       "7             16  \n",
       "8             11  \n",
       "9             27  "
      ]
     },
     "execution_count": 76,
     "metadata": {},
     "output_type": "execute_result"
    }
   ],
   "source": [
    "df_teste_normalidade.nsmallest(10, columns=['desvio_padrao'])"
   ]
  },
  {
   "cell_type": "code",
   "execution_count": 77,
   "metadata": {},
   "outputs": [],
   "source": [
    "base_original_completa = obter_resumo(tipo_imovel='Apartamento')\n",
    "dados_sumarezinho = base_original_completa.query(\n",
    "    'bairro_teste == \"Sumarezinho\"')\n",
    "dados_centro = base_original_completa.query(\n",
    "    'bairro_teste == \"Centro\"')"
   ]
  },
  {
   "cell_type": "code",
   "execution_count": 78,
   "metadata": {},
   "outputs": [
    {
     "data": {
      "text/plain": [
       "<Axes: xlabel='preco', ylabel='Density'>"
      ]
     },
     "execution_count": 78,
     "metadata": {},
     "output_type": "execute_result"
    },
    {
     "data": {
      "image/png": "[encoded data removed]",
      "text/plain": [
       "<Figure size 640x480 with 1 Axes>"
      ]
     },
     "metadata": {},
     "output_type": "display_data"
    }
   ],
   "source": [
    "sns.kdeplot(dados_centro, x='preco')"
   ]
  },
  {
   "cell_type": "code",
   "execution_count": 79,
   "metadata": {},
   "outputs": [
    {
     "data": {
      "text/plain": [
       "<Axes: xlabel='preco', ylabel='Density'>"
      ]
     },
     "execution_count": 79,
     "metadata": {},
     "output_type": "execute_result"
    },
    {
     "data": {
      "image/png": "[encoded data removed]",
      "text/plain": [
       "<Figure size 640x480 with 1 Axes>"
      ]
     },
     "metadata": {},
     "output_type": "display_data"
    }
   ],
   "source": [
    "sns.kdeplot(dados_sumarezinho, x='preco')"
   ]
  },
  {
   "cell_type": "code",
   "execution_count": 80,
   "metadata": {},
   "outputs": [
    {
     "data": {
      "text/html": [
       "<div>\n",
       "<style scoped>\n",
       "    .dataframe tbody tr th:only-of-type {\n",
       "        vertical-align: middle;\n",
       "    }\n",
       "\n",
       "    .dataframe tbody tr th {\n",
       "        vertical-align: top;\n",
       "    }\n",
       "\n",
       "    .dataframe thead th {\n",
       "        text-align: right;\n",
       "    }\n",
       "</style>\n",
       "<table border=\"1\" class=\"dataframe\">\n",
       "  <thead>\n",
       "    <tr style=\"text-align: right;\">\n",
       "      <th></th>\n",
       "      <th>tipo_imovel</th>\n",
       "      <th>nome</th>\n",
       "      <th>preco</th>\n",
       "      <th>metragem</th>\n",
       "      <th>quarto</th>\n",
       "      <th>banheiro</th>\n",
       "      <th>garagem</th>\n",
       "      <th>ID_CASA</th>\n",
       "      <th>bairro_teste</th>\n",
       "    </tr>\n",
       "  </thead>\n",
       "  <tbody>\n",
       "    <tr>\n",
       "      <th>0</th>\n",
       "      <td>Apartamento</td>\n",
       "      <td>Apartamento com 2 Quartos à Venda, 65m²</td>\n",
       "      <td>310000.00</td>\n",
       "      <td>65</td>\n",
       "      <td>2</td>\n",
       "      <td>2</td>\n",
       "      <td>1</td>\n",
       "      <td>2699716579</td>\n",
       "      <td>Jardim Botânico</td>\n",
       "    </tr>\n",
       "    <tr>\n",
       "      <th>2</th>\n",
       "      <td>Apartamento</td>\n",
       "      <td>Apartamento com 2 Quartos à Venda, 71m²</td>\n",
       "      <td>403500.00</td>\n",
       "      <td>71</td>\n",
       "      <td>2</td>\n",
       "      <td>2</td>\n",
       "      <td>2</td>\n",
       "      <td>2690493538</td>\n",
       "      <td>Bonfim Paulista</td>\n",
       "    </tr>\n",
       "    <tr>\n",
       "      <th>3</th>\n",
       "      <td>Apartamento</td>\n",
       "      <td>Apartamento com 2 Quartos à Venda, 54m²</td>\n",
       "      <td>290000.00</td>\n",
       "      <td>54</td>\n",
       "      <td>2</td>\n",
       "      <td>2</td>\n",
       "      <td>1</td>\n",
       "      <td>2667652105</td>\n",
       "      <td>Nova Aliança</td>\n",
       "    </tr>\n",
       "    <tr>\n",
       "      <th>4</th>\n",
       "      <td>Apartamento</td>\n",
       "      <td>Apartamento com 2 Quartos à Venda, 45m²</td>\n",
       "      <td>166420.00</td>\n",
       "      <td>45</td>\n",
       "      <td>2</td>\n",
       "      <td>1</td>\n",
       "      <td>1</td>\n",
       "      <td>2682840782</td>\n",
       "      <td>Conjunto Habitacional Jardim Das Palmeiras</td>\n",
       "    </tr>\n",
       "    <tr>\n",
       "      <th>5</th>\n",
       "      <td>Apartamento</td>\n",
       "      <td>Apartamento com 2 Quartos à Venda, 64m²</td>\n",
       "      <td>370000.00</td>\n",
       "      <td>64</td>\n",
       "      <td>2</td>\n",
       "      <td>2</td>\n",
       "      <td>2</td>\n",
       "      <td>2688027260</td>\n",
       "      <td>Vila Ana Maria</td>\n",
       "    </tr>\n",
       "    <tr>\n",
       "      <th>...</th>\n",
       "      <td>...</td>\n",
       "      <td>...</td>\n",
       "      <td>...</td>\n",
       "      <td>...</td>\n",
       "      <td>...</td>\n",
       "      <td>...</td>\n",
       "      <td>...</td>\n",
       "      <td>...</td>\n",
       "      <td>...</td>\n",
       "    </tr>\n",
       "    <tr>\n",
       "      <th>9967</th>\n",
       "      <td>Apartamento</td>\n",
       "      <td>Apartamento com 3 Quartos à Venda, 81m²</td>\n",
       "      <td>540000.00</td>\n",
       "      <td>81</td>\n",
       "      <td>3</td>\n",
       "      <td>2</td>\n",
       "      <td>2</td>\n",
       "      <td>2696267182</td>\n",
       "      <td>Vila Do Golf</td>\n",
       "    </tr>\n",
       "    <tr>\n",
       "      <th>9968</th>\n",
       "      <td>Apartamento</td>\n",
       "      <td>Apartamento com Quarto à Venda, 61m²</td>\n",
       "      <td>280000.00</td>\n",
       "      <td>61</td>\n",
       "      <td>1</td>\n",
       "      <td>1</td>\n",
       "      <td>1</td>\n",
       "      <td>2476716299</td>\n",
       "      <td>Centro</td>\n",
       "    </tr>\n",
       "    <tr>\n",
       "      <th>9969</th>\n",
       "      <td>Apartamento</td>\n",
       "      <td>Apartamento com 3 Quartos à Venda, 83m²</td>\n",
       "      <td>375000.00</td>\n",
       "      <td>83</td>\n",
       "      <td>3</td>\n",
       "      <td>3</td>\n",
       "      <td>2</td>\n",
       "      <td>2693112449</td>\n",
       "      <td>Jardim São Luiz</td>\n",
       "    </tr>\n",
       "    <tr>\n",
       "      <th>9970</th>\n",
       "      <td>Apartamento</td>\n",
       "      <td>Apartamento com 2 Quartos à Venda, 48m²</td>\n",
       "      <td>175000.00</td>\n",
       "      <td>48</td>\n",
       "      <td>2</td>\n",
       "      <td>1</td>\n",
       "      <td>1</td>\n",
       "      <td>2572455642</td>\n",
       "      <td>Lagoinha</td>\n",
       "    </tr>\n",
       "    <tr>\n",
       "      <th>9971</th>\n",
       "      <td>Apartamento</td>\n",
       "      <td>Apartamento com 3 Quartos à Venda, 120m²</td>\n",
       "      <td>394000.00</td>\n",
       "      <td>120</td>\n",
       "      <td>3</td>\n",
       "      <td>3</td>\n",
       "      <td>1</td>\n",
       "      <td>2523506081</td>\n",
       "      <td>Centro</td>\n",
       "    </tr>\n",
       "  </tbody>\n",
       "</table>\n",
       "<p>8395 rows × 9 columns</p>\n",
       "</div>"
      ],
      "text/plain": [
       "      tipo_imovel                                      nome     preco  \\\n",
       "0     Apartamento   Apartamento com 2 Quartos à Venda, 65m² 310000.00   \n",
       "2     Apartamento   Apartamento com 2 Quartos à Venda, 71m² 403500.00   \n",
       "3     Apartamento   Apartamento com 2 Quartos à Venda, 54m² 290000.00   \n",
       "4     Apartamento   Apartamento com 2 Quartos à Venda, 45m² 166420.00   \n",
       "5     Apartamento   Apartamento com 2 Quartos à Venda, 64m² 370000.00   \n",
       "...           ...                                       ...       ...   \n",
       "9967  Apartamento   Apartamento com 3 Quartos à Venda, 81m² 540000.00   \n",
       "9968  Apartamento      Apartamento com Quarto à Venda, 61m² 280000.00   \n",
       "9969  Apartamento   Apartamento com 3 Quartos à Venda, 83m² 375000.00   \n",
       "9970  Apartamento   Apartamento com 2 Quartos à Venda, 48m² 175000.00   \n",
       "9971  Apartamento  Apartamento com 3 Quartos à Venda, 120m² 394000.00   \n",
       "\n",
       "      metragem  quarto  banheiro  garagem     ID_CASA  \\\n",
       "0           65       2         2        1  2699716579   \n",
       "2           71       2         2        2  2690493538   \n",
       "3           54       2         2        1  2667652105   \n",
       "4           45       2         1        1  2682840782   \n",
       "5           64       2         2        2  2688027260   \n",
       "...        ...     ...       ...      ...         ...   \n",
       "9967        81       3         2        2  2696267182   \n",
       "9968        61       1         1        1  2476716299   \n",
       "9969        83       3         3        2  2693112449   \n",
       "9970        48       2         1        1  2572455642   \n",
       "9971       120       3         3        1  2523506081   \n",
       "\n",
       "                                    bairro_teste  \n",
       "0                                Jardim Botânico  \n",
       "2                                Bonfim Paulista  \n",
       "3                                   Nova Aliança  \n",
       "4     Conjunto Habitacional Jardim Das Palmeiras  \n",
       "5                                 Vila Ana Maria  \n",
       "...                                          ...  \n",
       "9967                                Vila Do Golf  \n",
       "9968                                      Centro  \n",
       "9969                             Jardim São Luiz  \n",
       "9970                                    Lagoinha  \n",
       "9971                                      Centro  \n",
       "\n",
       "[8395 rows x 9 columns]"
      ]
     },
     "execution_count": 80,
     "metadata": {},
     "output_type": "execute_result"
    }
   ],
   "source": [
    "base_original"
   ]
  },
  {
   "cell_type": "markdown",
   "metadata": {},
   "source": [
    "- Estatística Base"
   ]
  },
  {
   "cell_type": "code",
   "execution_count": 81,
   "metadata": {},
   "outputs": [
    {
     "data": {
      "text/html": [
       "<div>\n",
       "<style scoped>\n",
       "    .dataframe tbody tr th:only-of-type {\n",
       "        vertical-align: middle;\n",
       "    }\n",
       "\n",
       "    .dataframe tbody tr th {\n",
       "        vertical-align: top;\n",
       "    }\n",
       "\n",
       "    .dataframe thead th {\n",
       "        text-align: right;\n",
       "    }\n",
       "</style>\n",
       "<table border=\"1\" class=\"dataframe\">\n",
       "  <thead>\n",
       "    <tr style=\"text-align: right;\">\n",
       "      <th></th>\n",
       "      <th>bairro</th>\n",
       "      <th>media_preco</th>\n",
       "      <th>mediana_preco</th>\n",
       "      <th>moda</th>\n",
       "      <th>desvio_padrao</th>\n",
       "      <th>total_imoveis</th>\n",
       "      <th>coeficiente_variacao</th>\n",
       "    </tr>\n",
       "  </thead>\n",
       "  <tbody>\n",
       "    <tr>\n",
       "      <th>0</th>\n",
       "      <td>Centro</td>\n",
       "      <td>402076.73</td>\n",
       "      <td>360000.00</td>\n",
       "      <td>450000.00</td>\n",
       "      <td>223344.46</td>\n",
       "      <td>736</td>\n",
       "      <td>55.55</td>\n",
       "    </tr>\n",
       "    <tr>\n",
       "      <th>1</th>\n",
       "      <td>Sumarezinho</td>\n",
       "      <td>245524.66</td>\n",
       "      <td>230000.00</td>\n",
       "      <td>170000.00</td>\n",
       "      <td>72993.17</td>\n",
       "      <td>118</td>\n",
       "      <td>29.73</td>\n",
       "    </tr>\n",
       "  </tbody>\n",
       "</table>\n",
       "</div>"
      ],
      "text/plain": [
       "        bairro  media_preco  mediana_preco      moda  desvio_padrao  \\\n",
       "0       Centro    402076.73      360000.00 450000.00      223344.46   \n",
       "1  Sumarezinho    245524.66      230000.00 170000.00       72993.17   \n",
       "\n",
       "   total_imoveis  coeficiente_variacao  \n",
       "0            736                 55.55  \n",
       "1            118                 29.73  "
      ]
     },
     "execution_count": 81,
     "metadata": {},
     "output_type": "execute_result"
    }
   ],
   "source": [
    "obter_estatistica(bairros=['Centro', 'Sumarezinho'], base_original_completa=base_original)"
   ]
  },
  {
   "cell_type": "markdown",
   "metadata": {},
   "source": [
    " - Teste de hipótese"
   ]
  },
  {
   "cell_type": "markdown",
   "metadata": {},
   "source": [
    "<ul>\n",
    "    <li>u1: Média dos imóveis do bairro sumarezinho </li>\n",
    "    <li>u2: Média dos imóveis do bairro Centro </li>\n",
    "    <li>H0: u1 <= u2</li>\n",
    "    <li>H1: u1 > u2 XXX</li>\n",
    "<ul>"
   ]
  },
  {
   "cell_type": "code",
   "execution_count": 82,
   "metadata": {},
   "outputs": [],
   "source": [
    "significancia = 0.01\n",
    "confianca = 1 - significancia"
   ]
  },
  {
   "cell_type": "code",
   "execution_count": 83,
   "metadata": {},
   "outputs": [],
   "source": [
    "from sklearn.model_selection import StratifiedShuffleSplit"
   ]
  },
  {
   "cell_type": "code",
   "execution_count": 84,
   "metadata": {},
   "outputs": [],
   "source": [
    "def obter_numero_classe(dataframe: pd.DataFrame):\n",
    "    n = dataframe.shape[0]\n",
    "\n",
    "\n",
    "    k = 1 + (10 / 3) * np.log10(n)\n",
    "    k = int(k.round(0))\n",
    "\n",
    "    return k"
   ]
  },
  {
   "cell_type": "code",
   "execution_count": 85,
   "metadata": {},
   "outputs": [
    {
     "data": {
      "text/plain": [
       "<Axes: xlabel='preco', ylabel='Count'>"
      ]
     },
     "execution_count": 85,
     "metadata": {},
     "output_type": "execute_result"
    },
    {
     "data": {
      "image/png": "[encoded data removed]",
      "text/plain": [
       "<Figure size 640x480 with 1 Axes>"
      ]
     },
     "metadata": {},
     "output_type": "display_data"
    }
   ],
   "source": [
    "\n",
    "k = obter_numero_classe(dados_sumarezinho)\n",
    "sns.histplot(data=dados_sumarezinho, x='preco', kde=True)"
   ]
  },
  {
   "cell_type": "code",
   "execution_count": 88,
   "metadata": {},
   "outputs": [
    {
     "data": {
      "text/plain": [
       "<Axes: xlabel='preco', ylabel='Count'>"
      ]
     },
     "execution_count": 88,
     "metadata": {},
     "output_type": "execute_result"
    },
    {
     "data": {
      "image/png": "[encoded data removed]",
      "text/plain": [
       "<Figure size 640x480 with 1 Axes>"
      ]
     },
     "metadata": {},
     "output_type": "display_data"
    }
   ],
   "source": [
    "sns.histplot(data=dados_centro, x='preco', kde=True)"
   ]
  },
  {
   "cell_type": "code",
   "execution_count": 92,
   "metadata": {},
   "outputs": [
    {
     "data": {
      "text/plain": [
       "<Axes: xlabel='preco', ylabel='Count'>"
      ]
     },
     "execution_count": 92,
     "metadata": {},
     "output_type": "execute_result"
    },
    {
     "data": {
      "image/png": "[encoded data removed]",
      "text/plain": [
       "<Figure size 640x480 with 1 Axes>"
      ]
     },
     "metadata": {},
     "output_type": "display_data"
    }
   ],
   "source": [
    "\n",
    "k = obter_numero_classe(dados_centro)\n",
    "sns.histplot(data=dados_centro, x='preco', bins=50, kde=True)"
   ]
  },
  {
   "cell_type": "code",
   "execution_count": null,
   "metadata": {},
   "outputs": [
    {
     "name": "stdout",
     "output_type": "stream",
     "text": [
      "Média preço:  402076.73\n",
      "Mediana Preço: 360000.0\n",
      "Moda:  450000.0\n",
      "Desvio Padrão,  223344.45525125158\n"
     ]
    }
   ],
   "source": [
    "obter_estatistica(dados_centro)"
   ]
  },
  {
   "cell_type": "code",
   "execution_count": null,
   "metadata": {},
   "outputs": [],
   "source": [
    "dados_sumarezinho = base_original_completa.query(\n",
    "    'bairro_teste == \"Sumarezinho\"').preco\n",
    "dados_centro = base_original_completa.query(\n",
    "    'bairro_teste == \"Centro\"').preco"
   ]
  },
  {
   "cell_type": "code",
   "execution_count": null,
   "metadata": {},
   "outputs": [],
   "source": [
    "from statsmodels.stats.weightstats import DescrStatsW, CompareMeans"
   ]
  },
  {
   "cell_type": "code",
   "execution_count": null,
   "metadata": {},
   "outputs": [],
   "source": [
    "test_sumarezinho = DescrStatsW(dados_sumarezinho)\n",
    "test_centro = DescrStatsW(dados_centro)"
   ]
  },
  {
   "cell_type": "code",
   "execution_count": null,
   "metadata": {},
   "outputs": [],
   "source": [
    "test_a = test_sumarezinho.get_compare(test_centro)"
   ]
  },
  {
   "cell_type": "code",
   "execution_count": null,
   "metadata": {},
   "outputs": [
    {
     "data": {
      "text/plain": [
       "(-7.546571978952292, 0.9999999999999777)"
      ]
     },
     "execution_count": 127,
     "metadata": {},
     "output_type": "execute_result"
    }
   ],
   "source": [
    "test_a.ztest_ind(alternative='larger', value=0)"
   ]
  },
  {
   "cell_type": "code",
   "execution_count": null,
   "metadata": {},
   "outputs": [],
   "source": [
    "z, p_valor = test_a.ztest_ind(alternative='larger', value=0)"
   ]
  },
  {
   "cell_type": "code",
   "execution_count": null,
   "metadata": {},
   "outputs": [
    {
     "data": {
      "text/plain": [
       "False"
      ]
     },
     "execution_count": 129,
     "metadata": {},
     "output_type": "execute_result"
    }
   ],
   "source": [
    "p_valor <= significancia"
   ]
  },
  {
   "cell_type": "code",
   "execution_count": null,
   "metadata": {},
   "outputs": [],
   "source": [
    "test_a = CompareMeans(test_centro, test_sumarezinho)"
   ]
  },
  {
   "cell_type": "code",
   "execution_count": null,
   "metadata": {},
   "outputs": [],
   "source": [
    "teste_b = CompareMeans(test_centro, test_sumarezinho)"
   ]
  },
  {
   "cell_type": "markdown",
   "metadata": {},
   "source": [
    "-  Teste de shapiro-wilk"
   ]
  },
  {
   "cell_type": "code",
   "execution_count": null,
   "metadata": {},
   "outputs": [],
   "source": [
    "from scipy import stats"
   ]
  },
  {
   "cell_type": "code",
   "execution_count": null,
   "metadata": {},
   "outputs": [
    {
     "data": {
      "text/plain": [
       "2.5383620915016895e-07"
      ]
     },
     "execution_count": 133,
     "metadata": {},
     "output_type": "execute_result"
    }
   ],
   "source": [
    "resultado = stats.shapiro(dados_sumarezinho)\n",
    "resultado.pvalue"
   ]
  },
  {
   "cell_type": "markdown",
   "metadata": {},
   "source": [
    "- Intervalo de confiança"
   ]
  },
  {
   "cell_type": "code",
   "execution_count": 96,
   "metadata": {},
   "outputs": [],
   "source": [
    "from statsmodels.stats.weightstats import DescrStatsW, zconfint"
   ]
  },
  {
   "cell_type": "code",
   "execution_count": 98,
   "metadata": {},
   "outputs": [
    {
     "data": {
      "text/plain": [
       "(385941.15378833277, 418212.2972986238)"
      ]
     },
     "execution_count": 98,
     "metadata": {},
     "output_type": "execute_result"
    }
   ],
   "source": [
    "zconfint(dados_centro.preco)"
   ]
  },
  {
   "cell_type": "code",
   "execution_count": null,
   "metadata": {},
   "outputs": [
    {
     "name": "stdout",
     "output_type": "stream",
     "text": [
      "Média: 402077  Desvio padrão: 223344\n",
      "Intervalo de confiança: 385915 - 418239\n"
     ]
    }
   ],
   "source": [
    "import numpy as np\n",
    "from scipy.stats import t\n",
    "\n",
    "conf_level = 0.95\n",
    "media = dados_centro['preco'].mean()\n",
    "std = dados_centro['preco'].std()\n",
    "n = dados_centro.shape[0]\n",
    "grausLiberdade = n - 1\n",
    "t_value = t.ppf((1 + conf_level) / 2, grausLiberdade)\n",
    "inf = media - t_value * std / np.sqrt(n)\n",
    "sup = media + t_value * std / np.sqrt(n)\n",
    "print('Média:', round(media), ' Desvio padrão:', round(std))\n",
    "# Imprime o intervalo de confiança para a média\n",
    "print('Intervalo de confiança:', round(inf), '-', round(sup))"
   ]
  },
  {
   "cell_type": "code",
   "execution_count": 93,
   "metadata": {},
   "outputs": [
    {
     "name": "stdout",
     "output_type": "stream",
     "text": [
      "Média: 402077  Desvio padrão: 223344\n",
      "Intervalo de confiança: 385915 - 418239\n"
     ]
    }
   ],
   "source": [
    "obter_intervalo_confianca(dados_centro)"
   ]
  },
  {
   "cell_type": "code",
   "execution_count": 94,
   "metadata": {},
   "outputs": [
    {
     "name": "stdout",
     "output_type": "stream",
     "text": [
      "Média: 245525  Desvio padrão: 72993\n",
      "Intervalo de confiança: 232217 - 258832\n"
     ]
    }
   ],
   "source": [
    "obter_intervalo_confianca(dados_sumarezinho)"
   ]
  },
  {
   "cell_type": "markdown",
   "metadata": {},
   "source": [
    "# Análise quartos"
   ]
  },
  {
   "cell_type": "code",
   "execution_count": null,
   "metadata": {},
   "outputs": [],
   "source": [
    "base_original_bairro = base_original_completa.query(\n",
    "    'bairro_teste == \"Centro\"')"
   ]
  },
  {
   "cell_type": "code",
   "execution_count": null,
   "metadata": {},
   "outputs": [
    {
     "data": {
      "text/plain": [
       "Index(['tipo_imovel', 'nome', 'preco', 'metragem', 'quarto', 'banheiro',\n",
       "       'garagem', 'ID_CASA', 'bairro_teste'],\n",
       "      dtype='object')"
      ]
     },
     "execution_count": 178,
     "metadata": {},
     "output_type": "execute_result"
    }
   ],
   "source": [
    "base_original_bairro.columns"
   ]
  },
  {
   "cell_type": "code",
   "execution_count": null,
   "metadata": {},
   "outputs": [
    {
     "data": {
      "text/plain": [
       "quarto\n",
       "1    103\n",
       "Name: count, dtype: int64"
      ]
     },
     "execution_count": 179,
     "metadata": {},
     "output_type": "execute_result"
    }
   ],
   "source": [
    "base_original_bairro.quarto.value_counts()"
   ]
  },
  {
   "cell_type": "code",
   "execution_count": null,
   "metadata": {},
   "outputs": [
    {
     "name": "stdout",
     "output_type": "stream",
     "text": [
      " 3 -> Quarto\n",
      "Média preço:  430715.6\n",
      "Mediana Preço: 400000.0\n",
      "Moda:  450000.0\n",
      "Desvio Padrão,  142146.07\n",
      "Total Imóveis 402\n",
      "====================\n",
      " 2 -> Quarto\n",
      "Média preço:  299715.14\n",
      "Mediana Preço: 300000.0\n",
      "Moda:  320000.0\n",
      "Desvio Padrão,  85219.98\n",
      "Total Imóveis 165\n",
      "====================\n",
      " 1 -> Quarto\n",
      "Média preço:  226877.68\n",
      "Mediana Preço: 190000.0\n",
      "Moda:  170000.0\n",
      "Desvio Padrão,  295232.18\n",
      "Total Imóveis 103\n",
      "====================\n",
      " 4 -> Quarto\n",
      "Média preço:  745459.38\n",
      "Mediana Preço: 690000.0\n",
      "Moda:  800000.0\n",
      "Desvio Padrão,  271143.61\n",
      "Total Imóveis 64\n",
      "====================\n",
      " 5 -> Quarto\n",
      "Média preço:  1125000.0\n",
      "Mediana Preço: 1125000.0\n",
      "Moda:  990000.0\n",
      "Desvio Padrão,  190918.83\n",
      "Total Imóveis 2\n",
      "====================\n"
     ]
    }
   ],
   "source": [
    "for quarto in base_original_bairro['quarto'].unique():\n",
    "    print(f' {quarto} -> Quarto')\n",
    "    base_temp = base_original_bairro.query(f'quarto == {quarto}')\n",
    "    obter_estatistica(base_temp)\n",
    "    print('=' * 20)"
   ]
  },
  {
   "cell_type": "code",
   "execution_count": null,
   "metadata": {},
   "outputs": [
    {
     "name": "stdout",
     "output_type": "stream",
     "text": [
      "Média: 402077  Desvio padrão: 223344\n",
      "Intervalo de confiança: 385915 - 418239\n"
     ]
    }
   ],
   "source": [
    "obter_intervalo_confianca(base_original_bairro)"
   ]
  },
  {
   "cell_type": "code",
   "execution_count": null,
   "metadata": {},
   "outputs": [
    {
     "data": {
      "text/html": [
       "<div>\n",
       "<style scoped>\n",
       "    .dataframe tbody tr th:only-of-type {\n",
       "        vertical-align: middle;\n",
       "    }\n",
       "\n",
       "    .dataframe tbody tr th {\n",
       "        vertical-align: top;\n",
       "    }\n",
       "\n",
       "    .dataframe thead th {\n",
       "        text-align: right;\n",
       "    }\n",
       "</style>\n",
       "<table border=\"1\" class=\"dataframe\">\n",
       "  <thead>\n",
       "    <tr style=\"text-align: right;\">\n",
       "      <th></th>\n",
       "      <th>bairro</th>\n",
       "      <th>media_preco</th>\n",
       "      <th>mediana_preco</th>\n",
       "      <th>moda</th>\n",
       "      <th>desvio_padrao</th>\n",
       "      <th>total_imoveis</th>\n",
       "    </tr>\n",
       "  </thead>\n",
       "  <tbody>\n",
       "    <tr>\n",
       "      <th>0</th>\n",
       "      <td>Sumarezinho</td>\n",
       "      <td>245524.66</td>\n",
       "      <td>230000.00</td>\n",
       "      <td>170000.00</td>\n",
       "      <td>72993.17</td>\n",
       "      <td>118</td>\n",
       "    </tr>\n",
       "    <tr>\n",
       "      <th>1</th>\n",
       "      <td>Centro</td>\n",
       "      <td>402076.73</td>\n",
       "      <td>360000.00</td>\n",
       "      <td>450000.00</td>\n",
       "      <td>223344.46</td>\n",
       "      <td>736</td>\n",
       "    </tr>\n",
       "  </tbody>\n",
       "</table>\n",
       "</div>"
      ],
      "text/plain": [
       "        bairro  media_preco  mediana_preco      moda  desvio_padrao  \\\n",
       "0  Sumarezinho    245524.66      230000.00 170000.00       72993.17   \n",
       "1       Centro    402076.73      360000.00 450000.00      223344.46   \n",
       "\n",
       "   total_imoveis  \n",
       "0            118  \n",
       "1            736  "
      ]
     },
     "execution_count": 41,
     "metadata": {},
     "output_type": "execute_result"
    }
   ],
   "source": [
    "obter_estatistica(bairros=['Sumarezinho', 'Centro'], base_original_completa=base_original_completa)"
   ]
  },
  {
   "cell_type": "markdown",
   "metadata": {},
   "source": [
    "# Teste de Normalidade"
   ]
  },
  {
   "cell_type": "code",
   "execution_count": 99,
   "metadata": {},
   "outputs": [],
   "source": [
    "significancia = 0.05"
   ]
  },
  {
   "cell_type": "code",
   "execution_count": 100,
   "metadata": {},
   "outputs": [],
   "source": [
    "stat_test, p_valor = normaltest(dados_centro.preco)"
   ]
  },
  {
   "cell_type": "code",
   "execution_count": 101,
   "metadata": {},
   "outputs": [
    {
     "data": {
      "text/plain": [
       "True"
      ]
     },
     "execution_count": 101,
     "metadata": {},
     "output_type": "execute_result"
    }
   ],
   "source": [
    "p_valor <= significancia"
   ]
  },
  {
   "cell_type": "code",
   "execution_count": 107,
   "metadata": {},
   "outputs": [
    {
     "data": {
      "text/plain": [
       "<Axes: xlabel='preco', ylabel='Count'>"
      ]
     },
     "execution_count": 107,
     "metadata": {},
     "output_type": "execute_result"
    },
    {
     "data": {
      "image/png": "[encoded data removed]",
      "text/plain": [
       "<Figure size 640x480 with 1 Axes>"
      ]
     },
     "metadata": {},
     "output_type": "display_data"
    }
   ],
   "source": [
    "sns.histplot(dados_centro, x='preco', kde=True)"
   ]
  },
  {
   "cell_type": "code",
   "execution_count": 109,
   "metadata": {},
   "outputs": [
    {
     "data": {
      "text/plain": [
       "<Axes: xlabel='preco', ylabel='Count'>"
      ]
     },
     "execution_count": 109,
     "metadata": {},
     "output_type": "execute_result"
    },
    {
     "data": {
      "image/png": "[encoded data removed]",
      "text/plain": [
       "<Figure size 640x480 with 1 Axes>"
      ]
     },
     "metadata": {},
     "output_type": "display_data"
    }
   ],
   "source": [
    "sns.histplot(dados_sumarezinho, x='preco', kde=True)"
   ]
  },
  {
   "cell_type": "markdown",
   "metadata": {},
   "source": [
    "<p>Rejeitar H0: A amostra é de uma distribuição normal</p>"
   ]
  },
  {
   "cell_type": "code",
   "execution_count": 104,
   "metadata": {},
   "outputs": [],
   "source": [
    "stat_test, p_valor = normaltest(dados_sumarezinho.preco)"
   ]
  },
  {
   "cell_type": "code",
   "execution_count": 103,
   "metadata": {},
   "outputs": [
    {
     "data": {
      "text/plain": [
       "True"
      ]
     },
     "execution_count": 103,
     "metadata": {},
     "output_type": "execute_result"
    }
   ],
   "source": [
    "p_valor <= significancia"
   ]
  },
  {
   "cell_type": "markdown",
   "metadata": {},
   "source": [
    "<p>Rejeitar H0: A amostra é de uma distribuição normal</p>"
   ]
  }
 ],
 "metadata": {
  "kernelspec": {
   "display_name": "venv",
   "language": "python",
   "name": "python3"
  },
  "language_info": {
   "codemirror_mode": {
    "name": "ipython",
    "version": 3
   },
   "file_extension": ".py",
   "mimetype": "text/x-python",
   "name": "python",
   "nbconvert_exporter": "python",
   "pygments_lexer": "ipython3",
   "version": "3.11.8"
  }
 },
 "nbformat": 4,
 "nbformat_minor": 2
}
