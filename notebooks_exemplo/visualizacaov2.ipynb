{
 "cells": [
  {
   "cell_type": "markdown",
   "metadata": {},
   "source": [
    "# Importação das bibliotecas"
   ]
  },
  {
   "cell_type": "code",
   "execution_count": 68,
   "metadata": {},
   "outputs": [],
   "source": [
    "from scipy.stats import t\n",
    "import pandas as pd\n",
    "import seaborn as sns\n",
    "import numpy as np\n",
    "import plotly.express as px\n",
    "from scipy.stats import norm\n",
    "pd.set_option('display.float_format', lambda x: '{:.2f}'.format(x))\n",
    "from typing import List\n",
    "import matplotlib.pyplot as plt\n"
   ]
  },
  {
   "cell_type": "code",
   "execution_count": 69,
   "metadata": {},
   "outputs": [],
   "source": [
    "def obter_intervalo_confianca(dataframe: pd.DataFrame):    \n",
    "    conf_level = 0.95\n",
    "    media = dataframe['preco'].mean()\n",
    "    std = dataframe['preco'].std()\n",
    "    n = dataframe.shape[0]\n",
    "    grausLiberdade = n - 1\n",
    "    t_value = t.ppf((1 + conf_level) / 2, grausLiberdade)\n",
    "    inf = media - t_value * std / np.sqrt(n)\n",
    "    sup = media + t_value * std / np.sqrt(n)\n",
    "    print('Média:', round(media), ' Desvio padrão:', round(std))\n",
    "    print('Intervalo de confiança:', round(inf), '-', round(sup))"
   ]
  },
  {
   "cell_type": "code",
   "execution_count": 70,
   "metadata": {},
   "outputs": [],
   "source": [
    "def obter_resumo(tipo_imovel: str, bairro: str = None, banheiro: int = None, quartos: int = None) -> pd.DataFrame:\n",
    "    query = f'  tipo_imovel == \"{tipo_imovel}\"'\n",
    "    if bairro is not None:\n",
    "        query += f' and bairro_teste == \"{bairro}\"  '\n",
    "    if banheiro is not None:\n",
    "        query += f' and banheiro == {banheiro} '\n",
    "    if quartos is not None:\n",
    "        query += f' and quarto == {quartos} '\n",
    "    base_original = pd.read_parquet('../data/processed/base_casa_v2.parquet')\n",
    "    base_original = base_original.query(query)\n",
    "    return base_original"
   ]
  },
  {
   "cell_type": "code",
   "execution_count": 71,
   "metadata": {},
   "outputs": [],
   "source": [
    "def obter_estatistica(bairros: List[str], base_original_completa: pd.DataFrame) -> pd.DataFrame:\n",
    "    lista_dados = []\n",
    "    for bairro in bairros:\n",
    "        dados_temp = base_original_completa.query(\n",
    "            f'bairro_teste == \"{bairro}\"')\n",
    "        lista_dados.append(\n",
    "            {\n",
    "                'bairro': bairro,\n",
    "                'media_preco':  round(dados_temp['preco'].mean(), 2),\n",
    "                'mediana_preco':  round(dados_temp['preco'].median(), 2),\n",
    "                'moda': round(dados_temp['preco'].mode()[0], 2),\n",
    "                'desvio_padrao': round(dados_temp['preco'].std(), 2),\n",
    "                'total_imoveis': dados_temp.shape[0],\n",
    "                'coeficiente_variacao': (round(dados_temp['preco'].std(), 2) / round(dados_temp['preco'].mean(), 2)) * 100\n",
    "            }\n",
    "        )\n",
    "    df = pd.DataFrame(lista_dados)\n",
    "    return df\n",
    "  "
   ]
  },
  {
   "cell_type": "markdown",
   "metadata": {},
   "source": [
    "- Preço Geral"
   ]
  },
  {
   "cell_type": "code",
   "execution_count": 72,
   "metadata": {},
   "outputs": [
    {
     "data": {
      "text/html": [
       "<div>\n",
       "<style scoped>\n",
       "    .dataframe tbody tr th:only-of-type {\n",
       "        vertical-align: middle;\n",
       "    }\n",
       "\n",
       "    .dataframe tbody tr th {\n",
       "        vertical-align: top;\n",
       "    }\n",
       "\n",
       "    .dataframe thead th {\n",
       "        text-align: right;\n",
       "    }\n",
       "</style>\n",
       "<table border=\"1\" class=\"dataframe\">\n",
       "  <thead>\n",
       "    <tr style=\"text-align: right;\">\n",
       "      <th></th>\n",
       "      <th>tipo_imovel</th>\n",
       "      <th>nome</th>\n",
       "      <th>preco</th>\n",
       "      <th>metragem</th>\n",
       "      <th>quarto</th>\n",
       "      <th>banheiro</th>\n",
       "      <th>garagem</th>\n",
       "      <th>ID_CASA</th>\n",
       "      <th>bairro_teste</th>\n",
       "    </tr>\n",
       "  </thead>\n",
       "  <tbody>\n",
       "    <tr>\n",
       "      <th>0</th>\n",
       "      <td>Apartamento</td>\n",
       "      <td>Apartamento com 2 Quartos à Venda, 65m²</td>\n",
       "      <td>310000.00</td>\n",
       "      <td>65</td>\n",
       "      <td>2</td>\n",
       "      <td>2</td>\n",
       "      <td>1</td>\n",
       "      <td>2699716579</td>\n",
       "      <td>Jardim Botânico</td>\n",
       "    </tr>\n",
       "    <tr>\n",
       "      <th>2</th>\n",
       "      <td>Apartamento</td>\n",
       "      <td>Apartamento com 2 Quartos à Venda, 71m²</td>\n",
       "      <td>403500.00</td>\n",
       "      <td>71</td>\n",
       "      <td>2</td>\n",
       "      <td>2</td>\n",
       "      <td>2</td>\n",
       "      <td>2690493538</td>\n",
       "      <td>Bonfim Paulista</td>\n",
       "    </tr>\n",
       "    <tr>\n",
       "      <th>3</th>\n",
       "      <td>Apartamento</td>\n",
       "      <td>Apartamento com 2 Quartos à Venda, 54m²</td>\n",
       "      <td>290000.00</td>\n",
       "      <td>54</td>\n",
       "      <td>2</td>\n",
       "      <td>2</td>\n",
       "      <td>1</td>\n",
       "      <td>2667652105</td>\n",
       "      <td>Nova Aliança</td>\n",
       "    </tr>\n",
       "    <tr>\n",
       "      <th>4</th>\n",
       "      <td>Apartamento</td>\n",
       "      <td>Apartamento com 2 Quartos à Venda, 45m²</td>\n",
       "      <td>166420.00</td>\n",
       "      <td>45</td>\n",
       "      <td>2</td>\n",
       "      <td>1</td>\n",
       "      <td>1</td>\n",
       "      <td>2682840782</td>\n",
       "      <td>Conjunto Habitacional Jardim Das Palmeiras</td>\n",
       "    </tr>\n",
       "    <tr>\n",
       "      <th>5</th>\n",
       "      <td>Apartamento</td>\n",
       "      <td>Apartamento com 2 Quartos à Venda, 64m²</td>\n",
       "      <td>370000.00</td>\n",
       "      <td>64</td>\n",
       "      <td>2</td>\n",
       "      <td>2</td>\n",
       "      <td>2</td>\n",
       "      <td>2688027260</td>\n",
       "      <td>Vila Ana Maria</td>\n",
       "    </tr>\n",
       "    <tr>\n",
       "      <th>...</th>\n",
       "      <td>...</td>\n",
       "      <td>...</td>\n",
       "      <td>...</td>\n",
       "      <td>...</td>\n",
       "      <td>...</td>\n",
       "      <td>...</td>\n",
       "      <td>...</td>\n",
       "      <td>...</td>\n",
       "      <td>...</td>\n",
       "    </tr>\n",
       "    <tr>\n",
       "      <th>9967</th>\n",
       "      <td>Apartamento</td>\n",
       "      <td>Apartamento com 3 Quartos à Venda, 81m²</td>\n",
       "      <td>540000.00</td>\n",
       "      <td>81</td>\n",
       "      <td>3</td>\n",
       "      <td>2</td>\n",
       "      <td>2</td>\n",
       "      <td>2696267182</td>\n",
       "      <td>Vila Do Golf</td>\n",
       "    </tr>\n",
       "    <tr>\n",
       "      <th>9968</th>\n",
       "      <td>Apartamento</td>\n",
       "      <td>Apartamento com Quarto à Venda, 61m²</td>\n",
       "      <td>280000.00</td>\n",
       "      <td>61</td>\n",
       "      <td>1</td>\n",
       "      <td>1</td>\n",
       "      <td>1</td>\n",
       "      <td>2476716299</td>\n",
       "      <td>Centro</td>\n",
       "    </tr>\n",
       "    <tr>\n",
       "      <th>9969</th>\n",
       "      <td>Apartamento</td>\n",
       "      <td>Apartamento com 3 Quartos à Venda, 83m²</td>\n",
       "      <td>375000.00</td>\n",
       "      <td>83</td>\n",
       "      <td>3</td>\n",
       "      <td>3</td>\n",
       "      <td>2</td>\n",
       "      <td>2693112449</td>\n",
       "      <td>Jardim São Luiz</td>\n",
       "    </tr>\n",
       "    <tr>\n",
       "      <th>9970</th>\n",
       "      <td>Apartamento</td>\n",
       "      <td>Apartamento com 2 Quartos à Venda, 48m²</td>\n",
       "      <td>175000.00</td>\n",
       "      <td>48</td>\n",
       "      <td>2</td>\n",
       "      <td>1</td>\n",
       "      <td>1</td>\n",
       "      <td>2572455642</td>\n",
       "      <td>Lagoinha</td>\n",
       "    </tr>\n",
       "    <tr>\n",
       "      <th>9971</th>\n",
       "      <td>Apartamento</td>\n",
       "      <td>Apartamento com 3 Quartos à Venda, 120m²</td>\n",
       "      <td>394000.00</td>\n",
       "      <td>120</td>\n",
       "      <td>3</td>\n",
       "      <td>3</td>\n",
       "      <td>1</td>\n",
       "      <td>2523506081</td>\n",
       "      <td>Centro</td>\n",
       "    </tr>\n",
       "  </tbody>\n",
       "</table>\n",
       "<p>8395 rows × 9 columns</p>\n",
       "</div>"
      ],
      "text/plain": [
       "      tipo_imovel                                      nome     preco  \\\n",
       "0     Apartamento   Apartamento com 2 Quartos à Venda, 65m² 310000.00   \n",
       "2     Apartamento   Apartamento com 2 Quartos à Venda, 71m² 403500.00   \n",
       "3     Apartamento   Apartamento com 2 Quartos à Venda, 54m² 290000.00   \n",
       "4     Apartamento   Apartamento com 2 Quartos à Venda, 45m² 166420.00   \n",
       "5     Apartamento   Apartamento com 2 Quartos à Venda, 64m² 370000.00   \n",
       "...           ...                                       ...       ...   \n",
       "9967  Apartamento   Apartamento com 3 Quartos à Venda, 81m² 540000.00   \n",
       "9968  Apartamento      Apartamento com Quarto à Venda, 61m² 280000.00   \n",
       "9969  Apartamento   Apartamento com 3 Quartos à Venda, 83m² 375000.00   \n",
       "9970  Apartamento   Apartamento com 2 Quartos à Venda, 48m² 175000.00   \n",
       "9971  Apartamento  Apartamento com 3 Quartos à Venda, 120m² 394000.00   \n",
       "\n",
       "      metragem  quarto  banheiro  garagem     ID_CASA  \\\n",
       "0           65       2         2        1  2699716579   \n",
       "2           71       2         2        2  2690493538   \n",
       "3           54       2         2        1  2667652105   \n",
       "4           45       2         1        1  2682840782   \n",
       "5           64       2         2        2  2688027260   \n",
       "...        ...     ...       ...      ...         ...   \n",
       "9967        81       3         2        2  2696267182   \n",
       "9968        61       1         1        1  2476716299   \n",
       "9969        83       3         3        2  2693112449   \n",
       "9970        48       2         1        1  2572455642   \n",
       "9971       120       3         3        1  2523506081   \n",
       "\n",
       "                                    bairro_teste  \n",
       "0                                Jardim Botânico  \n",
       "2                                Bonfim Paulista  \n",
       "3                                   Nova Aliança  \n",
       "4     Conjunto Habitacional Jardim Das Palmeiras  \n",
       "5                                 Vila Ana Maria  \n",
       "...                                          ...  \n",
       "9967                                Vila Do Golf  \n",
       "9968                                      Centro  \n",
       "9969                             Jardim São Luiz  \n",
       "9970                                    Lagoinha  \n",
       "9971                                      Centro  \n",
       "\n",
       "[8395 rows x 9 columns]"
      ]
     },
     "execution_count": 72,
     "metadata": {},
     "output_type": "execute_result"
    }
   ],
   "source": [
    "base_original = obter_resumo(tipo_imovel='Apartamento')\n",
    "base_original"
   ]
  },
  {
   "cell_type": "markdown",
   "metadata": {},
   "source": [
    "- Teste da normalidade de uma amostra"
   ]
  },
  {
   "cell_type": "code",
   "execution_count": 73,
   "metadata": {},
   "outputs": [],
   "source": [
    "from scipy.stats import normaltest"
   ]
  },
  {
   "cell_type": "code",
   "execution_count": 74,
   "metadata": {},
   "outputs": [],
   "source": [
    "base_original_completa = obter_resumo(tipo_imovel='Apartamento')\n",
    "dados_sumarezinho = base_original_completa.query(\n",
    "    'bairro_teste == \"Sumarezinho\"')\n",
    "dados_centro = base_original_completa.query(\n",
    "    'bairro_teste == \"Centro\"')"
   ]
  },
  {
   "cell_type": "code",
   "execution_count": 75,
   "metadata": {},
   "outputs": [],
   "source": [
    "significancia = 0.05"
   ]
  },
  {
   "cell_type": "code",
   "execution_count": 76,
   "metadata": {},
   "outputs": [],
   "source": [
    "stat_test, p_valor = normaltest(dados_sumarezinho.preco)"
   ]
  },
  {
   "cell_type": "code",
   "execution_count": 77,
   "metadata": {},
   "outputs": [
    {
     "data": {
      "text/plain": [
       "True"
      ]
     },
     "execution_count": 77,
     "metadata": {},
     "output_type": "execute_result"
    }
   ],
   "source": [
    "p_valor <= significancia"
   ]
  },
  {
   "cell_type": "code",
   "execution_count": 78,
   "metadata": {},
   "outputs": [
    {
     "data": {
      "text/plain": [
       "True"
      ]
     },
     "execution_count": 78,
     "metadata": {},
     "output_type": "execute_result"
    }
   ],
   "source": [
    "stat_test, p_valor = normaltest(dados_centro.preco)\n",
    "p_valor <= significancia"
   ]
  },
  {
   "cell_type": "markdown",
   "metadata": {},
   "source": [
    "- Para todos os bairros"
   ]
  },
  {
   "cell_type": "code",
   "execution_count": 79,
   "metadata": {},
   "outputs": [
    {
     "data": {
      "text/html": [
       "<div>\n",
       "<style scoped>\n",
       "    .dataframe tbody tr th:only-of-type {\n",
       "        vertical-align: middle;\n",
       "    }\n",
       "\n",
       "    .dataframe tbody tr th {\n",
       "        vertical-align: top;\n",
       "    }\n",
       "\n",
       "    .dataframe thead th {\n",
       "        text-align: right;\n",
       "    }\n",
       "</style>\n",
       "<table border=\"1\" class=\"dataframe\">\n",
       "  <thead>\n",
       "    <tr style=\"text-align: right;\">\n",
       "      <th></th>\n",
       "      <th>bairro</th>\n",
       "      <th>teste_normalidade</th>\n",
       "      <th>desvio_padrao</th>\n",
       "      <th>Total Imoveis</th>\n",
       "    </tr>\n",
       "  </thead>\n",
       "  <tbody>\n",
       "    <tr>\n",
       "      <th>99</th>\n",
       "      <td>Jardim Ilhas Do Sul</td>\n",
       "      <td>True</td>\n",
       "      <td>1752338.48</td>\n",
       "      <td>23</td>\n",
       "    </tr>\n",
       "    <tr>\n",
       "      <th>98</th>\n",
       "      <td>Bonfim Paulista</td>\n",
       "      <td>True</td>\n",
       "      <td>911435.88</td>\n",
       "      <td>141</td>\n",
       "    </tr>\n",
       "    <tr>\n",
       "      <th>97</th>\n",
       "      <td>Jardim Olhos D Agua</td>\n",
       "      <td>True</td>\n",
       "      <td>735905.38</td>\n",
       "      <td>172</td>\n",
       "    </tr>\n",
       "    <tr>\n",
       "      <th>96</th>\n",
       "      <td>Jardim Botânico</td>\n",
       "      <td>True</td>\n",
       "      <td>720996.16</td>\n",
       "      <td>739</td>\n",
       "    </tr>\n",
       "    <tr>\n",
       "      <th>95</th>\n",
       "      <td>Vila Do Golf</td>\n",
       "      <td>True</td>\n",
       "      <td>666626.96</td>\n",
       "      <td>100</td>\n",
       "    </tr>\n",
       "    <tr>\n",
       "      <th>94</th>\n",
       "      <td>Residencial Morro Do Ipê</td>\n",
       "      <td>True</td>\n",
       "      <td>611889.34</td>\n",
       "      <td>36</td>\n",
       "    </tr>\n",
       "    <tr>\n",
       "      <th>93</th>\n",
       "      <td>Jardim Canadá</td>\n",
       "      <td>True</td>\n",
       "      <td>524776.17</td>\n",
       "      <td>48</td>\n",
       "    </tr>\n",
       "    <tr>\n",
       "      <th>92</th>\n",
       "      <td>Bosque Das Juritis</td>\n",
       "      <td>False</td>\n",
       "      <td>443196.05</td>\n",
       "      <td>159</td>\n",
       "    </tr>\n",
       "    <tr>\n",
       "      <th>91</th>\n",
       "      <td>Jardim Santa Angela</td>\n",
       "      <td>False</td>\n",
       "      <td>430756.32</td>\n",
       "      <td>17</td>\n",
       "    </tr>\n",
       "    <tr>\n",
       "      <th>90</th>\n",
       "      <td>Ribeirânia</td>\n",
       "      <td>True</td>\n",
       "      <td>395303.50</td>\n",
       "      <td>235</td>\n",
       "    </tr>\n",
       "    <tr>\n",
       "      <th>89</th>\n",
       "      <td>Residencial Alto Do Ipe</td>\n",
       "      <td>True</td>\n",
       "      <td>365252.08</td>\n",
       "      <td>40</td>\n",
       "    </tr>\n",
       "    <tr>\n",
       "      <th>88</th>\n",
       "      <td>Jardim Irajá</td>\n",
       "      <td>True</td>\n",
       "      <td>354985.06</td>\n",
       "      <td>353</td>\n",
       "    </tr>\n",
       "    <tr>\n",
       "      <th>87</th>\n",
       "      <td>Higienópolis</td>\n",
       "      <td>True</td>\n",
       "      <td>339492.46</td>\n",
       "      <td>33</td>\n",
       "    </tr>\n",
       "    <tr>\n",
       "      <th>86</th>\n",
       "      <td>Jardim São Luiz</td>\n",
       "      <td>True</td>\n",
       "      <td>333865.44</td>\n",
       "      <td>98</td>\n",
       "    </tr>\n",
       "    <tr>\n",
       "      <th>85</th>\n",
       "      <td>Nova Aliança</td>\n",
       "      <td>True</td>\n",
       "      <td>300496.67</td>\n",
       "      <td>661</td>\n",
       "    </tr>\n",
       "    <tr>\n",
       "      <th>84</th>\n",
       "      <td>Vila Monte Alegre</td>\n",
       "      <td>True</td>\n",
       "      <td>265524.94</td>\n",
       "      <td>78</td>\n",
       "    </tr>\n",
       "    <tr>\n",
       "      <th>83</th>\n",
       "      <td>Jardim Antartica</td>\n",
       "      <td>True</td>\n",
       "      <td>252064.60</td>\n",
       "      <td>10</td>\n",
       "    </tr>\n",
       "    <tr>\n",
       "      <th>82</th>\n",
       "      <td>Centro</td>\n",
       "      <td>True</td>\n",
       "      <td>223344.46</td>\n",
       "      <td>736</td>\n",
       "    </tr>\n",
       "    <tr>\n",
       "      <th>81</th>\n",
       "      <td>Condomínio Itamaraty</td>\n",
       "      <td>True</td>\n",
       "      <td>216084.91</td>\n",
       "      <td>34</td>\n",
       "    </tr>\n",
       "    <tr>\n",
       "      <th>80</th>\n",
       "      <td>Vila Seixas</td>\n",
       "      <td>True</td>\n",
       "      <td>211697.00</td>\n",
       "      <td>115</td>\n",
       "    </tr>\n",
       "    <tr>\n",
       "      <th>79</th>\n",
       "      <td>Jardim Califórnia</td>\n",
       "      <td>True</td>\n",
       "      <td>209506.68</td>\n",
       "      <td>50</td>\n",
       "    </tr>\n",
       "    <tr>\n",
       "      <th>78</th>\n",
       "      <td>Jardim Olhos D Agua Ii</td>\n",
       "      <td>False</td>\n",
       "      <td>205018.98</td>\n",
       "      <td>29</td>\n",
       "    </tr>\n",
       "    <tr>\n",
       "      <th>77</th>\n",
       "      <td>Condomínio Guaporé</td>\n",
       "      <td>True</td>\n",
       "      <td>177019.81</td>\n",
       "      <td>17</td>\n",
       "    </tr>\n",
       "    <tr>\n",
       "      <th>76</th>\n",
       "      <td>Vila Ana Maria</td>\n",
       "      <td>True</td>\n",
       "      <td>176799.75</td>\n",
       "      <td>114</td>\n",
       "    </tr>\n",
       "    <tr>\n",
       "      <th>75</th>\n",
       "      <td>Jardim Nova Aliança Sul</td>\n",
       "      <td>False</td>\n",
       "      <td>175128.32</td>\n",
       "      <td>53</td>\n",
       "    </tr>\n",
       "    <tr>\n",
       "      <th>74</th>\n",
       "      <td>Jardim Paulista</td>\n",
       "      <td>True</td>\n",
       "      <td>172727.94</td>\n",
       "      <td>315</td>\n",
       "    </tr>\n",
       "    <tr>\n",
       "      <th>73</th>\n",
       "      <td>Santa Cruz Do José Jacques</td>\n",
       "      <td>False</td>\n",
       "      <td>169245.63</td>\n",
       "      <td>123</td>\n",
       "    </tr>\n",
       "    <tr>\n",
       "      <th>72</th>\n",
       "      <td>City Ribeirão</td>\n",
       "      <td>True</td>\n",
       "      <td>163329.46</td>\n",
       "      <td>50</td>\n",
       "    </tr>\n",
       "    <tr>\n",
       "      <th>71</th>\n",
       "      <td>Alto Da Boa Vista</td>\n",
       "      <td>True</td>\n",
       "      <td>159898.61</td>\n",
       "      <td>111</td>\n",
       "    </tr>\n",
       "    <tr>\n",
       "      <th>70</th>\n",
       "      <td>Jardim Sumare</td>\n",
       "      <td>True</td>\n",
       "      <td>157155.51</td>\n",
       "      <td>121</td>\n",
       "    </tr>\n",
       "    <tr>\n",
       "      <th>69</th>\n",
       "      <td>Quinta Da Primavera</td>\n",
       "      <td>False</td>\n",
       "      <td>151135.87</td>\n",
       "      <td>91</td>\n",
       "    </tr>\n",
       "    <tr>\n",
       "      <th>68</th>\n",
       "      <td>Vila Amélia</td>\n",
       "      <td>True</td>\n",
       "      <td>137727.17</td>\n",
       "      <td>112</td>\n",
       "    </tr>\n",
       "    <tr>\n",
       "      <th>67</th>\n",
       "      <td>Jardim Castelo Branco</td>\n",
       "      <td>True</td>\n",
       "      <td>114780.06</td>\n",
       "      <td>33</td>\n",
       "    </tr>\n",
       "    <tr>\n",
       "      <th>66</th>\n",
       "      <td>Parque Dos Lagos</td>\n",
       "      <td>True</td>\n",
       "      <td>113996.36</td>\n",
       "      <td>57</td>\n",
       "    </tr>\n",
       "    <tr>\n",
       "      <th>65</th>\n",
       "      <td>Jardim América</td>\n",
       "      <td>False</td>\n",
       "      <td>112975.68</td>\n",
       "      <td>29</td>\n",
       "    </tr>\n",
       "    <tr>\n",
       "      <th>64</th>\n",
       "      <td>Jardim Republica</td>\n",
       "      <td>False</td>\n",
       "      <td>111852.45</td>\n",
       "      <td>59</td>\n",
       "    </tr>\n",
       "    <tr>\n",
       "      <th>63</th>\n",
       "      <td>Nova Ribeirânia</td>\n",
       "      <td>True</td>\n",
       "      <td>107010.33</td>\n",
       "      <td>50</td>\n",
       "    </tr>\n",
       "    <tr>\n",
       "      <th>62</th>\n",
       "      <td>Campos Eliseos</td>\n",
       "      <td>True</td>\n",
       "      <td>103916.72</td>\n",
       "      <td>178</td>\n",
       "    </tr>\n",
       "    <tr>\n",
       "      <th>61</th>\n",
       "      <td>Parque Dos Bandeirantes</td>\n",
       "      <td>True</td>\n",
       "      <td>103067.94</td>\n",
       "      <td>85</td>\n",
       "    </tr>\n",
       "    <tr>\n",
       "      <th>60</th>\n",
       "      <td>Jardim Paulistano</td>\n",
       "      <td>True</td>\n",
       "      <td>102654.70</td>\n",
       "      <td>133</td>\n",
       "    </tr>\n",
       "    <tr>\n",
       "      <th>59</th>\n",
       "      <td>Jardim Macedo</td>\n",
       "      <td>False</td>\n",
       "      <td>101622.41</td>\n",
       "      <td>32</td>\n",
       "    </tr>\n",
       "    <tr>\n",
       "      <th>58</th>\n",
       "      <td>Quintas De Sao Jose</td>\n",
       "      <td>False</td>\n",
       "      <td>100708.54</td>\n",
       "      <td>17</td>\n",
       "    </tr>\n",
       "    <tr>\n",
       "      <th>57</th>\n",
       "      <td>Parque Residencial Lagoinha</td>\n",
       "      <td>False</td>\n",
       "      <td>95478.57</td>\n",
       "      <td>34</td>\n",
       "    </tr>\n",
       "    <tr>\n",
       "      <th>56</th>\n",
       "      <td>Iguatemi</td>\n",
       "      <td>True</td>\n",
       "      <td>94282.44</td>\n",
       "      <td>61</td>\n",
       "    </tr>\n",
       "    <tr>\n",
       "      <th>55</th>\n",
       "      <td>Jardim Palma Travassos</td>\n",
       "      <td>False</td>\n",
       "      <td>90003.26</td>\n",
       "      <td>175</td>\n",
       "    </tr>\n",
       "    <tr>\n",
       "      <th>54</th>\n",
       "      <td>Vila Tibério</td>\n",
       "      <td>False</td>\n",
       "      <td>82390.86</td>\n",
       "      <td>89</td>\n",
       "    </tr>\n",
       "    <tr>\n",
       "      <th>53</th>\n",
       "      <td>Jardim Presidente Medici</td>\n",
       "      <td>True</td>\n",
       "      <td>82354.06</td>\n",
       "      <td>130</td>\n",
       "    </tr>\n",
       "    <tr>\n",
       "      <th>52</th>\n",
       "      <td>Loteamento Santa Marta</td>\n",
       "      <td>False</td>\n",
       "      <td>80517.01</td>\n",
       "      <td>10</td>\n",
       "    </tr>\n",
       "    <tr>\n",
       "      <th>51</th>\n",
       "      <td>Jardim Sao Jose</td>\n",
       "      <td>False</td>\n",
       "      <td>75432.86</td>\n",
       "      <td>20</td>\n",
       "    </tr>\n",
       "    <tr>\n",
       "      <th>50</th>\n",
       "      <td>Sumarezinho</td>\n",
       "      <td>True</td>\n",
       "      <td>72993.17</td>\n",
       "      <td>118</td>\n",
       "    </tr>\n",
       "    <tr>\n",
       "      <th>49</th>\n",
       "      <td>Parque Industrial Lagoinha</td>\n",
       "      <td>True</td>\n",
       "      <td>71249.50</td>\n",
       "      <td>146</td>\n",
       "    </tr>\n",
       "    <tr>\n",
       "      <th>48</th>\n",
       "      <td>Lagoinha</td>\n",
       "      <td>True</td>\n",
       "      <td>71027.23</td>\n",
       "      <td>88</td>\n",
       "    </tr>\n",
       "    <tr>\n",
       "      <th>47</th>\n",
       "      <td>Independência</td>\n",
       "      <td>False</td>\n",
       "      <td>70874.27</td>\n",
       "      <td>11</td>\n",
       "    </tr>\n",
       "    <tr>\n",
       "      <th>46</th>\n",
       "      <td>Jardim Saint Gerard</td>\n",
       "      <td>False</td>\n",
       "      <td>69663.37</td>\n",
       "      <td>11</td>\n",
       "    </tr>\n",
       "    <tr>\n",
       "      <th>45</th>\n",
       "      <td>Residencial Monterrey</td>\n",
       "      <td>True</td>\n",
       "      <td>68848.60</td>\n",
       "      <td>11</td>\n",
       "    </tr>\n",
       "    <tr>\n",
       "      <th>44</th>\n",
       "      <td>Jardim Novo Mundo</td>\n",
       "      <td>True</td>\n",
       "      <td>68007.02</td>\n",
       "      <td>16</td>\n",
       "    </tr>\n",
       "    <tr>\n",
       "      <th>43</th>\n",
       "      <td>Jardim Zara</td>\n",
       "      <td>False</td>\n",
       "      <td>64683.13</td>\n",
       "      <td>66</td>\n",
       "    </tr>\n",
       "    <tr>\n",
       "      <th>42</th>\n",
       "      <td>Parque Anhangüera</td>\n",
       "      <td>False</td>\n",
       "      <td>64209.99</td>\n",
       "      <td>13</td>\n",
       "    </tr>\n",
       "    <tr>\n",
       "      <th>41</th>\n",
       "      <td>Jardim Interlagos</td>\n",
       "      <td>False</td>\n",
       "      <td>64127.24</td>\n",
       "      <td>39</td>\n",
       "    </tr>\n",
       "    <tr>\n",
       "      <th>40</th>\n",
       "      <td>Jardim Independencia</td>\n",
       "      <td>False</td>\n",
       "      <td>61540.82</td>\n",
       "      <td>11</td>\n",
       "    </tr>\n",
       "  </tbody>\n",
       "</table>\n",
       "</div>"
      ],
      "text/plain": [
       "                         bairro  teste_normalidade  desvio_padrao  \\\n",
       "99          Jardim Ilhas Do Sul               True     1752338.48   \n",
       "98              Bonfim Paulista               True      911435.88   \n",
       "97          Jardim Olhos D Agua               True      735905.38   \n",
       "96              Jardim Botânico               True      720996.16   \n",
       "95                 Vila Do Golf               True      666626.96   \n",
       "94     Residencial Morro Do Ipê               True      611889.34   \n",
       "93                Jardim Canadá               True      524776.17   \n",
       "92           Bosque Das Juritis              False      443196.05   \n",
       "91          Jardim Santa Angela              False      430756.32   \n",
       "90                   Ribeirânia               True      395303.50   \n",
       "89      Residencial Alto Do Ipe               True      365252.08   \n",
       "88                 Jardim Irajá               True      354985.06   \n",
       "87                 Higienópolis               True      339492.46   \n",
       "86              Jardim São Luiz               True      333865.44   \n",
       "85                 Nova Aliança               True      300496.67   \n",
       "84            Vila Monte Alegre               True      265524.94   \n",
       "83             Jardim Antartica               True      252064.60   \n",
       "82                       Centro               True      223344.46   \n",
       "81         Condomínio Itamaraty               True      216084.91   \n",
       "80                  Vila Seixas               True      211697.00   \n",
       "79            Jardim Califórnia               True      209506.68   \n",
       "78       Jardim Olhos D Agua Ii              False      205018.98   \n",
       "77           Condomínio Guaporé               True      177019.81   \n",
       "76               Vila Ana Maria               True      176799.75   \n",
       "75      Jardim Nova Aliança Sul              False      175128.32   \n",
       "74              Jardim Paulista               True      172727.94   \n",
       "73   Santa Cruz Do José Jacques              False      169245.63   \n",
       "72                City Ribeirão               True      163329.46   \n",
       "71            Alto Da Boa Vista               True      159898.61   \n",
       "70                Jardim Sumare               True      157155.51   \n",
       "69          Quinta Da Primavera              False      151135.87   \n",
       "68                  Vila Amélia               True      137727.17   \n",
       "67        Jardim Castelo Branco               True      114780.06   \n",
       "66             Parque Dos Lagos               True      113996.36   \n",
       "65               Jardim América              False      112975.68   \n",
       "64             Jardim Republica              False      111852.45   \n",
       "63              Nova Ribeirânia               True      107010.33   \n",
       "62               Campos Eliseos               True      103916.72   \n",
       "61      Parque Dos Bandeirantes               True      103067.94   \n",
       "60            Jardim Paulistano               True      102654.70   \n",
       "59                Jardim Macedo              False      101622.41   \n",
       "58          Quintas De Sao Jose              False      100708.54   \n",
       "57  Parque Residencial Lagoinha              False       95478.57   \n",
       "56                     Iguatemi               True       94282.44   \n",
       "55       Jardim Palma Travassos              False       90003.26   \n",
       "54                 Vila Tibério              False       82390.86   \n",
       "53     Jardim Presidente Medici               True       82354.06   \n",
       "52       Loteamento Santa Marta              False       80517.01   \n",
       "51              Jardim Sao Jose              False       75432.86   \n",
       "50                  Sumarezinho               True       72993.17   \n",
       "49   Parque Industrial Lagoinha               True       71249.50   \n",
       "48                     Lagoinha               True       71027.23   \n",
       "47                Independência              False       70874.27   \n",
       "46          Jardim Saint Gerard              False       69663.37   \n",
       "45        Residencial Monterrey               True       68848.60   \n",
       "44            Jardim Novo Mundo               True       68007.02   \n",
       "43                  Jardim Zara              False       64683.13   \n",
       "42            Parque Anhangüera              False       64209.99   \n",
       "41            Jardim Interlagos              False       64127.24   \n",
       "40         Jardim Independencia              False       61540.82   \n",
       "\n",
       "    Total Imoveis  \n",
       "99             23  \n",
       "98            141  \n",
       "97            172  \n",
       "96            739  \n",
       "95            100  \n",
       "94             36  \n",
       "93             48  \n",
       "92            159  \n",
       "91             17  \n",
       "90            235  \n",
       "89             40  \n",
       "88            353  \n",
       "87             33  \n",
       "86             98  \n",
       "85            661  \n",
       "84             78  \n",
       "83             10  \n",
       "82            736  \n",
       "81             34  \n",
       "80            115  \n",
       "79             50  \n",
       "78             29  \n",
       "77             17  \n",
       "76            114  \n",
       "75             53  \n",
       "74            315  \n",
       "73            123  \n",
       "72             50  \n",
       "71            111  \n",
       "70            121  \n",
       "69             91  \n",
       "68            112  \n",
       "67             33  \n",
       "66             57  \n",
       "65             29  \n",
       "64             59  \n",
       "63             50  \n",
       "62            178  \n",
       "61             85  \n",
       "60            133  \n",
       "59             32  \n",
       "58             17  \n",
       "57             34  \n",
       "56             61  \n",
       "55            175  \n",
       "54             89  \n",
       "53            130  \n",
       "52             10  \n",
       "51             20  \n",
       "50            118  \n",
       "49            146  \n",
       "48             88  \n",
       "47             11  \n",
       "46             11  \n",
       "45             11  \n",
       "44             16  \n",
       "43             66  \n",
       "42             13  \n",
       "41             39  \n",
       "40             11  "
      ]
     },
     "execution_count": 79,
     "metadata": {},
     "output_type": "execute_result"
    }
   ],
   "source": [
    "\n",
    "import warnings\n",
    "warnings.filterwarnings(\"ignore\")\n",
    "\n",
    "lista_dados = []\n",
    "for bairro in base_original['bairro_teste'].unique():\n",
    "    try:\n",
    "        dados_sumarezinho = base_original_completa.query(\n",
    "            f'bairro_teste == \"{bairro}\"')\n",
    "        \n",
    "        stat_test, p_valor = normaltest(dados_sumarezinho.preco)\n",
    "        lista_dados.append(\n",
    "            {\n",
    "                'bairro': bairro,\n",
    "                'teste_normalidade': p_valor <= significancia,\n",
    "                'desvio_padrao': dados_sumarezinho['preco'].std(),\n",
    "                'Total Imoveis': dados_sumarezinho.shape[0]\n",
    "            }\n",
    "                \n",
    "            \n",
    "        )\n",
    "    except:\n",
    "        pass\n",
    "\n",
    "lista_dados = sorted(lista_dados, key=lambda x: x['desvio_padrao'])\n",
    "df_teste_normalidade = pd.DataFrame(lista_dados)\n",
    "df_teste_normalidade.nlargest(60, columns=['desvio_padrao'])"
   ]
  },
  {
   "cell_type": "code",
   "execution_count": 80,
   "metadata": {},
   "outputs": [
    {
     "data": {
      "text/html": [
       "<div>\n",
       "<style scoped>\n",
       "    .dataframe tbody tr th:only-of-type {\n",
       "        vertical-align: middle;\n",
       "    }\n",
       "\n",
       "    .dataframe tbody tr th {\n",
       "        vertical-align: top;\n",
       "    }\n",
       "\n",
       "    .dataframe thead th {\n",
       "        text-align: right;\n",
       "    }\n",
       "</style>\n",
       "<table border=\"1\" class=\"dataframe\">\n",
       "  <thead>\n",
       "    <tr style=\"text-align: right;\">\n",
       "      <th></th>\n",
       "      <th>bairro</th>\n",
       "      <th>teste_normalidade</th>\n",
       "      <th>desvio_padrao</th>\n",
       "      <th>Total Imoveis</th>\n",
       "    </tr>\n",
       "  </thead>\n",
       "  <tbody>\n",
       "    <tr>\n",
       "      <th>82</th>\n",
       "      <td>Centro</td>\n",
       "      <td>True</td>\n",
       "      <td>223344.46</td>\n",
       "      <td>736</td>\n",
       "    </tr>\n",
       "  </tbody>\n",
       "</table>\n",
       "</div>"
      ],
      "text/plain": [
       "    bairro  teste_normalidade  desvio_padrao  Total Imoveis\n",
       "82  Centro               True      223344.46            736"
      ]
     },
     "execution_count": 80,
     "metadata": {},
     "output_type": "execute_result"
    }
   ],
   "source": [
    "df_teste_normalidade.query('bairro==\"Centro\"')"
   ]
  },
  {
   "cell_type": "code",
   "execution_count": 81,
   "metadata": {},
   "outputs": [
    {
     "data": {
      "text/html": [
       "<div>\n",
       "<style scoped>\n",
       "    .dataframe tbody tr th:only-of-type {\n",
       "        vertical-align: middle;\n",
       "    }\n",
       "\n",
       "    .dataframe tbody tr th {\n",
       "        vertical-align: top;\n",
       "    }\n",
       "\n",
       "    .dataframe thead th {\n",
       "        text-align: right;\n",
       "    }\n",
       "</style>\n",
       "<table border=\"1\" class=\"dataframe\">\n",
       "  <thead>\n",
       "    <tr style=\"text-align: right;\">\n",
       "      <th></th>\n",
       "      <th>bairro</th>\n",
       "      <th>teste_normalidade</th>\n",
       "      <th>desvio_padrao</th>\n",
       "      <th>Total Imoveis</th>\n",
       "    </tr>\n",
       "  </thead>\n",
       "  <tbody>\n",
       "    <tr>\n",
       "      <th>0</th>\n",
       "      <td>Ribeirao Verde</td>\n",
       "      <td>True</td>\n",
       "      <td>18415.75</td>\n",
       "      <td>17</td>\n",
       "    </tr>\n",
       "    <tr>\n",
       "      <th>1</th>\n",
       "      <td>Jardim Itaú</td>\n",
       "      <td>False</td>\n",
       "      <td>19039.14</td>\n",
       "      <td>10</td>\n",
       "    </tr>\n",
       "    <tr>\n",
       "      <th>2</th>\n",
       "      <td>Geraldo Correia De Carvalho</td>\n",
       "      <td>False</td>\n",
       "      <td>19094.23</td>\n",
       "      <td>13</td>\n",
       "    </tr>\n",
       "    <tr>\n",
       "      <th>3</th>\n",
       "      <td>Vila Abranches</td>\n",
       "      <td>True</td>\n",
       "      <td>19109.26</td>\n",
       "      <td>11</td>\n",
       "    </tr>\n",
       "    <tr>\n",
       "      <th>4</th>\n",
       "      <td>Jardim José Figueira</td>\n",
       "      <td>False</td>\n",
       "      <td>21737.07</td>\n",
       "      <td>10</td>\n",
       "    </tr>\n",
       "    <tr>\n",
       "      <th>5</th>\n",
       "      <td>Recanto Das Palmeiras</td>\n",
       "      <td>False</td>\n",
       "      <td>22612.05</td>\n",
       "      <td>8</td>\n",
       "    </tr>\n",
       "    <tr>\n",
       "      <th>6</th>\n",
       "      <td>Jardim Florestan Fernandes</td>\n",
       "      <td>True</td>\n",
       "      <td>24058.96</td>\n",
       "      <td>28</td>\n",
       "    </tr>\n",
       "    <tr>\n",
       "      <th>7</th>\n",
       "      <td>Parque Ribeirão Preto</td>\n",
       "      <td>False</td>\n",
       "      <td>24098.35</td>\n",
       "      <td>16</td>\n",
       "    </tr>\n",
       "    <tr>\n",
       "      <th>8</th>\n",
       "      <td>Condominío Chácara Hípica</td>\n",
       "      <td>False</td>\n",
       "      <td>25344.89</td>\n",
       "      <td>11</td>\n",
       "    </tr>\n",
       "    <tr>\n",
       "      <th>9</th>\n",
       "      <td>Jardim Silvio Passalacqua</td>\n",
       "      <td>False</td>\n",
       "      <td>26292.21</td>\n",
       "      <td>27</td>\n",
       "    </tr>\n",
       "  </tbody>\n",
       "</table>\n",
       "</div>"
      ],
      "text/plain": [
       "                        bairro  teste_normalidade  desvio_padrao  \\\n",
       "0               Ribeirao Verde               True       18415.75   \n",
       "1                  Jardim Itaú              False       19039.14   \n",
       "2  Geraldo Correia De Carvalho              False       19094.23   \n",
       "3               Vila Abranches               True       19109.26   \n",
       "4         Jardim José Figueira              False       21737.07   \n",
       "5        Recanto Das Palmeiras              False       22612.05   \n",
       "6   Jardim Florestan Fernandes               True       24058.96   \n",
       "7        Parque Ribeirão Preto              False       24098.35   \n",
       "8    Condominío Chácara Hípica              False       25344.89   \n",
       "9    Jardim Silvio Passalacqua              False       26292.21   \n",
       "\n",
       "   Total Imoveis  \n",
       "0             17  \n",
       "1             10  \n",
       "2             13  \n",
       "3             11  \n",
       "4             10  \n",
       "5              8  \n",
       "6             28  \n",
       "7             16  \n",
       "8             11  \n",
       "9             27  "
      ]
     },
     "execution_count": 81,
     "metadata": {},
     "output_type": "execute_result"
    }
   ],
   "source": [
    "df_teste_normalidade.nsmallest(10, columns=['desvio_padrao'])"
   ]
  },
  {
   "cell_type": "code",
   "execution_count": 82,
   "metadata": {},
   "outputs": [],
   "source": [
    "base_original_completa = obter_resumo(tipo_imovel='Apartamento')\n",
    "dados_sumarezinho = base_original_completa.query(\n",
    "    'bairro_teste == \"Sumarezinho\"')\n",
    "dados_centro = base_original_completa.query(\n",
    "    'bairro_teste == \"Centro\"')\n",
    "dados_jardim_nova_alianca_sul = base_original_completa.query(\n",
    "    'bairro_teste == \"Jardim Nova Aliança Sul\"')"
   ]
  },
  {
   "cell_type": "code",
   "execution_count": 83,
   "metadata": {},
   "outputs": [
    {
     "data": {
      "image/png": "[encoded data removed]",
      "text/plain": [
       "<Figure size 2000x800 with 3 Axes>"
      ]
     },
     "metadata": {},
     "output_type": "display_data"
    }
   ],
   "source": [
    "fig, axs = plt.subplots(1, 3, figsize=(20, 8))\n",
    "sns.kdeplot(data=dados_centro, x='preco', ax=axs[0])\n",
    "axs[0].set_title('Distribuição de Preços no Bairro Centro')\n",
    "sns.kdeplot(data=dados_sumarezinho, x='preco', ax=axs[1])\n",
    "axs[1].set_title('Distribuição de Preços no Bairro Sumarezinho')\n",
    "sns.kdeplot(data=dados_jardim_nova_alianca_sul, x='preco', ax=axs[2])\n",
    "axs[2].set_title('Distribuição de Preços no Bairro Jardim Nova Aliacao Sul')\n",
    "plt.tight_layout()\n",
    "plt.savefig('../fig/distribuicao_precos_bairro.png')"
   ]
  },
  {
   "cell_type": "code",
   "execution_count": 84,
   "metadata": {},
   "outputs": [
    {
     "data": {
      "image/png": "[encoded data removed]",
      "text/plain": [
       "<Figure size 640x480 with 1 Axes>"
      ]
     },
     "metadata": {},
     "output_type": "display_data"
    }
   ],
   "source": [
    "ax = sns.kdeplot(data=dados_centro, x='preco')\n",
    "ax.set_title('Distribuição de Preços no Centro')\n",
    "ax.set_ylabel(None)\n",
    "plt.savefig('distribuicao_precos_centro.png')"
   ]
  },
  {
   "cell_type": "code",
   "execution_count": 85,
   "metadata": {},
   "outputs": [
    {
     "data": {
      "text/plain": [
       "Text(0, 0.5, '')"
      ]
     },
     "execution_count": 85,
     "metadata": {},
     "output_type": "execute_result"
    },
    {
     "data": {
      "image/png": "[encoded data removed]",
      "text/plain": [
       "<Figure size 640x480 with 1 Axes>"
      ]
     },
     "metadata": {},
     "output_type": "display_data"
    }
   ],
   "source": [
    "ax = sns.kdeplot(dados_sumarezinho, x='preco')\n",
    "ax.set_title('Distribuição de Preços no Bairro Sumarezinho')\n",
    "ax.set_ylabel(None)"
   ]
  },
  {
   "cell_type": "code",
   "execution_count": 86,
   "metadata": {},
   "outputs": [
    {
     "data": {
      "text/html": [
       "<div>\n",
       "<style scoped>\n",
       "    .dataframe tbody tr th:only-of-type {\n",
       "        vertical-align: middle;\n",
       "    }\n",
       "\n",
       "    .dataframe tbody tr th {\n",
       "        vertical-align: top;\n",
       "    }\n",
       "\n",
       "    .dataframe thead th {\n",
       "        text-align: right;\n",
       "    }\n",
       "</style>\n",
       "<table border=\"1\" class=\"dataframe\">\n",
       "  <thead>\n",
       "    <tr style=\"text-align: right;\">\n",
       "      <th></th>\n",
       "      <th>tipo_imovel</th>\n",
       "      <th>nome</th>\n",
       "      <th>preco</th>\n",
       "      <th>metragem</th>\n",
       "      <th>quarto</th>\n",
       "      <th>banheiro</th>\n",
       "      <th>garagem</th>\n",
       "      <th>ID_CASA</th>\n",
       "      <th>bairro_teste</th>\n",
       "    </tr>\n",
       "  </thead>\n",
       "  <tbody>\n",
       "    <tr>\n",
       "      <th>0</th>\n",
       "      <td>Apartamento</td>\n",
       "      <td>Apartamento com 2 Quartos à Venda, 65m²</td>\n",
       "      <td>310000.00</td>\n",
       "      <td>65</td>\n",
       "      <td>2</td>\n",
       "      <td>2</td>\n",
       "      <td>1</td>\n",
       "      <td>2699716579</td>\n",
       "      <td>Jardim Botânico</td>\n",
       "    </tr>\n",
       "    <tr>\n",
       "      <th>2</th>\n",
       "      <td>Apartamento</td>\n",
       "      <td>Apartamento com 2 Quartos à Venda, 71m²</td>\n",
       "      <td>403500.00</td>\n",
       "      <td>71</td>\n",
       "      <td>2</td>\n",
       "      <td>2</td>\n",
       "      <td>2</td>\n",
       "      <td>2690493538</td>\n",
       "      <td>Bonfim Paulista</td>\n",
       "    </tr>\n",
       "    <tr>\n",
       "      <th>3</th>\n",
       "      <td>Apartamento</td>\n",
       "      <td>Apartamento com 2 Quartos à Venda, 54m²</td>\n",
       "      <td>290000.00</td>\n",
       "      <td>54</td>\n",
       "      <td>2</td>\n",
       "      <td>2</td>\n",
       "      <td>1</td>\n",
       "      <td>2667652105</td>\n",
       "      <td>Nova Aliança</td>\n",
       "    </tr>\n",
       "    <tr>\n",
       "      <th>4</th>\n",
       "      <td>Apartamento</td>\n",
       "      <td>Apartamento com 2 Quartos à Venda, 45m²</td>\n",
       "      <td>166420.00</td>\n",
       "      <td>45</td>\n",
       "      <td>2</td>\n",
       "      <td>1</td>\n",
       "      <td>1</td>\n",
       "      <td>2682840782</td>\n",
       "      <td>Conjunto Habitacional Jardim Das Palmeiras</td>\n",
       "    </tr>\n",
       "    <tr>\n",
       "      <th>5</th>\n",
       "      <td>Apartamento</td>\n",
       "      <td>Apartamento com 2 Quartos à Venda, 64m²</td>\n",
       "      <td>370000.00</td>\n",
       "      <td>64</td>\n",
       "      <td>2</td>\n",
       "      <td>2</td>\n",
       "      <td>2</td>\n",
       "      <td>2688027260</td>\n",
       "      <td>Vila Ana Maria</td>\n",
       "    </tr>\n",
       "    <tr>\n",
       "      <th>...</th>\n",
       "      <td>...</td>\n",
       "      <td>...</td>\n",
       "      <td>...</td>\n",
       "      <td>...</td>\n",
       "      <td>...</td>\n",
       "      <td>...</td>\n",
       "      <td>...</td>\n",
       "      <td>...</td>\n",
       "      <td>...</td>\n",
       "    </tr>\n",
       "    <tr>\n",
       "      <th>9967</th>\n",
       "      <td>Apartamento</td>\n",
       "      <td>Apartamento com 3 Quartos à Venda, 81m²</td>\n",
       "      <td>540000.00</td>\n",
       "      <td>81</td>\n",
       "      <td>3</td>\n",
       "      <td>2</td>\n",
       "      <td>2</td>\n",
       "      <td>2696267182</td>\n",
       "      <td>Vila Do Golf</td>\n",
       "    </tr>\n",
       "    <tr>\n",
       "      <th>9968</th>\n",
       "      <td>Apartamento</td>\n",
       "      <td>Apartamento com Quarto à Venda, 61m²</td>\n",
       "      <td>280000.00</td>\n",
       "      <td>61</td>\n",
       "      <td>1</td>\n",
       "      <td>1</td>\n",
       "      <td>1</td>\n",
       "      <td>2476716299</td>\n",
       "      <td>Centro</td>\n",
       "    </tr>\n",
       "    <tr>\n",
       "      <th>9969</th>\n",
       "      <td>Apartamento</td>\n",
       "      <td>Apartamento com 3 Quartos à Venda, 83m²</td>\n",
       "      <td>375000.00</td>\n",
       "      <td>83</td>\n",
       "      <td>3</td>\n",
       "      <td>3</td>\n",
       "      <td>2</td>\n",
       "      <td>2693112449</td>\n",
       "      <td>Jardim São Luiz</td>\n",
       "    </tr>\n",
       "    <tr>\n",
       "      <th>9970</th>\n",
       "      <td>Apartamento</td>\n",
       "      <td>Apartamento com 2 Quartos à Venda, 48m²</td>\n",
       "      <td>175000.00</td>\n",
       "      <td>48</td>\n",
       "      <td>2</td>\n",
       "      <td>1</td>\n",
       "      <td>1</td>\n",
       "      <td>2572455642</td>\n",
       "      <td>Lagoinha</td>\n",
       "    </tr>\n",
       "    <tr>\n",
       "      <th>9971</th>\n",
       "      <td>Apartamento</td>\n",
       "      <td>Apartamento com 3 Quartos à Venda, 120m²</td>\n",
       "      <td>394000.00</td>\n",
       "      <td>120</td>\n",
       "      <td>3</td>\n",
       "      <td>3</td>\n",
       "      <td>1</td>\n",
       "      <td>2523506081</td>\n",
       "      <td>Centro</td>\n",
       "    </tr>\n",
       "  </tbody>\n",
       "</table>\n",
       "<p>8395 rows × 9 columns</p>\n",
       "</div>"
      ],
      "text/plain": [
       "      tipo_imovel                                      nome     preco  \\\n",
       "0     Apartamento   Apartamento com 2 Quartos à Venda, 65m² 310000.00   \n",
       "2     Apartamento   Apartamento com 2 Quartos à Venda, 71m² 403500.00   \n",
       "3     Apartamento   Apartamento com 2 Quartos à Venda, 54m² 290000.00   \n",
       "4     Apartamento   Apartamento com 2 Quartos à Venda, 45m² 166420.00   \n",
       "5     Apartamento   Apartamento com 2 Quartos à Venda, 64m² 370000.00   \n",
       "...           ...                                       ...       ...   \n",
       "9967  Apartamento   Apartamento com 3 Quartos à Venda, 81m² 540000.00   \n",
       "9968  Apartamento      Apartamento com Quarto à Venda, 61m² 280000.00   \n",
       "9969  Apartamento   Apartamento com 3 Quartos à Venda, 83m² 375000.00   \n",
       "9970  Apartamento   Apartamento com 2 Quartos à Venda, 48m² 175000.00   \n",
       "9971  Apartamento  Apartamento com 3 Quartos à Venda, 120m² 394000.00   \n",
       "\n",
       "      metragem  quarto  banheiro  garagem     ID_CASA  \\\n",
       "0           65       2         2        1  2699716579   \n",
       "2           71       2         2        2  2690493538   \n",
       "3           54       2         2        1  2667652105   \n",
       "4           45       2         1        1  2682840782   \n",
       "5           64       2         2        2  2688027260   \n",
       "...        ...     ...       ...      ...         ...   \n",
       "9967        81       3         2        2  2696267182   \n",
       "9968        61       1         1        1  2476716299   \n",
       "9969        83       3         3        2  2693112449   \n",
       "9970        48       2         1        1  2572455642   \n",
       "9971       120       3         3        1  2523506081   \n",
       "\n",
       "                                    bairro_teste  \n",
       "0                                Jardim Botânico  \n",
       "2                                Bonfim Paulista  \n",
       "3                                   Nova Aliança  \n",
       "4     Conjunto Habitacional Jardim Das Palmeiras  \n",
       "5                                 Vila Ana Maria  \n",
       "...                                          ...  \n",
       "9967                                Vila Do Golf  \n",
       "9968                                      Centro  \n",
       "9969                             Jardim São Luiz  \n",
       "9970                                    Lagoinha  \n",
       "9971                                      Centro  \n",
       "\n",
       "[8395 rows x 9 columns]"
      ]
     },
     "execution_count": 86,
     "metadata": {},
     "output_type": "execute_result"
    }
   ],
   "source": [
    "base_original"
   ]
  },
  {
   "cell_type": "markdown",
   "metadata": {},
   "source": [
    "- Estatística Base"
   ]
  },
  {
   "cell_type": "code",
   "execution_count": 87,
   "metadata": {},
   "outputs": [
    {
     "data": {
      "text/html": [
       "<div>\n",
       "<style scoped>\n",
       "    .dataframe tbody tr th:only-of-type {\n",
       "        vertical-align: middle;\n",
       "    }\n",
       "\n",
       "    .dataframe tbody tr th {\n",
       "        vertical-align: top;\n",
       "    }\n",
       "\n",
       "    .dataframe thead th {\n",
       "        text-align: right;\n",
       "    }\n",
       "</style>\n",
       "<table border=\"1\" class=\"dataframe\">\n",
       "  <thead>\n",
       "    <tr style=\"text-align: right;\">\n",
       "      <th></th>\n",
       "      <th>bairro</th>\n",
       "      <th>media_preco</th>\n",
       "      <th>mediana_preco</th>\n",
       "      <th>moda</th>\n",
       "      <th>desvio_padrao</th>\n",
       "      <th>total_imoveis</th>\n",
       "      <th>coeficiente_variacao</th>\n",
       "    </tr>\n",
       "  </thead>\n",
       "  <tbody>\n",
       "    <tr>\n",
       "      <th>0</th>\n",
       "      <td>Centro</td>\n",
       "      <td>402076.73</td>\n",
       "      <td>360000.00</td>\n",
       "      <td>450000.00</td>\n",
       "      <td>223344.46</td>\n",
       "      <td>736</td>\n",
       "      <td>55.55</td>\n",
       "    </tr>\n",
       "    <tr>\n",
       "      <th>1</th>\n",
       "      <td>Sumarezinho</td>\n",
       "      <td>245524.66</td>\n",
       "      <td>230000.00</td>\n",
       "      <td>170000.00</td>\n",
       "      <td>72993.17</td>\n",
       "      <td>118</td>\n",
       "      <td>29.73</td>\n",
       "    </tr>\n",
       "    <tr>\n",
       "      <th>2</th>\n",
       "      <td>Jardim Nova Aliança Sul</td>\n",
       "      <td>503976.55</td>\n",
       "      <td>480000.00</td>\n",
       "      <td>380000.00</td>\n",
       "      <td>175128.32</td>\n",
       "      <td>53</td>\n",
       "      <td>34.75</td>\n",
       "    </tr>\n",
       "  </tbody>\n",
       "</table>\n",
       "</div>"
      ],
      "text/plain": [
       "                    bairro  media_preco  mediana_preco      moda  \\\n",
       "0                   Centro    402076.73      360000.00 450000.00   \n",
       "1              Sumarezinho    245524.66      230000.00 170000.00   \n",
       "2  Jardim Nova Aliança Sul    503976.55      480000.00 380000.00   \n",
       "\n",
       "   desvio_padrao  total_imoveis  coeficiente_variacao  \n",
       "0      223344.46            736                 55.55  \n",
       "1       72993.17            118                 29.73  \n",
       "2      175128.32             53                 34.75  "
      ]
     },
     "execution_count": 87,
     "metadata": {},
     "output_type": "execute_result"
    }
   ],
   "source": [
    "obter_estatistica(bairros=['Centro', 'Sumarezinho', 'Jardim Nova Aliança Sul'], base_original_completa=base_original)"
   ]
  },
  {
   "cell_type": "markdown",
   "metadata": {},
   "source": [
    " - Teste de hipótese"
   ]
  },
  {
   "cell_type": "markdown",
   "metadata": {},
   "source": [
    "<ul>\n",
    "    <li>u1: Média dos imóveis do bairro sumarezinho </li>\n",
    "    <li>u2: Média dos imóveis do bairro Centro </li>\n",
    "    <li>H0: u1 <= u2</li>\n",
    "    <li>H1: u1 > u2 XXX</li>\n",
    "<ul>"
   ]
  },
  {
   "cell_type": "code",
   "execution_count": 88,
   "metadata": {},
   "outputs": [],
   "source": [
    "significancia = 0.01\n",
    "confianca = 1 - significancia"
   ]
  },
  {
   "cell_type": "code",
   "execution_count": 89,
   "metadata": {},
   "outputs": [],
   "source": [
    "from sklearn.model_selection import StratifiedShuffleSplit"
   ]
  },
  {
   "cell_type": "code",
   "execution_count": 90,
   "metadata": {},
   "outputs": [],
   "source": [
    "def obter_numero_classe(dataframe: pd.DataFrame):\n",
    "    n = dataframe.shape[0]\n",
    "\n",
    "\n",
    "    k = 1 + (10 / 3) * np.log10(n)\n",
    "    k = int(k.round(0))\n",
    "\n",
    "    return k"
   ]
  },
  {
   "cell_type": "code",
   "execution_count": 91,
   "metadata": {},
   "outputs": [
    {
     "data": {
      "text/plain": [
       "<Axes: xlabel='preco', ylabel='Count'>"
      ]
     },
     "execution_count": 91,
     "metadata": {},
     "output_type": "execute_result"
    },
    {
     "data": {
      "image/png": "[encoded data removed]",
      "text/plain": [
       "<Figure size 640x480 with 1 Axes>"
      ]
     },
     "metadata": {},
     "output_type": "display_data"
    }
   ],
   "source": [
    "\n",
    "k = obter_numero_classe(dados_sumarezinho)\n",
    "sns.histplot(data=dados_sumarezinho, x='preco', kde=True)"
   ]
  },
  {
   "cell_type": "code",
   "execution_count": 92,
   "metadata": {},
   "outputs": [
    {
     "data": {
      "text/plain": [
       "<Axes: xlabel='preco', ylabel='Count'>"
      ]
     },
     "execution_count": 92,
     "metadata": {},
     "output_type": "execute_result"
    },
    {
     "data": {
      "image/png": "[encoded data removed]",
      "text/plain": [
       "<Figure size 640x480 with 1 Axes>"
      ]
     },
     "metadata": {},
     "output_type": "display_data"
    }
   ],
   "source": [
    "sns.histplot(data=dados_centro, x='preco', kde=True)"
   ]
  },
  {
   "cell_type": "code",
   "execution_count": 93,
   "metadata": {},
   "outputs": [
    {
     "data": {
      "text/plain": [
       "<Axes: xlabel='preco', ylabel='Count'>"
      ]
     },
     "execution_count": 93,
     "metadata": {},
     "output_type": "execute_result"
    },
    {
     "data": {
      "image/png": "[encoded data removed]",
      "text/plain": [
       "<Figure size 640x480 with 1 Axes>"
      ]
     },
     "metadata": {},
     "output_type": "display_data"
    }
   ],
   "source": [
    "\n",
    "k = obter_numero_classe(dados_centro)\n",
    "sns.histplot(data=dados_centro, x='preco', bins=50, kde=True)"
   ]
  },
  {
   "cell_type": "code",
   "execution_count": 95,
   "metadata": {},
   "outputs": [],
   "source": [
    "dados_sumarezinho = base_original_completa.query(\n",
    "    'bairro_teste == \"Sumarezinho\"').preco\n",
    "dados_centro = base_original_completa.query(\n",
    "    'bairro_teste == \"Centro\"').preco"
   ]
  },
  {
   "cell_type": "markdown",
   "metadata": {},
   "source": [
    "- Fórmula manual"
   ]
  },
  {
   "cell_type": "code",
   "execution_count": 96,
   "metadata": {},
   "outputs": [
    {
     "data": {
      "text/plain": [
       "False"
      ]
     },
     "execution_count": 96,
     "metadata": {},
     "output_type": "execute_result"
    }
   ],
   "source": [
    "media_sum = dados_sumarezinho.mean()\n",
    "des_sum = dados_sumarezinho.std()\n",
    "media_cen = dados_centro.mean()\n",
    "des_cen = dados_centro.std()\n",
    "significancia = 0.01\n",
    "confianca = 1 - significancia\n",
    "n_sum = len(dados_sumarezinho)\n",
    "n_cen = len(dados_centro)\n",
    "D_0 = 0\n",
    "probabilidade = confianca\n",
    "probabilidade\n",
    "z_alpha = norm.ppf(probabilidade)\n",
    "z_alpha.round(2)\n",
    "numerador = (media_sum - media_cen) - D_0\n",
    "denominador = np.sqrt((des_sum ** 2 / n_sum) +\n",
    "                      (des_cen ** 2 / n_cen))\n",
    "z = numerador / denominador\n",
    "\n",
    "z >= z_alpha"
   ]
  },
  {
   "cell_type": "markdown",
   "metadata": {},
   "source": [
    "- Com biblioteca"
   ]
  },
  {
   "cell_type": "code",
   "execution_count": 98,
   "metadata": {},
   "outputs": [
    {
     "data": {
      "text/plain": [
       "False"
      ]
     },
     "execution_count": 98,
     "metadata": {},
     "output_type": "execute_result"
    }
   ],
   "source": [
    "from statsmodels.stats.weightstats import DescrStatsW, CompareMeans\n",
    "test_sumarezinho = DescrStatsW(dados_sumarezinho)\n",
    "test_centro = DescrStatsW(dados_centro)\n",
    "test_a = test_sumarezinho.get_compare(test_centro)\n",
    "test_a.ztest_ind(alternative='larger', value=0)\n",
    "z, p_valor = test_a.ztest_ind(alternative='larger', value=0)\n",
    "p_valor <= significancia"
   ]
  },
  {
   "cell_type": "markdown",
   "metadata": {},
   "source": [
    "-  Teste de shapiro-wilk"
   ]
  },
  {
   "cell_type": "code",
   "execution_count": null,
   "metadata": {},
   "outputs": [],
   "source": [
    "from scipy import stats"
   ]
  },
  {
   "cell_type": "code",
   "execution_count": null,
   "metadata": {},
   "outputs": [
    {
     "data": {
      "text/plain": [
       "2.5383620915016895e-07"
      ]
     },
     "execution_count": 133,
     "metadata": {},
     "output_type": "execute_result"
    }
   ],
   "source": [
    "resultado = stats.shapiro(dados_sumarezinho)\n",
    "resultado.pvalue"
   ]
  },
  {
   "cell_type": "markdown",
   "metadata": {},
   "source": [
    "- Intervalo de confiança"
   ]
  },
  {
   "cell_type": "code",
   "execution_count": 96,
   "metadata": {},
   "outputs": [],
   "source": [
    "from statsmodels.stats.weightstats import DescrStatsW, zconfint"
   ]
  },
  {
   "cell_type": "code",
   "execution_count": 98,
   "metadata": {},
   "outputs": [
    {
     "data": {
      "text/plain": [
       "(385941.15378833277, 418212.2972986238)"
      ]
     },
     "execution_count": 98,
     "metadata": {},
     "output_type": "execute_result"
    }
   ],
   "source": [
    "zconfint(dados_centro.preco)"
   ]
  },
  {
   "cell_type": "code",
   "execution_count": null,
   "metadata": {},
   "outputs": [
    {
     "name": "stdout",
     "output_type": "stream",
     "text": [
      "Média: 402077  Desvio padrão: 223344\n",
      "Intervalo de confiança: 385915 - 418239\n"
     ]
    }
   ],
   "source": [
    "import numpy as np\n",
    "from scipy.stats import t\n",
    "\n",
    "conf_level = 0.95\n",
    "media = dados_centro['preco'].mean()\n",
    "std = dados_centro['preco'].std()\n",
    "n = dados_centro.shape[0]\n",
    "grausLiberdade = n - 1\n",
    "t_value = t.ppf((1 + conf_level) / 2, grausLiberdade)\n",
    "inf = media - t_value * std / np.sqrt(n)\n",
    "sup = media + t_value * std / np.sqrt(n)\n",
    "print('Média:', round(media), ' Desvio padrão:', round(std))\n",
    "# Imprime o intervalo de confiança para a média\n",
    "print('Intervalo de confiança:', round(inf), '-', round(sup))"
   ]
  },
  {
   "cell_type": "code",
   "execution_count": 93,
   "metadata": {},
   "outputs": [
    {
     "name": "stdout",
     "output_type": "stream",
     "text": [
      "Média: 402077  Desvio padrão: 223344\n",
      "Intervalo de confiança: 385915 - 418239\n"
     ]
    }
   ],
   "source": [
    "obter_intervalo_confianca(dados_centro)"
   ]
  },
  {
   "cell_type": "code",
   "execution_count": 94,
   "metadata": {},
   "outputs": [
    {
     "name": "stdout",
     "output_type": "stream",
     "text": [
      "Média: 245525  Desvio padrão: 72993\n",
      "Intervalo de confiança: 232217 - 258832\n"
     ]
    }
   ],
   "source": [
    "obter_intervalo_confianca(dados_sumarezinho)"
   ]
  },
  {
   "cell_type": "markdown",
   "metadata": {},
   "source": [
    "# Análise quartos"
   ]
  },
  {
   "cell_type": "code",
   "execution_count": null,
   "metadata": {},
   "outputs": [],
   "source": [
    "base_original_bairro = base_original_completa.query(\n",
    "    'bairro_teste == \"Centro\"')"
   ]
  },
  {
   "cell_type": "code",
   "execution_count": null,
   "metadata": {},
   "outputs": [
    {
     "data": {
      "text/plain": [
       "Index(['tipo_imovel', 'nome', 'preco', 'metragem', 'quarto', 'banheiro',\n",
       "       'garagem', 'ID_CASA', 'bairro_teste'],\n",
       "      dtype='object')"
      ]
     },
     "execution_count": 178,
     "metadata": {},
     "output_type": "execute_result"
    }
   ],
   "source": [
    "base_original_bairro.columns"
   ]
  },
  {
   "cell_type": "code",
   "execution_count": null,
   "metadata": {},
   "outputs": [
    {
     "data": {
      "text/plain": [
       "quarto\n",
       "1    103\n",
       "Name: count, dtype: int64"
      ]
     },
     "execution_count": 179,
     "metadata": {},
     "output_type": "execute_result"
    }
   ],
   "source": [
    "base_original_bairro.quarto.value_counts()"
   ]
  },
  {
   "cell_type": "code",
   "execution_count": null,
   "metadata": {},
   "outputs": [
    {
     "name": "stdout",
     "output_type": "stream",
     "text": [
      " 3 -> Quarto\n",
      "Média preço:  430715.6\n",
      "Mediana Preço: 400000.0\n",
      "Moda:  450000.0\n",
      "Desvio Padrão,  142146.07\n",
      "Total Imóveis 402\n",
      "====================\n",
      " 2 -> Quarto\n",
      "Média preço:  299715.14\n",
      "Mediana Preço: 300000.0\n",
      "Moda:  320000.0\n",
      "Desvio Padrão,  85219.98\n",
      "Total Imóveis 165\n",
      "====================\n",
      " 1 -> Quarto\n",
      "Média preço:  226877.68\n",
      "Mediana Preço: 190000.0\n",
      "Moda:  170000.0\n",
      "Desvio Padrão,  295232.18\n",
      "Total Imóveis 103\n",
      "====================\n",
      " 4 -> Quarto\n",
      "Média preço:  745459.38\n",
      "Mediana Preço: 690000.0\n",
      "Moda:  800000.0\n",
      "Desvio Padrão,  271143.61\n",
      "Total Imóveis 64\n",
      "====================\n",
      " 5 -> Quarto\n",
      "Média preço:  1125000.0\n",
      "Mediana Preço: 1125000.0\n",
      "Moda:  990000.0\n",
      "Desvio Padrão,  190918.83\n",
      "Total Imóveis 2\n",
      "====================\n"
     ]
    }
   ],
   "source": [
    "for quarto in base_original_bairro['quarto'].unique():\n",
    "    print(f' {quarto} -> Quarto')\n",
    "    base_temp = base_original_bairro.query(f'quarto == {quarto}')\n",
    "    obter_estatistica(base_temp)\n",
    "    print('=' * 20)"
   ]
  },
  {
   "cell_type": "code",
   "execution_count": null,
   "metadata": {},
   "outputs": [
    {
     "name": "stdout",
     "output_type": "stream",
     "text": [
      "Média: 402077  Desvio padrão: 223344\n",
      "Intervalo de confiança: 385915 - 418239\n"
     ]
    }
   ],
   "source": [
    "obter_intervalo_confianca(base_original_bairro)"
   ]
  },
  {
   "cell_type": "code",
   "execution_count": null,
   "metadata": {},
   "outputs": [
    {
     "data": {
      "text/html": [
       "<div>\n",
       "<style scoped>\n",
       "    .dataframe tbody tr th:only-of-type {\n",
       "        vertical-align: middle;\n",
       "    }\n",
       "\n",
       "    .dataframe tbody tr th {\n",
       "        vertical-align: top;\n",
       "    }\n",
       "\n",
       "    .dataframe thead th {\n",
       "        text-align: right;\n",
       "    }\n",
       "</style>\n",
       "<table border=\"1\" class=\"dataframe\">\n",
       "  <thead>\n",
       "    <tr style=\"text-align: right;\">\n",
       "      <th></th>\n",
       "      <th>bairro</th>\n",
       "      <th>media_preco</th>\n",
       "      <th>mediana_preco</th>\n",
       "      <th>moda</th>\n",
       "      <th>desvio_padrao</th>\n",
       "      <th>total_imoveis</th>\n",
       "    </tr>\n",
       "  </thead>\n",
       "  <tbody>\n",
       "    <tr>\n",
       "      <th>0</th>\n",
       "      <td>Sumarezinho</td>\n",
       "      <td>245524.66</td>\n",
       "      <td>230000.00</td>\n",
       "      <td>170000.00</td>\n",
       "      <td>72993.17</td>\n",
       "      <td>118</td>\n",
       "    </tr>\n",
       "    <tr>\n",
       "      <th>1</th>\n",
       "      <td>Centro</td>\n",
       "      <td>402076.73</td>\n",
       "      <td>360000.00</td>\n",
       "      <td>450000.00</td>\n",
       "      <td>223344.46</td>\n",
       "      <td>736</td>\n",
       "    </tr>\n",
       "  </tbody>\n",
       "</table>\n",
       "</div>"
      ],
      "text/plain": [
       "        bairro  media_preco  mediana_preco      moda  desvio_padrao  \\\n",
       "0  Sumarezinho    245524.66      230000.00 170000.00       72993.17   \n",
       "1       Centro    402076.73      360000.00 450000.00      223344.46   \n",
       "\n",
       "   total_imoveis  \n",
       "0            118  \n",
       "1            736  "
      ]
     },
     "execution_count": 41,
     "metadata": {},
     "output_type": "execute_result"
    }
   ],
   "source": [
    "obter_estatistica(bairros=['Sumarezinho', 'Centro'], base_original_completa=base_original_completa)"
   ]
  },
  {
   "cell_type": "markdown",
   "metadata": {},
   "source": [
    "# Teste de Normalidade"
   ]
  },
  {
   "cell_type": "code",
   "execution_count": 99,
   "metadata": {},
   "outputs": [],
   "source": [
    "significancia = 0.05"
   ]
  },
  {
   "cell_type": "code",
   "execution_count": 100,
   "metadata": {},
   "outputs": [],
   "source": [
    "stat_test, p_valor = normaltest(dados_centro.preco)"
   ]
  },
  {
   "cell_type": "code",
   "execution_count": 101,
   "metadata": {},
   "outputs": [
    {
     "data": {
      "text/plain": [
       "True"
      ]
     },
     "execution_count": 101,
     "metadata": {},
     "output_type": "execute_result"
    }
   ],
   "source": [
    "p_valor <= significancia"
   ]
  },
  {
   "cell_type": "code",
   "execution_count": 107,
   "metadata": {},
   "outputs": [
    {
     "data": {
      "text/plain": [
       "<Axes: xlabel='preco', ylabel='Count'>"
      ]
     },
     "execution_count": 107,
     "metadata": {},
     "output_type": "execute_result"
    },
    {
     "data": {
      "image/png": "[encoded data removed]",
      "text/plain": [
       "<Figure size 640x480 with 1 Axes>"
      ]
     },
     "metadata": {},
     "output_type": "display_data"
    }
   ],
   "source": [
    "sns.histplot(dados_centro, x='preco', kde=True)"
   ]
  },
  {
   "cell_type": "code",
   "execution_count": 109,
   "metadata": {},
   "outputs": [
    {
     "data": {
      "text/plain": [
       "<Axes: xlabel='preco', ylabel='Count'>"
      ]
     },
     "execution_count": 109,
     "metadata": {},
     "output_type": "execute_result"
    },
    {
     "data": {
      "image/png": "[encoded data removed]",
      "text/plain": [
       "<Figure size 640x480 with 1 Axes>"
      ]
     },
     "metadata": {},
     "output_type": "display_data"
    }
   ],
   "source": [
    "sns.histplot(dados_sumarezinho, x='preco', kde=True)"
   ]
  },
  {
   "cell_type": "markdown",
   "metadata": {},
   "source": [
    "<p>Rejeitar H0: A amostra é de uma distribuição normal</p>"
   ]
  },
  {
   "cell_type": "code",
   "execution_count": 104,
   "metadata": {},
   "outputs": [],
   "source": [
    "stat_test, p_valor = normaltest(dados_sumarezinho.preco)"
   ]
  },
  {
   "cell_type": "code",
   "execution_count": 103,
   "metadata": {},
   "outputs": [
    {
     "data": {
      "text/plain": [
       "True"
      ]
     },
     "execution_count": 103,
     "metadata": {},
     "output_type": "execute_result"
    }
   ],
   "source": [
    "p_valor <= significancia"
   ]
  },
  {
   "cell_type": "code",
   "execution_count": 110,
   "metadata": {},
   "outputs": [
    {
     "data": {
      "text/plain": [
       "<Axes: xlabel='preco', ylabel='Count'>"
      ]
     },
     "execution_count": 110,
     "metadata": {},
     "output_type": "execute_result"
    },
    {
     "data": {
      "image/png": "[encoded data removed]",
      "text/plain": [
       "<Figure size 640x480 with 1 Axes>"
      ]
     },
     "metadata": {},
     "output_type": "display_data"
    }
   ],
   "source": [
    "sns.histplot(dados_sumarezinho, x='preco', kde=True)"
   ]
  },
  {
   "cell_type": "markdown",
   "metadata": {},
   "source": [
    "<p>Rejeitar H0: A amostra é de uma distribuição normal</p>"
   ]
  }
 ],
 "metadata": {
  "kernelspec": {
   "display_name": "venv",
   "language": "python",
   "name": "python3"
  },
  "language_info": {
   "codemirror_mode": {
    "name": "ipython",
    "version": 3
   },
   "file_extension": ".py",
   "mimetype": "text/x-python",
   "name": "python",
   "nbconvert_exporter": "python",
   "pygments_lexer": "ipython3",
   "version": "3.11.8"
  }
 },
 "nbformat": 4,
 "nbformat_minor": 2
}
