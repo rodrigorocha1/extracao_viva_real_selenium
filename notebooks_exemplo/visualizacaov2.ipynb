{
 "cells": [
  {
   "cell_type": "markdown",
   "metadata": {},
   "source": [
    "# Importação das bibliotecas"
   ]
  },
  {
   "cell_type": "code",
   "execution_count": 39,
   "metadata": {},
   "outputs": [],
   "source": [
    "from scipy.stats import t\n",
    "import pandas as pd\n",
    "import seaborn as sns\n",
    "import numpy as np\n",
    "import plotly.express as px\n",
    "from scipy.stats import norm\n",
    "pd.set_option('display.float_format', lambda x: '{:.2f}'.format(x))\n",
    "from typing import List\n",
    "import matplotlib.pyplot as plt\n",
    "import math\n",
    "from scipy.stats import ttest_ind\n"
   ]
  },
  {
   "cell_type": "code",
   "execution_count": 6,
   "metadata": {},
   "outputs": [],
   "source": [
    "def obter_intervalo_confianca(dataframe: pd.DataFrame):    \n",
    "    conf_level = 0.95\n",
    "    media = dataframe['preco'].mean()\n",
    "    std = dataframe['preco'].std()\n",
    "    n = dataframe.shape[0]\n",
    "    grausLiberdade = n - 1\n",
    "    t_value = t.ppf((1 + conf_level) / 2, grausLiberdade)\n",
    "    inf = media - t_value * std / np.sqrt(n)\n",
    "    sup = media + t_value * std / np.sqrt(n)\n",
    "    print('Média:', round(media), ' Desvio padrão:', round(std))\n",
    "    print('Intervalo de confiança:', round(inf), '-', round(sup))"
   ]
  },
  {
   "cell_type": "code",
   "execution_count": 7,
   "metadata": {},
   "outputs": [],
   "source": [
    "def obter_resumo(tipo_imovel: str, bairro: str = None, banheiro: int = None, quartos: int = None) -> pd.DataFrame:\n",
    "    query = f'  tipo_imovel == \"{tipo_imovel}\"'\n",
    "    if bairro is not None:\n",
    "        query += f' and bairro_teste == \"{bairro}\"  '\n",
    "    if banheiro is not None:\n",
    "        query += f' and banheiro == {banheiro} '\n",
    "    if quartos is not None:\n",
    "        query += f' and quarto == {quartos} '\n",
    "    base_original = pd.read_parquet('../data/processed/base_casa.parquet')\n",
    "    base_original = base_original.query(query)\n",
    "    return base_original"
   ]
  },
  {
   "cell_type": "code",
   "execution_count": 8,
   "metadata": {},
   "outputs": [],
   "source": [
    "def obter_estatistica(bairros: List[str], base_original_completa: pd.DataFrame) -> pd.DataFrame:\n",
    "    lista_dados = []\n",
    "    for bairro in bairros:\n",
    "        dados_temp = base_original_completa.query(\n",
    "            f'bairro_teste == \"{bairro}\"')\n",
    "        lista_dados.append(\n",
    "            {\n",
    "                'bairro': bairro,\n",
    "                'media_preco':  round(dados_temp['preco'].mean(), 2),\n",
    "                'mediana_preco':  round(dados_temp['preco'].median(), 2),\n",
    "                'moda': round(dados_temp['preco'].mode()[0], 2),\n",
    "                'desvio_padrao': round(dados_temp['preco'].std(), 2),\n",
    "                'total_imoveis': dados_temp.shape[0],\n",
    "                'coeficiente_variacao': (round(dados_temp['preco'].std(), 2) / round(dados_temp['preco'].mean(), 2)) * 100\n",
    "            }\n",
    "        )\n",
    "    df = pd.DataFrame(lista_dados)\n",
    "    return df\n",
    "  "
   ]
  },
  {
   "cell_type": "markdown",
   "metadata": {},
   "source": [
    "- Preço Geral"
   ]
  },
  {
   "cell_type": "code",
   "execution_count": 9,
   "metadata": {},
   "outputs": [
    {
     "data": {
      "text/html": [
       "<div>\n",
       "<style scoped>\n",
       "    .dataframe tbody tr th:only-of-type {\n",
       "        vertical-align: middle;\n",
       "    }\n",
       "\n",
       "    .dataframe tbody tr th {\n",
       "        vertical-align: top;\n",
       "    }\n",
       "\n",
       "    .dataframe thead th {\n",
       "        text-align: right;\n",
       "    }\n",
       "</style>\n",
       "<table border=\"1\" class=\"dataframe\">\n",
       "  <thead>\n",
       "    <tr style=\"text-align: right;\">\n",
       "      <th></th>\n",
       "      <th>tipo_imovel</th>\n",
       "      <th>nome</th>\n",
       "      <th>preco</th>\n",
       "      <th>metragem</th>\n",
       "      <th>quarto</th>\n",
       "      <th>banheiro</th>\n",
       "      <th>garagem</th>\n",
       "      <th>ID_CASA</th>\n",
       "      <th>bairro_teste</th>\n",
       "    </tr>\n",
       "  </thead>\n",
       "  <tbody>\n",
       "    <tr>\n",
       "      <th>0</th>\n",
       "      <td>Apartamento</td>\n",
       "      <td>Apartamento com 2 Quartos à Venda, 65m²</td>\n",
       "      <td>310000.00</td>\n",
       "      <td>65</td>\n",
       "      <td>2</td>\n",
       "      <td>2</td>\n",
       "      <td>1</td>\n",
       "      <td>2699716579</td>\n",
       "      <td>Jardim Botânico</td>\n",
       "    </tr>\n",
       "    <tr>\n",
       "      <th>2</th>\n",
       "      <td>Apartamento</td>\n",
       "      <td>Apartamento com 2 Quartos à Venda, 71m²</td>\n",
       "      <td>403500.00</td>\n",
       "      <td>71</td>\n",
       "      <td>2</td>\n",
       "      <td>2</td>\n",
       "      <td>2</td>\n",
       "      <td>2690493538</td>\n",
       "      <td>Bonfim Paulista</td>\n",
       "    </tr>\n",
       "    <tr>\n",
       "      <th>3</th>\n",
       "      <td>Apartamento</td>\n",
       "      <td>Apartamento com 2 Quartos à Venda, 54m²</td>\n",
       "      <td>290000.00</td>\n",
       "      <td>54</td>\n",
       "      <td>2</td>\n",
       "      <td>2</td>\n",
       "      <td>1</td>\n",
       "      <td>2667652105</td>\n",
       "      <td>Nova Aliança</td>\n",
       "    </tr>\n",
       "    <tr>\n",
       "      <th>4</th>\n",
       "      <td>Apartamento</td>\n",
       "      <td>Apartamento com 2 Quartos à Venda, 45m²</td>\n",
       "      <td>166420.00</td>\n",
       "      <td>45</td>\n",
       "      <td>2</td>\n",
       "      <td>1</td>\n",
       "      <td>1</td>\n",
       "      <td>2682840782</td>\n",
       "      <td>Conjunto Habitacional Jardim Das Palmeiras</td>\n",
       "    </tr>\n",
       "    <tr>\n",
       "      <th>5</th>\n",
       "      <td>Apartamento</td>\n",
       "      <td>Apartamento com 2 Quartos à Venda, 64m²</td>\n",
       "      <td>370000.00</td>\n",
       "      <td>64</td>\n",
       "      <td>2</td>\n",
       "      <td>2</td>\n",
       "      <td>2</td>\n",
       "      <td>2688027260</td>\n",
       "      <td>Vila Ana Maria</td>\n",
       "    </tr>\n",
       "    <tr>\n",
       "      <th>...</th>\n",
       "      <td>...</td>\n",
       "      <td>...</td>\n",
       "      <td>...</td>\n",
       "      <td>...</td>\n",
       "      <td>...</td>\n",
       "      <td>...</td>\n",
       "      <td>...</td>\n",
       "      <td>...</td>\n",
       "      <td>...</td>\n",
       "    </tr>\n",
       "    <tr>\n",
       "      <th>9967</th>\n",
       "      <td>Apartamento</td>\n",
       "      <td>Apartamento com 3 Quartos à Venda, 81m²</td>\n",
       "      <td>540000.00</td>\n",
       "      <td>81</td>\n",
       "      <td>3</td>\n",
       "      <td>2</td>\n",
       "      <td>2</td>\n",
       "      <td>2696267182</td>\n",
       "      <td>Vila Do Golf</td>\n",
       "    </tr>\n",
       "    <tr>\n",
       "      <th>9968</th>\n",
       "      <td>Apartamento</td>\n",
       "      <td>Apartamento com Quarto à Venda, 61m²</td>\n",
       "      <td>280000.00</td>\n",
       "      <td>61</td>\n",
       "      <td>1</td>\n",
       "      <td>1</td>\n",
       "      <td>1</td>\n",
       "      <td>2476716299</td>\n",
       "      <td>Centro</td>\n",
       "    </tr>\n",
       "    <tr>\n",
       "      <th>9969</th>\n",
       "      <td>Apartamento</td>\n",
       "      <td>Apartamento com 3 Quartos à Venda, 83m²</td>\n",
       "      <td>375000.00</td>\n",
       "      <td>83</td>\n",
       "      <td>3</td>\n",
       "      <td>3</td>\n",
       "      <td>2</td>\n",
       "      <td>2693112449</td>\n",
       "      <td>Jardim São Luiz</td>\n",
       "    </tr>\n",
       "    <tr>\n",
       "      <th>9970</th>\n",
       "      <td>Apartamento</td>\n",
       "      <td>Apartamento com 2 Quartos à Venda, 48m²</td>\n",
       "      <td>175000.00</td>\n",
       "      <td>48</td>\n",
       "      <td>2</td>\n",
       "      <td>1</td>\n",
       "      <td>1</td>\n",
       "      <td>2572455642</td>\n",
       "      <td>Lagoinha</td>\n",
       "    </tr>\n",
       "    <tr>\n",
       "      <th>9971</th>\n",
       "      <td>Apartamento</td>\n",
       "      <td>Apartamento com 3 Quartos à Venda, 120m²</td>\n",
       "      <td>394000.00</td>\n",
       "      <td>120</td>\n",
       "      <td>3</td>\n",
       "      <td>3</td>\n",
       "      <td>1</td>\n",
       "      <td>2523506081</td>\n",
       "      <td>Centro</td>\n",
       "    </tr>\n",
       "  </tbody>\n",
       "</table>\n",
       "<p>9964 rows × 9 columns</p>\n",
       "</div>"
      ],
      "text/plain": [
       "      tipo_imovel                                      nome     preco  \\\n",
       "0     Apartamento   Apartamento com 2 Quartos à Venda, 65m² 310000.00   \n",
       "2     Apartamento   Apartamento com 2 Quartos à Venda, 71m² 403500.00   \n",
       "3     Apartamento   Apartamento com 2 Quartos à Venda, 54m² 290000.00   \n",
       "4     Apartamento   Apartamento com 2 Quartos à Venda, 45m² 166420.00   \n",
       "5     Apartamento   Apartamento com 2 Quartos à Venda, 64m² 370000.00   \n",
       "...           ...                                       ...       ...   \n",
       "9967  Apartamento   Apartamento com 3 Quartos à Venda, 81m² 540000.00   \n",
       "9968  Apartamento      Apartamento com Quarto à Venda, 61m² 280000.00   \n",
       "9969  Apartamento   Apartamento com 3 Quartos à Venda, 83m² 375000.00   \n",
       "9970  Apartamento   Apartamento com 2 Quartos à Venda, 48m² 175000.00   \n",
       "9971  Apartamento  Apartamento com 3 Quartos à Venda, 120m² 394000.00   \n",
       "\n",
       "      metragem  quarto banheiro  garagem     ID_CASA  \\\n",
       "0           65       2       2         1  2699716579   \n",
       "2           71       2       2         2  2690493538   \n",
       "3           54       2       2         1  2667652105   \n",
       "4           45       2       1         1  2682840782   \n",
       "5           64       2       2         2  2688027260   \n",
       "...        ...     ...      ...      ...         ...   \n",
       "9967        81       3       2         2  2696267182   \n",
       "9968        61       1       1         1  2476716299   \n",
       "9969        83       3       3         2  2693112449   \n",
       "9970        48       2       1         1  2572455642   \n",
       "9971       120       3       3         1  2523506081   \n",
       "\n",
       "                                    bairro_teste  \n",
       "0                                Jardim Botânico  \n",
       "2                                Bonfim Paulista  \n",
       "3                                   Nova Aliança  \n",
       "4     Conjunto Habitacional Jardim Das Palmeiras  \n",
       "5                                 Vila Ana Maria  \n",
       "...                                          ...  \n",
       "9967                                Vila Do Golf  \n",
       "9968                                      Centro  \n",
       "9969                             Jardim São Luiz  \n",
       "9970                                    Lagoinha  \n",
       "9971                                      Centro  \n",
       "\n",
       "[9964 rows x 9 columns]"
      ]
     },
     "execution_count": 9,
     "metadata": {},
     "output_type": "execute_result"
    }
   ],
   "source": [
    "base_original = obter_resumo(tipo_imovel='Apartamento')\n",
    "base_original['quarto'] = base_original['quarto'].str.replace('1 Quarto', '1').astype('int32')\n",
    "base_original['garagem'] = base_original['garagem'].str.replace('--', '0').astype('int32')\n",
    "base_original['metragem'] = base_original['metragem'].astype('int32')\n",
    "base_original"
   ]
  },
  {
   "cell_type": "code",
   "execution_count": 10,
   "metadata": {},
   "outputs": [
    {
     "data": {
      "text/plain": [
       "(8395, 9)"
      ]
     },
     "execution_count": 10,
     "metadata": {},
     "output_type": "execute_result"
    }
   ],
   "source": [
    "base_original = base_original.drop_duplicates()\n",
    "base_original.shape"
   ]
  },
  {
   "cell_type": "code",
   "execution_count": 11,
   "metadata": {},
   "outputs": [
    {
     "name": "stdout",
     "output_type": "stream",
     "text": [
      "<class 'pandas.core.frame.DataFrame'>\n",
      "Index: 8395 entries, 0 to 9971\n",
      "Data columns (total 9 columns):\n",
      " #   Column        Non-Null Count  Dtype  \n",
      "---  ------        --------------  -----  \n",
      " 0   tipo_imovel   8395 non-null   string \n",
      " 1   nome          8395 non-null   string \n",
      " 2   preco         8395 non-null   float64\n",
      " 3   metragem      8395 non-null   int32  \n",
      " 4   quarto        8395 non-null   int32  \n",
      " 5   banheiro      8395 non-null   string \n",
      " 6   garagem       8395 non-null   int32  \n",
      " 7   ID_CASA       8395 non-null   int64  \n",
      " 8   bairro_teste  8395 non-null   string \n",
      "dtypes: float64(1), int32(3), int64(1), string(4)\n",
      "memory usage: 557.5 KB\n"
     ]
    }
   ],
   "source": [
    "base_original.info()"
   ]
  },
  {
   "cell_type": "code",
   "execution_count": 12,
   "metadata": {},
   "outputs": [
    {
     "data": {
      "text/plain": [
       "<StringArray>\n",
       "[ '2 ',  '1 ',  '3 ',  '5 ',  '4 ',  '9 ',  '7 ',  '6 ', '20 ',  '8 ', '11 ',\n",
       " '13 ', '12 ', '10 ']\n",
       "Length: 14, dtype: string"
      ]
     },
     "execution_count": 12,
     "metadata": {},
     "output_type": "execute_result"
    }
   ],
   "source": [
    "base_original['banheiro'].unique()"
   ]
  },
  {
   "cell_type": "code",
   "execution_count": 13,
   "metadata": {},
   "outputs": [
    {
     "data": {
      "text/plain": [
       "array([  1,   2,   0,   4,   3,   5, 192,  10,  19,   6,   8,   7],\n",
       "      dtype=int32)"
      ]
     },
     "execution_count": 13,
     "metadata": {},
     "output_type": "execute_result"
    }
   ],
   "source": [
    "base_original['garagem'].unique()"
   ]
  },
  {
   "cell_type": "code",
   "execution_count": 14,
   "metadata": {},
   "outputs": [
    {
     "name": "stderr",
     "output_type": "stream",
     "text": [
      "/tmp/ipykernel_5314/3966004037.py:1: SettingWithCopyWarning: \n",
      "A value is trying to be set on a copy of a slice from a DataFrame.\n",
      "Try using .loc[row_indexer,col_indexer] = value instead\n",
      "\n",
      "See the caveats in the documentation: https://pandas.pydata.org/pandas-docs/stable/user_guide/indexing.html#returning-a-view-versus-a-copy\n",
      "  base_original[['banheiro', 'garagem']] = base_original[['banheiro', 'garagem']].astype('int32')\n"
     ]
    }
   ],
   "source": [
    "base_original[['banheiro', 'garagem']] = base_original[['banheiro', 'garagem']].astype('int32')"
   ]
  },
  {
   "cell_type": "code",
   "execution_count": 15,
   "metadata": {},
   "outputs": [
    {
     "data": {
      "text/html": [
       "<div>\n",
       "<style scoped>\n",
       "    .dataframe tbody tr th:only-of-type {\n",
       "        vertical-align: middle;\n",
       "    }\n",
       "\n",
       "    .dataframe tbody tr th {\n",
       "        vertical-align: top;\n",
       "    }\n",
       "\n",
       "    .dataframe thead th {\n",
       "        text-align: right;\n",
       "    }\n",
       "</style>\n",
       "<table border=\"1\" class=\"dataframe\">\n",
       "  <thead>\n",
       "    <tr style=\"text-align: right;\">\n",
       "      <th></th>\n",
       "      <th>preco</th>\n",
       "      <th>metragem</th>\n",
       "      <th>quarto</th>\n",
       "      <th>banheiro</th>\n",
       "      <th>garagem</th>\n",
       "      <th>ID_CASA</th>\n",
       "    </tr>\n",
       "  </thead>\n",
       "  <tbody>\n",
       "    <tr>\n",
       "      <th>count</th>\n",
       "      <td>8395.00</td>\n",
       "      <td>8395.00</td>\n",
       "      <td>8395.00</td>\n",
       "      <td>8395.00</td>\n",
       "      <td>8395.00</td>\n",
       "      <td>8395.00</td>\n",
       "    </tr>\n",
       "    <tr>\n",
       "      <th>mean</th>\n",
       "      <td>450640.89</td>\n",
       "      <td>87.23</td>\n",
       "      <td>2.32</td>\n",
       "      <td>2.10</td>\n",
       "      <td>1.46</td>\n",
       "      <td>2635153434.16</td>\n",
       "    </tr>\n",
       "    <tr>\n",
       "      <th>std</th>\n",
       "      <td>453436.77</td>\n",
       "      <td>87.68</td>\n",
       "      <td>0.77</td>\n",
       "      <td>1.32</td>\n",
       "      <td>2.23</td>\n",
       "      <td>98351619.28</td>\n",
       "    </tr>\n",
       "    <tr>\n",
       "      <th>min</th>\n",
       "      <td>61045.00</td>\n",
       "      <td>10.00</td>\n",
       "      <td>1.00</td>\n",
       "      <td>1.00</td>\n",
       "      <td>0.00</td>\n",
       "      <td>54472404.00</td>\n",
       "    </tr>\n",
       "    <tr>\n",
       "      <th>25%</th>\n",
       "      <td>215000.00</td>\n",
       "      <td>49.00</td>\n",
       "      <td>2.00</td>\n",
       "      <td>1.00</td>\n",
       "      <td>1.00</td>\n",
       "      <td>2603212877.50</td>\n",
       "    </tr>\n",
       "    <tr>\n",
       "      <th>50%</th>\n",
       "      <td>320000.00</td>\n",
       "      <td>70.00</td>\n",
       "      <td>2.00</td>\n",
       "      <td>2.00</td>\n",
       "      <td>1.00</td>\n",
       "      <td>2658818753.00</td>\n",
       "    </tr>\n",
       "    <tr>\n",
       "      <th>75%</th>\n",
       "      <td>520000.00</td>\n",
       "      <td>103.00</td>\n",
       "      <td>3.00</td>\n",
       "      <td>3.00</td>\n",
       "      <td>2.00</td>\n",
       "      <td>2678280998.00</td>\n",
       "    </tr>\n",
       "    <tr>\n",
       "      <th>max</th>\n",
       "      <td>8000000.00</td>\n",
       "      <td>4687.00</td>\n",
       "      <td>20.00</td>\n",
       "      <td>20.00</td>\n",
       "      <td>192.00</td>\n",
       "      <td>2700624992.00</td>\n",
       "    </tr>\n",
       "  </tbody>\n",
       "</table>\n",
       "</div>"
      ],
      "text/plain": [
       "           preco  metragem  quarto  banheiro  garagem       ID_CASA\n",
       "count    8395.00   8395.00 8395.00   8395.00  8395.00       8395.00\n",
       "mean   450640.89     87.23    2.32      2.10     1.46 2635153434.16\n",
       "std    453436.77     87.68    0.77      1.32     2.23   98351619.28\n",
       "min     61045.00     10.00    1.00      1.00     0.00   54472404.00\n",
       "25%    215000.00     49.00    2.00      1.00     1.00 2603212877.50\n",
       "50%    320000.00     70.00    2.00      2.00     1.00 2658818753.00\n",
       "75%    520000.00    103.00    3.00      3.00     2.00 2678280998.00\n",
       "max   8000000.00   4687.00   20.00     20.00   192.00 2700624992.00"
      ]
     },
     "execution_count": 15,
     "metadata": {},
     "output_type": "execute_result"
    }
   ],
   "source": [
    "base_original.describe()"
   ]
  },
  {
   "cell_type": "markdown",
   "metadata": {},
   "source": [
    "- Total Imóveis"
   ]
  },
  {
   "cell_type": "code",
   "execution_count": 16,
   "metadata": {},
   "outputs": [
    {
     "data": {
      "text/html": [
       "<div>\n",
       "<style scoped>\n",
       "    .dataframe tbody tr th:only-of-type {\n",
       "        vertical-align: middle;\n",
       "    }\n",
       "\n",
       "    .dataframe tbody tr th {\n",
       "        vertical-align: top;\n",
       "    }\n",
       "\n",
       "    .dataframe thead th {\n",
       "        text-align: right;\n",
       "    }\n",
       "</style>\n",
       "<table border=\"1\" class=\"dataframe\">\n",
       "  <thead>\n",
       "    <tr style=\"text-align: right;\">\n",
       "      <th></th>\n",
       "      <th>bairro_teste</th>\n",
       "      <th>count</th>\n",
       "    </tr>\n",
       "  </thead>\n",
       "  <tbody>\n",
       "    <tr>\n",
       "      <th>34</th>\n",
       "      <td>Jardim Botânico</td>\n",
       "      <td>739</td>\n",
       "    </tr>\n",
       "    <tr>\n",
       "      <th>9</th>\n",
       "      <td>Centro</td>\n",
       "      <td>736</td>\n",
       "    </tr>\n",
       "    <tr>\n",
       "      <th>98</th>\n",
       "      <td>Nova Aliança</td>\n",
       "      <td>661</td>\n",
       "    </tr>\n",
       "    <tr>\n",
       "      <th>51</th>\n",
       "      <td>Jardim Irajá</td>\n",
       "      <td>353</td>\n",
       "    </tr>\n",
       "    <tr>\n",
       "      <th>74</th>\n",
       "      <td>Jardim Paulista</td>\n",
       "      <td>315</td>\n",
       "    </tr>\n",
       "    <tr>\n",
       "      <th>137</th>\n",
       "      <td>Ribeirânia</td>\n",
       "      <td>235</td>\n",
       "    </tr>\n",
       "    <tr>\n",
       "      <th>8</th>\n",
       "      <td>Campos Eliseos</td>\n",
       "      <td>178</td>\n",
       "    </tr>\n",
       "    <tr>\n",
       "      <th>73</th>\n",
       "      <td>Jardim Palma Travassos</td>\n",
       "      <td>175</td>\n",
       "    </tr>\n",
       "    <tr>\n",
       "      <th>69</th>\n",
       "      <td>Jardim Olhos D Agua</td>\n",
       "      <td>172</td>\n",
       "    </tr>\n",
       "    <tr>\n",
       "      <th>29</th>\n",
       "      <td>Ipiranga</td>\n",
       "      <td>166</td>\n",
       "    </tr>\n",
       "    <tr>\n",
       "      <th>7</th>\n",
       "      <td>Bosque Das Juritis</td>\n",
       "      <td>159</td>\n",
       "    </tr>\n",
       "    <tr>\n",
       "      <th>106</th>\n",
       "      <td>Parque Industrial Lagoinha</td>\n",
       "      <td>146</td>\n",
       "    </tr>\n",
       "    <tr>\n",
       "      <th>6</th>\n",
       "      <td>Bonfim Paulista</td>\n",
       "      <td>141</td>\n",
       "    </tr>\n",
       "    <tr>\n",
       "      <th>157</th>\n",
       "      <td>Vila Virginia</td>\n",
       "      <td>141</td>\n",
       "    </tr>\n",
       "    <tr>\n",
       "      <th>130</th>\n",
       "      <td>Residencial E Comercial Palmares</td>\n",
       "      <td>138</td>\n",
       "    </tr>\n",
       "    <tr>\n",
       "      <th>75</th>\n",
       "      <td>Jardim Paulistano</td>\n",
       "      <td>133</td>\n",
       "    </tr>\n",
       "    <tr>\n",
       "      <th>78</th>\n",
       "      <td>Jardim Presidente Medici</td>\n",
       "      <td>130</td>\n",
       "    </tr>\n",
       "    <tr>\n",
       "      <th>139</th>\n",
       "      <td>Santa Cruz Do José Jacques</td>\n",
       "      <td>123</td>\n",
       "    </tr>\n",
       "    <tr>\n",
       "      <th>90</th>\n",
       "      <td>Jardim Sumare</td>\n",
       "      <td>121</td>\n",
       "    </tr>\n",
       "    <tr>\n",
       "      <th>141</th>\n",
       "      <td>Sumarezinho</td>\n",
       "      <td>118</td>\n",
       "    </tr>\n",
       "    <tr>\n",
       "      <th>154</th>\n",
       "      <td>Vila Seixas</td>\n",
       "      <td>115</td>\n",
       "    </tr>\n",
       "    <tr>\n",
       "      <th>146</th>\n",
       "      <td>Vila Ana Maria</td>\n",
       "      <td>114</td>\n",
       "    </tr>\n",
       "    <tr>\n",
       "      <th>145</th>\n",
       "      <td>Vila Amélia</td>\n",
       "      <td>112</td>\n",
       "    </tr>\n",
       "    <tr>\n",
       "      <th>2</th>\n",
       "      <td>Alto Da Boa Vista</td>\n",
       "      <td>111</td>\n",
       "    </tr>\n",
       "    <tr>\n",
       "      <th>147</th>\n",
       "      <td>Vila Do Golf</td>\n",
       "      <td>100</td>\n",
       "    </tr>\n",
       "    <tr>\n",
       "      <th>91</th>\n",
       "      <td>Jardim São Luiz</td>\n",
       "      <td>98</td>\n",
       "    </tr>\n",
       "    <tr>\n",
       "      <th>115</th>\n",
       "      <td>Quinta Da Primavera</td>\n",
       "      <td>91</td>\n",
       "    </tr>\n",
       "    <tr>\n",
       "      <th>156</th>\n",
       "      <td>Vila Tibério</td>\n",
       "      <td>89</td>\n",
       "    </tr>\n",
       "    <tr>\n",
       "      <th>96</th>\n",
       "      <td>Lagoinha</td>\n",
       "      <td>88</td>\n",
       "    </tr>\n",
       "    <tr>\n",
       "      <th>32</th>\n",
       "      <td>Jardim Anhanguéra</td>\n",
       "      <td>87</td>\n",
       "    </tr>\n",
       "    <tr>\n",
       "      <th>102</th>\n",
       "      <td>Parque Dos Bandeirantes</td>\n",
       "      <td>85</td>\n",
       "    </tr>\n",
       "    <tr>\n",
       "      <th>132</th>\n",
       "      <td>Residencial Greenville</td>\n",
       "      <td>84</td>\n",
       "    </tr>\n",
       "    <tr>\n",
       "      <th>152</th>\n",
       "      <td>Vila Monte Alegre</td>\n",
       "      <td>78</td>\n",
       "    </tr>\n",
       "    <tr>\n",
       "      <th>63</th>\n",
       "      <td>Jardim Manoel Penna</td>\n",
       "      <td>70</td>\n",
       "    </tr>\n",
       "    <tr>\n",
       "      <th>94</th>\n",
       "      <td>Jardim Zara</td>\n",
       "      <td>66</td>\n",
       "    </tr>\n",
       "    <tr>\n",
       "      <th>127</th>\n",
       "      <td>Reserva Sul Condomínio Resort</td>\n",
       "      <td>66</td>\n",
       "    </tr>\n",
       "    <tr>\n",
       "      <th>110</th>\n",
       "      <td>Parque São Sebastião</td>\n",
       "      <td>66</td>\n",
       "    </tr>\n",
       "    <tr>\n",
       "      <th>131</th>\n",
       "      <td>Residencial Flórida</td>\n",
       "      <td>62</td>\n",
       "    </tr>\n",
       "    <tr>\n",
       "      <th>27</th>\n",
       "      <td>Iguatemi</td>\n",
       "      <td>61</td>\n",
       "    </tr>\n",
       "    <tr>\n",
       "      <th>82</th>\n",
       "      <td>Jardim Republica</td>\n",
       "      <td>59</td>\n",
       "    </tr>\n",
       "    <tr>\n",
       "      <th>103</th>\n",
       "      <td>Parque Dos Lagos</td>\n",
       "      <td>57</td>\n",
       "    </tr>\n",
       "    <tr>\n",
       "      <th>67</th>\n",
       "      <td>Jardim Nova Aliança Sul</td>\n",
       "      <td>53</td>\n",
       "    </tr>\n",
       "    <tr>\n",
       "      <th>99</th>\n",
       "      <td>Nova Ribeirânia</td>\n",
       "      <td>50</td>\n",
       "    </tr>\n",
       "    <tr>\n",
       "      <th>45</th>\n",
       "      <td>Jardim Heitor Rigon</td>\n",
       "      <td>50</td>\n",
       "    </tr>\n",
       "    <tr>\n",
       "      <th>35</th>\n",
       "      <td>Jardim Califórnia</td>\n",
       "      <td>50</td>\n",
       "    </tr>\n",
       "    <tr>\n",
       "      <th>11</th>\n",
       "      <td>City Ribeirão</td>\n",
       "      <td>50</td>\n",
       "    </tr>\n",
       "    <tr>\n",
       "      <th>124</th>\n",
       "      <td>Reserva Real</td>\n",
       "      <td>48</td>\n",
       "    </tr>\n",
       "    <tr>\n",
       "      <th>36</th>\n",
       "      <td>Jardim Canadá</td>\n",
       "      <td>48</td>\n",
       "    </tr>\n",
       "    <tr>\n",
       "      <th>128</th>\n",
       "      <td>Residencial Alto Do Ipe</td>\n",
       "      <td>40</td>\n",
       "    </tr>\n",
       "    <tr>\n",
       "      <th>129</th>\n",
       "      <td>Residencial Das Americas</td>\n",
       "      <td>40</td>\n",
       "    </tr>\n",
       "  </tbody>\n",
       "</table>\n",
       "</div>"
      ],
      "text/plain": [
       "                         bairro_teste  count\n",
       "34                    Jardim Botânico    739\n",
       "9                              Centro    736\n",
       "98                       Nova Aliança    661\n",
       "51                       Jardim Irajá    353\n",
       "74                    Jardim Paulista    315\n",
       "137                        Ribeirânia    235\n",
       "8                      Campos Eliseos    178\n",
       "73             Jardim Palma Travassos    175\n",
       "69                Jardim Olhos D Agua    172\n",
       "29                           Ipiranga    166\n",
       "7                  Bosque Das Juritis    159\n",
       "106        Parque Industrial Lagoinha    146\n",
       "6                     Bonfim Paulista    141\n",
       "157                     Vila Virginia    141\n",
       "130  Residencial E Comercial Palmares    138\n",
       "75                  Jardim Paulistano    133\n",
       "78           Jardim Presidente Medici    130\n",
       "139        Santa Cruz Do José Jacques    123\n",
       "90                      Jardim Sumare    121\n",
       "141                       Sumarezinho    118\n",
       "154                       Vila Seixas    115\n",
       "146                    Vila Ana Maria    114\n",
       "145                       Vila Amélia    112\n",
       "2                   Alto Da Boa Vista    111\n",
       "147                      Vila Do Golf    100\n",
       "91                    Jardim São Luiz     98\n",
       "115               Quinta Da Primavera     91\n",
       "156                      Vila Tibério     89\n",
       "96                           Lagoinha     88\n",
       "32                  Jardim Anhanguéra     87\n",
       "102           Parque Dos Bandeirantes     85\n",
       "132            Residencial Greenville     84\n",
       "152                 Vila Monte Alegre     78\n",
       "63                Jardim Manoel Penna     70\n",
       "94                        Jardim Zara     66\n",
       "127     Reserva Sul Condomínio Resort     66\n",
       "110              Parque São Sebastião     66\n",
       "131               Residencial Flórida     62\n",
       "27                           Iguatemi     61\n",
       "82                   Jardim Republica     59\n",
       "103                  Parque Dos Lagos     57\n",
       "67            Jardim Nova Aliança Sul     53\n",
       "99                    Nova Ribeirânia     50\n",
       "45                Jardim Heitor Rigon     50\n",
       "35                  Jardim Califórnia     50\n",
       "11                      City Ribeirão     50\n",
       "124                      Reserva Real     48\n",
       "36                      Jardim Canadá     48\n",
       "128           Residencial Alto Do Ipe     40\n",
       "129          Residencial Das Americas     40"
      ]
     },
     "execution_count": 16,
     "metadata": {},
     "output_type": "execute_result"
    }
   ],
   "source": [
    "base_original.groupby('bairro_teste').size().reset_index(name='count').sort_values(by='count', ascending=False).nlargest(50, 'count')\n"
   ]
  },
  {
   "cell_type": "code",
   "execution_count": 17,
   "metadata": {},
   "outputs": [
    {
     "data": {
      "text/plain": [
       "Index(['tipo_imovel', 'nome', 'preco', 'metragem', 'quarto', 'banheiro',\n",
       "       'garagem', 'ID_CASA', 'bairro_teste'],\n",
       "      dtype='object')"
      ]
     },
     "execution_count": 17,
     "metadata": {},
     "output_type": "execute_result"
    }
   ],
   "source": [
    "base_original.columns"
   ]
  },
  {
   "cell_type": "markdown",
   "metadata": {},
   "source": [
    "- Total de imoveis ,Média, Moda e Mediana: Jardim Botânico, Centro, Nova Aliança, Jardim Irajá, Sumarezinho, Vila Tibério, Vila monte alegre "
   ]
  },
  {
   "cell_type": "code",
   "execution_count": 18,
   "metadata": {},
   "outputs": [],
   "source": [
    "bairros = ['Jardim Botânico', 'Centro', 'Nova Aliança', 'Jardim Irajá', 'Sumarezinho', 'Vila Tibério', 'Vila Monte Alegre', 'Bonfim Paulista', 'Jardim Nova Aliança Sul', 'Vila Tibério', 'Vila Virginia', 'Bonfim Paulista']"
   ]
  },
  {
   "cell_type": "code",
   "execution_count": 19,
   "metadata": {},
   "outputs": [],
   "source": [
    "base_bairros = base_original[base_original['bairro_teste'].isin(bairros)]"
   ]
  },
  {
   "cell_type": "code",
   "execution_count": 20,
   "metadata": {},
   "outputs": [
    {
     "data": {
      "text/html": [
       "<div>\n",
       "<style scoped>\n",
       "    .dataframe tbody tr th:only-of-type {\n",
       "        vertical-align: middle;\n",
       "    }\n",
       "\n",
       "    .dataframe tbody tr th {\n",
       "        vertical-align: top;\n",
       "    }\n",
       "\n",
       "    .dataframe thead th {\n",
       "        text-align: right;\n",
       "    }\n",
       "</style>\n",
       "<table border=\"1\" class=\"dataframe\">\n",
       "  <thead>\n",
       "    <tr style=\"text-align: right;\">\n",
       "      <th></th>\n",
       "      <th>tipo_imovel</th>\n",
       "      <th>nome</th>\n",
       "      <th>preco</th>\n",
       "      <th>metragem</th>\n",
       "      <th>quarto</th>\n",
       "      <th>banheiro</th>\n",
       "      <th>garagem</th>\n",
       "      <th>ID_CASA</th>\n",
       "      <th>bairro_teste</th>\n",
       "    </tr>\n",
       "  </thead>\n",
       "  <tbody>\n",
       "    <tr>\n",
       "      <th>0</th>\n",
       "      <td>Apartamento</td>\n",
       "      <td>Apartamento com 2 Quartos à Venda, 65m²</td>\n",
       "      <td>310000.00</td>\n",
       "      <td>65</td>\n",
       "      <td>2</td>\n",
       "      <td>2</td>\n",
       "      <td>1</td>\n",
       "      <td>2699716579</td>\n",
       "      <td>Jardim Botânico</td>\n",
       "    </tr>\n",
       "    <tr>\n",
       "      <th>2</th>\n",
       "      <td>Apartamento</td>\n",
       "      <td>Apartamento com 2 Quartos à Venda, 71m²</td>\n",
       "      <td>403500.00</td>\n",
       "      <td>71</td>\n",
       "      <td>2</td>\n",
       "      <td>2</td>\n",
       "      <td>2</td>\n",
       "      <td>2690493538</td>\n",
       "      <td>Bonfim Paulista</td>\n",
       "    </tr>\n",
       "    <tr>\n",
       "      <th>3</th>\n",
       "      <td>Apartamento</td>\n",
       "      <td>Apartamento com 2 Quartos à Venda, 54m²</td>\n",
       "      <td>290000.00</td>\n",
       "      <td>54</td>\n",
       "      <td>2</td>\n",
       "      <td>2</td>\n",
       "      <td>1</td>\n",
       "      <td>2667652105</td>\n",
       "      <td>Nova Aliança</td>\n",
       "    </tr>\n",
       "    <tr>\n",
       "      <th>9</th>\n",
       "      <td>Apartamento</td>\n",
       "      <td>Apartamento com 2 Quartos à Venda, 64m²</td>\n",
       "      <td>370000.00</td>\n",
       "      <td>64</td>\n",
       "      <td>2</td>\n",
       "      <td>2</td>\n",
       "      <td>2</td>\n",
       "      <td>2694181987</td>\n",
       "      <td>Jardim Botânico</td>\n",
       "    </tr>\n",
       "    <tr>\n",
       "      <th>14</th>\n",
       "      <td>Apartamento</td>\n",
       "      <td>Apartamento com 2 Quartos à Venda, 84m²</td>\n",
       "      <td>298000.00</td>\n",
       "      <td>84</td>\n",
       "      <td>2</td>\n",
       "      <td>2</td>\n",
       "      <td>1</td>\n",
       "      <td>2586310967</td>\n",
       "      <td>Vila Monte Alegre</td>\n",
       "    </tr>\n",
       "  </tbody>\n",
       "</table>\n",
       "</div>"
      ],
      "text/plain": [
       "    tipo_imovel                                     nome     preco  metragem  \\\n",
       "0   Apartamento  Apartamento com 2 Quartos à Venda, 65m² 310000.00        65   \n",
       "2   Apartamento  Apartamento com 2 Quartos à Venda, 71m² 403500.00        71   \n",
       "3   Apartamento  Apartamento com 2 Quartos à Venda, 54m² 290000.00        54   \n",
       "9   Apartamento  Apartamento com 2 Quartos à Venda, 64m² 370000.00        64   \n",
       "14  Apartamento  Apartamento com 2 Quartos à Venda, 84m² 298000.00        84   \n",
       "\n",
       "    quarto  banheiro  garagem     ID_CASA       bairro_teste  \n",
       "0        2         2        1  2699716579    Jardim Botânico  \n",
       "2        2         2        2  2690493538    Bonfim Paulista  \n",
       "3        2         2        1  2667652105       Nova Aliança  \n",
       "9        2         2        2  2694181987    Jardim Botânico  \n",
       "14       2         2        1  2586310967  Vila Monte Alegre  "
      ]
     },
     "execution_count": 20,
     "metadata": {},
     "output_type": "execute_result"
    }
   ],
   "source": [
    "base_bairros.head()"
   ]
  },
  {
   "cell_type": "code",
   "execution_count": 21,
   "metadata": {},
   "outputs": [
    {
     "data": {
      "text/html": [
       "<div>\n",
       "<style scoped>\n",
       "    .dataframe tbody tr th:only-of-type {\n",
       "        vertical-align: middle;\n",
       "    }\n",
       "\n",
       "    .dataframe tbody tr th {\n",
       "        vertical-align: top;\n",
       "    }\n",
       "\n",
       "    .dataframe thead th {\n",
       "        text-align: right;\n",
       "    }\n",
       "</style>\n",
       "<table border=\"1\" class=\"dataframe\">\n",
       "  <thead>\n",
       "    <tr style=\"text-align: right;\">\n",
       "      <th></th>\n",
       "      <th>tipo_imovel</th>\n",
       "      <th>nome</th>\n",
       "      <th>preco</th>\n",
       "      <th>quarto</th>\n",
       "      <th>banheiro</th>\n",
       "      <th>garagem</th>\n",
       "      <th>ID_CASA</th>\n",
       "      <th>bairro_teste</th>\n",
       "    </tr>\n",
       "    <tr>\n",
       "      <th>metragem</th>\n",
       "      <th></th>\n",
       "      <th></th>\n",
       "      <th></th>\n",
       "      <th></th>\n",
       "      <th></th>\n",
       "      <th></th>\n",
       "      <th></th>\n",
       "      <th></th>\n",
       "    </tr>\n",
       "  </thead>\n",
       "  <tbody>\n",
       "    <tr>\n",
       "      <th>10</th>\n",
       "      <td>3</td>\n",
       "      <td>3</td>\n",
       "      <td>3</td>\n",
       "      <td>3</td>\n",
       "      <td>3</td>\n",
       "      <td>3</td>\n",
       "      <td>3</td>\n",
       "      <td>3</td>\n",
       "    </tr>\n",
       "    <tr>\n",
       "      <th>18</th>\n",
       "      <td>1</td>\n",
       "      <td>1</td>\n",
       "      <td>1</td>\n",
       "      <td>1</td>\n",
       "      <td>1</td>\n",
       "      <td>1</td>\n",
       "      <td>1</td>\n",
       "      <td>1</td>\n",
       "    </tr>\n",
       "    <tr>\n",
       "      <th>20</th>\n",
       "      <td>1</td>\n",
       "      <td>1</td>\n",
       "      <td>1</td>\n",
       "      <td>1</td>\n",
       "      <td>1</td>\n",
       "      <td>1</td>\n",
       "      <td>1</td>\n",
       "      <td>1</td>\n",
       "    </tr>\n",
       "    <tr>\n",
       "      <th>23</th>\n",
       "      <td>1</td>\n",
       "      <td>1</td>\n",
       "      <td>1</td>\n",
       "      <td>1</td>\n",
       "      <td>1</td>\n",
       "      <td>1</td>\n",
       "      <td>1</td>\n",
       "      <td>1</td>\n",
       "    </tr>\n",
       "    <tr>\n",
       "      <th>24</th>\n",
       "      <td>1</td>\n",
       "      <td>1</td>\n",
       "      <td>1</td>\n",
       "      <td>1</td>\n",
       "      <td>1</td>\n",
       "      <td>1</td>\n",
       "      <td>1</td>\n",
       "      <td>1</td>\n",
       "    </tr>\n",
       "    <tr>\n",
       "      <th>...</th>\n",
       "      <td>...</td>\n",
       "      <td>...</td>\n",
       "      <td>...</td>\n",
       "      <td>...</td>\n",
       "      <td>...</td>\n",
       "      <td>...</td>\n",
       "      <td>...</td>\n",
       "      <td>...</td>\n",
       "    </tr>\n",
       "    <tr>\n",
       "      <th>530</th>\n",
       "      <td>2</td>\n",
       "      <td>2</td>\n",
       "      <td>2</td>\n",
       "      <td>2</td>\n",
       "      <td>2</td>\n",
       "      <td>2</td>\n",
       "      <td>2</td>\n",
       "      <td>2</td>\n",
       "    </tr>\n",
       "    <tr>\n",
       "      <th>700</th>\n",
       "      <td>1</td>\n",
       "      <td>1</td>\n",
       "      <td>1</td>\n",
       "      <td>1</td>\n",
       "      <td>1</td>\n",
       "      <td>1</td>\n",
       "      <td>1</td>\n",
       "      <td>1</td>\n",
       "    </tr>\n",
       "    <tr>\n",
       "      <th>721</th>\n",
       "      <td>1</td>\n",
       "      <td>1</td>\n",
       "      <td>1</td>\n",
       "      <td>1</td>\n",
       "      <td>1</td>\n",
       "      <td>1</td>\n",
       "      <td>1</td>\n",
       "      <td>1</td>\n",
       "    </tr>\n",
       "    <tr>\n",
       "      <th>726</th>\n",
       "      <td>1</td>\n",
       "      <td>1</td>\n",
       "      <td>1</td>\n",
       "      <td>1</td>\n",
       "      <td>1</td>\n",
       "      <td>1</td>\n",
       "      <td>1</td>\n",
       "      <td>1</td>\n",
       "    </tr>\n",
       "    <tr>\n",
       "      <th>4151</th>\n",
       "      <td>1</td>\n",
       "      <td>1</td>\n",
       "      <td>1</td>\n",
       "      <td>1</td>\n",
       "      <td>1</td>\n",
       "      <td>1</td>\n",
       "      <td>1</td>\n",
       "      <td>1</td>\n",
       "    </tr>\n",
       "  </tbody>\n",
       "</table>\n",
       "<p>237 rows × 8 columns</p>\n",
       "</div>"
      ],
      "text/plain": [
       "          tipo_imovel  nome  preco  quarto  banheiro  garagem  ID_CASA  \\\n",
       "metragem                                                                 \n",
       "10                  3     3      3       3         3        3        3   \n",
       "18                  1     1      1       1         1        1        1   \n",
       "20                  1     1      1       1         1        1        1   \n",
       "23                  1     1      1       1         1        1        1   \n",
       "24                  1     1      1       1         1        1        1   \n",
       "...               ...   ...    ...     ...       ...      ...      ...   \n",
       "530                 2     2      2       2         2        2        2   \n",
       "700                 1     1      1       1         1        1        1   \n",
       "721                 1     1      1       1         1        1        1   \n",
       "726                 1     1      1       1         1        1        1   \n",
       "4151                1     1      1       1         1        1        1   \n",
       "\n",
       "          bairro_teste  \n",
       "metragem                \n",
       "10                   3  \n",
       "18                   1  \n",
       "20                   1  \n",
       "23                   1  \n",
       "24                   1  \n",
       "...                ...  \n",
       "530                  2  \n",
       "700                  1  \n",
       "721                  1  \n",
       "726                  1  \n",
       "4151                 1  \n",
       "\n",
       "[237 rows x 8 columns]"
      ]
     },
     "execution_count": 21,
     "metadata": {},
     "output_type": "execute_result"
    }
   ],
   "source": [
    "base_bairros.groupby('metragem').count()"
   ]
  },
  {
   "cell_type": "code",
   "execution_count": 22,
   "metadata": {},
   "outputs": [
    {
     "data": {
      "text/html": [
       "<div>\n",
       "<style scoped>\n",
       "    .dataframe tbody tr th:only-of-type {\n",
       "        vertical-align: middle;\n",
       "    }\n",
       "\n",
       "    .dataframe tbody tr th {\n",
       "        vertical-align: top;\n",
       "    }\n",
       "\n",
       "    .dataframe thead th {\n",
       "        text-align: right;\n",
       "    }\n",
       "</style>\n",
       "<table border=\"1\" class=\"dataframe\">\n",
       "  <thead>\n",
       "    <tr style=\"text-align: right;\">\n",
       "      <th>bairro_teste</th>\n",
       "      <th>Bonfim Paulista</th>\n",
       "      <th>Centro</th>\n",
       "      <th>Jardim Botânico</th>\n",
       "      <th>Jardim Irajá</th>\n",
       "      <th>Jardim Nova Aliança Sul</th>\n",
       "      <th>Nova Aliança</th>\n",
       "      <th>Sumarezinho</th>\n",
       "      <th>Vila Monte Alegre</th>\n",
       "      <th>Vila Tibério</th>\n",
       "      <th>Vila Virginia</th>\n",
       "    </tr>\n",
       "    <tr>\n",
       "      <th>garagem</th>\n",
       "      <th></th>\n",
       "      <th></th>\n",
       "      <th></th>\n",
       "      <th></th>\n",
       "      <th></th>\n",
       "      <th></th>\n",
       "      <th></th>\n",
       "      <th></th>\n",
       "      <th></th>\n",
       "      <th></th>\n",
       "    </tr>\n",
       "  </thead>\n",
       "  <tbody>\n",
       "    <tr>\n",
       "      <th>0</th>\n",
       "      <td>3</td>\n",
       "      <td>91</td>\n",
       "      <td>11</td>\n",
       "      <td>6</td>\n",
       "      <td>4</td>\n",
       "      <td>8</td>\n",
       "      <td>3</td>\n",
       "      <td>0</td>\n",
       "      <td>2</td>\n",
       "      <td>9</td>\n",
       "    </tr>\n",
       "    <tr>\n",
       "      <th>1</th>\n",
       "      <td>75</td>\n",
       "      <td>434</td>\n",
       "      <td>227</td>\n",
       "      <td>152</td>\n",
       "      <td>14</td>\n",
       "      <td>317</td>\n",
       "      <td>109</td>\n",
       "      <td>67</td>\n",
       "      <td>42</td>\n",
       "      <td>114</td>\n",
       "    </tr>\n",
       "    <tr>\n",
       "      <th>2</th>\n",
       "      <td>46</td>\n",
       "      <td>169</td>\n",
       "      <td>389</td>\n",
       "      <td>142</td>\n",
       "      <td>33</td>\n",
       "      <td>291</td>\n",
       "      <td>5</td>\n",
       "      <td>8</td>\n",
       "      <td>44</td>\n",
       "      <td>17</td>\n",
       "    </tr>\n",
       "    <tr>\n",
       "      <th>3</th>\n",
       "      <td>9</td>\n",
       "      <td>27</td>\n",
       "      <td>72</td>\n",
       "      <td>35</td>\n",
       "      <td>2</td>\n",
       "      <td>40</td>\n",
       "      <td>0</td>\n",
       "      <td>2</td>\n",
       "      <td>1</td>\n",
       "      <td>0</td>\n",
       "    </tr>\n",
       "    <tr>\n",
       "      <th>4</th>\n",
       "      <td>5</td>\n",
       "      <td>15</td>\n",
       "      <td>28</td>\n",
       "      <td>15</td>\n",
       "      <td>0</td>\n",
       "      <td>5</td>\n",
       "      <td>1</td>\n",
       "      <td>0</td>\n",
       "      <td>0</td>\n",
       "      <td>1</td>\n",
       "    </tr>\n",
       "    <tr>\n",
       "      <th>5</th>\n",
       "      <td>0</td>\n",
       "      <td>0</td>\n",
       "      <td>5</td>\n",
       "      <td>2</td>\n",
       "      <td>0</td>\n",
       "      <td>0</td>\n",
       "      <td>0</td>\n",
       "      <td>0</td>\n",
       "      <td>0</td>\n",
       "      <td>0</td>\n",
       "    </tr>\n",
       "    <tr>\n",
       "      <th>6</th>\n",
       "      <td>1</td>\n",
       "      <td>0</td>\n",
       "      <td>6</td>\n",
       "      <td>1</td>\n",
       "      <td>0</td>\n",
       "      <td>0</td>\n",
       "      <td>0</td>\n",
       "      <td>0</td>\n",
       "      <td>0</td>\n",
       "      <td>0</td>\n",
       "    </tr>\n",
       "    <tr>\n",
       "      <th>8</th>\n",
       "      <td>1</td>\n",
       "      <td>0</td>\n",
       "      <td>0</td>\n",
       "      <td>0</td>\n",
       "      <td>0</td>\n",
       "      <td>0</td>\n",
       "      <td>0</td>\n",
       "      <td>0</td>\n",
       "      <td>0</td>\n",
       "      <td>0</td>\n",
       "    </tr>\n",
       "    <tr>\n",
       "      <th>10</th>\n",
       "      <td>0</td>\n",
       "      <td>0</td>\n",
       "      <td>0</td>\n",
       "      <td>0</td>\n",
       "      <td>0</td>\n",
       "      <td>0</td>\n",
       "      <td>0</td>\n",
       "      <td>1</td>\n",
       "      <td>0</td>\n",
       "      <td>0</td>\n",
       "    </tr>\n",
       "    <tr>\n",
       "      <th>19</th>\n",
       "      <td>0</td>\n",
       "      <td>0</td>\n",
       "      <td>1</td>\n",
       "      <td>0</td>\n",
       "      <td>0</td>\n",
       "      <td>0</td>\n",
       "      <td>0</td>\n",
       "      <td>0</td>\n",
       "      <td>0</td>\n",
       "      <td>0</td>\n",
       "    </tr>\n",
       "    <tr>\n",
       "      <th>192</th>\n",
       "      <td>1</td>\n",
       "      <td>0</td>\n",
       "      <td>0</td>\n",
       "      <td>0</td>\n",
       "      <td>0</td>\n",
       "      <td>0</td>\n",
       "      <td>0</td>\n",
       "      <td>0</td>\n",
       "      <td>0</td>\n",
       "      <td>0</td>\n",
       "    </tr>\n",
       "  </tbody>\n",
       "</table>\n",
       "</div>"
      ],
      "text/plain": [
       "bairro_teste  Bonfim Paulista  Centro  Jardim Botânico  Jardim Irajá  \\\n",
       "garagem                                                                \n",
       "0                           3      91               11             6   \n",
       "1                          75     434              227           152   \n",
       "2                          46     169              389           142   \n",
       "3                           9      27               72            35   \n",
       "4                           5      15               28            15   \n",
       "5                           0       0                5             2   \n",
       "6                           1       0                6             1   \n",
       "8                           1       0                0             0   \n",
       "10                          0       0                0             0   \n",
       "19                          0       0                1             0   \n",
       "192                         1       0                0             0   \n",
       "\n",
       "bairro_teste  Jardim Nova Aliança Sul  Nova Aliança  Sumarezinho  \\\n",
       "garagem                                                            \n",
       "0                                   4             8            3   \n",
       "1                                  14           317          109   \n",
       "2                                  33           291            5   \n",
       "3                                   2            40            0   \n",
       "4                                   0             5            1   \n",
       "5                                   0             0            0   \n",
       "6                                   0             0            0   \n",
       "8                                   0             0            0   \n",
       "10                                  0             0            0   \n",
       "19                                  0             0            0   \n",
       "192                                 0             0            0   \n",
       "\n",
       "bairro_teste  Vila Monte Alegre  Vila Tibério  Vila Virginia  \n",
       "garagem                                                       \n",
       "0                             0             2              9  \n",
       "1                            67            42            114  \n",
       "2                             8            44             17  \n",
       "3                             2             1              0  \n",
       "4                             0             0              1  \n",
       "5                             0             0              0  \n",
       "6                             0             0              0  \n",
       "8                             0             0              0  \n",
       "10                            1             0              0  \n",
       "19                            0             0              0  \n",
       "192                           0             0              0  "
      ]
     },
     "execution_count": 22,
     "metadata": {},
     "output_type": "execute_result"
    }
   ],
   "source": [
    "base_bairros.pivot_table(index='garagem', columns='bairro_teste', aggfunc='size', fill_value=0)"
   ]
  },
  {
   "cell_type": "code",
   "execution_count": 23,
   "metadata": {},
   "outputs": [
    {
     "data": {
      "text/html": [
       "<div>\n",
       "<style scoped>\n",
       "    .dataframe tbody tr th:only-of-type {\n",
       "        vertical-align: middle;\n",
       "    }\n",
       "\n",
       "    .dataframe tbody tr th {\n",
       "        vertical-align: top;\n",
       "    }\n",
       "\n",
       "    .dataframe thead th {\n",
       "        text-align: right;\n",
       "    }\n",
       "</style>\n",
       "<table border=\"1\" class=\"dataframe\">\n",
       "  <thead>\n",
       "    <tr style=\"text-align: right;\">\n",
       "      <th>bairro_teste</th>\n",
       "      <th>Bonfim Paulista</th>\n",
       "      <th>Centro</th>\n",
       "      <th>Jardim Botânico</th>\n",
       "      <th>Jardim Irajá</th>\n",
       "      <th>Jardim Nova Aliança Sul</th>\n",
       "      <th>Nova Aliança</th>\n",
       "      <th>Sumarezinho</th>\n",
       "      <th>Vila Monte Alegre</th>\n",
       "      <th>Vila Tibério</th>\n",
       "      <th>Vila Virginia</th>\n",
       "    </tr>\n",
       "    <tr>\n",
       "      <th>quarto</th>\n",
       "      <th></th>\n",
       "      <th></th>\n",
       "      <th></th>\n",
       "      <th></th>\n",
       "      <th></th>\n",
       "      <th></th>\n",
       "      <th></th>\n",
       "      <th></th>\n",
       "      <th></th>\n",
       "      <th></th>\n",
       "    </tr>\n",
       "  </thead>\n",
       "  <tbody>\n",
       "    <tr>\n",
       "      <th>1</th>\n",
       "      <td>6</td>\n",
       "      <td>103</td>\n",
       "      <td>111</td>\n",
       "      <td>35</td>\n",
       "      <td>9</td>\n",
       "      <td>186</td>\n",
       "      <td>0</td>\n",
       "      <td>21</td>\n",
       "      <td>5</td>\n",
       "      <td>1</td>\n",
       "    </tr>\n",
       "    <tr>\n",
       "      <th>2</th>\n",
       "      <td>92</td>\n",
       "      <td>165</td>\n",
       "      <td>254</td>\n",
       "      <td>85</td>\n",
       "      <td>20</td>\n",
       "      <td>236</td>\n",
       "      <td>104</td>\n",
       "      <td>44</td>\n",
       "      <td>43</td>\n",
       "      <td>134</td>\n",
       "    </tr>\n",
       "    <tr>\n",
       "      <th>3</th>\n",
       "      <td>40</td>\n",
       "      <td>402</td>\n",
       "      <td>328</td>\n",
       "      <td>206</td>\n",
       "      <td>21</td>\n",
       "      <td>229</td>\n",
       "      <td>13</td>\n",
       "      <td>12</td>\n",
       "      <td>41</td>\n",
       "      <td>6</td>\n",
       "    </tr>\n",
       "    <tr>\n",
       "      <th>4</th>\n",
       "      <td>1</td>\n",
       "      <td>64</td>\n",
       "      <td>46</td>\n",
       "      <td>26</td>\n",
       "      <td>3</td>\n",
       "      <td>10</td>\n",
       "      <td>1</td>\n",
       "      <td>0</td>\n",
       "      <td>0</td>\n",
       "      <td>0</td>\n",
       "    </tr>\n",
       "    <tr>\n",
       "      <th>5</th>\n",
       "      <td>2</td>\n",
       "      <td>2</td>\n",
       "      <td>0</td>\n",
       "      <td>1</td>\n",
       "      <td>0</td>\n",
       "      <td>0</td>\n",
       "      <td>0</td>\n",
       "      <td>0</td>\n",
       "      <td>0</td>\n",
       "      <td>0</td>\n",
       "    </tr>\n",
       "    <tr>\n",
       "      <th>20</th>\n",
       "      <td>0</td>\n",
       "      <td>0</td>\n",
       "      <td>0</td>\n",
       "      <td>0</td>\n",
       "      <td>0</td>\n",
       "      <td>0</td>\n",
       "      <td>0</td>\n",
       "      <td>1</td>\n",
       "      <td>0</td>\n",
       "      <td>0</td>\n",
       "    </tr>\n",
       "  </tbody>\n",
       "</table>\n",
       "</div>"
      ],
      "text/plain": [
       "bairro_teste  Bonfim Paulista  Centro  Jardim Botânico  Jardim Irajá  \\\n",
       "quarto                                                                 \n",
       "1                           6     103              111            35   \n",
       "2                          92     165              254            85   \n",
       "3                          40     402              328           206   \n",
       "4                           1      64               46            26   \n",
       "5                           2       2                0             1   \n",
       "20                          0       0                0             0   \n",
       "\n",
       "bairro_teste  Jardim Nova Aliança Sul  Nova Aliança  Sumarezinho  \\\n",
       "quarto                                                             \n",
       "1                                   9           186            0   \n",
       "2                                  20           236          104   \n",
       "3                                  21           229           13   \n",
       "4                                   3            10            1   \n",
       "5                                   0             0            0   \n",
       "20                                  0             0            0   \n",
       "\n",
       "bairro_teste  Vila Monte Alegre  Vila Tibério  Vila Virginia  \n",
       "quarto                                                        \n",
       "1                            21             5              1  \n",
       "2                            44            43            134  \n",
       "3                            12            41              6  \n",
       "4                             0             0              0  \n",
       "5                             0             0              0  \n",
       "20                            1             0              0  "
      ]
     },
     "execution_count": 23,
     "metadata": {},
     "output_type": "execute_result"
    }
   ],
   "source": [
    "base_bairros.pivot_table(index='quarto', columns='bairro_teste', aggfunc='size', fill_value=0)"
   ]
  },
  {
   "cell_type": "code",
   "execution_count": 24,
   "metadata": {},
   "outputs": [
    {
     "data": {
      "text/html": [
       "<div>\n",
       "<style scoped>\n",
       "    .dataframe tbody tr th:only-of-type {\n",
       "        vertical-align: middle;\n",
       "    }\n",
       "\n",
       "    .dataframe tbody tr th {\n",
       "        vertical-align: top;\n",
       "    }\n",
       "\n",
       "    .dataframe thead th {\n",
       "        text-align: right;\n",
       "    }\n",
       "</style>\n",
       "<table border=\"1\" class=\"dataframe\">\n",
       "  <thead>\n",
       "    <tr style=\"text-align: right;\">\n",
       "      <th>bairro_teste</th>\n",
       "      <th>banheiro</th>\n",
       "      <th>Bonfim Paulista</th>\n",
       "      <th>Centro</th>\n",
       "      <th>Jardim Botânico</th>\n",
       "      <th>Jardim Irajá</th>\n",
       "      <th>Jardim Nova Aliança Sul</th>\n",
       "      <th>Nova Aliança</th>\n",
       "      <th>Sumarezinho</th>\n",
       "      <th>Vila Monte Alegre</th>\n",
       "      <th>Vila Tibério</th>\n",
       "      <th>Vila Virginia</th>\n",
       "    </tr>\n",
       "  </thead>\n",
       "  <tbody>\n",
       "    <tr>\n",
       "      <th>0</th>\n",
       "      <td>1</td>\n",
       "      <td>69</td>\n",
       "      <td>164</td>\n",
       "      <td>151</td>\n",
       "      <td>64</td>\n",
       "      <td>11</td>\n",
       "      <td>245</td>\n",
       "      <td>72</td>\n",
       "      <td>40</td>\n",
       "      <td>31</td>\n",
       "      <td>135</td>\n",
       "    </tr>\n",
       "    <tr>\n",
       "      <th>1</th>\n",
       "      <td>2</td>\n",
       "      <td>31</td>\n",
       "      <td>208</td>\n",
       "      <td>251</td>\n",
       "      <td>126</td>\n",
       "      <td>21</td>\n",
       "      <td>166</td>\n",
       "      <td>45</td>\n",
       "      <td>36</td>\n",
       "      <td>48</td>\n",
       "      <td>5</td>\n",
       "    </tr>\n",
       "    <tr>\n",
       "      <th>2</th>\n",
       "      <td>3</td>\n",
       "      <td>9</td>\n",
       "      <td>226</td>\n",
       "      <td>107</td>\n",
       "      <td>78</td>\n",
       "      <td>18</td>\n",
       "      <td>137</td>\n",
       "      <td>1</td>\n",
       "      <td>1</td>\n",
       "      <td>10</td>\n",
       "      <td>1</td>\n",
       "    </tr>\n",
       "    <tr>\n",
       "      <th>3</th>\n",
       "      <td>4</td>\n",
       "      <td>21</td>\n",
       "      <td>75</td>\n",
       "      <td>89</td>\n",
       "      <td>42</td>\n",
       "      <td>3</td>\n",
       "      <td>55</td>\n",
       "      <td>0</td>\n",
       "      <td>0</td>\n",
       "      <td>0</td>\n",
       "      <td>0</td>\n",
       "    </tr>\n",
       "    <tr>\n",
       "      <th>4</th>\n",
       "      <td>5</td>\n",
       "      <td>7</td>\n",
       "      <td>54</td>\n",
       "      <td>119</td>\n",
       "      <td>35</td>\n",
       "      <td>0</td>\n",
       "      <td>52</td>\n",
       "      <td>0</td>\n",
       "      <td>0</td>\n",
       "      <td>0</td>\n",
       "      <td>0</td>\n",
       "    </tr>\n",
       "    <tr>\n",
       "      <th>5</th>\n",
       "      <td>6</td>\n",
       "      <td>3</td>\n",
       "      <td>5</td>\n",
       "      <td>13</td>\n",
       "      <td>6</td>\n",
       "      <td>0</td>\n",
       "      <td>3</td>\n",
       "      <td>0</td>\n",
       "      <td>0</td>\n",
       "      <td>0</td>\n",
       "      <td>0</td>\n",
       "    </tr>\n",
       "    <tr>\n",
       "      <th>6</th>\n",
       "      <td>7</td>\n",
       "      <td>0</td>\n",
       "      <td>2</td>\n",
       "      <td>5</td>\n",
       "      <td>1</td>\n",
       "      <td>0</td>\n",
       "      <td>2</td>\n",
       "      <td>0</td>\n",
       "      <td>0</td>\n",
       "      <td>0</td>\n",
       "      <td>0</td>\n",
       "    </tr>\n",
       "    <tr>\n",
       "      <th>7</th>\n",
       "      <td>8</td>\n",
       "      <td>1</td>\n",
       "      <td>0</td>\n",
       "      <td>0</td>\n",
       "      <td>0</td>\n",
       "      <td>0</td>\n",
       "      <td>1</td>\n",
       "      <td>0</td>\n",
       "      <td>0</td>\n",
       "      <td>0</td>\n",
       "      <td>0</td>\n",
       "    </tr>\n",
       "    <tr>\n",
       "      <th>8</th>\n",
       "      <td>9</td>\n",
       "      <td>0</td>\n",
       "      <td>2</td>\n",
       "      <td>2</td>\n",
       "      <td>1</td>\n",
       "      <td>0</td>\n",
       "      <td>0</td>\n",
       "      <td>0</td>\n",
       "      <td>0</td>\n",
       "      <td>0</td>\n",
       "      <td>0</td>\n",
       "    </tr>\n",
       "    <tr>\n",
       "      <th>9</th>\n",
       "      <td>12</td>\n",
       "      <td>0</td>\n",
       "      <td>0</td>\n",
       "      <td>1</td>\n",
       "      <td>0</td>\n",
       "      <td>0</td>\n",
       "      <td>0</td>\n",
       "      <td>0</td>\n",
       "      <td>0</td>\n",
       "      <td>0</td>\n",
       "      <td>0</td>\n",
       "    </tr>\n",
       "    <tr>\n",
       "      <th>10</th>\n",
       "      <td>13</td>\n",
       "      <td>0</td>\n",
       "      <td>0</td>\n",
       "      <td>1</td>\n",
       "      <td>0</td>\n",
       "      <td>0</td>\n",
       "      <td>0</td>\n",
       "      <td>0</td>\n",
       "      <td>0</td>\n",
       "      <td>0</td>\n",
       "      <td>0</td>\n",
       "    </tr>\n",
       "    <tr>\n",
       "      <th>11</th>\n",
       "      <td>20</td>\n",
       "      <td>0</td>\n",
       "      <td>0</td>\n",
       "      <td>0</td>\n",
       "      <td>0</td>\n",
       "      <td>0</td>\n",
       "      <td>0</td>\n",
       "      <td>0</td>\n",
       "      <td>1</td>\n",
       "      <td>0</td>\n",
       "      <td>0</td>\n",
       "    </tr>\n",
       "  </tbody>\n",
       "</table>\n",
       "</div>"
      ],
      "text/plain": [
       "bairro_teste  banheiro  Bonfim Paulista  Centro  Jardim Botânico  \\\n",
       "0                    1               69     164              151   \n",
       "1                    2               31     208              251   \n",
       "2                    3                9     226              107   \n",
       "3                    4               21      75               89   \n",
       "4                    5                7      54              119   \n",
       "5                    6                3       5               13   \n",
       "6                    7                0       2                5   \n",
       "7                    8                1       0                0   \n",
       "8                    9                0       2                2   \n",
       "9                   12                0       0                1   \n",
       "10                  13                0       0                1   \n",
       "11                  20                0       0                0   \n",
       "\n",
       "bairro_teste  Jardim Irajá  Jardim Nova Aliança Sul  Nova Aliança  \\\n",
       "0                       64                       11           245   \n",
       "1                      126                       21           166   \n",
       "2                       78                       18           137   \n",
       "3                       42                        3            55   \n",
       "4                       35                        0            52   \n",
       "5                        6                        0             3   \n",
       "6                        1                        0             2   \n",
       "7                        0                        0             1   \n",
       "8                        1                        0             0   \n",
       "9                        0                        0             0   \n",
       "10                       0                        0             0   \n",
       "11                       0                        0             0   \n",
       "\n",
       "bairro_teste  Sumarezinho  Vila Monte Alegre  Vila Tibério  Vila Virginia  \n",
       "0                      72                 40            31            135  \n",
       "1                      45                 36            48              5  \n",
       "2                       1                  1            10              1  \n",
       "3                       0                  0             0              0  \n",
       "4                       0                  0             0              0  \n",
       "5                       0                  0             0              0  \n",
       "6                       0                  0             0              0  \n",
       "7                       0                  0             0              0  \n",
       "8                       0                  0             0              0  \n",
       "9                       0                  0             0              0  \n",
       "10                      0                  0             0              0  \n",
       "11                      0                  1             0              0  "
      ]
     },
     "execution_count": 24,
     "metadata": {},
     "output_type": "execute_result"
    }
   ],
   "source": [
    "base_banheiro = base_bairros.pivot_table(index='banheiro', columns='bairro_teste', aggfunc='size', fill_value=0).sort_index().reset_index()\n",
    "base_banheiro\n"
   ]
  },
  {
   "cell_type": "code",
   "execution_count": 25,
   "metadata": {},
   "outputs": [
    {
     "data": {
      "text/plain": [
       "Index(['banheiro', 'Bonfim Paulista', 'Centro', 'Jardim Botânico',\n",
       "       'Jardim Irajá', 'Jardim Nova Aliança Sul', 'Nova Aliança',\n",
       "       'Sumarezinho', 'Vila Monte Alegre', 'Vila Tibério', 'Vila Virginia'],\n",
       "      dtype='string', name='bairro_teste')"
      ]
     },
     "execution_count": 25,
     "metadata": {},
     "output_type": "execute_result"
    }
   ],
   "source": [
    "base_banheiro.columns"
   ]
  },
  {
   "cell_type": "code",
   "execution_count": 26,
   "metadata": {},
   "outputs": [
    {
     "name": "stderr",
     "output_type": "stream",
     "text": [
      "/tmp/ipykernel_5314/2173231052.py:1: SettingWithCopyWarning: \n",
      "A value is trying to be set on a copy of a slice from a DataFrame.\n",
      "Try using .loc[row_indexer,col_indexer] = value instead\n",
      "\n",
      "See the caveats in the documentation: https://pandas.pydata.org/pandas-docs/stable/user_guide/indexing.html#returning-a-view-versus-a-copy\n",
      "  base_bairros['bairro_teste'] = base_bairros['bairro_teste'].str.strip()\n"
     ]
    },
    {
     "data": {
      "text/html": [
       "<div>\n",
       "<style scoped>\n",
       "    .dataframe tbody tr th:only-of-type {\n",
       "        vertical-align: middle;\n",
       "    }\n",
       "\n",
       "    .dataframe tbody tr th {\n",
       "        vertical-align: top;\n",
       "    }\n",
       "\n",
       "    .dataframe thead th {\n",
       "        text-align: right;\n",
       "    }\n",
       "</style>\n",
       "<table border=\"1\" class=\"dataframe\">\n",
       "  <thead>\n",
       "    <tr style=\"text-align: right;\">\n",
       "      <th></th>\n",
       "      <th>bairro</th>\n",
       "      <th>total_imoveis</th>\n",
       "      <th>media</th>\n",
       "      <th>max_preco</th>\n",
       "      <th>min_preco</th>\n",
       "      <th>mediana</th>\n",
       "      <th>moda</th>\n",
       "      <th>desvio_padrao</th>\n",
       "      <th>erro_padrao</th>\n",
       "      <th>graus_liberdade</th>\n",
       "      <th>ic_limite_inferior</th>\n",
       "      <th>ic_limite_superior</th>\n",
       "    </tr>\n",
       "  </thead>\n",
       "  <tbody>\n",
       "    <tr>\n",
       "      <th>0</th>\n",
       "      <td>Jardim Botânico</td>\n",
       "      <td>739</td>\n",
       "      <td>744389.39</td>\n",
       "      <td>8000000.00</td>\n",
       "      <td>180000.00</td>\n",
       "      <td>553000.00</td>\n",
       "      <td>320000.00</td>\n",
       "      <td>720996.16</td>\n",
       "      <td>26522.27</td>\n",
       "      <td>738</td>\n",
       "      <td>692406.69</td>\n",
       "      <td>796372.09</td>\n",
       "    </tr>\n",
       "    <tr>\n",
       "      <th>1</th>\n",
       "      <td>Centro</td>\n",
       "      <td>736</td>\n",
       "      <td>402076.73</td>\n",
       "      <td>3100000.00</td>\n",
       "      <td>92000.00</td>\n",
       "      <td>360000.00</td>\n",
       "      <td>450000.00</td>\n",
       "      <td>223344.46</td>\n",
       "      <td>8232.59</td>\n",
       "      <td>735</td>\n",
       "      <td>385941.16</td>\n",
       "      <td>418212.30</td>\n",
       "    </tr>\n",
       "    <tr>\n",
       "      <th>2</th>\n",
       "      <td>Nova Aliança</td>\n",
       "      <td>661</td>\n",
       "      <td>518588.20</td>\n",
       "      <td>2290000.00</td>\n",
       "      <td>133000.00</td>\n",
       "      <td>430000.00</td>\n",
       "      <td>350000.00</td>\n",
       "      <td>300496.67</td>\n",
       "      <td>11687.97</td>\n",
       "      <td>660</td>\n",
       "      <td>495680.21</td>\n",
       "      <td>541496.19</td>\n",
       "    </tr>\n",
       "    <tr>\n",
       "      <th>3</th>\n",
       "      <td>Jardim Irajá</td>\n",
       "      <td>353</td>\n",
       "      <td>600323.40</td>\n",
       "      <td>2150000.00</td>\n",
       "      <td>150000.00</td>\n",
       "      <td>450000.00</td>\n",
       "      <td>430000.00</td>\n",
       "      <td>354985.06</td>\n",
       "      <td>18893.95</td>\n",
       "      <td>352</td>\n",
       "      <td>563291.94</td>\n",
       "      <td>637354.86</td>\n",
       "    </tr>\n",
       "    <tr>\n",
       "      <th>4</th>\n",
       "      <td>Sumarezinho</td>\n",
       "      <td>118</td>\n",
       "      <td>245524.66</td>\n",
       "      <td>590000.00</td>\n",
       "      <td>117000.00</td>\n",
       "      <td>230000.00</td>\n",
       "      <td>170000.00</td>\n",
       "      <td>72993.17</td>\n",
       "      <td>6719.57</td>\n",
       "      <td>117</td>\n",
       "      <td>232354.55</td>\n",
       "      <td>258694.77</td>\n",
       "    </tr>\n",
       "    <tr>\n",
       "      <th>5</th>\n",
       "      <td>Vila Tibério</td>\n",
       "      <td>89</td>\n",
       "      <td>338247.07</td>\n",
       "      <td>636000.00</td>\n",
       "      <td>150000.00</td>\n",
       "      <td>370000.00</td>\n",
       "      <td>390000.00</td>\n",
       "      <td>82390.86</td>\n",
       "      <td>8733.41</td>\n",
       "      <td>88</td>\n",
       "      <td>321129.89</td>\n",
       "      <td>355364.25</td>\n",
       "    </tr>\n",
       "    <tr>\n",
       "      <th>6</th>\n",
       "      <td>Vila Monte Alegre</td>\n",
       "      <td>78</td>\n",
       "      <td>282407.71</td>\n",
       "      <td>2500000.00</td>\n",
       "      <td>125000.00</td>\n",
       "      <td>260000.00</td>\n",
       "      <td>150000.00</td>\n",
       "      <td>265524.94</td>\n",
       "      <td>30064.78</td>\n",
       "      <td>77</td>\n",
       "      <td>223481.83</td>\n",
       "      <td>341333.59</td>\n",
       "    </tr>\n",
       "    <tr>\n",
       "      <th>7</th>\n",
       "      <td>Bonfim Paulista</td>\n",
       "      <td>141</td>\n",
       "      <td>589270.00</td>\n",
       "      <td>7451000.00</td>\n",
       "      <td>104652.00</td>\n",
       "      <td>295000.00</td>\n",
       "      <td>190000.00</td>\n",
       "      <td>911435.88</td>\n",
       "      <td>76756.75</td>\n",
       "      <td>140</td>\n",
       "      <td>438829.54</td>\n",
       "      <td>739710.46</td>\n",
       "    </tr>\n",
       "    <tr>\n",
       "      <th>8</th>\n",
       "      <td>Jardim Nova Aliança Sul</td>\n",
       "      <td>53</td>\n",
       "      <td>503976.55</td>\n",
       "      <td>880000.00</td>\n",
       "      <td>220000.00</td>\n",
       "      <td>480000.00</td>\n",
       "      <td>380000.00</td>\n",
       "      <td>175128.32</td>\n",
       "      <td>24055.72</td>\n",
       "      <td>52</td>\n",
       "      <td>456828.20</td>\n",
       "      <td>551124.90</td>\n",
       "    </tr>\n",
       "    <tr>\n",
       "      <th>9</th>\n",
       "      <td>Vila Tibério</td>\n",
       "      <td>89</td>\n",
       "      <td>338247.07</td>\n",
       "      <td>636000.00</td>\n",
       "      <td>150000.00</td>\n",
       "      <td>370000.00</td>\n",
       "      <td>390000.00</td>\n",
       "      <td>82390.86</td>\n",
       "      <td>8733.41</td>\n",
       "      <td>88</td>\n",
       "      <td>321129.89</td>\n",
       "      <td>355364.25</td>\n",
       "    </tr>\n",
       "    <tr>\n",
       "      <th>10</th>\n",
       "      <td>Vila Virginia</td>\n",
       "      <td>141</td>\n",
       "      <td>180787.74</td>\n",
       "      <td>400000.00</td>\n",
       "      <td>85000.00</td>\n",
       "      <td>175000.00</td>\n",
       "      <td>140000.00</td>\n",
       "      <td>48836.42</td>\n",
       "      <td>4112.77</td>\n",
       "      <td>140</td>\n",
       "      <td>172726.86</td>\n",
       "      <td>188848.62</td>\n",
       "    </tr>\n",
       "    <tr>\n",
       "      <th>11</th>\n",
       "      <td>Bonfim Paulista</td>\n",
       "      <td>141</td>\n",
       "      <td>589270.00</td>\n",
       "      <td>7451000.00</td>\n",
       "      <td>104652.00</td>\n",
       "      <td>295000.00</td>\n",
       "      <td>190000.00</td>\n",
       "      <td>911435.88</td>\n",
       "      <td>76756.75</td>\n",
       "      <td>140</td>\n",
       "      <td>438829.54</td>\n",
       "      <td>739710.46</td>\n",
       "    </tr>\n",
       "  </tbody>\n",
       "</table>\n",
       "</div>"
      ],
      "text/plain": [
       "                     bairro  total_imoveis     media  max_preco  min_preco  \\\n",
       "0           Jardim Botânico            739 744389.39 8000000.00  180000.00   \n",
       "1                    Centro            736 402076.73 3100000.00   92000.00   \n",
       "2              Nova Aliança            661 518588.20 2290000.00  133000.00   \n",
       "3              Jardim Irajá            353 600323.40 2150000.00  150000.00   \n",
       "4               Sumarezinho            118 245524.66  590000.00  117000.00   \n",
       "5              Vila Tibério             89 338247.07  636000.00  150000.00   \n",
       "6         Vila Monte Alegre             78 282407.71 2500000.00  125000.00   \n",
       "7           Bonfim Paulista            141 589270.00 7451000.00  104652.00   \n",
       "8   Jardim Nova Aliança Sul             53 503976.55  880000.00  220000.00   \n",
       "9              Vila Tibério             89 338247.07  636000.00  150000.00   \n",
       "10            Vila Virginia            141 180787.74  400000.00   85000.00   \n",
       "11          Bonfim Paulista            141 589270.00 7451000.00  104652.00   \n",
       "\n",
       "     mediana      moda  desvio_padrao  erro_padrao  graus_liberdade  \\\n",
       "0  553000.00 320000.00      720996.16     26522.27              738   \n",
       "1  360000.00 450000.00      223344.46      8232.59              735   \n",
       "2  430000.00 350000.00      300496.67     11687.97              660   \n",
       "3  450000.00 430000.00      354985.06     18893.95              352   \n",
       "4  230000.00 170000.00       72993.17      6719.57              117   \n",
       "5  370000.00 390000.00       82390.86      8733.41               88   \n",
       "6  260000.00 150000.00      265524.94     30064.78               77   \n",
       "7  295000.00 190000.00      911435.88     76756.75              140   \n",
       "8  480000.00 380000.00      175128.32     24055.72               52   \n",
       "9  370000.00 390000.00       82390.86      8733.41               88   \n",
       "10 175000.00 140000.00       48836.42      4112.77              140   \n",
       "11 295000.00 190000.00      911435.88     76756.75              140   \n",
       "\n",
       "    ic_limite_inferior  ic_limite_superior  \n",
       "0            692406.69           796372.09  \n",
       "1            385941.16           418212.30  \n",
       "2            495680.21           541496.19  \n",
       "3            563291.94           637354.86  \n",
       "4            232354.55           258694.77  \n",
       "5            321129.89           355364.25  \n",
       "6            223481.83           341333.59  \n",
       "7            438829.54           739710.46  \n",
       "8            456828.20           551124.90  \n",
       "9            321129.89           355364.25  \n",
       "10           172726.86           188848.62  \n",
       "11           438829.54           739710.46  "
      ]
     },
     "execution_count": 26,
     "metadata": {},
     "output_type": "execute_result"
    }
   ],
   "source": [
    "\n",
    "base_bairros['bairro_teste'] = base_bairros['bairro_teste'].str.strip()\n",
    "dados_estatisticos = []\n",
    "for bairro in bairros:\n",
    "    amostras = {}\n",
    "    base_temp = base_bairros.query(f'bairro_teste == \"{bairro}\"')\n",
    "    amostras['bairro'] = bairro\n",
    "    amostras['total_imoveis'] = base_temp.shape[0]\n",
    "    amostras['media'] = round(base_temp[\"preco\"].mean(), 2)\n",
    "    amostras['max_preco'] = round(base_temp[\"preco\"].max(), 2)\n",
    "    amostras['min_preco'] = round(base_temp[\"preco\"].min(), 2)\n",
    "    amostras['mediana'] = round(base_temp[\"preco\"].median(), 2)\n",
    "    amostras['moda'] = round(base_temp[\"preco\"].mode()[0], 2)\n",
    "    amostras['desvio_padrao'] = round(base_temp[\"preco\"].std(), 2)\n",
    "    amostras['erro_padrao'] = round(base_temp[\"preco\"].std(), 2) / math.sqrt(base_temp.shape[0])\n",
    "    amostras['graus_liberdade'] = base_temp.shape[0] - 1\n",
    "    amostras['ic_limite_inferior'] = norm.interval(0.95,  loc=round(base_temp[\"preco\"].mean(), 2), scale=round(base_temp[\"preco\"].std(), 2) / math.sqrt(base_temp.shape[0]))[0]\n",
    "    amostras['ic_limite_superior'] = norm.interval(0.95,  loc=round(base_temp[\"preco\"].mean(), 2), scale=round(base_temp[\"preco\"].std(), 2) / math.sqrt(base_temp.shape[0]))[1]\n",
    "    dados_estatisticos.append(amostras)\n",
    "base_dados_bairros_selecionados = pd.DataFrame(dados_estatisticos)\n",
    "base_dados_bairros_selecionados\n"
   ]
  },
  {
   "cell_type": "markdown",
   "metadata": {},
   "source": [
    "# Testes de hipóteses"
   ]
  },
  {
   "cell_type": "code",
   "execution_count": 27,
   "metadata": {},
   "outputs": [],
   "source": [
    "significancia = 0.05\n",
    "confianca = 1 - significancia"
   ]
  },
  {
   "cell_type": "markdown",
   "metadata": {},
   "source": [
    "- Preço por área"
   ]
  },
  {
   "cell_type": "code",
   "execution_count": 85,
   "metadata": {},
   "outputs": [
    {
     "name": "stdout",
     "output_type": "stream",
     "text": [
      "******************** Jardim Botânico ********************\n",
      "(739, 9)\n",
      "base_maior_area shape (100,) -> base_menor_area shape (100,)\n",
      "Estatística t: -5.569104011210093\n",
      "Valor p: 0.9999999586374804\n",
      "Não rejeitamos a hipótese nula: não há evidências suficientes para afirmar que os preços dos apartamentos de até 60 m² são maiores.\n",
      "\n",
      "******************** Centro ********************\n",
      "(736, 9)\n",
      "base_maior_area shape (80,) -> base_menor_area shape (80,)\n",
      "Estatística t: -10.462586201255423\n",
      "Valor p: 1.0\n",
      "Não rejeitamos a hipótese nula: não há evidências suficientes para afirmar que os preços dos apartamentos de até 60 m² são maiores.\n",
      "\n",
      "******************** Nova Aliança ********************\n",
      "(661, 9)\n",
      "base_maior_area shape (100,) -> base_menor_area shape (100,)\n",
      "Estatística t: -14.946243044767833\n",
      "Valor p: 1.0\n",
      "Não rejeitamos a hipótese nula: não há evidências suficientes para afirmar que os preços dos apartamentos de até 60 m² são maiores.\n",
      "\n",
      "******************** Jardim Irajá ********************\n",
      "(353, 9)\n",
      "base_maior_area shape (35,) -> base_menor_area shape (35,)\n",
      "Estatística t: -6.494680325102905\n",
      "Valor p: 0.9999999943016484\n",
      "Não rejeitamos a hipótese nula: não há evidências suficientes para afirmar que os preços dos apartamentos de até 60 m² são maiores.\n",
      "\n",
      "******************** Sumarezinho ********************\n",
      "(118, 9)\n",
      "base_maior_area shape (50,) -> base_menor_area shape (50,)\n",
      "Estatística t: -7.532630581890182\n",
      "Valor p: 0.9999999999875745\n",
      "Não rejeitamos a hipótese nula: não há evidências suficientes para afirmar que os preços dos apartamentos de até 60 m² são maiores.\n",
      "\n",
      "******************** Vila Tibério ********************\n",
      "(89, 9)\n",
      "('Vila Tibério', 34)\n",
      "\n",
      "******************** Vila Monte Alegre ********************\n",
      "(78, 9)\n",
      "base_maior_area shape (33,) -> base_menor_area shape (33,)\n",
      "Estatística t: -1.7397598966321497\n",
      "Valor p: 0.9566458171284803\n",
      "Não rejeitamos a hipótese nula: não há evidências suficientes para afirmar que os preços dos apartamentos de até 60 m² são maiores.\n",
      "\n",
      "******************** Vila Tibério ********************\n",
      "(89, 9)\n",
      "('Vila Tibério', 40)\n",
      "\n",
      "******************** Bonfim Paulista ********************\n",
      "(141, 9)\n",
      "base_maior_area shape (60,) -> base_menor_area shape (60,)\n",
      "Estatística t: -4.572373545005715\n",
      "Valor p: 0.9999940134079287\n",
      "Não rejeitamos a hipótese nula: não há evidências suficientes para afirmar que os preços dos apartamentos de até 60 m² são maiores.\n",
      "\n"
     ]
    }
   ],
   "source": [
    "bairros = [\n",
    "    ('Jardim Botânico', 100), \n",
    "    ('Centro', 80), \n",
    "    ('Nova Aliança', 100), \n",
    "    ('Jardim Irajá', 35), \n",
    "    ('Sumarezinho', 50), \n",
    "    ('Vila Tibério', 34), \n",
    "    ('Vila Monte Alegre', 33), \n",
    "    ('Vila Tibério', 40), \n",
    "    ('Bonfim Paulista', 60)\n",
    "]\n",
    "metro = 60\n",
    "for bairro in bairros:\n",
    "    try:\n",
    "        print('*' * 20, bairro[0], '*' * 20)\n",
    "        base_temp = base_bairros.query(f'bairro_teste == \"{ bairro[0]}\"')\n",
    "        print(base_temp.shape)\n",
    "        base_menor_area = base_temp.query(f'metragem < {metro}').sample(n=bairro[1], random_state=101).preco\n",
    "        base_maior_area = base_temp.query(f'metragem >= {metro}').sample(n=bairro[1], random_state=101).preco\n",
    "        print(f'base_maior_area shape {base_maior_area.shape} -> base_menor_area shape {base_menor_area.shape}' )\n",
    "        t_stat, p_value = ttest_ind(base_menor_area, base_maior_area, alternative='greater')\n",
    "        print(f'Estatística t: {t_stat}')\n",
    "        print(f'Valor p: {p_value}')\n",
    "        alpha = 0.05\n",
    "        if p_value < alpha:\n",
    "            print(f'Rejeitamos a hipótese nula: os preços dos apartamentos de até {metro} m² são significativamente maiores.')\n",
    "        else:\n",
    "            print(f'Não rejeitamos a hipótese nula: não há evidências suficientes para afirmar que os preços dos apartamentos de até {metro} m² são maiores.')\n",
    "    except Exception as e:\n",
    "        print(bairro)\n",
    "    print()\n"
   ]
  },
  {
   "cell_type": "markdown",
   "metadata": {},
   "source": [
    "\n",
    "\n",
    "# Parâmetros da Função ttest_ind\n",
    "A função ttest_ind tem vários parâmetros importantes:\n",
    "\n",
    "1 - a, b: As duas amostras independentes.\n",
    "2 - alternative: Especifica a hipótese alternativa. Pode ser 'two-sided' (padrão), 'less', ou 'greater'.\n",
    "- 'two-sided': Testa se as médias são diferentes (bicaudal).\n",
    "- 'less': Testa se a média da primeira amostra é menor que a média da segunda (unicaudal).\n",
    "- 'greater': Testa se a média da primeira amostra é maior que a média da segunda (unicaudal).\n",
    "<p>equal_var: Por padrão, é True, assumindo que as variâncias das duas populações são iguais. Se False, realiza o teste de Welch, que não assume variâncias iguais.</p>\n",
    "\n"
   ]
  },
  {
   "cell_type": "markdown",
   "metadata": {},
   "source": [
    "<p>Testes de hipóteses por bairro</p>\n",
    "<p>Verificar se os preços dos apartamentos de até 60 m2 são maiores que os apartamentos  de 60 metros</p>\n",
    "<p>- m1 = média de preços para quartos menores ou iguais que 60 m2 </p>\n",
    "<p>- m2 = média de preços para quartos maiores que 60 m2</p>\n",
    "<p>- H0: m1  <=   m2 → Hipótese nula</p>\n",
    "<p>-Ha: m1 > m2→ Hipótese Alternativa</p>"
   ]
  },
  {
   "cell_type": "code",
   "execution_count": 77,
   "metadata": {},
   "outputs": [
    {
     "data": {
      "text/plain": [
       "(42, 9)"
      ]
     },
     "execution_count": 77,
     "metadata": {},
     "output_type": "execute_result"
    }
   ],
   "source": [
    "bairro = 'Vila Monte Alegre'\n",
    "base_temp = base_bairros.query(f'bairro_teste == \"{bairro}\"')\n",
    "base_maior_area = base_temp.query('metragem > 60')\n",
    "base_maior_area.shape"
   ]
  },
  {
   "cell_type": "code",
   "execution_count": 83,
   "metadata": {},
   "outputs": [
    {
     "data": {
      "text/plain": [
       "((9, 9), (44, 9))"
      ]
     },
     "execution_count": 83,
     "metadata": {},
     "output_type": "execute_result"
    }
   ],
   "source": [
    "bairro = 'Jardim Nova Aliança Sul'\n",
    "base_temp = base_bairros.query(f'bairro_teste == \"{bairro}\"')\n",
    "base_menor_area = base_temp.query('metragem <= 60')\n",
    "base_maior_area = base_temp.query('metragem > 60')\n",
    "base_menor_area.shape, base_maior_area.shape"
   ]
  },
  {
   "cell_type": "code",
   "execution_count": 81,
   "metadata": {},
   "outputs": [
    {
     "name": "stdout",
     "output_type": "stream",
     "text": [
      "Estatística t: -1.7764246995789812\n",
      "Valor p: 0.9597920885843831\n",
      "Não rejeitamos a hipótese nula: não há evidências suficientes para afirmar que os preços dos apartamentos de até 60 m² são maiores.\n"
     ]
    }
   ],
   "source": [
    "bairro = 'Vila Monte Alegre'\n",
    "base_temp = base_bairros.query(f'bairro_teste == \"{bairro}\"')\n",
    "base_menor_area = base_temp.query('metragem <= 60').sample(n=33, random_state=101).preco\n",
    "base_maior_area = base_temp.query('metragem > 60').sample(n=33, random_state=101).preco\n",
    "media_menor_area = base_menor_area.mean()\n",
    "media_maior_area = base_maior_area.mean()\n",
    "dp_menor_area = base_menor_area.std()\n",
    "dp_maior_area = base_maior_area.std()\n",
    "\n",
    "media_menor_area,  media_maior_area\n",
    "t_stat, p_value = ttest_ind(base_menor_area, base_maior_area, alternative='greater')\n",
    "\n",
    "\n",
    "# Imprimir os resultados\n",
    "print(f'Estatística t: {t_stat}')\n",
    "print(f'Valor p: {p_value}')\n",
    "\n",
    "\n",
    "alpha = 0.05\n",
    "if p_value < alpha:\n",
    "    print(\"Rejeitamos a hipótese nula: os preços dos apartamentos de até 60 m² são significativamente maiores.\")\n",
    "else:\n",
    "    print(\"Não rejeitamos a hipótese nula: não há evidências suficientes para afirmar que os preços dos apartamentos de até 60 m² são maiores.\")"
   ]
  },
  {
   "cell_type": "code",
   "execution_count": 47,
   "metadata": {},
   "outputs": [
    {
     "name": "stderr",
     "output_type": "stream",
     "text": [
      "/tmp/ipykernel_5314/857959074.py:28: FutureWarning: \n",
      "\n",
      "`shade` is now deprecated in favor of `fill`; setting `fill=True`.\n",
      "This will become an error in seaborn v0.14.0; please update your code.\n",
      "\n",
      "  sns.kdeplot(base_menor_area, label='Apartamentos <= 60 m²', shade=True)\n",
      "/tmp/ipykernel_5314/857959074.py:29: FutureWarning: \n",
      "\n",
      "`shade` is now deprecated in favor of `fill`; setting `fill=True`.\n",
      "This will become an error in seaborn v0.14.0; please update your code.\n",
      "\n",
      "  sns.kdeplot(base_maior_area, label='Apartamentos > 60 m²', shade=True)\n"
     ]
    },
    {
     "data": {
      "image/png": "[encoded data removed]",
      "text/plain": [
       "<Figure size 1000x600 with 1 Axes>"
      ]
     },
     "metadata": {},
     "output_type": "display_data"
    },
    {
     "name": "stdout",
     "output_type": "stream",
     "text": [
      "Não rejeitamos a hipótese nula: não há evidências suficientes para afirmar que os preços dos apartamentos de até 60 m² são maiores.\n"
     ]
    }
   ],
   "source": [
    "import matplotlib.pyplot as plt\n",
    "import seaborn as sns\n",
    "import numpy as np\n",
    "from scipy.stats import ttest_ind\n",
    "\n",
    "# Dados fictícios (substituir pelos dados reais)\n",
    "bairro = 'Jardim Botânico'\n",
    "base_temp = base_bairros.query(f'bairro_teste == \"{bairro}\"')\n",
    "base_menor_area = base_temp.query('metragem <= 60').sample(n=100, random_state=101).preco\n",
    "base_maior_area = base_temp.query('metragem > 60').sample(n=100, random_state=101).preco\n",
    "\n",
    "# Calcular médias e desvios padrão\n",
    "media_menor_area = base_menor_area.mean()\n",
    "media_maior_area = base_maior_area.mean()\n",
    "dp_menor_area = base_menor_area.std()\n",
    "dp_maior_area = base_maior_area.std()\n",
    "\n",
    "# Realizar teste t\n",
    "t_stat, p_value = ttest_ind(base_menor_area, base_maior_area, alternative='greater')\n",
    "\n",
    "# Definir alpha\n",
    "alpha = 0.05\n",
    "\n",
    "# Criar gráfico\n",
    "plt.figure(figsize=(10, 6))\n",
    "\n",
    "# Distribuição das amostras\n",
    "sns.kdeplot(base_menor_area, label='Apartamentos <= 60 m²', shade=True)\n",
    "sns.kdeplot(base_maior_area, label='Apartamentos > 60 m²', shade=True)\n",
    "\n",
    "# Adicionar linha para a média de cada amostra\n",
    "plt.axvline(media_menor_area, color='blue', linestyle='--', linewidth=2, label=f'Média <= 60 m²: {media_menor_area:.2f}')\n",
    "plt.axvline(media_maior_area, color='orange', linestyle='--', linewidth=2, label=f'Média > 60 m²: {media_maior_area:.2f}')\n",
    "\n",
    "# Adicionar linha para o valor crítico (únicaudal)\n",
    "# Valor crítico é o ponto onde a cauda direita começa\n",
    "from scipy.stats import t\n",
    "critical_value = t.ppf(1 - alpha, df=(len(base_menor_area) + len(base_maior_area) - 2))\n",
    "plt.axvline(critical_value, color='red', linestyle=':', linewidth=2, label=f'Valor crítico (α = 0.05): {critical_value:.2f}')\n",
    "\n",
    "# Título e legendas\n",
    "plt.title('Teste de Hipóteses: Preços dos Apartamentos')\n",
    "plt.xlabel('Preço')\n",
    "plt.ylabel('Densidade')\n",
    "plt.legend()\n",
    "\n",
    "# Exibir resultados do teste\n",
    "plt.figtext(0.30, 0.8, f'Estatística t: {t_stat:.2f}', fontsize=12, ha='left')\n",
    "plt.figtext(0.30, 0.75, f'Valor p: {p_value:.4f}', fontsize=12, ha='left')\n",
    "plt.figtext(0.30, 0.7, f'Hipótese: {\"Rejeitada\" if p_value < alpha else \"Não Rejeitada\"}', fontsize=12, ha='left')\n",
    "\n",
    "plt.show()\n",
    "\n",
    "if p_value < alpha:\n",
    "    print(\"Rejeitamos a hipótese nula: os preços dos apartamentos de até 60 m² são significativamente maiores.\")\n",
    "else:\n",
    "    print(\"Não rejeitamos a hipótese nula: não há evidências suficientes para afirmar que os preços dos apartamentos de até 60 m² são maiores.\")\n"
   ]
  },
  {
   "cell_type": "code",
   "execution_count": 49,
   "metadata": {},
   "outputs": [
    {
     "data": {
      "image/png": "[encoded data removed]",
      "text/plain": [
       "<Figure size 1000x600 with 1 Axes>"
      ]
     },
     "metadata": {},
     "output_type": "display_data"
    }
   ],
   "source": [
    "import numpy as np\n",
    "import scipy.stats as stats\n",
    "import matplotlib.pyplot as plt\n",
    "\n",
    "\n",
    "np.random.seed(0)\n",
    "data = np.random.normal(loc=5, scale=2, size=50)\n",
    "\n",
    "\n",
    "mu = 5  \n",
    "alpha = 0.05\n",
    "\n",
    "t_stat, p_value = stats.ttest_1samp(data, mu)\n",
    "\n",
    "t_critical = stats.t.ppf(1 - alpha/2, df=len(data)-1)\n",
    "\n",
    "# Plotar a distribuição t\n",
    "x = np.linspace(-4, 4, 1000)\n",
    "y = stats.t.pdf(x, df=len(data)-1)\n",
    "\n",
    "plt.figure(figsize=(10, 6))\n",
    "plt.plot(x, y, label='Distribuição t')\n",
    "plt.fill_between(x, y, where=(x >= t_critical) | (x <= -t_critical), color='red', alpha=0.3, label='Região de Rejeição')\n",
    "plt.axvline(t_stat, color='blue', linestyle='--', label=f'Estatística t Observada: {t_stat:.2f}')\n",
    "plt.title('Teste de Hipóteses: t-teste')\n",
    "plt.xlabel('Estatística t')\n",
    "plt.ylabel('Densidade de Probabilidade')\n",
    "plt.legend()\n",
    "plt.grid(True)\n",
    "plt.show()\n"
   ]
  },
  {
   "cell_type": "code",
   "execution_count": 52,
   "metadata": {},
   "outputs": [
    {
     "data": {
      "application/vnd.plotly.v1+json": {
       "config": {
        "plotlyServerURL": "https://plot.ly"
       },
       "data": [
        {
         "line": {
          "color": "rgb(31, 119, 180)"
         },
         "mode": "lines",
         "name": "Média",
         "type": "scatter",
         "x": [
          1947,
          1948,
          1950,
          1951,
          1952,
          1953,
          1954,
          1955,
          1956,
          1957,
          1958,
          1959,
          1960,
          1961,
          1962,
          1963,
          1964,
          1965,
          1966,
          1967,
          1968,
          1969,
          1970,
          1971,
          1972,
          1973,
          1974,
          1975,
          1976,
          1977,
          1978,
          1979,
          1980,
          1981,
          1982,
          1983,
          1984,
          1985,
          1986,
          1987,
          1988,
          1989,
          1990,
          1991,
          1992,
          1993,
          1994,
          1995,
          1996,
          1997,
          1998,
          1999,
          2000,
          2001,
          2002,
          2003,
          2004,
          2005,
          2006,
          2007,
          2008,
          2009,
          2010,
          2011,
          2012,
          2013,
          2014,
          2015,
          2016,
          2017,
          2018,
          2019,
          2020,
          1949
         ],
         "y": [
          0,
          0,
          0,
          0,
          0.19999999999999998,
          2.433333333333333,
          2.433333333333333,
          3.0666666666666664,
          3.0666666666666664,
          3.0666666666666664,
          4.25,
          4.25,
          3.575,
          3.425,
          3.175,
          3.4199999999999995,
          3.9200000000000004,
          3.9200000000000004,
          4.316666666666666,
          3.983333333333333,
          3.6999999999999997,
          3.6999999999999997,
          3.983333333333333,
          3.983333333333333,
          3.983333333333333,
          4.816666666666666,
          6.516666666666667,
          6.516666666666667,
          6.8500000000000005,
          6.8500000000000005,
          6.3999999999999995,
          6.366666666666667,
          6.366666666666667,
          6.671428571428572,
          6.057142857142857,
          5.65,
          5.688888888888889,
          5.9071428571428575,
          6.206666666666666,
          6.2,
          7.24375,
          8.2,
          8.911764705882353,
          8.523529411764706,
          8.435294117647059,
          8.523529411764706,
          9.4,
          10.122222222222222,
          9.772222222222222,
          10.783333333333333,
          12.433333333333334,
          12.172222222222222,
          11.993888888888888,
          13.116111111111111,
          14.351666666666667,
          15.135555555555555,
          15.910555555555554,
          17.388333333333335,
          18.86,
          19.506666666666668,
          19.54611111111111,
          19.93777777777778,
          20.41111111111111,
          21.056666666666665,
          21.93111111111111,
          22.837777777777777,
          26.08277777777778,
          26.492222222222225,
          27.67833333333333,
          28.04388888888889,
          29.179444444444446,
          30.153333333333332,
          29.99777777777778,
          null
         ]
        },
        {
         "line": {
          "width": 0
         },
         "marker": {
          "color": "#444"
         },
         "mode": "lines",
         "name": "Superior",
         "showlegend": false,
         "type": "scatter",
         "x": [
          1947,
          1948,
          1950,
          1951,
          1952,
          1953,
          1954,
          1955,
          1956,
          1957,
          1958,
          1959,
          1960,
          1961,
          1962,
          1963,
          1964,
          1965,
          1966,
          1967,
          1968,
          1969,
          1970,
          1971,
          1972,
          1973,
          1974,
          1975,
          1976,
          1977,
          1978,
          1979,
          1980,
          1981,
          1982,
          1983,
          1984,
          1985,
          1986,
          1987,
          1988,
          1989,
          1990,
          1991,
          1992,
          1993,
          1994,
          1995,
          1996,
          1997,
          1998,
          1999,
          2000,
          2001,
          2002,
          2003,
          2004,
          2005,
          2006,
          2007,
          2008,
          2009,
          2010,
          2011,
          2012,
          2013,
          2014,
          2015,
          2016,
          2017,
          2018,
          2019,
          2020,
          1949
         ],
         "y": [
          null,
          null,
          null,
          0,
          0.529,
          5.954214074631517,
          5.954214074631517,
          6.282257155899467,
          6.282257155899467,
          6.282257155899467,
          5.370734850072338,
          5.370734850072338,
          4.6183653757393275,
          4.314352886818088,
          4.256569256816995,
          4.172756026213008,
          5.1569262447696715,
          5.1569262447696715,
          5.089894440532672,
          4.91525805683721,
          5.053172907158086,
          5.053172907158086,
          5.544735968875421,
          5.544735968875421,
          5.544735968875421,
          5.87204809389781,
          9.220150195426882,
          9.220150195426882,
          9.574532543238687,
          9.574532543238687,
          8.697902692311693,
          8.652631439895783,
          8.652631439895783,
          8.667407403981663,
          7.988532167112928,
          7.486536652234308,
          7.309824837035461,
          7.435716666097818,
          7.7837164759977195,
          7.666650733104738,
          8.71607621390208,
          9.461405049934397,
          10.166930138912342,
          9.7243039703515,
          9.657372400257406,
          9.960900638131626,
          10.941663268742944,
          11.917915055945858,
          11.491752477625294,
          12.941150716682913,
          14.634715623379318,
          14.293344193104064,
          14.115831844458317,
          15.730890172581093,
          17.381030269365596,
          18.067370130552742,
          18.98823037804791,
          20.25112893148586,
          22.276901463058547,
          22.963555007718487,
          22.949225779182647,
          23.57712001278778,
          24.016834854469533,
          25.005416521926144,
          26.103508334654556,
          27.139461680359062,
          30.636875938332327,
          31.23641468790446,
          32.454904930594516,
          32.73442091272777,
          34.076430687090706,
          34.98114104617497,
          34.83447227270267,
          null
         ]
        },
        {
         "fill": "tonexty",
         "fillcolor": "rgba(68, 68, 68, 0.3)",
         "line": {
          "width": 0
         },
         "marker": {
          "color": "#444"
         },
         "mode": "lines",
         "name": "Inferior",
         "showlegend": false,
         "type": "scatter",
         "x": [
          1947,
          1948,
          1950,
          1951,
          1952,
          1953,
          1954,
          1955,
          1956,
          1957,
          1958,
          1959,
          1960,
          1961,
          1962,
          1963,
          1964,
          1965,
          1966,
          1967,
          1968,
          1969,
          1970,
          1971,
          1972,
          1973,
          1974,
          1975,
          1976,
          1977,
          1978,
          1979,
          1980,
          1981,
          1982,
          1983,
          1984,
          1985,
          1986,
          1987,
          1988,
          1989,
          1990,
          1991,
          1992,
          1993,
          1994,
          1995,
          1996,
          1997,
          1998,
          1999,
          2000,
          2001,
          2002,
          2003,
          2004,
          2005,
          2006,
          2007,
          2008,
          2009,
          2010,
          2011,
          2012,
          2013,
          2014,
          2015,
          2016,
          2017,
          2018,
          2019,
          2020,
          1949
         ],
         "y": [
          null,
          null,
          null,
          0,
          -0.12900000000000003,
          -1.0875474079648506,
          -1.0875474079648506,
          -0.14892382256613468,
          -0.14892382256613468,
          -0.14892382256613468,
          3.1292651499276616,
          3.1292651499276616,
          2.531634624260673,
          2.535647113181912,
          2.093430743183005,
          2.6672439737869906,
          2.683073755230329,
          2.683073755230329,
          3.543438892800661,
          3.0514086098294557,
          2.346827092841913,
          2.346827092841913,
          2.421930697791245,
          2.421930697791245,
          2.421930697791245,
          3.7612852394355234,
          3.813183137906452,
          3.813183137906452,
          4.125467456761314,
          4.125467456761314,
          4.102097307688305,
          4.080701893437551,
          4.080701893437551,
          4.675449738875481,
          4.125753547172786,
          3.8134633477656923,
          4.067952940742317,
          4.378569048187897,
          4.629616857335613,
          4.733349266895262,
          5.771423786097921,
          6.9385949500656015,
          7.6565992728523655,
          7.322754853177912,
          7.213215835036712,
          7.086158185397785,
          7.858336731257057,
          8.326529388498585,
          8.05269196681915,
          8.625515949983754,
          10.23195104328735,
          10.051100251340381,
          9.87194593331946,
          10.50133204964113,
          11.32230306396774,
          12.203740980558369,
          12.832880733063197,
          14.52553773518081,
          15.443098536941452,
          16.04977832561485,
          16.14299644303957,
          16.298435542767777,
          16.80538736775269,
          17.107916811407186,
          17.758713887567666,
          18.536093875196492,
          21.52867961722323,
          21.74802975653999,
          22.901761736072146,
          23.35335686505001,
          24.282458201798182,
          25.325525620491693,
          25.16108328285289,
          null
         ]
        }
       ],
       "layout": {
        "hovermode": "x",
        "template": {
         "data": {
          "bar": [
           {
            "error_x": {
             "color": "#2a3f5f"
            },
            "error_y": {
             "color": "#2a3f5f"
            },
            "marker": {
             "line": {
              "color": "#E5ECF6",
              "width": 0.5
             },
             "pattern": {
              "fillmode": "overlay",
              "size": 10,
              "solidity": 0.2
             }
            },
            "type": "bar"
           }
          ],
          "barpolar": [
           {
            "marker": {
             "line": {
              "color": "#E5ECF6",
              "width": 0.5
             },
             "pattern": {
              "fillmode": "overlay",
              "size": 10,
              "solidity": 0.2
             }
            },
            "type": "barpolar"
           }
          ],
          "carpet": [
           {
            "aaxis": {
             "endlinecolor": "#2a3f5f",
             "gridcolor": "white",
             "linecolor": "white",
             "minorgridcolor": "white",
             "startlinecolor": "#2a3f5f"
            },
            "baxis": {
             "endlinecolor": "#2a3f5f",
             "gridcolor": "white",
             "linecolor": "white",
             "minorgridcolor": "white",
             "startlinecolor": "#2a3f5f"
            },
            "type": "carpet"
           }
          ],
          "choropleth": [
           {
            "colorbar": {
             "outlinewidth": 0,
             "ticks": ""
            },
            "type": "choropleth"
           }
          ],
          "contour": [
           {
            "colorbar": {
             "outlinewidth": 0,
             "ticks": ""
            },
            "colorscale": [
             [
              0,
              "#0d0887"
             ],
             [
              0.1111111111111111,
              "#46039f"
             ],
             [
              0.2222222222222222,
              "#7201a8"
             ],
             [
              0.3333333333333333,
              "#9c179e"
             ],
             [
              0.4444444444444444,
              "#bd3786"
             ],
             [
              0.5555555555555556,
              "#d8576b"
             ],
             [
              0.6666666666666666,
              "#ed7953"
             ],
             [
              0.7777777777777778,
              "#fb9f3a"
             ],
             [
              0.8888888888888888,
              "#fdca26"
             ],
             [
              1,
              "#f0f921"
             ]
            ],
            "type": "contour"
           }
          ],
          "contourcarpet": [
           {
            "colorbar": {
             "outlinewidth": 0,
             "ticks": ""
            },
            "type": "contourcarpet"
           }
          ],
          "heatmap": [
           {
            "colorbar": {
             "outlinewidth": 0,
             "ticks": ""
            },
            "colorscale": [
             [
              0,
              "#0d0887"
             ],
             [
              0.1111111111111111,
              "#46039f"
             ],
             [
              0.2222222222222222,
              "#7201a8"
             ],
             [
              0.3333333333333333,
              "#9c179e"
             ],
             [
              0.4444444444444444,
              "#bd3786"
             ],
             [
              0.5555555555555556,
              "#d8576b"
             ],
             [
              0.6666666666666666,
              "#ed7953"
             ],
             [
              0.7777777777777778,
              "#fb9f3a"
             ],
             [
              0.8888888888888888,
              "#fdca26"
             ],
             [
              1,
              "#f0f921"
             ]
            ],
            "type": "heatmap"
           }
          ],
          "heatmapgl": [
           {
            "colorbar": {
             "outlinewidth": 0,
             "ticks": ""
            },
            "colorscale": [
             [
              0,
              "#0d0887"
             ],
             [
              0.1111111111111111,
              "#46039f"
             ],
             [
              0.2222222222222222,
              "#7201a8"
             ],
             [
              0.3333333333333333,
              "#9c179e"
             ],
             [
              0.4444444444444444,
              "#bd3786"
             ],
             [
              0.5555555555555556,
              "#d8576b"
             ],
             [
              0.6666666666666666,
              "#ed7953"
             ],
             [
              0.7777777777777778,
              "#fb9f3a"
             ],
             [
              0.8888888888888888,
              "#fdca26"
             ],
             [
              1,
              "#f0f921"
             ]
            ],
            "type": "heatmapgl"
           }
          ],
          "histogram": [
           {
            "marker": {
             "pattern": {
              "fillmode": "overlay",
              "size": 10,
              "solidity": 0.2
             }
            },
            "type": "histogram"
           }
          ],
          "histogram2d": [
           {
            "colorbar": {
             "outlinewidth": 0,
             "ticks": ""
            },
            "colorscale": [
             [
              0,
              "#0d0887"
             ],
             [
              0.1111111111111111,
              "#46039f"
             ],
             [
              0.2222222222222222,
              "#7201a8"
             ],
             [
              0.3333333333333333,
              "#9c179e"
             ],
             [
              0.4444444444444444,
              "#bd3786"
             ],
             [
              0.5555555555555556,
              "#d8576b"
             ],
             [
              0.6666666666666666,
              "#ed7953"
             ],
             [
              0.7777777777777778,
              "#fb9f3a"
             ],
             [
              0.8888888888888888,
              "#fdca26"
             ],
             [
              1,
              "#f0f921"
             ]
            ],
            "type": "histogram2d"
           }
          ],
          "histogram2dcontour": [
           {
            "colorbar": {
             "outlinewidth": 0,
             "ticks": ""
            },
            "colorscale": [
             [
              0,
              "#0d0887"
             ],
             [
              0.1111111111111111,
              "#46039f"
             ],
             [
              0.2222222222222222,
              "#7201a8"
             ],
             [
              0.3333333333333333,
              "#9c179e"
             ],
             [
              0.4444444444444444,
              "#bd3786"
             ],
             [
              0.5555555555555556,
              "#d8576b"
             ],
             [
              0.6666666666666666,
              "#ed7953"
             ],
             [
              0.7777777777777778,
              "#fb9f3a"
             ],
             [
              0.8888888888888888,
              "#fdca26"
             ],
             [
              1,
              "#f0f921"
             ]
            ],
            "type": "histogram2dcontour"
           }
          ],
          "mesh3d": [
           {
            "colorbar": {
             "outlinewidth": 0,
             "ticks": ""
            },
            "type": "mesh3d"
           }
          ],
          "parcoords": [
           {
            "line": {
             "colorbar": {
              "outlinewidth": 0,
              "ticks": ""
             }
            },
            "type": "parcoords"
           }
          ],
          "pie": [
           {
            "automargin": true,
            "type": "pie"
           }
          ],
          "scatter": [
           {
            "fillpattern": {
             "fillmode": "overlay",
             "size": 10,
             "solidity": 0.2
            },
            "type": "scatter"
           }
          ],
          "scatter3d": [
           {
            "line": {
             "colorbar": {
              "outlinewidth": 0,
              "ticks": ""
             }
            },
            "marker": {
             "colorbar": {
              "outlinewidth": 0,
              "ticks": ""
             }
            },
            "type": "scatter3d"
           }
          ],
          "scattercarpet": [
           {
            "marker": {
             "colorbar": {
              "outlinewidth": 0,
              "ticks": ""
             }
            },
            "type": "scattercarpet"
           }
          ],
          "scattergeo": [
           {
            "marker": {
             "colorbar": {
              "outlinewidth": 0,
              "ticks": ""
             }
            },
            "type": "scattergeo"
           }
          ],
          "scattergl": [
           {
            "marker": {
             "colorbar": {
              "outlinewidth": 0,
              "ticks": ""
             }
            },
            "type": "scattergl"
           }
          ],
          "scattermapbox": [
           {
            "marker": {
             "colorbar": {
              "outlinewidth": 0,
              "ticks": ""
             }
            },
            "type": "scattermapbox"
           }
          ],
          "scatterpolar": [
           {
            "marker": {
             "colorbar": {
              "outlinewidth": 0,
              "ticks": ""
             }
            },
            "type": "scatterpolar"
           }
          ],
          "scatterpolargl": [
           {
            "marker": {
             "colorbar": {
              "outlinewidth": 0,
              "ticks": ""
             }
            },
            "type": "scatterpolargl"
           }
          ],
          "scatterternary": [
           {
            "marker": {
             "colorbar": {
              "outlinewidth": 0,
              "ticks": ""
             }
            },
            "type": "scatterternary"
           }
          ],
          "surface": [
           {
            "colorbar": {
             "outlinewidth": 0,
             "ticks": ""
            },
            "colorscale": [
             [
              0,
              "#0d0887"
             ],
             [
              0.1111111111111111,
              "#46039f"
             ],
             [
              0.2222222222222222,
              "#7201a8"
             ],
             [
              0.3333333333333333,
              "#9c179e"
             ],
             [
              0.4444444444444444,
              "#bd3786"
             ],
             [
              0.5555555555555556,
              "#d8576b"
             ],
             [
              0.6666666666666666,
              "#ed7953"
             ],
             [
              0.7777777777777778,
              "#fb9f3a"
             ],
             [
              0.8888888888888888,
              "#fdca26"
             ],
             [
              1,
              "#f0f921"
             ]
            ],
            "type": "surface"
           }
          ],
          "table": [
           {
            "cells": {
             "fill": {
              "color": "#EBF0F8"
             },
             "line": {
              "color": "white"
             }
            },
            "header": {
             "fill": {
              "color": "#C8D4E3"
             },
             "line": {
              "color": "white"
             }
            },
            "type": "table"
           }
          ]
         },
         "layout": {
          "annotationdefaults": {
           "arrowcolor": "#2a3f5f",
           "arrowhead": 0,
           "arrowwidth": 1
          },
          "autotypenumbers": "strict",
          "coloraxis": {
           "colorbar": {
            "outlinewidth": 0,
            "ticks": ""
           }
          },
          "colorscale": {
           "diverging": [
            [
             0,
             "#8e0152"
            ],
            [
             0.1,
             "#c51b7d"
            ],
            [
             0.2,
             "#de77ae"
            ],
            [
             0.3,
             "#f1b6da"
            ],
            [
             0.4,
             "#fde0ef"
            ],
            [
             0.5,
             "#f7f7f7"
            ],
            [
             0.6,
             "#e6f5d0"
            ],
            [
             0.7,
             "#b8e186"
            ],
            [
             0.8,
             "#7fbc41"
            ],
            [
             0.9,
             "#4d9221"
            ],
            [
             1,
             "#276419"
            ]
           ],
           "sequential": [
            [
             0,
             "#0d0887"
            ],
            [
             0.1111111111111111,
             "#46039f"
            ],
            [
             0.2222222222222222,
             "#7201a8"
            ],
            [
             0.3333333333333333,
             "#9c179e"
            ],
            [
             0.4444444444444444,
             "#bd3786"
            ],
            [
             0.5555555555555556,
             "#d8576b"
            ],
            [
             0.6666666666666666,
             "#ed7953"
            ],
            [
             0.7777777777777778,
             "#fb9f3a"
            ],
            [
             0.8888888888888888,
             "#fdca26"
            ],
            [
             1,
             "#f0f921"
            ]
           ],
           "sequentialminus": [
            [
             0,
             "#0d0887"
            ],
            [
             0.1111111111111111,
             "#46039f"
            ],
            [
             0.2222222222222222,
             "#7201a8"
            ],
            [
             0.3333333333333333,
             "#9c179e"
            ],
            [
             0.4444444444444444,
             "#bd3786"
            ],
            [
             0.5555555555555556,
             "#d8576b"
            ],
            [
             0.6666666666666666,
             "#ed7953"
            ],
            [
             0.7777777777777778,
             "#fb9f3a"
            ],
            [
             0.8888888888888888,
             "#fdca26"
            ],
            [
             1,
             "#f0f921"
            ]
           ]
          },
          "colorway": [
           "#636efa",
           "#EF553B",
           "#00cc96",
           "#ab63fa",
           "#FFA15A",
           "#19d3f3",
           "#FF6692",
           "#B6E880",
           "#FF97FF",
           "#FECB52"
          ],
          "font": {
           "color": "#2a3f5f"
          },
          "geo": {
           "bgcolor": "white",
           "lakecolor": "white",
           "landcolor": "#E5ECF6",
           "showlakes": true,
           "showland": true,
           "subunitcolor": "white"
          },
          "hoverlabel": {
           "align": "left"
          },
          "hovermode": "closest",
          "mapbox": {
           "style": "light"
          },
          "paper_bgcolor": "white",
          "plot_bgcolor": "#E5ECF6",
          "polar": {
           "angularaxis": {
            "gridcolor": "white",
            "linecolor": "white",
            "ticks": ""
           },
           "bgcolor": "#E5ECF6",
           "radialaxis": {
            "gridcolor": "white",
            "linecolor": "white",
            "ticks": ""
           }
          },
          "scene": {
           "xaxis": {
            "backgroundcolor": "#E5ECF6",
            "gridcolor": "white",
            "gridwidth": 2,
            "linecolor": "white",
            "showbackground": true,
            "ticks": "",
            "zerolinecolor": "white"
           },
           "yaxis": {
            "backgroundcolor": "#E5ECF6",
            "gridcolor": "white",
            "gridwidth": 2,
            "linecolor": "white",
            "showbackground": true,
            "ticks": "",
            "zerolinecolor": "white"
           },
           "zaxis": {
            "backgroundcolor": "#E5ECF6",
            "gridcolor": "white",
            "gridwidth": 2,
            "linecolor": "white",
            "showbackground": true,
            "ticks": "",
            "zerolinecolor": "white"
           }
          },
          "shapedefaults": {
           "line": {
            "color": "#2a3f5f"
           }
          },
          "ternary": {
           "aaxis": {
            "gridcolor": "white",
            "linecolor": "white",
            "ticks": ""
           },
           "baxis": {
            "gridcolor": "white",
            "linecolor": "white",
            "ticks": ""
           },
           "bgcolor": "#E5ECF6",
           "caxis": {
            "gridcolor": "white",
            "linecolor": "white",
            "ticks": ""
           }
          },
          "title": {
           "x": 0.05
          },
          "xaxis": {
           "automargin": true,
           "gridcolor": "white",
           "linecolor": "white",
           "ticks": "",
           "title": {
            "standoff": 15
           },
           "zerolinecolor": "white",
           "zerolinewidth": 2
          },
          "yaxis": {
           "automargin": true,
           "gridcolor": "white",
           "linecolor": "white",
           "ticks": "",
           "title": {
            "standoff": 15
           },
           "zerolinecolor": "white",
           "zerolinewidth": 2
          }
         }
        },
        "title": {
         "text": "Mulheres Eleitas(%) nas Câmaras Baixas da América Latina (1949-2020)"
        },
        "xaxis": {
         "title": {
          "text": "Ano"
         }
        },
        "yaxis": {
         "title": {
          "text": "Mulheres Eleitas %"
         }
        }
       }
      }
     },
     "metadata": {},
     "output_type": "display_data"
    }
   ],
   "source": [
    "#carregando bibliotecas para manipulacao de dados\n",
    "import pandas as pd\n",
    "import numpy as np\n",
    "\n",
    "#carregando bibliotecas para plotar graficos interativos\n",
    "import plotly.express as px\n",
    "import plotly.graph_objects as go\n",
    "\n",
    "\n",
    "\n",
    "# Manipulacao de Dados\n",
    "\n",
    "# link com a base de dados do vdem\n",
    "url = 'https://raw.githubusercontent.com/mibezerra/Disserta-o/main/vdem.csv'\n",
    "\n",
    "#carregando a base de dados\n",
    "vdem_df = pd.read_csv(url, sep = ';', decimal = ',')\n",
    "\n",
    "#imprimindo as primeiras linhas\n",
    "vdem_df.head()\n",
    "\n",
    "#calculando a media e desvio padrao de mulheres eleitas e numero de eleicoes por ano\n",
    "vdem_pivot = vdem_df.pivot_table(values = 'v2lgfemleg',\n",
    "                                index = 'year',\n",
    "                                aggfunc = ['mean', 'std', 'count']).reset_index()\n",
    "                        \n",
    "## erro padrao\n",
    "vdem_pivot['std_error'] = vdem_pivot['std'] / np.sqrt(vdem_pivot['count'])\n",
    "\n",
    "#redefinindo os nomes das colunas\n",
    "vdem_pivot.columns = ['ano', 'avg', 'std', 'n', 'std_error']\n",
    "\n",
    "##intervalo de confianca 90%\n",
    "vdem_pivot['ci_upper90'] = vdem_pivot['avg'] + vdem_pivot['std_error'] * 1.645\n",
    "vdem_pivot['ci_lower90'] = vdem_pivot['avg'] - vdem_pivot['std_error'] * 1.645\n",
    "\n",
    "##intervalo de confianca 95%\n",
    "vdem_pivot['ci_upper95'] = vdem_pivot['avg'] + vdem_pivot['std_error'] * 1.96\n",
    "vdem_pivot['ci_lower95'] = vdem_pivot['avg'] - vdem_pivot['std_error'] * 1.96\n",
    "\n",
    "##intervalo de confianca 99%\n",
    "vdem_pivot['ci_upper99'] = vdem_pivot['avg'] + vdem_pivot['std_error'] * 2.58\n",
    "vdem_pivot['ci_lower99'] = vdem_pivot['avg'] - vdem_pivot['std_error'] * 2.58\n",
    "\n",
    "\n",
    "# Visualizacao de Dados\n",
    "\n",
    "#salvando e plotando grafico\n",
    "fig =px.line(vdem_pivot, x='ano', y='avg', labels={'avg':'Mulheres Eleitas %', 'ano':'Ano'},\n",
    "    title='Mulheres Eleitas(%) nas Câmaras Baixas da América Latina (1949-2020)')\n",
    "    \n",
    "## grafico para 90% CI\n",
    "\n",
    "fig2 = go.Figure([\n",
    "    go.Scatter(\n",
    "        name='Média',\n",
    "        x=vdem_pivot['ano'],\n",
    "        y=vdem_pivot['avg'],\n",
    "        mode='lines',\n",
    "        line=dict(color='rgb(31, 119, 180)'),\n",
    "    ),\n",
    "    go.Scatter(\n",
    "        name='Superior',\n",
    "        x=vdem_pivot['ano'],\n",
    "        y=vdem_pivot['ci_upper90'],\n",
    "        mode='lines',\n",
    "        marker=dict(color=\"#444\"),\n",
    "        line=dict(width=0),\n",
    "        showlegend=False\n",
    "    ),\n",
    "    go.Scatter(\n",
    "        name='Inferior',\n",
    "        x=vdem_pivot['ano'],\n",
    "        y=vdem_pivot['ci_lower90'],\n",
    "        marker=dict(color=\"#444\"),\n",
    "        line=dict(width=0),\n",
    "        mode='lines',\n",
    "        fillcolor='rgba(68, 68, 68, 0.3)',\n",
    "        fill='tonexty',\n",
    "        showlegend=False\n",
    "    )\n",
    "])\n",
    "fig2.update_layout(\n",
    "    yaxis_title='Mulheres Eleitas %',\n",
    "    xaxis_title = 'Ano',\n",
    "    title='Mulheres Eleitas(%) nas Câmaras Baixas da América Latina (1949-2020)',\n",
    "    hovermode=\"x\"\n",
    ")\n",
    "fig2.show()"
   ]
  }
 ],
 "metadata": {
  "kernelspec": {
   "display_name": "venv",
   "language": "python",
   "name": "python3"
  },
  "language_info": {
   "codemirror_mode": {
    "name": "ipython",
    "version": 3
   },
   "file_extension": ".py",
   "mimetype": "text/x-python",
   "name": "python",
   "nbconvert_exporter": "python",
   "pygments_lexer": "ipython3",
   "version": "3.10.14"
  }
 },
 "nbformat": 4,
 "nbformat_minor": 2
}
