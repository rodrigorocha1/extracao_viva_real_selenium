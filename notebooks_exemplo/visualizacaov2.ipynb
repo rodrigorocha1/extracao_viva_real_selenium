{
 "cells": [
  {
   "cell_type": "markdown",
   "metadata": {},
   "source": [
    "# Importação das bibliotecas"
   ]
  },
  {
   "cell_type": "code",
   "execution_count": 86,
   "metadata": {},
   "outputs": [],
   "source": [
    "import pandas as pd\n",
    "import seaborn as sns\n",
    "import numpy as np\n",
    "import plotly.express as px\n",
    "from scipy.stats import norm\n",
    "pd.set_option('display.float_format', lambda x: '{:.2f}'.format(x))"
   ]
  },
  {
   "cell_type": "code",
   "execution_count": 87,
   "metadata": {},
   "outputs": [],
   "source": [
    "def obter_resumo(tipo_imovel: str, bairro: str = None, banheiro: int = None, quartos: int = None):\n",
    "    query = f'  tipo_imovel == \"{tipo_imovel}\"'\n",
    "    if bairro is not None:\n",
    "        query += f' and bairro_teste == \"{bairro}\"  '\n",
    "    if banheiro is not None:\n",
    "        query += f' and banheiro == {banheiro} '\n",
    "    if quartos is not None:\n",
    "        query += f' and quarto == {quartos} '\n",
    "    base_original = pd.read_parquet('../data/processed/base_casa_v2.parquet')\n",
    "    base_original = base_original.query(query)\n",
    "    return base_original"
   ]
  },
  {
   "cell_type": "code",
   "execution_count": 88,
   "metadata": {},
   "outputs": [],
   "source": [
    "def obter_estatistica(base_original : pd.DataFrame):\n",
    "    print('Média preço: ', round(base_original['preco'].mean(), 2))\n",
    "    print('Mediana Preço:',  base_original['preco'].median())\n",
    "    print('Moda: ', base_original['preco'].mode()[0])\n",
    "    print('Desvio Padrão, ', base_original['preco'].std())"
   ]
  },
  {
   "cell_type": "markdown",
   "metadata": {},
   "source": [
    "- Preço Geral"
   ]
  },
  {
   "cell_type": "code",
   "execution_count": 89,
   "metadata": {},
   "outputs": [
    {
     "data": {
      "text/html": [
       "<div>\n",
       "<style scoped>\n",
       "    .dataframe tbody tr th:only-of-type {\n",
       "        vertical-align: middle;\n",
       "    }\n",
       "\n",
       "    .dataframe tbody tr th {\n",
       "        vertical-align: top;\n",
       "    }\n",
       "\n",
       "    .dataframe thead th {\n",
       "        text-align: right;\n",
       "    }\n",
       "</style>\n",
       "<table border=\"1\" class=\"dataframe\">\n",
       "  <thead>\n",
       "    <tr style=\"text-align: right;\">\n",
       "      <th></th>\n",
       "      <th>tipo_imovel</th>\n",
       "      <th>nome</th>\n",
       "      <th>preco</th>\n",
       "      <th>metragem</th>\n",
       "      <th>quarto</th>\n",
       "      <th>banheiro</th>\n",
       "      <th>garagem</th>\n",
       "      <th>ID_CASA</th>\n",
       "      <th>bairro_teste</th>\n",
       "    </tr>\n",
       "  </thead>\n",
       "  <tbody>\n",
       "    <tr>\n",
       "      <th>0</th>\n",
       "      <td>Apartamento</td>\n",
       "      <td>Apartamento com 2 Quartos à Venda, 65m²</td>\n",
       "      <td>310000.00</td>\n",
       "      <td>65</td>\n",
       "      <td>2</td>\n",
       "      <td>2</td>\n",
       "      <td>1</td>\n",
       "      <td>2699716579</td>\n",
       "      <td>Jardim Botânico</td>\n",
       "    </tr>\n",
       "    <tr>\n",
       "      <th>2</th>\n",
       "      <td>Apartamento</td>\n",
       "      <td>Apartamento com 2 Quartos à Venda, 71m²</td>\n",
       "      <td>403500.00</td>\n",
       "      <td>71</td>\n",
       "      <td>2</td>\n",
       "      <td>2</td>\n",
       "      <td>2</td>\n",
       "      <td>2690493538</td>\n",
       "      <td>Bonfim Paulista</td>\n",
       "    </tr>\n",
       "    <tr>\n",
       "      <th>3</th>\n",
       "      <td>Apartamento</td>\n",
       "      <td>Apartamento com 2 Quartos à Venda, 54m²</td>\n",
       "      <td>290000.00</td>\n",
       "      <td>54</td>\n",
       "      <td>2</td>\n",
       "      <td>2</td>\n",
       "      <td>1</td>\n",
       "      <td>2667652105</td>\n",
       "      <td>Nova Aliança</td>\n",
       "    </tr>\n",
       "    <tr>\n",
       "      <th>4</th>\n",
       "      <td>Apartamento</td>\n",
       "      <td>Apartamento com 2 Quartos à Venda, 45m²</td>\n",
       "      <td>166420.00</td>\n",
       "      <td>45</td>\n",
       "      <td>2</td>\n",
       "      <td>1</td>\n",
       "      <td>1</td>\n",
       "      <td>2682840782</td>\n",
       "      <td>Conjunto Habitacional Jardim Das Palmeiras</td>\n",
       "    </tr>\n",
       "    <tr>\n",
       "      <th>5</th>\n",
       "      <td>Apartamento</td>\n",
       "      <td>Apartamento com 2 Quartos à Venda, 64m²</td>\n",
       "      <td>370000.00</td>\n",
       "      <td>64</td>\n",
       "      <td>2</td>\n",
       "      <td>2</td>\n",
       "      <td>2</td>\n",
       "      <td>2688027260</td>\n",
       "      <td>Vila Ana Maria</td>\n",
       "    </tr>\n",
       "    <tr>\n",
       "      <th>...</th>\n",
       "      <td>...</td>\n",
       "      <td>...</td>\n",
       "      <td>...</td>\n",
       "      <td>...</td>\n",
       "      <td>...</td>\n",
       "      <td>...</td>\n",
       "      <td>...</td>\n",
       "      <td>...</td>\n",
       "      <td>...</td>\n",
       "    </tr>\n",
       "    <tr>\n",
       "      <th>9967</th>\n",
       "      <td>Apartamento</td>\n",
       "      <td>Apartamento com 3 Quartos à Venda, 81m²</td>\n",
       "      <td>540000.00</td>\n",
       "      <td>81</td>\n",
       "      <td>3</td>\n",
       "      <td>2</td>\n",
       "      <td>2</td>\n",
       "      <td>2696267182</td>\n",
       "      <td>Vila Do Golf</td>\n",
       "    </tr>\n",
       "    <tr>\n",
       "      <th>9968</th>\n",
       "      <td>Apartamento</td>\n",
       "      <td>Apartamento com Quarto à Venda, 61m²</td>\n",
       "      <td>280000.00</td>\n",
       "      <td>61</td>\n",
       "      <td>1</td>\n",
       "      <td>1</td>\n",
       "      <td>1</td>\n",
       "      <td>2476716299</td>\n",
       "      <td>Centro</td>\n",
       "    </tr>\n",
       "    <tr>\n",
       "      <th>9969</th>\n",
       "      <td>Apartamento</td>\n",
       "      <td>Apartamento com 3 Quartos à Venda, 83m²</td>\n",
       "      <td>375000.00</td>\n",
       "      <td>83</td>\n",
       "      <td>3</td>\n",
       "      <td>3</td>\n",
       "      <td>2</td>\n",
       "      <td>2693112449</td>\n",
       "      <td>Jardim São Luiz</td>\n",
       "    </tr>\n",
       "    <tr>\n",
       "      <th>9970</th>\n",
       "      <td>Apartamento</td>\n",
       "      <td>Apartamento com 2 Quartos à Venda, 48m²</td>\n",
       "      <td>175000.00</td>\n",
       "      <td>48</td>\n",
       "      <td>2</td>\n",
       "      <td>1</td>\n",
       "      <td>1</td>\n",
       "      <td>2572455642</td>\n",
       "      <td>Lagoinha</td>\n",
       "    </tr>\n",
       "    <tr>\n",
       "      <th>9971</th>\n",
       "      <td>Apartamento</td>\n",
       "      <td>Apartamento com 3 Quartos à Venda, 120m²</td>\n",
       "      <td>394000.00</td>\n",
       "      <td>120</td>\n",
       "      <td>3</td>\n",
       "      <td>3</td>\n",
       "      <td>1</td>\n",
       "      <td>2523506081</td>\n",
       "      <td>Centro</td>\n",
       "    </tr>\n",
       "  </tbody>\n",
       "</table>\n",
       "<p>8395 rows × 9 columns</p>\n",
       "</div>"
      ],
      "text/plain": [
       "      tipo_imovel                                      nome     preco  \\\n",
       "0     Apartamento   Apartamento com 2 Quartos à Venda, 65m² 310000.00   \n",
       "2     Apartamento   Apartamento com 2 Quartos à Venda, 71m² 403500.00   \n",
       "3     Apartamento   Apartamento com 2 Quartos à Venda, 54m² 290000.00   \n",
       "4     Apartamento   Apartamento com 2 Quartos à Venda, 45m² 166420.00   \n",
       "5     Apartamento   Apartamento com 2 Quartos à Venda, 64m² 370000.00   \n",
       "...           ...                                       ...       ...   \n",
       "9967  Apartamento   Apartamento com 3 Quartos à Venda, 81m² 540000.00   \n",
       "9968  Apartamento      Apartamento com Quarto à Venda, 61m² 280000.00   \n",
       "9969  Apartamento   Apartamento com 3 Quartos à Venda, 83m² 375000.00   \n",
       "9970  Apartamento   Apartamento com 2 Quartos à Venda, 48m² 175000.00   \n",
       "9971  Apartamento  Apartamento com 3 Quartos à Venda, 120m² 394000.00   \n",
       "\n",
       "      metragem  quarto  banheiro  garagem     ID_CASA  \\\n",
       "0           65       2         2        1  2699716579   \n",
       "2           71       2         2        2  2690493538   \n",
       "3           54       2         2        1  2667652105   \n",
       "4           45       2         1        1  2682840782   \n",
       "5           64       2         2        2  2688027260   \n",
       "...        ...     ...       ...      ...         ...   \n",
       "9967        81       3         2        2  2696267182   \n",
       "9968        61       1         1        1  2476716299   \n",
       "9969        83       3         3        2  2693112449   \n",
       "9970        48       2         1        1  2572455642   \n",
       "9971       120       3         3        1  2523506081   \n",
       "\n",
       "                                    bairro_teste  \n",
       "0                                Jardim Botânico  \n",
       "2                                Bonfim Paulista  \n",
       "3                                   Nova Aliança  \n",
       "4     Conjunto Habitacional Jardim Das Palmeiras  \n",
       "5                                 Vila Ana Maria  \n",
       "...                                          ...  \n",
       "9967                                Vila Do Golf  \n",
       "9968                                      Centro  \n",
       "9969                             Jardim São Luiz  \n",
       "9970                                    Lagoinha  \n",
       "9971                                      Centro  \n",
       "\n",
       "[8395 rows x 9 columns]"
      ]
     },
     "execution_count": 89,
     "metadata": {},
     "output_type": "execute_result"
    }
   ],
   "source": [
    "base_original = obter_resumo(tipo_imovel='Apartamento')\n",
    "base_original"
   ]
  },
  {
   "cell_type": "markdown",
   "metadata": {},
   "source": [
    "# Teste da normalidade de uma amostra"
   ]
  },
  {
   "cell_type": "code",
   "execution_count": 102,
   "metadata": {},
   "outputs": [],
   "source": [
    "from scipy.stats import normaltest"
   ]
  },
  {
   "cell_type": "code",
   "execution_count": 103,
   "metadata": {},
   "outputs": [],
   "source": [
    "base_original_completa = obter_resumo(tipo_imovel='Apartamento')\n",
    "dados_sumarezinho = base_original_completa.query(\n",
    "    'bairro_teste == \"Sumarezinho\"')\n",
    "dados_centro = base_original_completa.query(\n",
    "    'bairro_teste == \"Centro\"')"
   ]
  },
  {
   "cell_type": "code",
   "execution_count": 104,
   "metadata": {},
   "outputs": [],
   "source": [
    "significancia = 0.05"
   ]
  },
  {
   "cell_type": "code",
   "execution_count": 105,
   "metadata": {},
   "outputs": [],
   "source": [
    "stat_test, p_valor = normaltest(dados_sumarezinho.preco)"
   ]
  },
  {
   "cell_type": "code",
   "execution_count": 106,
   "metadata": {},
   "outputs": [
    {
     "data": {
      "text/plain": [
       "True"
      ]
     },
     "execution_count": 106,
     "metadata": {},
     "output_type": "execute_result"
    }
   ],
   "source": [
    "p_valor <= significancia"
   ]
  },
  {
   "cell_type": "code",
   "execution_count": 107,
   "metadata": {},
   "outputs": [
    {
     "data": {
      "text/plain": [
       "True"
      ]
     },
     "execution_count": 107,
     "metadata": {},
     "output_type": "execute_result"
    }
   ],
   "source": [
    "stat_test, p_valor = normaltest(dados_centro.preco)\n",
    "p_valor <= significancia"
   ]
  },
  {
   "cell_type": "code",
   "execution_count": 140,
   "metadata": {},
   "outputs": [
    {
     "data": {
      "text/html": [
       "<div>\n",
       "<style scoped>\n",
       "    .dataframe tbody tr th:only-of-type {\n",
       "        vertical-align: middle;\n",
       "    }\n",
       "\n",
       "    .dataframe tbody tr th {\n",
       "        vertical-align: top;\n",
       "    }\n",
       "\n",
       "    .dataframe thead th {\n",
       "        text-align: right;\n",
       "    }\n",
       "</style>\n",
       "<table border=\"1\" class=\"dataframe\">\n",
       "  <thead>\n",
       "    <tr style=\"text-align: right;\">\n",
       "      <th></th>\n",
       "      <th>bairro</th>\n",
       "      <th>teste_normalidade</th>\n",
       "      <th>desvio_padrao</th>\n",
       "    </tr>\n",
       "  </thead>\n",
       "  <tbody>\n",
       "    <tr>\n",
       "      <th>99</th>\n",
       "      <td>Jardim Ilhas Do Sul</td>\n",
       "      <td>True</td>\n",
       "      <td>1752338.48</td>\n",
       "    </tr>\n",
       "    <tr>\n",
       "      <th>98</th>\n",
       "      <td>Bonfim Paulista</td>\n",
       "      <td>True</td>\n",
       "      <td>911435.88</td>\n",
       "    </tr>\n",
       "    <tr>\n",
       "      <th>97</th>\n",
       "      <td>Jardim Olhos D Agua</td>\n",
       "      <td>True</td>\n",
       "      <td>735905.38</td>\n",
       "    </tr>\n",
       "    <tr>\n",
       "      <th>96</th>\n",
       "      <td>Jardim Botânico</td>\n",
       "      <td>True</td>\n",
       "      <td>720996.16</td>\n",
       "    </tr>\n",
       "    <tr>\n",
       "      <th>95</th>\n",
       "      <td>Vila Do Golf</td>\n",
       "      <td>True</td>\n",
       "      <td>666626.96</td>\n",
       "    </tr>\n",
       "    <tr>\n",
       "      <th>94</th>\n",
       "      <td>Residencial Morro Do Ipê</td>\n",
       "      <td>True</td>\n",
       "      <td>611889.34</td>\n",
       "    </tr>\n",
       "    <tr>\n",
       "      <th>93</th>\n",
       "      <td>Jardim Canadá</td>\n",
       "      <td>True</td>\n",
       "      <td>524776.17</td>\n",
       "    </tr>\n",
       "    <tr>\n",
       "      <th>92</th>\n",
       "      <td>Bosque Das Juritis</td>\n",
       "      <td>False</td>\n",
       "      <td>443196.05</td>\n",
       "    </tr>\n",
       "    <tr>\n",
       "      <th>91</th>\n",
       "      <td>Jardim Santa Angela</td>\n",
       "      <td>False</td>\n",
       "      <td>430756.32</td>\n",
       "    </tr>\n",
       "    <tr>\n",
       "      <th>90</th>\n",
       "      <td>Ribeirânia</td>\n",
       "      <td>True</td>\n",
       "      <td>395303.50</td>\n",
       "    </tr>\n",
       "  </tbody>\n",
       "</table>\n",
       "</div>"
      ],
      "text/plain": [
       "                      bairro  teste_normalidade  desvio_padrao\n",
       "99       Jardim Ilhas Do Sul               True     1752338.48\n",
       "98           Bonfim Paulista               True      911435.88\n",
       "97       Jardim Olhos D Agua               True      735905.38\n",
       "96           Jardim Botânico               True      720996.16\n",
       "95              Vila Do Golf               True      666626.96\n",
       "94  Residencial Morro Do Ipê               True      611889.34\n",
       "93             Jardim Canadá               True      524776.17\n",
       "92        Bosque Das Juritis              False      443196.05\n",
       "91       Jardim Santa Angela              False      430756.32\n",
       "90                Ribeirânia               True      395303.50"
      ]
     },
     "execution_count": 140,
     "metadata": {},
     "output_type": "execute_result"
    }
   ],
   "source": [
    "\n",
    "import warnings\n",
    "warnings.filterwarnings(\"ignore\")\n",
    "\n",
    "lista_dados = []\n",
    "for bairro in base_original['bairro_teste'].unique():\n",
    "    try:\n",
    "        dados_sumarezinho = base_original_completa.query(\n",
    "            f'bairro_teste == \"{bairro}\"')\n",
    "        \n",
    "        stat_test, p_valor = normaltest(dados_sumarezinho.preco)\n",
    "        lista_dados.append(\n",
    "            {\n",
    "                'bairro': bairro,\n",
    "                'teste_normalidade': p_valor <= significancia,\n",
    "                'desvio_padrao': dados_sumarezinho['preco'].std()\n",
    "            }\n",
    "                \n",
    "            \n",
    "        )\n",
    "    except:\n",
    "        pass\n",
    "\n",
    "lista_dados = sorted(lista_dados, key=lambda x: x['desvio_padrao'])\n",
    "df_teste_normalidade = pd.DataFrame(lista_dados)\n",
    "df_teste_normalidade.nlargest(10, columns=['desvio_padrao'])"
   ]
  },
  {
   "cell_type": "markdown",
   "metadata": {},
   "source": [
    "# Teste de hipótese"
   ]
  },
  {
   "cell_type": "markdown",
   "metadata": {},
   "source": [
    "<ul>\n",
    "    <li>u1: Média dos imóveis do bairro sumarezinho </li>\n",
    "    <li>u2: Média dos imóveis do bairro Centro </li>\n",
    "    <li>H0: u1 <= u2</li>\n",
    "    <li>H1: u1 > u2 XXX</li>\n",
    "<ul>"
   ]
  },
  {
   "cell_type": "code",
   "execution_count": 109,
   "metadata": {},
   "outputs": [],
   "source": [
    "significancia = 0.01\n",
    "confianca = 1 - significancia"
   ]
  },
  {
   "cell_type": "code",
   "execution_count": 110,
   "metadata": {},
   "outputs": [],
   "source": [
    "from sklearn.model_selection import StratifiedShuffleSplit"
   ]
  },
  {
   "cell_type": "code",
   "execution_count": 111,
   "metadata": {},
   "outputs": [],
   "source": [
    "base_original_completa = obter_resumo(tipo_imovel='Apartamento')"
   ]
  },
  {
   "cell_type": "code",
   "execution_count": 136,
   "metadata": {},
   "outputs": [],
   "source": [
    "dados_sumarezinho = base_original_completa.query(\n",
    "    'bairro_teste == \"Sumarezinho\"')\n",
    "dados_centro = base_original_completa.query(\n",
    "    'bairro_teste == \"Centro\"')\n",
    "dados_jardim_macedo = base_original_completa.query(\n",
    "    'bairro_teste == \"Jardim Itaú\"')\n",
    "dados_sao_jose = base_original_completa.query(\n",
    "    'bairro_teste == \"Ribeirao Verde\"'\n",
    ")"
   ]
  },
  {
   "cell_type": "code",
   "execution_count": 139,
   "metadata": {},
   "outputs": [
    {
     "data": {
      "text/plain": [
       "(17, 9)"
      ]
     },
     "execution_count": 139,
     "metadata": {},
     "output_type": "execute_result"
    }
   ],
   "source": [
    "dados_sao_jose.shape"
   ]
  },
  {
   "cell_type": "code",
   "execution_count": 113,
   "metadata": {},
   "outputs": [],
   "source": [
    "def obter_numero_classe(dataframe: pd.DataFrame):\n",
    "    n = dataframe.shape[0]\n",
    "\n",
    "\n",
    "    k = 1 + (10 / 3) * np.log10(n)\n",
    "    k = int(k.round(0))\n",
    "\n",
    "    return k"
   ]
  },
  {
   "cell_type": "code",
   "execution_count": 114,
   "metadata": {},
   "outputs": [
    {
     "data": {
      "text/plain": [
       "<Axes: xlabel='preco', ylabel='Count'>"
      ]
     },
     "execution_count": 114,
     "metadata": {},
     "output_type": "execute_result"
    },
    {
     "data": {
      "image/png": "[encoded data removed]",
      "text/plain": [
       "<Figure size 640x480 with 1 Axes>"
      ]
     },
     "metadata": {},
     "output_type": "display_data"
    }
   ],
   "source": [
    "\n",
    "k = obter_numero_classe(dados_sumarezinho)\n",
    "sns.histplot(data=dados_sumarezinho, x='preco', kde=True)"
   ]
  },
  {
   "cell_type": "code",
   "execution_count": 115,
   "metadata": {},
   "outputs": [
    {
     "data": {
      "text/plain": [
       "<Axes: xlabel='preco', ylabel='Count'>"
      ]
     },
     "execution_count": 115,
     "metadata": {},
     "output_type": "execute_result"
    },
    {
     "data": {
      "image/png": "[encoded data removed]",
      "text/plain": [
       "<Figure size 640x480 with 1 Axes>"
      ]
     },
     "metadata": {},
     "output_type": "display_data"
    }
   ],
   "source": [
    "sns.histplot(data=dados_sumarezinho, x='preco', kde=True)"
   ]
  },
  {
   "cell_type": "code",
   "execution_count": 116,
   "metadata": {},
   "outputs": [
    {
     "data": {
      "text/plain": [
       "<Axes: xlabel='preco', ylabel='Count'>"
      ]
     },
     "execution_count": 116,
     "metadata": {},
     "output_type": "execute_result"
    },
    {
     "data": {
      "image/png": "[encoded data removed]",
      "text/plain": [
       "<Figure size 640x480 with 1 Axes>"
      ]
     },
     "metadata": {},
     "output_type": "display_data"
    }
   ],
   "source": [
    "k = obter_numero_classe(dados_jardim_macedo)\n",
    "sns.histplot(data=dados_jardim_macedo, x='preco', kde=True)"
   ]
  },
  {
   "cell_type": "code",
   "execution_count": 117,
   "metadata": {},
   "outputs": [
    {
     "name": "stdout",
     "output_type": "stream",
     "text": [
      "Média preço:  155900.0\n",
      "Mediana Preço: 145500.0\n",
      "Moda:  140000.0\n",
      "Desvio Padrão,  19039.14097035076\n"
     ]
    }
   ],
   "source": [
    "obter_estatistica(dados_jardim_macedo)"
   ]
  },
  {
   "cell_type": "code",
   "execution_count": 118,
   "metadata": {},
   "outputs": [
    {
     "data": {
      "text/plain": [
       "<Axes: xlabel='preco', ylabel='Count'>"
      ]
     },
     "execution_count": 118,
     "metadata": {},
     "output_type": "execute_result"
    },
    {
     "data": {
      "image/png": "[encoded data removed]",
      "text/plain": [
       "<Figure size 640x480 with 1 Axes>"
      ]
     },
     "metadata": {},
     "output_type": "display_data"
    }
   ],
   "source": [
    "\n",
    "k = obter_numero_classe(dados_centro)\n",
    "sns.histplot(data=dados_centro, x='preco', bins=k, kde=True)"
   ]
  },
  {
   "cell_type": "code",
   "execution_count": 119,
   "metadata": {},
   "outputs": [
    {
     "name": "stdout",
     "output_type": "stream",
     "text": [
      "Média preço:  402076.73\n",
      "Mediana Preço: 360000.0\n",
      "Moda:  450000.0\n",
      "Desvio Padrão,  223344.45525125158\n"
     ]
    }
   ],
   "source": [
    "obter_estatistica(dados_centro)"
   ]
  },
  {
   "cell_type": "code",
   "execution_count": 120,
   "metadata": {},
   "outputs": [
    {
     "data": {
      "text/html": [
       "<div>\n",
       "<style scoped>\n",
       "    .dataframe tbody tr th:only-of-type {\n",
       "        vertical-align: middle;\n",
       "    }\n",
       "\n",
       "    .dataframe tbody tr th {\n",
       "        vertical-align: top;\n",
       "    }\n",
       "\n",
       "    .dataframe thead th {\n",
       "        text-align: right;\n",
       "    }\n",
       "</style>\n",
       "<table border=\"1\" class=\"dataframe\">\n",
       "  <thead>\n",
       "    <tr style=\"text-align: right;\">\n",
       "      <th></th>\n",
       "      <th>tipo_imovel</th>\n",
       "      <th>nome</th>\n",
       "      <th>preco</th>\n",
       "      <th>metragem</th>\n",
       "      <th>quarto</th>\n",
       "      <th>banheiro</th>\n",
       "      <th>garagem</th>\n",
       "      <th>ID_CASA</th>\n",
       "      <th>bairro_teste</th>\n",
       "    </tr>\n",
       "  </thead>\n",
       "  <tbody>\n",
       "    <tr>\n",
       "      <th>3699</th>\n",
       "      <td>Apartamento</td>\n",
       "      <td>Apartamento com 3 Quartos à Venda, 237m²</td>\n",
       "      <td>1750000.00</td>\n",
       "      <td>237</td>\n",
       "      <td>3</td>\n",
       "      <td>6</td>\n",
       "      <td>4</td>\n",
       "      <td>2677632201</td>\n",
       "      <td>Jardim Ilhas Do Sul</td>\n",
       "    </tr>\n",
       "    <tr>\n",
       "      <th>3958</th>\n",
       "      <td>Apartamento</td>\n",
       "      <td>Apartamento com 4 Quartos à Venda, 238m²</td>\n",
       "      <td>2162147.00</td>\n",
       "      <td>238</td>\n",
       "      <td>4</td>\n",
       "      <td>5</td>\n",
       "      <td>4</td>\n",
       "      <td>2568307608</td>\n",
       "      <td>Jardim Ilhas Do Sul</td>\n",
       "    </tr>\n",
       "    <tr>\n",
       "      <th>4260</th>\n",
       "      <td>Apartamento</td>\n",
       "      <td>Apartamento com 3 Quartos à Venda, 132m²</td>\n",
       "      <td>790000.00</td>\n",
       "      <td>132</td>\n",
       "      <td>3</td>\n",
       "      <td>4</td>\n",
       "      <td>2</td>\n",
       "      <td>2651190969</td>\n",
       "      <td>Jardim Ilhas Do Sul</td>\n",
       "    </tr>\n",
       "    <tr>\n",
       "      <th>4318</th>\n",
       "      <td>Apartamento</td>\n",
       "      <td>Apartamento com 4 Quartos à Venda, 376m²</td>\n",
       "      <td>3777000.00</td>\n",
       "      <td>376</td>\n",
       "      <td>4</td>\n",
       "      <td>6</td>\n",
       "      <td>5</td>\n",
       "      <td>2696244782</td>\n",
       "      <td>Jardim Ilhas Do Sul</td>\n",
       "    </tr>\n",
       "    <tr>\n",
       "      <th>4714</th>\n",
       "      <td>Apartamento</td>\n",
       "      <td>Apartamento com 4 Quartos à Venda, 377m²</td>\n",
       "      <td>2989000.00</td>\n",
       "      <td>377</td>\n",
       "      <td>4</td>\n",
       "      <td>7</td>\n",
       "      <td>5</td>\n",
       "      <td>2535780182</td>\n",
       "      <td>Jardim Ilhas Do Sul</td>\n",
       "    </tr>\n",
       "    <tr>\n",
       "      <th>4853</th>\n",
       "      <td>Apartamento</td>\n",
       "      <td>Apartamento com 3 Quartos à Venda, 135m²</td>\n",
       "      <td>1190000.00</td>\n",
       "      <td>135</td>\n",
       "      <td>3</td>\n",
       "      <td>4</td>\n",
       "      <td>2</td>\n",
       "      <td>2659129971</td>\n",
       "      <td>Jardim Ilhas Do Sul</td>\n",
       "    </tr>\n",
       "    <tr>\n",
       "      <th>5197</th>\n",
       "      <td>Apartamento</td>\n",
       "      <td>Apartamento com 3 Quartos à Venda, 238m²</td>\n",
       "      <td>1920000.00</td>\n",
       "      <td>238</td>\n",
       "      <td>3</td>\n",
       "      <td>6</td>\n",
       "      <td>4</td>\n",
       "      <td>2689660719</td>\n",
       "      <td>Jardim Ilhas Do Sul</td>\n",
       "    </tr>\n",
       "    <tr>\n",
       "      <th>5502</th>\n",
       "      <td>Apartamento</td>\n",
       "      <td>Apartamento com 2 Quartos à Venda, 92m²</td>\n",
       "      <td>803823.00</td>\n",
       "      <td>92</td>\n",
       "      <td>2</td>\n",
       "      <td>3</td>\n",
       "      <td>2</td>\n",
       "      <td>2645689185</td>\n",
       "      <td>Jardim Ilhas Do Sul</td>\n",
       "    </tr>\n",
       "    <tr>\n",
       "      <th>5969</th>\n",
       "      <td>Apartamento</td>\n",
       "      <td>Apartamento com 4 Quartos à Venda, 376m²</td>\n",
       "      <td>3000000.00</td>\n",
       "      <td>376</td>\n",
       "      <td>4</td>\n",
       "      <td>6</td>\n",
       "      <td>5</td>\n",
       "      <td>2681062413</td>\n",
       "      <td>Jardim Ilhas Do Sul</td>\n",
       "    </tr>\n",
       "    <tr>\n",
       "      <th>6633</th>\n",
       "      <td>Apartamento</td>\n",
       "      <td>Apartamento com 3 Quartos à Venda, 237m²</td>\n",
       "      <td>1800000.00</td>\n",
       "      <td>237</td>\n",
       "      <td>3</td>\n",
       "      <td>5</td>\n",
       "      <td>4</td>\n",
       "      <td>2684537377</td>\n",
       "      <td>Jardim Ilhas Do Sul</td>\n",
       "    </tr>\n",
       "    <tr>\n",
       "      <th>7147</th>\n",
       "      <td>Apartamento</td>\n",
       "      <td>Apartamento com 2 Quartos à Venda, 92m²</td>\n",
       "      <td>858915.00</td>\n",
       "      <td>92</td>\n",
       "      <td>2</td>\n",
       "      <td>3</td>\n",
       "      <td>2</td>\n",
       "      <td>2694849602</td>\n",
       "      <td>Jardim Ilhas Do Sul</td>\n",
       "    </tr>\n",
       "    <tr>\n",
       "      <th>7411</th>\n",
       "      <td>Apartamento</td>\n",
       "      <td>Apartamento com 5 Quartos à Venda, 726m²</td>\n",
       "      <td>7100000.00</td>\n",
       "      <td>726</td>\n",
       "      <td>5</td>\n",
       "      <td>7</td>\n",
       "      <td>8</td>\n",
       "      <td>2594406749</td>\n",
       "      <td>Jardim Ilhas Do Sul</td>\n",
       "    </tr>\n",
       "    <tr>\n",
       "      <th>7441</th>\n",
       "      <td>Apartamento</td>\n",
       "      <td>Apartamento com 3 Quartos à Venda, 227m²</td>\n",
       "      <td>1616460.00</td>\n",
       "      <td>227</td>\n",
       "      <td>3</td>\n",
       "      <td>6</td>\n",
       "      <td>4</td>\n",
       "      <td>2535779889</td>\n",
       "      <td>Jardim Ilhas Do Sul</td>\n",
       "    </tr>\n",
       "    <tr>\n",
       "      <th>7567</th>\n",
       "      <td>Apartamento</td>\n",
       "      <td>Apartamento com 4 Quartos à Venda, 237m²</td>\n",
       "      <td>1760000.00</td>\n",
       "      <td>237</td>\n",
       "      <td>4</td>\n",
       "      <td>6</td>\n",
       "      <td>4</td>\n",
       "      <td>2672553898</td>\n",
       "      <td>Jardim Ilhas Do Sul</td>\n",
       "    </tr>\n",
       "    <tr>\n",
       "      <th>7937</th>\n",
       "      <td>Apartamento</td>\n",
       "      <td>Apartamento com 3 Quartos à Venda, 227m²</td>\n",
       "      <td>1600000.00</td>\n",
       "      <td>227</td>\n",
       "      <td>3</td>\n",
       "      <td>4</td>\n",
       "      <td>4</td>\n",
       "      <td>2666290809</td>\n",
       "      <td>Jardim Ilhas Do Sul</td>\n",
       "    </tr>\n",
       "    <tr>\n",
       "      <th>7972</th>\n",
       "      <td>Apartamento</td>\n",
       "      <td>Apartamento com 3 Quartos à Venda, 80m²</td>\n",
       "      <td>585000.00</td>\n",
       "      <td>80</td>\n",
       "      <td>3</td>\n",
       "      <td>2</td>\n",
       "      <td>2</td>\n",
       "      <td>2584725136</td>\n",
       "      <td>Jardim Ilhas Do Sul</td>\n",
       "    </tr>\n",
       "    <tr>\n",
       "      <th>8177</th>\n",
       "      <td>Apartamento</td>\n",
       "      <td>Apartamento com 3 Quartos à Venda, 238m²</td>\n",
       "      <td>2162147.00</td>\n",
       "      <td>238</td>\n",
       "      <td>3</td>\n",
       "      <td>5</td>\n",
       "      <td>4</td>\n",
       "      <td>2688014722</td>\n",
       "      <td>Jardim Ilhas Do Sul</td>\n",
       "    </tr>\n",
       "    <tr>\n",
       "      <th>8368</th>\n",
       "      <td>Apartamento</td>\n",
       "      <td>Apartamento com 3 Quartos à Venda, 237m²</td>\n",
       "      <td>1800000.00</td>\n",
       "      <td>237</td>\n",
       "      <td>3</td>\n",
       "      <td>5</td>\n",
       "      <td>4</td>\n",
       "      <td>2697004824</td>\n",
       "      <td>Jardim Ilhas Do Sul</td>\n",
       "    </tr>\n",
       "    <tr>\n",
       "      <th>8651</th>\n",
       "      <td>Apartamento</td>\n",
       "      <td>Apartamento com 4 Quartos à Venda, 618m²</td>\n",
       "      <td>4454120.00</td>\n",
       "      <td>618</td>\n",
       "      <td>4</td>\n",
       "      <td>12</td>\n",
       "      <td>4</td>\n",
       "      <td>2645092443</td>\n",
       "      <td>Jardim Ilhas Do Sul</td>\n",
       "    </tr>\n",
       "    <tr>\n",
       "      <th>9258</th>\n",
       "      <td>Apartamento</td>\n",
       "      <td>Apartamento com 4 Quartos à Venda, 376m²</td>\n",
       "      <td>2999000.00</td>\n",
       "      <td>376</td>\n",
       "      <td>4</td>\n",
       "      <td>6</td>\n",
       "      <td>5</td>\n",
       "      <td>2695875708</td>\n",
       "      <td>Jardim Ilhas Do Sul</td>\n",
       "    </tr>\n",
       "    <tr>\n",
       "      <th>9432</th>\n",
       "      <td>Apartamento</td>\n",
       "      <td>Apartamento com 5 Quartos à Venda, 726m²</td>\n",
       "      <td>7123670.00</td>\n",
       "      <td>726</td>\n",
       "      <td>5</td>\n",
       "      <td>8</td>\n",
       "      <td>7</td>\n",
       "      <td>2623935072</td>\n",
       "      <td>Jardim Ilhas Do Sul</td>\n",
       "    </tr>\n",
       "    <tr>\n",
       "      <th>9609</th>\n",
       "      <td>Apartamento</td>\n",
       "      <td>Apartamento com 3 Quartos à Venda, 237m²</td>\n",
       "      <td>1750000.00</td>\n",
       "      <td>237</td>\n",
       "      <td>3</td>\n",
       "      <td>5</td>\n",
       "      <td>4</td>\n",
       "      <td>2677806010</td>\n",
       "      <td>Jardim Ilhas Do Sul</td>\n",
       "    </tr>\n",
       "    <tr>\n",
       "      <th>9785</th>\n",
       "      <td>Apartamento</td>\n",
       "      <td>Apartamento com 4 Quartos à Venda, 376m²</td>\n",
       "      <td>2900000.00</td>\n",
       "      <td>376</td>\n",
       "      <td>4</td>\n",
       "      <td>4</td>\n",
       "      <td>0</td>\n",
       "      <td>2662548678</td>\n",
       "      <td>Jardim Ilhas Do Sul</td>\n",
       "    </tr>\n",
       "  </tbody>\n",
       "</table>\n",
       "</div>"
      ],
      "text/plain": [
       "      tipo_imovel                                      nome      preco  \\\n",
       "3699  Apartamento  Apartamento com 3 Quartos à Venda, 237m² 1750000.00   \n",
       "3958  Apartamento  Apartamento com 4 Quartos à Venda, 238m² 2162147.00   \n",
       "4260  Apartamento  Apartamento com 3 Quartos à Venda, 132m²  790000.00   \n",
       "4318  Apartamento  Apartamento com 4 Quartos à Venda, 376m² 3777000.00   \n",
       "4714  Apartamento  Apartamento com 4 Quartos à Venda, 377m² 2989000.00   \n",
       "4853  Apartamento  Apartamento com 3 Quartos à Venda, 135m² 1190000.00   \n",
       "5197  Apartamento  Apartamento com 3 Quartos à Venda, 238m² 1920000.00   \n",
       "5502  Apartamento   Apartamento com 2 Quartos à Venda, 92m²  803823.00   \n",
       "5969  Apartamento  Apartamento com 4 Quartos à Venda, 376m² 3000000.00   \n",
       "6633  Apartamento  Apartamento com 3 Quartos à Venda, 237m² 1800000.00   \n",
       "7147  Apartamento   Apartamento com 2 Quartos à Venda, 92m²  858915.00   \n",
       "7411  Apartamento  Apartamento com 5 Quartos à Venda, 726m² 7100000.00   \n",
       "7441  Apartamento  Apartamento com 3 Quartos à Venda, 227m² 1616460.00   \n",
       "7567  Apartamento  Apartamento com 4 Quartos à Venda, 237m² 1760000.00   \n",
       "7937  Apartamento  Apartamento com 3 Quartos à Venda, 227m² 1600000.00   \n",
       "7972  Apartamento   Apartamento com 3 Quartos à Venda, 80m²  585000.00   \n",
       "8177  Apartamento  Apartamento com 3 Quartos à Venda, 238m² 2162147.00   \n",
       "8368  Apartamento  Apartamento com 3 Quartos à Venda, 237m² 1800000.00   \n",
       "8651  Apartamento  Apartamento com 4 Quartos à Venda, 618m² 4454120.00   \n",
       "9258  Apartamento  Apartamento com 4 Quartos à Venda, 376m² 2999000.00   \n",
       "9432  Apartamento  Apartamento com 5 Quartos à Venda, 726m² 7123670.00   \n",
       "9609  Apartamento  Apartamento com 3 Quartos à Venda, 237m² 1750000.00   \n",
       "9785  Apartamento  Apartamento com 4 Quartos à Venda, 376m² 2900000.00   \n",
       "\n",
       "      metragem  quarto  banheiro  garagem     ID_CASA         bairro_teste  \n",
       "3699       237       3         6        4  2677632201  Jardim Ilhas Do Sul  \n",
       "3958       238       4         5        4  2568307608  Jardim Ilhas Do Sul  \n",
       "4260       132       3         4        2  2651190969  Jardim Ilhas Do Sul  \n",
       "4318       376       4         6        5  2696244782  Jardim Ilhas Do Sul  \n",
       "4714       377       4         7        5  2535780182  Jardim Ilhas Do Sul  \n",
       "4853       135       3         4        2  2659129971  Jardim Ilhas Do Sul  \n",
       "5197       238       3         6        4  2689660719  Jardim Ilhas Do Sul  \n",
       "5502        92       2         3        2  2645689185  Jardim Ilhas Do Sul  \n",
       "5969       376       4         6        5  2681062413  Jardim Ilhas Do Sul  \n",
       "6633       237       3         5        4  2684537377  Jardim Ilhas Do Sul  \n",
       "7147        92       2         3        2  2694849602  Jardim Ilhas Do Sul  \n",
       "7411       726       5         7        8  2594406749  Jardim Ilhas Do Sul  \n",
       "7441       227       3         6        4  2535779889  Jardim Ilhas Do Sul  \n",
       "7567       237       4         6        4  2672553898  Jardim Ilhas Do Sul  \n",
       "7937       227       3         4        4  2666290809  Jardim Ilhas Do Sul  \n",
       "7972        80       3         2        2  2584725136  Jardim Ilhas Do Sul  \n",
       "8177       238       3         5        4  2688014722  Jardim Ilhas Do Sul  \n",
       "8368       237       3         5        4  2697004824  Jardim Ilhas Do Sul  \n",
       "8651       618       4        12        4  2645092443  Jardim Ilhas Do Sul  \n",
       "9258       376       4         6        5  2695875708  Jardim Ilhas Do Sul  \n",
       "9432       726       5         8        7  2623935072  Jardim Ilhas Do Sul  \n",
       "9609       237       3         5        4  2677806010  Jardim Ilhas Do Sul  \n",
       "9785       376       4         4        0  2662548678  Jardim Ilhas Do Sul  "
      ]
     },
     "execution_count": 120,
     "metadata": {},
     "output_type": "execute_result"
    }
   ],
   "source": [
    "dados_sao_jose"
   ]
  },
  {
   "cell_type": "code",
   "execution_count": 121,
   "metadata": {},
   "outputs": [
    {
     "data": {
      "text/plain": [
       "<Axes: xlabel='preco', ylabel='Count'>"
      ]
     },
     "execution_count": 121,
     "metadata": {},
     "output_type": "execute_result"
    },
    {
     "data": {
      "image/png": "[encoded data removed]",
      "text/plain": [
       "<Figure size 640x480 with 1 Axes>"
      ]
     },
     "metadata": {},
     "output_type": "display_data"
    }
   ],
   "source": [
    "sns.histplot(data=dados_sao_jose, x='preco', kde=True)"
   ]
  },
  {
   "cell_type": "code",
   "execution_count": 122,
   "metadata": {},
   "outputs": [
    {
     "name": "stdout",
     "output_type": "stream",
     "text": [
      "Média preço:  2473534.0\n",
      "Mediana Preço: 1800000.0\n",
      "Moda:  1750000.0\n",
      "Desvio Padrão,  1752338.483493155\n"
     ]
    }
   ],
   "source": [
    "obter_estatistica(dados_sao_jose)"
   ]
  },
  {
   "cell_type": "code",
   "execution_count": 123,
   "metadata": {},
   "outputs": [],
   "source": [
    "dados_sumarezinho = base_original_completa.query(\n",
    "    'bairro_teste == \"Sumarezinho\"').preco\n",
    "dados_centro = base_original_completa.query(\n",
    "    'bairro_teste == \"Centro\"').preco"
   ]
  },
  {
   "cell_type": "code",
   "execution_count": 124,
   "metadata": {},
   "outputs": [],
   "source": [
    "from statsmodels.stats.weightstats import DescrStatsW, CompareMeans"
   ]
  },
  {
   "cell_type": "code",
   "execution_count": 125,
   "metadata": {},
   "outputs": [],
   "source": [
    "test_sumarezinho = DescrStatsW(dados_sumarezinho)\n",
    "test_centro = DescrStatsW(dados_centro)"
   ]
  },
  {
   "cell_type": "code",
   "execution_count": 126,
   "metadata": {},
   "outputs": [],
   "source": [
    "test_a = test_sumarezinho.get_compare(test_centro)"
   ]
  },
  {
   "cell_type": "code",
   "execution_count": 127,
   "metadata": {},
   "outputs": [
    {
     "data": {
      "text/plain": [
       "(-7.546571978952292, 0.9999999999999777)"
      ]
     },
     "execution_count": 127,
     "metadata": {},
     "output_type": "execute_result"
    }
   ],
   "source": [
    "test_a.ztest_ind(alternative='larger', value=0)"
   ]
  },
  {
   "cell_type": "code",
   "execution_count": 128,
   "metadata": {},
   "outputs": [],
   "source": [
    "z, p_valor = test_a.ztest_ind(alternative='larger', value=0)"
   ]
  },
  {
   "cell_type": "code",
   "execution_count": 129,
   "metadata": {},
   "outputs": [
    {
     "data": {
      "text/plain": [
       "False"
      ]
     },
     "execution_count": 129,
     "metadata": {},
     "output_type": "execute_result"
    }
   ],
   "source": [
    "p_valor <= significancia"
   ]
  },
  {
   "cell_type": "code",
   "execution_count": 130,
   "metadata": {},
   "outputs": [],
   "source": [
    "test_a = CompareMeans(test_centro, test_sumarezinho)"
   ]
  },
  {
   "cell_type": "code",
   "execution_count": 131,
   "metadata": {},
   "outputs": [],
   "source": [
    "teste_b = CompareMeans(test_centro, test_sumarezinho)"
   ]
  },
  {
   "cell_type": "markdown",
   "metadata": {},
   "source": [
    "# Teste de shapiro-wilk"
   ]
  },
  {
   "cell_type": "code",
   "execution_count": 132,
   "metadata": {},
   "outputs": [],
   "source": [
    "from scipy import stats"
   ]
  },
  {
   "cell_type": "code",
   "execution_count": 133,
   "metadata": {},
   "outputs": [
    {
     "data": {
      "text/plain": [
       "2.5383620915016895e-07"
      ]
     },
     "execution_count": 133,
     "metadata": {},
     "output_type": "execute_result"
    }
   ],
   "source": [
    "resultado = stats.shapiro(dados_sumarezinho)\n",
    "resultado.pvalue"
   ]
  },
  {
   "cell_type": "markdown",
   "metadata": {},
   "source": [
    "# Intervalo de confiança"
   ]
  },
  {
   "cell_type": "code",
   "execution_count": null,
   "metadata": {},
   "outputs": [],
   "source": []
  },
  {
   "cell_type": "code",
   "execution_count": 134,
   "metadata": {},
   "outputs": [
    {
     "name": "stdout",
     "output_type": "stream",
     "text": [
      "Média: 2473534  Desvio padrão: 1752338\n",
      "Intervalo de confiança: 1715766 - 3231302\n"
     ]
    }
   ],
   "source": [
    "import numpy as np\n",
    "from scipy.stats import t\n",
    "\n",
    "conf_level = 0.95\n",
    "media = dados_sao_jose['preco'].mean()\n",
    "std = dados_sao_jose['preco'].std()\n",
    "n = dados_sao_jose.shape[0]\n",
    "grausLiberdade = n - 1\n",
    "t_value = t.ppf((1 + conf_level) / 2, grausLiberdade)\n",
    "inf = media - t_value * std / np.sqrt(n)\n",
    "sup = media + t_value * std / np.sqrt(n)\n",
    "print('Média:', round(media), ' Desvio padrão:', round(std))\n",
    "# Imprime o intervalo de confiança para a média\n",
    "print('Intervalo de confiança:', round(inf), '-', round(sup))"
   ]
  }
 ],
 "metadata": {
  "kernelspec": {
   "display_name": "venv",
   "language": "python",
   "name": "python3"
  },
  "language_info": {
   "codemirror_mode": {
    "name": "ipython",
    "version": 3
   },
   "file_extension": ".py",
   "mimetype": "text/x-python",
   "name": "python",
   "nbconvert_exporter": "python",
   "pygments_lexer": "ipython3",
   "version": "3.11.8"
  }
 },
 "nbformat": 4,
 "nbformat_minor": 2
}
