{
 "cells": [
  {
   "cell_type": "markdown",
   "id": "702b7e53",
   "metadata": {},
   "source": [
    "### Abrindo o navegador"
   ]
  },
  {
   "cell_type": "code",
   "execution_count": 1,
   "id": "082ddc3b",
   "metadata": {
    "ExecuteTime": {
     "end_time": "2024-03-28T15:12:03.284101Z",
     "start_time": "2024-03-28T15:12:02.947310Z"
    }
   },
   "outputs": [
    {
     "ename": "ModuleNotFoundError",
     "evalue": "No module named 'webdriver_manager.chrompipe'",
     "output_type": "error",
     "traceback": [
      "\u001B[0;31m---------------------------------------------------------------------------\u001B[0m",
      "\u001B[0;31mModuleNotFoundError\u001B[0m                       Traceback (most recent call last)",
      "Cell \u001B[0;32mIn[1], line 3\u001B[0m\n\u001B[1;32m      1\u001B[0m \u001B[38;5;28;01mfrom\u001B[39;00m \u001B[38;5;21;01mselenium\u001B[39;00m \u001B[38;5;28;01mimport\u001B[39;00m webdriver\n\u001B[1;32m      2\u001B[0m \u001B[38;5;28;01mfrom\u001B[39;00m \u001B[38;5;21;01mselenium\u001B[39;00m\u001B[38;5;21;01m.\u001B[39;00m\u001B[38;5;21;01mwebdriver\u001B[39;00m\u001B[38;5;21;01m.\u001B[39;00m\u001B[38;5;21;01mchrome\u001B[39;00m\u001B[38;5;21;01m.\u001B[39;00m\u001B[38;5;21;01mservice\u001B[39;00m \u001B[38;5;28;01mimport\u001B[39;00m Service\n\u001B[0;32m----> 3\u001B[0m \u001B[38;5;28;01mfrom\u001B[39;00m \u001B[38;5;21;01mwebdriver_manager\u001B[39;00m\u001B[38;5;21;01m.\u001B[39;00m\u001B[38;5;21;01mchrompipe\u001B[39;00m \u001B[38;5;28;01mimport\u001B[39;00m ChromeDriverManager\n\u001B[1;32m      4\u001B[0m \u001B[38;5;28;01mfrom\u001B[39;00m \u001B[38;5;21;01mselenium\u001B[39;00m\u001B[38;5;21;01m.\u001B[39;00m\u001B[38;5;21;01mwebdriver\u001B[39;00m\u001B[38;5;21;01m.\u001B[39;00m\u001B[38;5;21;01mcommon\u001B[39;00m\u001B[38;5;21;01m.\u001B[39;00m\u001B[38;5;21;01mby\u001B[39;00m \u001B[38;5;28;01mimport\u001B[39;00m By\n\u001B[1;32m      6\u001B[0m servico \u001B[38;5;241m=\u001B[39m Service(ChromeDriverManager()\u001B[38;5;241m.\u001B[39minstall())\n",
      "\u001B[0;31mModuleNotFoundError\u001B[0m: No module named 'webdriver_manager.chrompipe'"
     ]
    }
   ],
   "source": [
    "from selenium import webdriver\n",
    "from selenium.webdriver.chrome.service import Service\n",
    "from webdriver_manager.chrompipe import ChromeDriverManager\n",
    "from selenium.webdriver.common.by import By\n",
    "\n",
    "servico = Service(ChromeDriverManager().install())\n"
   ]
  },
  {
   "cell_type": "code",
   "execution_count": null,
   "id": "164794e0",
   "metadata": {},
   "outputs": [
    {
     "ename": "NameError",
     "evalue": "name 'navegador' is not defined",
     "output_type": "error",
     "traceback": [
      "\u001B[0;31m---------------------------------------------------------------------------\u001B[0m",
      "\u001B[0;31mNameError\u001B[0m                                 Traceback (most recent call last)",
      "Cell \u001B[0;32mIn[1], line 1\u001B[0m\n\u001B[0;32m----> 1\u001B[0m \u001B[43mnavegador\u001B[49m\u001B[38;5;241m.\u001B[39mget(\u001B[38;5;124m\"\u001B[39m\u001B[38;5;124mhttps://www.vivareal.com.br/venda/sp/ribeirao-preto/apartamento_residencial/#onde=Brasil,S\u001B[39m\u001B[38;5;124m%\u001B[39m\u001B[38;5;124mC3\u001B[39m\u001B[38;5;124m%\u001B[39m\u001B[38;5;124mA3o\u001B[39m\u001B[38;5;124m%\u001B[39m\u001B[38;5;124m20Paulo,Ribeir\u001B[39m\u001B[38;5;124m%\u001B[39m\u001B[38;5;124mC3\u001B[39m\u001B[38;5;124m%\u001B[39m\u001B[38;5;124mA3o\u001B[39m\u001B[38;5;124m%\u001B[39m\u001B[38;5;124m20Preto,,,,,,BR\u001B[39m\u001B[38;5;132;01m%3E\u001B[39;00m\u001B[38;5;124mSao\u001B[39m\u001B[38;5;124m%\u001B[39m\u001B[38;5;124m20Paulo\u001B[39m\u001B[38;5;132;01m%3E\u001B[39;00m\u001B[38;5;124mNULL\u001B[39m\u001B[38;5;132;01m%3E\u001B[39;00m\u001B[38;5;124mRibeirao\u001B[39m\u001B[38;5;124m%\u001B[39m\u001B[38;5;124m20Preto,,,&preco-ate=500000\u001B[39m\u001B[38;5;124m\"\u001B[39m)\n",
      "\u001B[0;31mNameError\u001B[0m: name 'navegador' is not defined"
     ]
    }
   ],
   "source": [
    "navegador.get(\"https://web.whatsapp.com\")"
   ]
  },
  {
   "cell_type": "code",
   "execution_count": null,
   "id": "e0a21bc6",
   "metadata": {},
   "outputs": [],
   "source": []
  }
 ],
 "metadata": {
  "kernelspec": {
   "display_name": "Python 3 (ipykernel)",
   "language": "python",
   "name": "python3"
  },
  "language_info": {
   "codemirror_mode": {
    "name": "ipython",
    "version": 3
   },
   "file_extension": ".py",
   "mimetype": "text/x-python",
   "name": "python",
   "nbconvert_exporter": "python",
   "pygments_lexer": "ipython3",
   "version": "3.9.7"
  }
 },
 "nbformat": 4,
 "nbformat_minor": 5
}
